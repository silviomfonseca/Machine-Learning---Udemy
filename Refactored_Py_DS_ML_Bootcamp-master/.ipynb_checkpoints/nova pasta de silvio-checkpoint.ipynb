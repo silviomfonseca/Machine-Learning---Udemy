{
 "cells": [
  {
   "cell_type": "code",
   "execution_count": 1,
   "id": "8dfb384c",
   "metadata": {},
   "outputs": [
    {
     "name": "stdout",
     "output_type": "stream",
     "text": [
      "Amo meus filhos\n"
     ]
    }
   ],
   "source": [
    "print('Amo meus filhos')"
   ]
  },
  {
   "cell_type": "markdown",
   "id": "856f1a4d",
   "metadata": {},
   "source": [
    "# Eduardo e Rafael\n",
    "Eduardo tem 4 anos e Rafael tem 2."
   ]
  },
  {
   "cell_type": "code",
   "execution_count": null,
   "id": "2ff9f861",
   "metadata": {},
   "outputs": [],
   "source": []
  },
  {
   "cell_type": "code",
   "execution_count": 4,
   "id": "ee75e8c2",
   "metadata": {},
   "outputs": [],
   "source": [
    "num = 12\n",
    "name = 'Sam'"
   ]
  },
  {
   "cell_type": "code",
   "execution_count": 7,
   "id": "9009d325",
   "metadata": {},
   "outputs": [
    {
     "data": {
      "text/plain": [
       "'My number is 12 and my name is Sam'"
      ]
     },
     "execution_count": 7,
     "metadata": {},
     "output_type": "execute_result"
    }
   ],
   "source": [
    "'My number is {} and my name is {}'. format(num, name)"
   ]
  },
  {
   "cell_type": "code",
   "execution_count": 14,
   "id": "0316fa10",
   "metadata": {},
   "outputs": [],
   "source": [
    "s = 'abcdefghijk'"
   ]
  },
  {
   "cell_type": "code",
   "execution_count": 16,
   "id": "08edf21e",
   "metadata": {},
   "outputs": [
    {
     "data": {
      "text/plain": [
       "'abcdefghijk'"
      ]
     },
     "execution_count": 16,
     "metadata": {},
     "output_type": "execute_result"
    }
   ],
   "source": [
    "s[0:]\n"
   ]
  },
  {
   "cell_type": "code",
   "execution_count": 17,
   "id": "150fa769",
   "metadata": {},
   "outputs": [
    {
     "data": {
      "text/plain": [
       "'abc'"
      ]
     },
     "execution_count": 17,
     "metadata": {},
     "output_type": "execute_result"
    }
   ],
   "source": [
    "s[:3]"
   ]
  },
  {
   "cell_type": "code",
   "execution_count": 18,
   "id": "90e75875",
   "metadata": {},
   "outputs": [],
   "source": [
    "nest = [1,2,3,[4,5,['taget']]]"
   ]
  },
  {
   "cell_type": "code",
   "execution_count": 22,
   "id": "f4276a1d",
   "metadata": {},
   "outputs": [
    {
     "name": "stdout",
     "output_type": "stream",
     "text": [
      "taget\n"
     ]
    }
   ],
   "source": [
    "print(nest[3][2][0])"
   ]
  }
 ],
 "metadata": {
  "kernelspec": {
   "display_name": "Python 3 (ipykernel)",
   "language": "python",
   "name": "python3"
  },
  "language_info": {
   "codemirror_mode": {
    "name": "ipython",
    "version": 3
   },
   "file_extension": ".py",
   "mimetype": "text/x-python",
   "name": "python",
   "nbconvert_exporter": "python",
   "pygments_lexer": "ipython3",
   "version": "3.10.1"
  }
 },
 "nbformat": 4,
 "nbformat_minor": 5
}
