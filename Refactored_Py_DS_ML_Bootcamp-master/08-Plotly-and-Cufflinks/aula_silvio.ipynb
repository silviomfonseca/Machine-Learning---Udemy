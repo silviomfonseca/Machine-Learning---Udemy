{
 "cells": [
  {
   "cell_type": "code",
   "execution_count": 15,
   "metadata": {},
   "outputs": [
    {
     "name": "stdout",
     "output_type": "stream",
     "text": [
      "Requirement already satisfied: plotly in c:\\users\\silvio.fonseca\\appdata\\local\\programs\\python\\python310\\lib\\site-packages (5.6.0)\n",
      "Requirement already satisfied: tenacity>=6.2.0 in c:\\users\\silvio.fonseca\\appdata\\local\\programs\\python\\python310\\lib\\site-packages (from plotly) (8.0.1)\n",
      "Requirement already satisfied: six in c:\\users\\silvio.fonseca\\appdata\\local\\programs\\python\\python310\\lib\\site-packages (from plotly) (1.16.0)\n",
      "Note: you may need to restart the kernel to use updated packages.\n"
     ]
    },
    {
     "name": "stderr",
     "output_type": "stream",
     "text": [
      "WARNING: You are using pip version 21.3.1; however, version 22.0.3 is available.\n",
      "You should consider upgrading via the 'C:\\Users\\silvio.fonseca\\AppData\\Local\\Programs\\Python\\Python310\\python.exe -m pip install --upgrade pip' command.\n"
     ]
    }
   ],
   "source": [
    "pip install plotly"
   ]
  },
  {
   "cell_type": "code",
   "execution_count": 16,
   "metadata": {},
   "outputs": [
    {
     "name": "stdout",
     "output_type": "stream",
     "text": [
      "Requirement already satisfied: cufflinks in c:\\users\\silvio.fonseca\\appdata\\local\\programs\\python\\python310\\lib\\site-packages (0.17.3)\n",
      "Requirement already satisfied: numpy>=1.9.2 in c:\\users\\silvio.fonseca\\appdata\\local\\programs\\python\\python310\\lib\\site-packages (from cufflinks) (1.22.2)\n",
      "Requirement already satisfied: pandas>=0.19.2 in c:\\users\\silvio.fonseca\\appdata\\local\\programs\\python\\python310\\lib\\site-packages (from cufflinks) (1.4.1)\n",
      "Requirement already satisfied: plotly>=4.1.1 in c:\\users\\silvio.fonseca\\appdata\\local\\programs\\python\\python310\\lib\\site-packages (from cufflinks) (5.6.0)\n",
      "Requirement already satisfied: six>=1.9.0 in c:\\users\\silvio.fonseca\\appdata\\local\\programs\\python\\python310\\lib\\site-packages (from cufflinks) (1.16.0)\n",
      "Requirement already satisfied: colorlover>=0.2.1 in c:\\users\\silvio.fonseca\\appdata\\local\\programs\\python\\python310\\lib\\site-packages (from cufflinks) (0.3.0)\n",
      "Requirement already satisfied: setuptools>=34.4.1 in c:\\users\\silvio.fonseca\\appdata\\local\\programs\\python\\python310\\lib\\site-packages (from cufflinks) (58.1.0)\n",
      "Requirement already satisfied: ipython>=5.3.0 in c:\\users\\silvio.fonseca\\appdata\\local\\programs\\python\\python310\\lib\\site-packages (from cufflinks) (8.0.1)\n",
      "Requirement already satisfied: ipywidgets>=7.0.0 in c:\\users\\silvio.fonseca\\appdata\\local\\programs\\python\\python310\\lib\\site-packages (from cufflinks) (7.6.5)\n",
      "Requirement already satisfied: pygments in c:\\users\\silvio.fonseca\\appdata\\local\\programs\\python\\python310\\lib\\site-packages (from ipython>=5.3.0->cufflinks) (2.11.2)\n",
      "Requirement already satisfied: prompt-toolkit!=3.0.0,!=3.0.1,<3.1.0,>=2.0.0 in c:\\users\\silvio.fonseca\\appdata\\local\\programs\\python\\python310\\lib\\site-packages (from ipython>=5.3.0->cufflinks) (3.0.28)\n",
      "Requirement already satisfied: colorama in c:\\users\\silvio.fonseca\\appdata\\local\\programs\\python\\python310\\lib\\site-packages (from ipython>=5.3.0->cufflinks) (0.4.4)\n",
      "Requirement already satisfied: traitlets>=5 in c:\\users\\silvio.fonseca\\appdata\\local\\programs\\python\\python310\\lib\\site-packages (from ipython>=5.3.0->cufflinks) (5.1.1)\n",
      "Requirement already satisfied: black in c:\\users\\silvio.fonseca\\appdata\\local\\programs\\python\\python310\\lib\\site-packages (from ipython>=5.3.0->cufflinks) (22.1.0)\n",
      "Requirement already satisfied: matplotlib-inline in c:\\users\\silvio.fonseca\\appdata\\local\\programs\\python\\python310\\lib\\site-packages (from ipython>=5.3.0->cufflinks) (0.1.3)\n",
      "Requirement already satisfied: pickleshare in c:\\users\\silvio.fonseca\\appdata\\local\\programs\\python\\python310\\lib\\site-packages (from ipython>=5.3.0->cufflinks) (0.7.5)\n",
      "Requirement already satisfied: stack-data in c:\\users\\silvio.fonseca\\appdata\\local\\programs\\python\\python310\\lib\\site-packages (from ipython>=5.3.0->cufflinks) (0.1.4)\n",
      "Requirement already satisfied: backcall in c:\\users\\silvio.fonseca\\appdata\\local\\programs\\python\\python310\\lib\\site-packages (from ipython>=5.3.0->cufflinks) (0.2.0)\n",
      "Requirement already satisfied: jedi>=0.16 in c:\\users\\silvio.fonseca\\appdata\\local\\programs\\python\\python310\\lib\\site-packages (from ipython>=5.3.0->cufflinks) (0.18.1)\n",
      "Requirement already satisfied: decorator in c:\\users\\silvio.fonseca\\appdata\\local\\programs\\python\\python310\\lib\\site-packages (from ipython>=5.3.0->cufflinks) (5.1.1)\n",
      "Requirement already satisfied: ipython-genutils~=0.2.0 in c:\\users\\silvio.fonseca\\appdata\\local\\programs\\python\\python310\\lib\\site-packages (from ipywidgets>=7.0.0->cufflinks) (0.2.0)\n",
      "Requirement already satisfied: widgetsnbextension~=3.5.0 in c:\\users\\silvio.fonseca\\appdata\\local\\programs\\python\\python310\\lib\\site-packages (from ipywidgets>=7.0.0->cufflinks) (3.5.2)\n",
      "Requirement already satisfied: jupyterlab-widgets>=1.0.0 in c:\\users\\silvio.fonseca\\appdata\\local\\programs\\python\\python310\\lib\\site-packages (from ipywidgets>=7.0.0->cufflinks) (1.0.2)\n",
      "Requirement already satisfied: nbformat>=4.2.0 in c:\\users\\silvio.fonseca\\appdata\\local\\programs\\python\\python310\\lib\\site-packages (from ipywidgets>=7.0.0->cufflinks) (5.1.3)\n",
      "Requirement already satisfied: ipykernel>=4.5.1 in c:\\users\\silvio.fonseca\\appdata\\local\\programs\\python\\python310\\lib\\site-packages (from ipywidgets>=7.0.0->cufflinks) (6.9.0)\n",
      "Requirement already satisfied: pytz>=2020.1 in c:\\users\\silvio.fonseca\\appdata\\local\\programs\\python\\python310\\lib\\site-packages (from pandas>=0.19.2->cufflinks) (2021.3)\n",
      "Requirement already satisfied: python-dateutil>=2.8.1 in c:\\users\\silvio.fonseca\\appdata\\local\\programs\\python\\python310\\lib\\site-packages (from pandas>=0.19.2->cufflinks) (2.8.2)\n",
      "Requirement already satisfied: tenacity>=6.2.0 in c:\\users\\silvio.fonseca\\appdata\\local\\programs\\python\\python310\\lib\\site-packages (from plotly>=4.1.1->cufflinks) (8.0.1)\n",
      "Requirement already satisfied: nest-asyncio in c:\\users\\silvio.fonseca\\appdata\\local\\programs\\python\\python310\\lib\\site-packages (from ipykernel>=4.5.1->ipywidgets>=7.0.0->cufflinks) (1.5.4)\n",
      "Requirement already satisfied: debugpy<2.0,>=1.0.0 in c:\\users\\silvio.fonseca\\appdata\\local\\programs\\python\\python310\\lib\\site-packages (from ipykernel>=4.5.1->ipywidgets>=7.0.0->cufflinks) (1.5.1)\n",
      "Requirement already satisfied: tornado<7.0,>=4.2 in c:\\users\\silvio.fonseca\\appdata\\local\\programs\\python\\python310\\lib\\site-packages (from ipykernel>=4.5.1->ipywidgets>=7.0.0->cufflinks) (6.1)\n",
      "Requirement already satisfied: jupyter-client<8.0 in c:\\users\\silvio.fonseca\\appdata\\local\\programs\\python\\python310\\lib\\site-packages (from ipykernel>=4.5.1->ipywidgets>=7.0.0->cufflinks) (7.1.2)\n",
      "Requirement already satisfied: parso<0.9.0,>=0.8.0 in c:\\users\\silvio.fonseca\\appdata\\local\\programs\\python\\python310\\lib\\site-packages (from jedi>=0.16->ipython>=5.3.0->cufflinks) (0.8.3)\n",
      "Requirement already satisfied: jsonschema!=2.5.0,>=2.4 in c:\\users\\silvio.fonseca\\appdata\\local\\programs\\python\\python310\\lib\\site-packages (from nbformat>=4.2.0->ipywidgets>=7.0.0->cufflinks) (4.4.0)\n",
      "Requirement already satisfied: jupyter-core in c:\\users\\silvio.fonseca\\appdata\\local\\programs\\python\\python310\\lib\\site-packages (from nbformat>=4.2.0->ipywidgets>=7.0.0->cufflinks) (4.9.1)\n",
      "Requirement already satisfied: wcwidth in c:\\users\\silvio.fonseca\\appdata\\local\\programs\\python\\python310\\lib\\site-packages (from prompt-toolkit!=3.0.0,!=3.0.1,<3.1.0,>=2.0.0->ipython>=5.3.0->cufflinks) (0.2.5)\n",
      "Requirement already satisfied: notebook>=4.4.1 in c:\\users\\silvio.fonseca\\appdata\\local\\programs\\python\\python310\\lib\\site-packages (from widgetsnbextension~=3.5.0->ipywidgets>=7.0.0->cufflinks) (6.4.8)\n",
      "Requirement already satisfied: mypy-extensions>=0.4.3 in c:\\users\\silvio.fonseca\\appdata\\local\\programs\\python\\python310\\lib\\site-packages (from black->ipython>=5.3.0->cufflinks) (0.4.3)\n",
      "Requirement already satisfied: pathspec>=0.9.0 in c:\\users\\silvio.fonseca\\appdata\\local\\programs\\python\\python310\\lib\\site-packages (from black->ipython>=5.3.0->cufflinks) (0.9.0)\n",
      "Requirement already satisfied: platformdirs>=2 in c:\\users\\silvio.fonseca\\appdata\\local\\programs\\python\\python310\\lib\\site-packages (from black->ipython>=5.3.0->cufflinks) (2.4.1)\n",
      "Requirement already satisfied: tomli>=1.1.0 in c:\\users\\silvio.fonseca\\appdata\\local\\programs\\python\\python310\\lib\\site-packages (from black->ipython>=5.3.0->cufflinks) (2.0.1)\n",
      "Requirement already satisfied: click>=8.0.0 in c:\\users\\silvio.fonseca\\appdata\\local\\programs\\python\\python310\\lib\\site-packages (from black->ipython>=5.3.0->cufflinks) (8.0.3)\n",
      "Requirement already satisfied: executing in c:\\users\\silvio.fonseca\\appdata\\local\\programs\\python\\python310\\lib\\site-packages (from stack-data->ipython>=5.3.0->cufflinks) (0.8.2)\n",
      "Requirement already satisfied: pure-eval in c:\\users\\silvio.fonseca\\appdata\\local\\programs\\python\\python310\\lib\\site-packages (from stack-data->ipython>=5.3.0->cufflinks) (0.2.2)\n",
      "Requirement already satisfied: asttokens in c:\\users\\silvio.fonseca\\appdata\\local\\programs\\python\\python310\\lib\\site-packages (from stack-data->ipython>=5.3.0->cufflinks) (2.0.5)\n",
      "Requirement already satisfied: attrs>=17.4.0 in c:\\users\\silvio.fonseca\\appdata\\local\\programs\\python\\python310\\lib\\site-packages (from jsonschema!=2.5.0,>=2.4->nbformat>=4.2.0->ipywidgets>=7.0.0->cufflinks) (21.4.0)\n",
      "Requirement already satisfied: pyrsistent!=0.17.0,!=0.17.1,!=0.17.2,>=0.14.0 in c:\\users\\silvio.fonseca\\appdata\\local\\programs\\python\\python310\\lib\\site-packages (from jsonschema!=2.5.0,>=2.4->nbformat>=4.2.0->ipywidgets>=7.0.0->cufflinks) (0.18.1)\n",
      "Requirement already satisfied: entrypoints in c:\\users\\silvio.fonseca\\appdata\\local\\programs\\python\\python310\\lib\\site-packages (from jupyter-client<8.0->ipykernel>=4.5.1->ipywidgets>=7.0.0->cufflinks) (0.4)\n",
      "Requirement already satisfied: pyzmq>=13 in c:\\users\\silvio.fonseca\\appdata\\local\\programs\\python\\python310\\lib\\site-packages (from jupyter-client<8.0->ipykernel>=4.5.1->ipywidgets>=7.0.0->cufflinks) (22.3.0)\n",
      "Requirement already satisfied: pywin32>=1.0 in c:\\users\\silvio.fonseca\\appdata\\local\\programs\\python\\python310\\lib\\site-packages (from jupyter-core->nbformat>=4.2.0->ipywidgets>=7.0.0->cufflinks) (303)\n",
      "Requirement already satisfied: nbconvert in c:\\users\\silvio.fonseca\\appdata\\local\\programs\\python\\python310\\lib\\site-packages (from notebook>=4.4.1->widgetsnbextension~=3.5.0->ipywidgets>=7.0.0->cufflinks) (6.4.2)\n",
      "Requirement already satisfied: prometheus-client in c:\\users\\silvio.fonseca\\appdata\\local\\programs\\python\\python310\\lib\\site-packages (from notebook>=4.4.1->widgetsnbextension~=3.5.0->ipywidgets>=7.0.0->cufflinks) (0.13.1)\n",
      "Requirement already satisfied: Send2Trash>=1.8.0 in c:\\users\\silvio.fonseca\\appdata\\local\\programs\\python\\python310\\lib\\site-packages (from notebook>=4.4.1->widgetsnbextension~=3.5.0->ipywidgets>=7.0.0->cufflinks) (1.8.0)\n",
      "Requirement already satisfied: argon2-cffi in c:\\users\\silvio.fonseca\\appdata\\local\\programs\\python\\python310\\lib\\site-packages (from notebook>=4.4.1->widgetsnbextension~=3.5.0->ipywidgets>=7.0.0->cufflinks) (21.3.0)\n",
      "Requirement already satisfied: terminado>=0.8.3 in c:\\users\\silvio.fonseca\\appdata\\local\\programs\\python\\python310\\lib\\site-packages (from notebook>=4.4.1->widgetsnbextension~=3.5.0->ipywidgets>=7.0.0->cufflinks) (0.13.1)\n",
      "Requirement already satisfied: jinja2 in c:\\users\\silvio.fonseca\\appdata\\local\\programs\\python\\python310\\lib\\site-packages (from notebook>=4.4.1->widgetsnbextension~=3.5.0->ipywidgets>=7.0.0->cufflinks) (3.0.3)\n",
      "Requirement already satisfied: pywinpty>=1.1.0 in c:\\users\\silvio.fonseca\\appdata\\local\\programs\\python\\python310\\lib\\site-packages (from terminado>=0.8.3->notebook>=4.4.1->widgetsnbextension~=3.5.0->ipywidgets>=7.0.0->cufflinks) (2.0.2)\n",
      "Requirement already satisfied: argon2-cffi-bindings in c:\\users\\silvio.fonseca\\appdata\\local\\programs\\python\\python310\\lib\\site-packages (from argon2-cffi->notebook>=4.4.1->widgetsnbextension~=3.5.0->ipywidgets>=7.0.0->cufflinks) (21.2.0)\n",
      "Requirement already satisfied: MarkupSafe>=2.0 in c:\\users\\silvio.fonseca\\appdata\\local\\programs\\python\\python310\\lib\\site-packages (from jinja2->notebook>=4.4.1->widgetsnbextension~=3.5.0->ipywidgets>=7.0.0->cufflinks) (2.1.0)\n",
      "Requirement already satisfied: defusedxml in c:\\users\\silvio.fonseca\\appdata\\local\\programs\\python\\python310\\lib\\site-packages (from nbconvert->notebook>=4.4.1->widgetsnbextension~=3.5.0->ipywidgets>=7.0.0->cufflinks) (0.7.1)\n",
      "Requirement already satisfied: bleach in c:\\users\\silvio.fonseca\\appdata\\local\\programs\\python\\python310\\lib\\site-packages (from nbconvert->notebook>=4.4.1->widgetsnbextension~=3.5.0->ipywidgets>=7.0.0->cufflinks) (4.1.0)\n",
      "Requirement already satisfied: nbclient<0.6.0,>=0.5.0 in c:\\users\\silvio.fonseca\\appdata\\local\\programs\\python\\python310\\lib\\site-packages (from nbconvert->notebook>=4.4.1->widgetsnbextension~=3.5.0->ipywidgets>=7.0.0->cufflinks) (0.5.11)\n",
      "Requirement already satisfied: jupyterlab-pygments in c:\\users\\silvio.fonseca\\appdata\\local\\programs\\python\\python310\\lib\\site-packages (from nbconvert->notebook>=4.4.1->widgetsnbextension~=3.5.0->ipywidgets>=7.0.0->cufflinks) (0.1.2)\n",
      "Requirement already satisfied: testpath in c:\\users\\silvio.fonseca\\appdata\\local\\programs\\python\\python310\\lib\\site-packages (from nbconvert->notebook>=4.4.1->widgetsnbextension~=3.5.0->ipywidgets>=7.0.0->cufflinks) (0.5.0)\n",
      "Requirement already satisfied: mistune<2,>=0.8.1 in c:\\users\\silvio.fonseca\\appdata\\local\\programs\\python\\python310\\lib\\site-packages (from nbconvert->notebook>=4.4.1->widgetsnbextension~=3.5.0->ipywidgets>=7.0.0->cufflinks) (0.8.4)\n",
      "Requirement already satisfied: pandocfilters>=1.4.1 in c:\\users\\silvio.fonseca\\appdata\\local\\programs\\python\\python310\\lib\\site-packages (from nbconvert->notebook>=4.4.1->widgetsnbextension~=3.5.0->ipywidgets>=7.0.0->cufflinks) (1.5.0)\n",
      "Requirement already satisfied: cffi>=1.0.1 in c:\\users\\silvio.fonseca\\appdata\\local\\programs\\python\\python310\\lib\\site-packages (from argon2-cffi-bindings->argon2-cffi->notebook>=4.4.1->widgetsnbextension~=3.5.0->ipywidgets>=7.0.0->cufflinks) (1.15.0)\n",
      "Requirement already satisfied: webencodings in c:\\users\\silvio.fonseca\\appdata\\local\\programs\\python\\python310\\lib\\site-packages (from bleach->nbconvert->notebook>=4.4.1->widgetsnbextension~=3.5.0->ipywidgets>=7.0.0->cufflinks) (0.5.1)\n",
      "Requirement already satisfied: packaging in c:\\users\\silvio.fonseca\\appdata\\local\\programs\\python\\python310\\lib\\site-packages (from bleach->nbconvert->notebook>=4.4.1->widgetsnbextension~=3.5.0->ipywidgets>=7.0.0->cufflinks) (21.3)\n",
      "Requirement already satisfied: pycparser in c:\\users\\silvio.fonseca\\appdata\\local\\programs\\python\\python310\\lib\\site-packages (from cffi>=1.0.1->argon2-cffi-bindings->argon2-cffi->notebook>=4.4.1->widgetsnbextension~=3.5.0->ipywidgets>=7.0.0->cufflinks) (2.21)\n",
      "Requirement already satisfied: pyparsing!=3.0.5,>=2.0.2 in c:\\users\\silvio.fonseca\\appdata\\local\\programs\\python\\python310\\lib\\site-packages (from packaging->bleach->nbconvert->notebook>=4.4.1->widgetsnbextension~=3.5.0->ipywidgets>=7.0.0->cufflinks) (3.0.7)\n",
      "Note: you may need to restart the kernel to use updated packages.\n"
     ]
    },
    {
     "name": "stderr",
     "output_type": "stream",
     "text": [
      "WARNING: You are using pip version 21.3.1; however, version 22.0.3 is available.\n",
      "You should consider upgrading via the 'C:\\Users\\silvio.fonseca\\AppData\\Local\\Programs\\Python\\Python310\\python.exe -m pip install --upgrade pip' command.\n"
     ]
    }
   ],
   "source": [
    "pip install cufflinks"
   ]
  },
  {
   "cell_type": "code",
   "execution_count": 17,
   "metadata": {},
   "outputs": [
    {
     "name": "stdout",
     "output_type": "stream",
     "text": [
      "Collecting chart\n",
      "  Using cached chart-0.2.3.tar.gz (5.5 kB)\n",
      "  Preparing metadata (setup.py): started\n",
      "  Preparing metadata (setup.py): finished with status 'done'\n",
      "Collecting studio\n",
      "  Using cached Studio-0.5.1.tar.gz (2.4 MB)\n",
      "  Preparing metadata (setup.py): started\n",
      "  Preparing metadata (setup.py): finished with status 'error'\n",
      "  Using cached Studio-0.5.tar.gz (2.4 MB)\n",
      "  Preparing metadata (setup.py): startedNote: you may need to restart the kernel to use updated packages.\n"
     ]
    },
    {
     "name": "stderr",
     "output_type": "stream",
     "text": [
      "  ERROR: Command errored out with exit status 1:\n",
      "   command: 'C:\\Users\\silvio.fonseca\\AppData\\Local\\Programs\\Python\\Python310\\python.exe' -c 'import io, os, sys, setuptools, tokenize; sys.argv[0] = '\"'\"'C:\\\\Users\\\\silvio.fonseca\\\\AppData\\\\Local\\\\Temp\\\\pip-install-bfrspn_5\\\\studio_310ca599a3d84fa4b257ac4ea87e14fe\\\\setup.py'\"'\"'; __file__='\"'\"'C:\\\\Users\\\\silvio.fonseca\\\\AppData\\\\Local\\\\Temp\\\\pip-install-bfrspn_5\\\\studio_310ca599a3d84fa4b257ac4ea87e14fe\\\\setup.py'\"'\"';f = getattr(tokenize, '\"'\"'open'\"'\"', open)(__file__) if os.path.exists(__file__) else io.StringIO('\"'\"'from setuptools import setup; setup()'\"'\"');code = f.read().replace('\"'\"'\\r\\n'\"'\"', '\"'\"'\\n'\"'\"');f.close();exec(compile(code, __file__, '\"'\"'exec'\"'\"'))' egg_info --egg-base 'C:\\Users\\silvio.fonseca\\AppData\\Local\\Temp\\pip-pip-egg-info-vtp68nkc'\n",
      "       cwd: C:\\Users\\silvio.fonseca\\AppData\\Local\\Temp\\pip-install-bfrspn_5\\studio_310ca599a3d84fa4b257ac4ea87e14fe\\\n",
      "  Complete output (34 lines):\n",
      "  WARNING: The wheel package is not available.\n",
      "  WARNING: The repository located at www.pylonshq.com is not a trusted or secure host and is being ignored. If this repository is available via HTTPS we recommend you use HTTPS instead, otherwise you may silence this warning and allow it anyway with '--trusted-host www.pylonshq.com'.\n",
      "  ERROR: Could not find a version that satisfies the requirement PasteScript==dev,>=1.6.3dev-r7326 (from versions: 0.3, 0.3.1, 0.4, 0.4.1, 0.4.2, 0.5, 0.5.1, 0.9, 0.9.6, 0.9.7, 0.9.8, 1.0, 1.1, 1.3, 1.3.1, 1.3.2, 1.3.3, 1.3.4, 1.3.5, 1.3.6, 1.6, 1.6.1, 1.6.1.1, 1.6.2, 1.6.3, 1.7, 1.7.2, 1.7.3, 1.7.4, 1.7.4.1, 1.7.4.2, 1.7.5, 2.0, 2.0.1, 2.0.2, 3.0.0, 3.1.0, 3.1.1, 3.2.0, 3.2.1)\n",
      "  ERROR: No matching distribution found for PasteScript==dev,>=1.6.3dev-r7326\n",
      "  Traceback (most recent call last):"
     ]
    },
    {
     "name": "stdout",
     "output_type": "stream",
     "text": [
      "\n",
      "  Preparing metadata (setup.py): finished with status 'error'\n"
     ]
    },
    {
     "name": "stderr",
     "output_type": "stream",
     "text": [
      "\n",
      "    File \"C:\\Users\\silvio.fonseca\\AppData\\Local\\Programs\\Python\\Python310\\lib\\site-packages\\setuptools\\installer.py\", line 75, in fetch_build_egg\n",
      "      subprocess.check_call(cmd)\n",
      "    File \"C:\\Users\\silvio.fonseca\\AppData\\Local\\Programs\\Python\\Python310\\lib\\subprocess.py\", line 369, in check_call\n",
      "      raise CalledProcessError(retcode, cmd)\n",
      "  subprocess.CalledProcessError: Command '['C:\\\\Users\\\\silvio.fonseca\\\\AppData\\\\Local\\\\Programs\\\\Python\\\\Python310\\\\python.exe', '-m', 'pip', '--disable-pip-version-check', 'wheel', '--no-deps', '-w', 'C:\\\\Users\\\\SILVIO~1.FON\\\\AppData\\\\Local\\\\Temp\\\\tmpd0xsuer5', '--quiet', '--find-links', 'http://www.pylonshq.com/download/', 'PasteScript==dev,>=1.6.3dev-r7326']' returned non-zero exit status 1.\n",
      "  \n",
      "  The above exception was the direct cause of the following exception:\n",
      "  \n",
      "  Traceback (most recent call last):\n",
      "    File \"<string>\", line 1, in <module>\n",
      "    File \"C:\\Users\\silvio.fonseca\\AppData\\Local\\Temp\\pip-install-bfrspn_5\\studio_310ca599a3d84fa4b257ac4ea87e14fe\\setup.py\", line 12, in <module>\n",
      "      setup(\n",
      "    File \"C:\\Users\\silvio.fonseca\\AppData\\Local\\Programs\\Python\\Python310\\lib\\site-packages\\setuptools\\__init__.py\", line 152, in setup\n",
      "      _install_setup_requires(attrs)\n",
      "    File \"C:\\Users\\silvio.fonseca\\AppData\\Local\\Programs\\Python\\Python310\\lib\\site-packages\\setuptools\\__init__.py\", line 147, in _install_setup_requires\n",
      "      dist.fetch_build_eggs(dist.setup_requires)\n",
      "    File \"C:\\Users\\silvio.fonseca\\AppData\\Local\\Programs\\Python\\Python310\\lib\\site-packages\\setuptools\\dist.py\", line 806, in fetch_build_eggs\n",
      "      resolved_dists = pkg_resources.working_set.resolve(\n",
      "    File \"C:\\Users\\silvio.fonseca\\AppData\\Local\\Programs\\Python\\Python310\\lib\\site-packages\\pkg_resources\\__init__.py\", line 766, in resolve\n",
      "      dist = best[req.key] = env.best_match(\n",
      "    File \"C:\\Users\\silvio.fonseca\\AppData\\Local\\Programs\\Python\\Python310\\lib\\site-packages\\pkg_resources\\__init__.py\", line 1051, in best_match\n",
      "      return self.obtain(req, installer)\n",
      "    File \"C:\\Users\\silvio.fonseca\\AppData\\Local\\Programs\\Python\\Python310\\lib\\site-packages\\pkg_resources\\__init__.py\", line 1063, in obtain\n",
      "      return installer(requirement)\n",
      "    File \"C:\\Users\\silvio.fonseca\\AppData\\Local\\Programs\\Python\\Python310\\lib\\site-packages\\setuptools\\dist.py\", line 877, in fetch_build_egg\n",
      "      return fetch_build_egg(self, req)\n",
      "    File \"C:\\Users\\silvio.fonseca\\AppData\\Local\\Programs\\Python\\Python310\\lib\\site-packages\\setuptools\\installer.py\", line 77, in fetch_build_egg\n",
      "      raise DistutilsError(str(e)) from e\n",
      "  distutils.errors.DistutilsError: Command '['C:\\\\Users\\\\silvio.fonseca\\\\AppData\\\\Local\\\\Programs\\\\Python\\\\Python310\\\\python.exe', '-m', 'pip', '--disable-pip-version-check', 'wheel', '--no-deps', '-w', 'C:\\\\Users\\\\SILVIO~1.FON\\\\AppData\\\\Local\\\\Temp\\\\tmpd0xsuer5', '--quiet', '--find-links', 'http://www.pylonshq.com/download/', 'PasteScript==dev,>=1.6.3dev-r7326']' returned non-zero exit status 1.\n",
      "  ----------------------------------------\n",
      "WARNING: Discarding https://files.pythonhosted.org/packages/65/fa/4cd8ab51c1b9e6676185dd0dfdf8ec38db337b43a527c91530747394fa45/Studio-0.5.1.tar.gz#sha256=9d9b4a115d5af800015674c0b31591d3dd487ebac6e3283394aff1b20b64311c (from https://pypi.org/simple/studio/). Command errored out with exit status 1: python setup.py egg_info Check the logs for full command output.\n",
      "  ERROR: Command errored out with exit status 1:\n",
      "   command: 'C:\\Users\\silvio.fonseca\\AppData\\Local\\Programs\\Python\\Python310\\python.exe' -c 'import io, os, sys, setuptools, tokenize; sys.argv[0] = '\"'\"'C:\\\\Users\\\\silvio.fonseca\\\\AppData\\\\Local\\\\Temp\\\\pip-install-bfrspn_5\\\\studio_f6fe0874690c4a56b0e45ae2e7478ecb\\\\setup.py'\"'\"'; __file__='\"'\"'C:\\\\Users\\\\silvio.fonseca\\\\AppData\\\\Local\\\\Temp\\\\pip-install-bfrspn_5\\\\studio_f6fe0874690c4a56b0e45ae2e7478ecb\\\\setup.py'\"'\"';f = getattr(tokenize, '\"'\"'open'\"'\"', open)(__file__) if os.path.exists(__file__) else io.StringIO('\"'\"'from setuptools import setup; setup()'\"'\"');code = f.read().replace('\"'\"'\\r\\n'\"'\"', '\"'\"'\\n'\"'\"');f.close();exec(compile(code, __file__, '\"'\"'exec'\"'\"'))' egg_info --egg-base 'C:\\Users\\silvio.fonseca\\AppData\\Local\\Temp\\pip-pip-egg-info-tddyhke3'\n",
      "       cwd: C:\\Users\\silvio.fonseca\\AppData\\Local\\Temp\\pip-install-bfrspn_5\\studio_f6fe0874690c4a56b0e45ae2e7478ecb\\\n",
      "  Complete output (34 lines):\n",
      "  WARNING: The wheel package is not available.\n",
      "  WARNING: The repository located at www.pylonshq.com is not a trusted or secure host and is being ignored. If this repository is available via HTTPS we recommend you use HTTPS instead, otherwise you may silence this warning and allow it anyway with '--trusted-host www.pylonshq.com'.\n",
      "  ERROR: Could not find a version that satisfies the requirement PasteScript==dev,>=1.6.3dev-r7326 (from versions: 0.3, 0.3.1, 0.4, 0.4.1, 0.4.2, 0.5, 0.5.1, 0.9, 0.9.6, 0.9.7, 0.9.8, 1.0, 1.1, 1.3, 1.3.1, 1.3.2, 1.3.3, 1.3.4, 1.3.5, 1.3.6, 1.6, 1.6.1, 1.6.1.1, 1.6.2, 1.6.3, 1.7, 1.7.2, 1.7.3, 1.7.4, 1.7.4.1, 1.7.4.2, 1.7.5, 2.0, 2.0.1, 2.0.2, 3.0.0, 3.1.0, 3.1.1, 3.2.0, 3.2.1)\n",
      "  ERROR: No matching distribution found for PasteScript==dev,>=1.6.3dev-r7326\n",
      "  Traceback (most recent call last):\n",
      "    File \"C:\\Users\\silvio.fonseca\\AppData\\Local\\Programs\\Python\\Python310\\lib\\site-packages\\setuptools\\installer.py\", line 75, in fetch_build_egg\n",
      "      subprocess.check_call(cmd)\n",
      "    File \"C:\\Users\\silvio.fonseca\\AppData\\Local\\Programs\\Python\\Python310\\lib\\subprocess.py\", line 369, in check_call\n",
      "      raise CalledProcessError(retcode, cmd)\n",
      "  subprocess.CalledProcessError: Command '['C:\\\\Users\\\\silvio.fonseca\\\\AppData\\\\Local\\\\Programs\\\\Python\\\\Python310\\\\python.exe', '-m', 'pip', '--disable-pip-version-check', 'wheel', '--no-deps', '-w', 'C:\\\\Users\\\\SILVIO~1.FON\\\\AppData\\\\Local\\\\Temp\\\\tmpe1bhgjf7', '--quiet', '--find-links', 'http://www.pylonshq.com/download/', 'PasteScript==dev,>=1.6.3dev-r7326']' returned non-zero exit status 1.\n",
      "  \n",
      "  The above exception was the direct cause of the following exception:\n",
      "  \n",
      "  Traceback (most recent call last):\n",
      "    File \"<string>\", line 1, in <module>\n",
      "    File \"C:\\Users\\silvio.fonseca\\AppData\\Local\\Temp\\pip-install-bfrspn_5\\studio_f6fe0874690c4a56b0e45ae2e7478ecb\\setup.py\", line 12, in <module>\n",
      "      setup(\n",
      "    File \"C:\\Users\\silvio.fonseca\\AppData\\Local\\Programs\\Python\\Python310\\lib\\site-packages\\setuptools\\__init__.py\", line 152, in setup\n",
      "      _install_setup_requires(attrs)\n",
      "    File \"C:\\Users\\silvio.fonseca\\AppData\\Local\\Programs\\Python\\Python310\\lib\\site-packages\\setuptools\\__init__.py\", line 147, in _install_setup_requires\n",
      "      dist.fetch_build_eggs(dist.setup_requires)\n",
      "    File \"C:\\Users\\silvio.fonseca\\AppData\\Local\\Programs\\Python\\Python310\\lib\\site-packages\\setuptools\\dist.py\", line 806, in fetch_build_eggs\n",
      "      resolved_dists = pkg_resources.working_set.resolve(\n",
      "    File \"C:\\Users\\silvio.fonseca\\AppData\\Local\\Programs\\Python\\Python310\\lib\\site-packages\\pkg_resources\\__init__.py\", line 766, in resolve\n",
      "      dist = best[req.key] = env.best_match(\n",
      "    File \"C:\\Users\\silvio.fonseca\\AppData\\Local\\Programs\\Python\\Python310\\lib\\site-packages\\pkg_resources\\__init__.py\", line 1051, in best_match\n",
      "      return self.obtain(req, installer)\n",
      "    File \"C:\\Users\\silvio.fonseca\\AppData\\Local\\Programs\\Python\\Python310\\lib\\site-packages\\pkg_resources\\__init__.py\", line 1063, in obtain\n",
      "      return installer(requirement)\n",
      "    File \"C:\\Users\\silvio.fonseca\\AppData\\Local\\Programs\\Python\\Python310\\lib\\site-packages\\setuptools\\dist.py\", line 877, in fetch_build_egg\n",
      "      return fetch_build_egg(self, req)\n",
      "    File \"C:\\Users\\silvio.fonseca\\AppData\\Local\\Programs\\Python\\Python310\\lib\\site-packages\\setuptools\\installer.py\", line 77, in fetch_build_egg\n",
      "      raise DistutilsError(str(e)) from e\n",
      "  distutils.errors.DistutilsError: Command '['C:\\\\Users\\\\silvio.fonseca\\\\AppData\\\\Local\\\\Programs\\\\Python\\\\Python310\\\\python.exe', '-m', 'pip', '--disable-pip-version-check', 'wheel', '--no-deps', '-w', 'C:\\\\Users\\\\SILVIO~1.FON\\\\AppData\\\\Local\\\\Temp\\\\tmpe1bhgjf7', '--quiet', '--find-links', 'http://www.pylonshq.com/download/', 'PasteScript==dev,>=1.6.3dev-r7326']' returned non-zero exit status 1.\n",
      "  ----------------------------------------\n",
      "WARNING: Discarding https://files.pythonhosted.org/packages/d0/e3/042a8e6c4e479aa88788ac0511b597a09fe90740684a97b606cb039a2b29/Studio-0.5.tar.gz#sha256=877cfe0ec2c9a4cd0f69e955f19c4fdadfbc51919f1328b79114e5183b94c9a1 (from https://pypi.org/simple/studio/). Command errored out with exit status 1: python setup.py egg_info Check the logs for full command output.\n",
      "ERROR: Could not find a version that satisfies the requirement studio (from versions: 0.5.dev0, 0.5, 0.5.1)\n",
      "ERROR: No matching distribution found for studio\n",
      "WARNING: You are using pip version 21.3.1; however, version 22.0.3 is available.\n",
      "You should consider upgrading via the 'C:\\Users\\silvio.fonseca\\AppData\\Local\\Programs\\Python\\Python310\\python.exe -m pip install --upgrade pip' command.\n"
     ]
    }
   ],
   "source": [
    "pip install chart studio\n"
   ]
  },
  {
   "cell_type": "code",
   "execution_count": 18,
   "metadata": {},
   "outputs": [],
   "source": [
    "import pandas as pd"
   ]
  },
  {
   "cell_type": "code",
   "execution_count": 39,
   "metadata": {},
   "outputs": [],
   "source": [
    "import numpy as np\n",
    "%matplotlib inline\n"
   ]
  },
  {
   "cell_type": "code",
   "execution_count": 20,
   "metadata": {},
   "outputs": [],
   "source": [
    "import plotly"
   ]
  },
  {
   "cell_type": "code",
   "execution_count": 21,
   "metadata": {},
   "outputs": [],
   "source": [
    "import plotly.graph_objects as go\n",
    "\n",
    "fig = go.Figure(\n",
    "    data=[go.Bar(x=[1, 2, 3], y=[1, 2, 3])],\n",
    "    layout=go.Layout(\n",
    "        title=go.layout.Title(text='A Figure Specified By A Graph Object')\n",
    "    )\n",
    ")"
   ]
  },
  {
   "cell_type": "code",
   "execution_count": 22,
   "metadata": {},
   "outputs": [],
   "source": [
    "from plotly import __version__"
   ]
  },
  {
   "cell_type": "code",
   "execution_count": 24,
   "metadata": {},
   "outputs": [],
   "source": [
    "import cufflinks as cf"
   ]
  },
  {
   "cell_type": "code",
   "execution_count": 30,
   "metadata": {},
   "outputs": [],
   "source": [
    "from plotly.offline import download_plotlyjs,init_notebook_mode,plot,iplot"
   ]
  },
  {
   "cell_type": "code",
   "execution_count": 31,
   "metadata": {},
   "outputs": [
    {
     "data": {
      "text/html": [
       "        <script type=\"text/javascript\">\n",
       "        window.PlotlyConfig = {MathJaxConfig: 'local'};\n",
       "        if (window.MathJax) {MathJax.Hub.Config({SVG: {font: \"STIX-Web\"}});}\n",
       "        if (typeof require !== 'undefined') {\n",
       "        require.undef(\"plotly\");\n",
       "        requirejs.config({\n",
       "            paths: {\n",
       "                'plotly': ['https://cdn.plot.ly/plotly-2.9.0.min']\n",
       "            }\n",
       "        });\n",
       "        require(['plotly'], function(Plotly) {\n",
       "            window._Plotly = Plotly;\n",
       "        });\n",
       "        }\n",
       "        </script>\n",
       "        "
      ]
     },
     "metadata": {},
     "output_type": "display_data"
    }
   ],
   "source": [
    "init_notebook_mode(connected=True)"
   ]
  },
  {
   "cell_type": "code",
   "execution_count": 32,
   "metadata": {},
   "outputs": [
    {
     "data": {
      "text/html": [
       "        <script type=\"text/javascript\">\n",
       "        window.PlotlyConfig = {MathJaxConfig: 'local'};\n",
       "        if (window.MathJax) {MathJax.Hub.Config({SVG: {font: \"STIX-Web\"}});}\n",
       "        if (typeof require !== 'undefined') {\n",
       "        require.undef(\"plotly\");\n",
       "        requirejs.config({\n",
       "            paths: {\n",
       "                'plotly': ['https://cdn.plot.ly/plotly-2.9.0.min']\n",
       "            }\n",
       "        });\n",
       "        require(['plotly'], function(Plotly) {\n",
       "            window._Plotly = Plotly;\n",
       "        });\n",
       "        }\n",
       "        </script>\n",
       "        "
      ]
     },
     "metadata": {},
     "output_type": "display_data"
    }
   ],
   "source": [
    "cf.go_offline()"
   ]
  },
  {
   "cell_type": "code",
   "execution_count": 33,
   "metadata": {},
   "outputs": [],
   "source": [
    "# DATA\n",
    "df = pd.DataFrame(np.random.randn(100,4),columns='A B C D'.split())"
   ]
  },
  {
   "cell_type": "code",
   "execution_count": 34,
   "metadata": {},
   "outputs": [
    {
     "data": {
      "text/html": [
       "<div>\n",
       "<style scoped>\n",
       "    .dataframe tbody tr th:only-of-type {\n",
       "        vertical-align: middle;\n",
       "    }\n",
       "\n",
       "    .dataframe tbody tr th {\n",
       "        vertical-align: top;\n",
       "    }\n",
       "\n",
       "    .dataframe thead th {\n",
       "        text-align: right;\n",
       "    }\n",
       "</style>\n",
       "<table border=\"1\" class=\"dataframe\">\n",
       "  <thead>\n",
       "    <tr style=\"text-align: right;\">\n",
       "      <th></th>\n",
       "      <th>A</th>\n",
       "      <th>B</th>\n",
       "      <th>C</th>\n",
       "      <th>D</th>\n",
       "    </tr>\n",
       "  </thead>\n",
       "  <tbody>\n",
       "    <tr>\n",
       "      <th>0</th>\n",
       "      <td>-1.547038</td>\n",
       "      <td>-0.179320</td>\n",
       "      <td>-0.882734</td>\n",
       "      <td>-0.692088</td>\n",
       "    </tr>\n",
       "    <tr>\n",
       "      <th>1</th>\n",
       "      <td>-0.386683</td>\n",
       "      <td>0.341985</td>\n",
       "      <td>-1.836453</td>\n",
       "      <td>-1.152819</td>\n",
       "    </tr>\n",
       "    <tr>\n",
       "      <th>2</th>\n",
       "      <td>0.059078</td>\n",
       "      <td>-1.271327</td>\n",
       "      <td>0.808269</td>\n",
       "      <td>0.508614</td>\n",
       "    </tr>\n",
       "    <tr>\n",
       "      <th>3</th>\n",
       "      <td>1.352895</td>\n",
       "      <td>0.001665</td>\n",
       "      <td>0.628954</td>\n",
       "      <td>-0.321579</td>\n",
       "    </tr>\n",
       "    <tr>\n",
       "      <th>4</th>\n",
       "      <td>-0.244613</td>\n",
       "      <td>1.480386</td>\n",
       "      <td>0.137388</td>\n",
       "      <td>-1.394861</td>\n",
       "    </tr>\n",
       "  </tbody>\n",
       "</table>\n",
       "</div>"
      ],
      "text/plain": [
       "          A         B         C         D\n",
       "0 -1.547038 -0.179320 -0.882734 -0.692088\n",
       "1 -0.386683  0.341985 -1.836453 -1.152819\n",
       "2  0.059078 -1.271327  0.808269  0.508614\n",
       "3  1.352895  0.001665  0.628954 -0.321579\n",
       "4 -0.244613  1.480386  0.137388 -1.394861"
      ]
     },
     "execution_count": 34,
     "metadata": {},
     "output_type": "execute_result"
    }
   ],
   "source": [
    "df.head()"
   ]
  },
  {
   "cell_type": "code",
   "execution_count": 62,
   "metadata": {},
   "outputs": [],
   "source": [
    "df2 = pd.DataFrame({'Category':['A','B','C'],'Values':[32,43,50]})"
   ]
  },
  {
   "cell_type": "code",
   "execution_count": 63,
   "metadata": {},
   "outputs": [
    {
     "data": {
      "text/html": [
       "<div>\n",
       "<style scoped>\n",
       "    .dataframe tbody tr th:only-of-type {\n",
       "        vertical-align: middle;\n",
       "    }\n",
       "\n",
       "    .dataframe tbody tr th {\n",
       "        vertical-align: top;\n",
       "    }\n",
       "\n",
       "    .dataframe thead th {\n",
       "        text-align: right;\n",
       "    }\n",
       "</style>\n",
       "<table border=\"1\" class=\"dataframe\">\n",
       "  <thead>\n",
       "    <tr style=\"text-align: right;\">\n",
       "      <th></th>\n",
       "      <th>Category</th>\n",
       "      <th>Values</th>\n",
       "    </tr>\n",
       "  </thead>\n",
       "  <tbody>\n",
       "    <tr>\n",
       "      <th>0</th>\n",
       "      <td>A</td>\n",
       "      <td>32</td>\n",
       "    </tr>\n",
       "    <tr>\n",
       "      <th>1</th>\n",
       "      <td>B</td>\n",
       "      <td>43</td>\n",
       "    </tr>\n",
       "    <tr>\n",
       "      <th>2</th>\n",
       "      <td>C</td>\n",
       "      <td>50</td>\n",
       "    </tr>\n",
       "  </tbody>\n",
       "</table>\n",
       "</div>"
      ],
      "text/plain": [
       "  Category  Values\n",
       "0        A      32\n",
       "1        B      43\n",
       "2        C      50"
      ]
     },
     "execution_count": 63,
     "metadata": {},
     "output_type": "execute_result"
    }
   ],
   "source": [
    "df2"
   ]
  },
  {
   "cell_type": "code",
   "execution_count": 64,
   "metadata": {},
   "outputs": [
    {
     "data": {
      "application/vnd.plotly.v1+json": {
       "config": {
        "linkText": "Export to plot.ly",
        "plotlyServerURL": "https://plot.ly",
        "showLink": true
       },
       "data": [
        {
         "line": {
          "color": "rgba(255, 153, 51, 1.0)",
          "dash": "solid",
          "shape": "linear",
          "width": 1.3
         },
         "mode": "lines",
         "name": "A",
         "text": "",
         "type": "scatter",
         "x": [
          0,
          1,
          2,
          3,
          4,
          5,
          6,
          7,
          8,
          9,
          10,
          11,
          12,
          13,
          14,
          15,
          16,
          17,
          18,
          19,
          20,
          21,
          22,
          23,
          24,
          25,
          26,
          27,
          28,
          29,
          30,
          31,
          32,
          33,
          34,
          35,
          36,
          37,
          38,
          39,
          40,
          41,
          42,
          43,
          44,
          45,
          46,
          47,
          48,
          49,
          50,
          51,
          52,
          53,
          54,
          55,
          56,
          57,
          58,
          59,
          60,
          61,
          62,
          63,
          64,
          65,
          66,
          67,
          68,
          69,
          70,
          71,
          72,
          73,
          74,
          75,
          76,
          77,
          78,
          79,
          80,
          81,
          82,
          83,
          84,
          85,
          86,
          87,
          88,
          89,
          90,
          91,
          92,
          93,
          94,
          95,
          96,
          97,
          98,
          99
         ],
         "y": [
          -1.5470379470686257,
          -0.3866827505899728,
          0.05907767532625553,
          1.3528949385329836,
          -0.2446134380889313,
          -2.406380574789591,
          -0.2816288308863832,
          0.4275053609457478,
          -0.5819392334941368,
          0.7569495452421476,
          0.6453177603325179,
          0.57422805107268,
          1.3148995288538112,
          0.220666189826017,
          -0.2839870046920182,
          0.7140778562736044,
          1.2652541519683163,
          -0.5332706279507585,
          -1.99742682090396,
          0.4405887301243418,
          1.6892743646745116,
          -0.19165751288169328,
          0.5104035641178164,
          1.3803225460438007,
          0.16703348752209532,
          -0.285872723137153,
          -0.2049482645233315,
          -0.6179469943011561,
          0.6032652329988165,
          0.05057590325797419,
          -1.3294185799763285,
          0.578716171231639,
          -1.6111718252564509,
          -0.7525916016188796,
          0.8249183497350251,
          -0.015267594448878615,
          -2.0692673026355326,
          0.6428908175911534,
          1.7655572451119899,
          2.031329227063635,
          -1.466347474243045,
          1.6401369002649178,
          -0.34019045909674234,
          0.8635745180435763,
          -0.41744886551989835,
          -0.10163440297958373,
          0.7703425064697068,
          1.4689212890171626,
          -0.23433370060897665,
          -1.3258769200955578,
          -1.1718941254219373,
          0.801932550048809,
          1.448807734284354,
          0.9847030866880221,
          0.3376184172512405,
          -1.5242713825393606,
          0.7027628372435865,
          -0.2791683192032702,
          0.020488303009922777,
          0.820619688063049,
          -0.36218158301404263,
          0.14617037002964653,
          1.6718586124907957,
          0.6705673605246165,
          0.27828495652272867,
          0.20926566932783422,
          -1.9184096983655765,
          -0.6402371208591136,
          -0.08170770033706065,
          -0.06808155063387622,
          -1.38010522374821,
          0.39561517267437496,
          0.7531494990024865,
          -0.6283031170433298,
          -1.8242056728883924,
          0.9256295159513197,
          1.2767649316415697,
          0.18525786624729326,
          0.5745200766324614,
          0.8337022049758677,
          -0.3243762742733441,
          0.4824787010648017,
          -0.1608409373329267,
          1.8793431047865878,
          0.3314905561931448,
          -0.29036873392865464,
          0.7482402104538096,
          0.49709639164898334,
          0.21495382334267585,
          1.0208806180216834,
          -0.03170735862101034,
          -2.5312495750725925,
          2.1046549936147385,
          -0.1046128281488064,
          -0.3285804840215899,
          0.24177836912715794,
          0.05569559765452582,
          -0.762999801993306,
          -0.6164640215496762,
          -1.8421776428608174
         ]
        },
        {
         "line": {
          "color": "rgba(55, 128, 191, 1.0)",
          "dash": "solid",
          "shape": "linear",
          "width": 1.3
         },
         "mode": "lines",
         "name": "B",
         "text": "",
         "type": "scatter",
         "x": [
          0,
          1,
          2,
          3,
          4,
          5,
          6,
          7,
          8,
          9,
          10,
          11,
          12,
          13,
          14,
          15,
          16,
          17,
          18,
          19,
          20,
          21,
          22,
          23,
          24,
          25,
          26,
          27,
          28,
          29,
          30,
          31,
          32,
          33,
          34,
          35,
          36,
          37,
          38,
          39,
          40,
          41,
          42,
          43,
          44,
          45,
          46,
          47,
          48,
          49,
          50,
          51,
          52,
          53,
          54,
          55,
          56,
          57,
          58,
          59,
          60,
          61,
          62,
          63,
          64,
          65,
          66,
          67,
          68,
          69,
          70,
          71,
          72,
          73,
          74,
          75,
          76,
          77,
          78,
          79,
          80,
          81,
          82,
          83,
          84,
          85,
          86,
          87,
          88,
          89,
          90,
          91,
          92,
          93,
          94,
          95,
          96,
          97,
          98,
          99
         ],
         "y": [
          -0.17932026330190684,
          0.34198544751858234,
          -1.2713269129457325,
          0.0016652786409217964,
          1.4803864821833077,
          -0.2836750888514914,
          -1.4155538362514601,
          -0.5739661271236048,
          -0.35744198935824456,
          -0.8994230904876396,
          0.6991253544572609,
          -0.874793148785467,
          -0.39153074019047707,
          -0.880394830638912,
          0.4995926613587126,
          0.6293698296553195,
          1.3544469494098934,
          0.4810071047022162,
          -0.40595170495224314,
          0.09622342847254901,
          0.43681638785495297,
          -0.7536552634789734,
          0.46515551350074097,
          -0.4107904278107822,
          -0.667536213298158,
          -0.644002357567441,
          0.3279416680591974,
          -0.35640426241977324,
          0.7192398636967984,
          -0.3544851170731683,
          0.08830059864042557,
          0.030758743727376085,
          0.8935198532569544,
          0.3892696875617487,
          0.3237375347818951,
          0.6041497331006355,
          -0.40400232746982956,
          1.8468632501683382,
          -0.029077327946170142,
          0.25908762161059545,
          0.8679450620220365,
          0.967081274178919,
          1.80357447518855,
          0.7548651304368754,
          -0.5513298895031992,
          1.3705646354783096,
          0.8589382061452533,
          -1.0947470720924772,
          0.765715570102174,
          0.2385720284350847,
          -0.5320081762202075,
          -2.1047278011907666,
          -0.22838874539262682,
          -1.0758351304521767,
          0.6994286964722767,
          1.1983555883520542,
          1.8709137281616257,
          0.3346340175992276,
          1.179301597937332,
          -1.9309090060954557,
          -1.0881323911298968,
          0.0925198558216795,
          -0.6780781717104581,
          0.6074641297220856,
          1.0533655951830938,
          0.8330378584588016,
          -0.5385028983342077,
          -1.5582948613417311,
          0.5633831011807973,
          0.296668625167125,
          -0.9065113935632445,
          -0.21770298654540515,
          -0.18554362127577312,
          0.8460395539141479,
          -0.06587075962834432,
          -1.3271566677311997,
          0.25495202389316673,
          -0.6747528477615352,
          -1.435892609276357,
          -0.960122176589752,
          -0.3454127480759408,
          0.4072393867432423,
          -1.338046384045666,
          0.5103799524326336,
          1.4224780373575563,
          0.5088221930699162,
          0.03356517523728443,
          0.45970454247660264,
          1.2459543043789276,
          0.2505549812457923,
          0.259785611079415,
          0.5130794204738841,
          2.8931347231761175,
          -0.08760616578299192,
          -1.1963390674150716,
          0.8284380378357371,
          1.0897731639265282,
          3.2145514299528397,
          0.5444588734985717,
          -1.5142056829390005
         ]
        },
        {
         "line": {
          "color": "rgba(50, 171, 96, 1.0)",
          "dash": "solid",
          "shape": "linear",
          "width": 1.3
         },
         "mode": "lines",
         "name": "C",
         "text": "",
         "type": "scatter",
         "x": [
          0,
          1,
          2,
          3,
          4,
          5,
          6,
          7,
          8,
          9,
          10,
          11,
          12,
          13,
          14,
          15,
          16,
          17,
          18,
          19,
          20,
          21,
          22,
          23,
          24,
          25,
          26,
          27,
          28,
          29,
          30,
          31,
          32,
          33,
          34,
          35,
          36,
          37,
          38,
          39,
          40,
          41,
          42,
          43,
          44,
          45,
          46,
          47,
          48,
          49,
          50,
          51,
          52,
          53,
          54,
          55,
          56,
          57,
          58,
          59,
          60,
          61,
          62,
          63,
          64,
          65,
          66,
          67,
          68,
          69,
          70,
          71,
          72,
          73,
          74,
          75,
          76,
          77,
          78,
          79,
          80,
          81,
          82,
          83,
          84,
          85,
          86,
          87,
          88,
          89,
          90,
          91,
          92,
          93,
          94,
          95,
          96,
          97,
          98,
          99
         ],
         "y": [
          -0.8827337164904582,
          -1.8364531539319333,
          0.8082687682781682,
          0.6289536187563297,
          0.13738826055039535,
          -0.48702056371183133,
          -0.4662976847342923,
          -0.7015128306413758,
          -2.075792831188183,
          1.1176300474724994,
          0.9671408679228939,
          0.3868725572827184,
          1.2346153433668805,
          -0.9703164223331473,
          1.9817729912124495,
          -0.7776807674549705,
          1.0904074274491107,
          0.10563209017692979,
          -1.5907909212167808,
          1.0082636128241178,
          -0.3353296165270854,
          -0.7591345840064578,
          0.7742601105711353,
          1.1467958848004252,
          0.9200633767725459,
          0.7346362265663221,
          -0.8139337677173419,
          -0.5546883808219134,
          0.2764431453193479,
          -0.95215237627935,
          -0.07095272199313353,
          -0.520697352733301,
          -0.4340839633081928,
          -1.0466663533478058,
          1.2543681127605029,
          0.8666311142299339,
          -0.3518608740488995,
          -0.43880066086130814,
          0.42178024324125096,
          1.299203464296593,
          -0.15407331280936215,
          -0.6075954511987632,
          -0.31243377106445835,
          -0.3299566935335466,
          -0.8873057264322378,
          0.04679665624628326,
          -0.12976410822364787,
          0.6617216984182405,
          0.2677726756401323,
          0.36854030491480244,
          1.0834360202988516,
          -0.5358001827681771,
          1.3566403293736051,
          1.3232084208589134,
          -0.9200288536262442,
          0.4035164337882321,
          1.457756930269989,
          -0.48177075689597204,
          -0.10253003630182166,
          -1.1087611194830596,
          1.2405184299530734,
          -1.1613026903681023,
          -0.21807727298806873,
          2.073990265406395,
          -0.12142871305310494,
          -1.130168455585731,
          0.6737067936121557,
          -0.5226892924994307,
          0.9439193803151366,
          -0.9443041315154184,
          -0.5173949214588162,
          0.35076467768349945,
          -0.1268157260701168,
          1.5232667086176082,
          -0.42512384149961735,
          -1.2916065855294245,
          -0.2895713037165531,
          0.5519442699233186,
          1.6307332488054225,
          0.49046965386208186,
          -1.5335496821072878,
          -0.4633643003770435,
          -0.7016934868574808,
          -0.2487663579333527,
          0.31110876877089483,
          -1.7132404041523144,
          1.057646417962785,
          -0.1528239791025941,
          -0.699145591330207,
          -1.7823629346489065,
          -0.11037143237132825,
          0.5125188565494171,
          0.4533917864601765,
          -0.6654675164735756,
          1.6813259994038556,
          -0.995626301686294,
          0.484448176581966,
          -0.9251656585866519,
          -0.41487414299947856,
          1.3509865271705759
         ]
        },
        {
         "line": {
          "color": "rgba(128, 0, 128, 1.0)",
          "dash": "solid",
          "shape": "linear",
          "width": 1.3
         },
         "mode": "lines",
         "name": "D",
         "text": "",
         "type": "scatter",
         "x": [
          0,
          1,
          2,
          3,
          4,
          5,
          6,
          7,
          8,
          9,
          10,
          11,
          12,
          13,
          14,
          15,
          16,
          17,
          18,
          19,
          20,
          21,
          22,
          23,
          24,
          25,
          26,
          27,
          28,
          29,
          30,
          31,
          32,
          33,
          34,
          35,
          36,
          37,
          38,
          39,
          40,
          41,
          42,
          43,
          44,
          45,
          46,
          47,
          48,
          49,
          50,
          51,
          52,
          53,
          54,
          55,
          56,
          57,
          58,
          59,
          60,
          61,
          62,
          63,
          64,
          65,
          66,
          67,
          68,
          69,
          70,
          71,
          72,
          73,
          74,
          75,
          76,
          77,
          78,
          79,
          80,
          81,
          82,
          83,
          84,
          85,
          86,
          87,
          88,
          89,
          90,
          91,
          92,
          93,
          94,
          95,
          96,
          97,
          98,
          99
         ],
         "y": [
          -0.6920880206110122,
          -1.1528187877583664,
          0.5086136006525542,
          -0.3215793850236674,
          -1.394860954443431,
          0.8898543007611304,
          0.6766517919690216,
          1.2415891437981637,
          0.5749645946153426,
          0.8191522907746716,
          -1.3401567878568013,
          0.004138571752962983,
          1.9727662152133698,
          1.7100298800610687,
          0.7905135404134748,
          0.5035795302927593,
          -0.6426516642396118,
          0.6107854330514066,
          0.10928182793825748,
          1.1501642674489254,
          -2.4740487192674028,
          -0.43881799465043336,
          -0.8094019886420079,
          -0.31202726037660966,
          -0.2236736738974433,
          -1.3740994147648478,
          -0.24299560216202182,
          0.32179333878077643,
          0.48952220272470165,
          0.1242364926299338,
          0.6655346523272315,
          0.2335595973186929,
          -1.3979047777316438,
          -1.1861224414071925,
          -0.11470463861534105,
          0.888977369121416,
          0.19762432272577532,
          -0.911490070227444,
          0.42138513877796047,
          -1.2392259969612873,
          -0.42396337197608314,
          -0.8040254949941189,
          0.5246503673076683,
          0.6174376551293572,
          0.6667732964950027,
          -1.624315511280616,
          -0.7009900507939105,
          -0.7566895336475554,
          0.4228153655438361,
          -0.4921515625061394,
          -0.28024629047864485,
          -0.015140262941474195,
          1.2599427979153641,
          0.5190923874462334,
          0.05096023773849388,
          1.323901428598727,
          1.548038022029308,
          -0.8155899694131572,
          0.9399055199142157,
          0.07432006820395431,
          1.0041698831027674,
          -1.20750103555811,
          0.859700286664465,
          -0.28205347737206277,
          -0.30401620740514995,
          0.16367012099450978,
          -1.2584412572551649,
          -0.325827150091203,
          -1.7999396554564284,
          -0.20307309104609228,
          -1.1442481553192654,
          0.653286239947092,
          0.07516392687232953,
          0.7521899316131974,
          0.5260372458993744,
          -1.395226916488713,
          0.9921908967238827,
          1.2418292779657578,
          -0.1539017470993894,
          0.7373886256861507,
          0.38834918020664827,
          0.2362135412776182,
          0.0115188899390858,
          -1.6415807833383291,
          1.8233714094438518,
          -0.02860208451841463,
          0.9508625218057386,
          -1.4221906894981022,
          0.43956758103632954,
          0.3276390633566963,
          0.5591093211320485,
          2.0975676475011604,
          0.5114912158185853,
          1.0926954349320122,
          0.09089460843272662,
          -0.07754270763857592,
          -0.23416245302275307,
          1.013785139194283,
          1.3047201740780954,
          0.02289887280392105
         ]
        }
       ],
       "layout": {
        "legend": {
         "bgcolor": "#F5F6F9",
         "font": {
          "color": "#4D5663"
         }
        },
        "paper_bgcolor": "#F5F6F9",
        "plot_bgcolor": "#F5F6F9",
        "template": {
         "data": {
          "bar": [
           {
            "error_x": {
             "color": "#2a3f5f"
            },
            "error_y": {
             "color": "#2a3f5f"
            },
            "marker": {
             "line": {
              "color": "#E5ECF6",
              "width": 0.5
             },
             "pattern": {
              "fillmode": "overlay",
              "size": 10,
              "solidity": 0.2
             }
            },
            "type": "bar"
           }
          ],
          "barpolar": [
           {
            "marker": {
             "line": {
              "color": "#E5ECF6",
              "width": 0.5
             },
             "pattern": {
              "fillmode": "overlay",
              "size": 10,
              "solidity": 0.2
             }
            },
            "type": "barpolar"
           }
          ],
          "carpet": [
           {
            "aaxis": {
             "endlinecolor": "#2a3f5f",
             "gridcolor": "white",
             "linecolor": "white",
             "minorgridcolor": "white",
             "startlinecolor": "#2a3f5f"
            },
            "baxis": {
             "endlinecolor": "#2a3f5f",
             "gridcolor": "white",
             "linecolor": "white",
             "minorgridcolor": "white",
             "startlinecolor": "#2a3f5f"
            },
            "type": "carpet"
           }
          ],
          "choropleth": [
           {
            "colorbar": {
             "outlinewidth": 0,
             "ticks": ""
            },
            "type": "choropleth"
           }
          ],
          "contour": [
           {
            "colorbar": {
             "outlinewidth": 0,
             "ticks": ""
            },
            "colorscale": [
             [
              0,
              "#0d0887"
             ],
             [
              0.1111111111111111,
              "#46039f"
             ],
             [
              0.2222222222222222,
              "#7201a8"
             ],
             [
              0.3333333333333333,
              "#9c179e"
             ],
             [
              0.4444444444444444,
              "#bd3786"
             ],
             [
              0.5555555555555556,
              "#d8576b"
             ],
             [
              0.6666666666666666,
              "#ed7953"
             ],
             [
              0.7777777777777778,
              "#fb9f3a"
             ],
             [
              0.8888888888888888,
              "#fdca26"
             ],
             [
              1,
              "#f0f921"
             ]
            ],
            "type": "contour"
           }
          ],
          "contourcarpet": [
           {
            "colorbar": {
             "outlinewidth": 0,
             "ticks": ""
            },
            "type": "contourcarpet"
           }
          ],
          "heatmap": [
           {
            "colorbar": {
             "outlinewidth": 0,
             "ticks": ""
            },
            "colorscale": [
             [
              0,
              "#0d0887"
             ],
             [
              0.1111111111111111,
              "#46039f"
             ],
             [
              0.2222222222222222,
              "#7201a8"
             ],
             [
              0.3333333333333333,
              "#9c179e"
             ],
             [
              0.4444444444444444,
              "#bd3786"
             ],
             [
              0.5555555555555556,
              "#d8576b"
             ],
             [
              0.6666666666666666,
              "#ed7953"
             ],
             [
              0.7777777777777778,
              "#fb9f3a"
             ],
             [
              0.8888888888888888,
              "#fdca26"
             ],
             [
              1,
              "#f0f921"
             ]
            ],
            "type": "heatmap"
           }
          ],
          "heatmapgl": [
           {
            "colorbar": {
             "outlinewidth": 0,
             "ticks": ""
            },
            "colorscale": [
             [
              0,
              "#0d0887"
             ],
             [
              0.1111111111111111,
              "#46039f"
             ],
             [
              0.2222222222222222,
              "#7201a8"
             ],
             [
              0.3333333333333333,
              "#9c179e"
             ],
             [
              0.4444444444444444,
              "#bd3786"
             ],
             [
              0.5555555555555556,
              "#d8576b"
             ],
             [
              0.6666666666666666,
              "#ed7953"
             ],
             [
              0.7777777777777778,
              "#fb9f3a"
             ],
             [
              0.8888888888888888,
              "#fdca26"
             ],
             [
              1,
              "#f0f921"
             ]
            ],
            "type": "heatmapgl"
           }
          ],
          "histogram": [
           {
            "marker": {
             "pattern": {
              "fillmode": "overlay",
              "size": 10,
              "solidity": 0.2
             }
            },
            "type": "histogram"
           }
          ],
          "histogram2d": [
           {
            "colorbar": {
             "outlinewidth": 0,
             "ticks": ""
            },
            "colorscale": [
             [
              0,
              "#0d0887"
             ],
             [
              0.1111111111111111,
              "#46039f"
             ],
             [
              0.2222222222222222,
              "#7201a8"
             ],
             [
              0.3333333333333333,
              "#9c179e"
             ],
             [
              0.4444444444444444,
              "#bd3786"
             ],
             [
              0.5555555555555556,
              "#d8576b"
             ],
             [
              0.6666666666666666,
              "#ed7953"
             ],
             [
              0.7777777777777778,
              "#fb9f3a"
             ],
             [
              0.8888888888888888,
              "#fdca26"
             ],
             [
              1,
              "#f0f921"
             ]
            ],
            "type": "histogram2d"
           }
          ],
          "histogram2dcontour": [
           {
            "colorbar": {
             "outlinewidth": 0,
             "ticks": ""
            },
            "colorscale": [
             [
              0,
              "#0d0887"
             ],
             [
              0.1111111111111111,
              "#46039f"
             ],
             [
              0.2222222222222222,
              "#7201a8"
             ],
             [
              0.3333333333333333,
              "#9c179e"
             ],
             [
              0.4444444444444444,
              "#bd3786"
             ],
             [
              0.5555555555555556,
              "#d8576b"
             ],
             [
              0.6666666666666666,
              "#ed7953"
             ],
             [
              0.7777777777777778,
              "#fb9f3a"
             ],
             [
              0.8888888888888888,
              "#fdca26"
             ],
             [
              1,
              "#f0f921"
             ]
            ],
            "type": "histogram2dcontour"
           }
          ],
          "mesh3d": [
           {
            "colorbar": {
             "outlinewidth": 0,
             "ticks": ""
            },
            "type": "mesh3d"
           }
          ],
          "parcoords": [
           {
            "line": {
             "colorbar": {
              "outlinewidth": 0,
              "ticks": ""
             }
            },
            "type": "parcoords"
           }
          ],
          "pie": [
           {
            "automargin": true,
            "type": "pie"
           }
          ],
          "scatter": [
           {
            "marker": {
             "colorbar": {
              "outlinewidth": 0,
              "ticks": ""
             }
            },
            "type": "scatter"
           }
          ],
          "scatter3d": [
           {
            "line": {
             "colorbar": {
              "outlinewidth": 0,
              "ticks": ""
             }
            },
            "marker": {
             "colorbar": {
              "outlinewidth": 0,
              "ticks": ""
             }
            },
            "type": "scatter3d"
           }
          ],
          "scattercarpet": [
           {
            "marker": {
             "colorbar": {
              "outlinewidth": 0,
              "ticks": ""
             }
            },
            "type": "scattercarpet"
           }
          ],
          "scattergeo": [
           {
            "marker": {
             "colorbar": {
              "outlinewidth": 0,
              "ticks": ""
             }
            },
            "type": "scattergeo"
           }
          ],
          "scattergl": [
           {
            "marker": {
             "colorbar": {
              "outlinewidth": 0,
              "ticks": ""
             }
            },
            "type": "scattergl"
           }
          ],
          "scattermapbox": [
           {
            "marker": {
             "colorbar": {
              "outlinewidth": 0,
              "ticks": ""
             }
            },
            "type": "scattermapbox"
           }
          ],
          "scatterpolar": [
           {
            "marker": {
             "colorbar": {
              "outlinewidth": 0,
              "ticks": ""
             }
            },
            "type": "scatterpolar"
           }
          ],
          "scatterpolargl": [
           {
            "marker": {
             "colorbar": {
              "outlinewidth": 0,
              "ticks": ""
             }
            },
            "type": "scatterpolargl"
           }
          ],
          "scatterternary": [
           {
            "marker": {
             "colorbar": {
              "outlinewidth": 0,
              "ticks": ""
             }
            },
            "type": "scatterternary"
           }
          ],
          "surface": [
           {
            "colorbar": {
             "outlinewidth": 0,
             "ticks": ""
            },
            "colorscale": [
             [
              0,
              "#0d0887"
             ],
             [
              0.1111111111111111,
              "#46039f"
             ],
             [
              0.2222222222222222,
              "#7201a8"
             ],
             [
              0.3333333333333333,
              "#9c179e"
             ],
             [
              0.4444444444444444,
              "#bd3786"
             ],
             [
              0.5555555555555556,
              "#d8576b"
             ],
             [
              0.6666666666666666,
              "#ed7953"
             ],
             [
              0.7777777777777778,
              "#fb9f3a"
             ],
             [
              0.8888888888888888,
              "#fdca26"
             ],
             [
              1,
              "#f0f921"
             ]
            ],
            "type": "surface"
           }
          ],
          "table": [
           {
            "cells": {
             "fill": {
              "color": "#EBF0F8"
             },
             "line": {
              "color": "white"
             }
            },
            "header": {
             "fill": {
              "color": "#C8D4E3"
             },
             "line": {
              "color": "white"
             }
            },
            "type": "table"
           }
          ]
         },
         "layout": {
          "annotationdefaults": {
           "arrowcolor": "#2a3f5f",
           "arrowhead": 0,
           "arrowwidth": 1
          },
          "autotypenumbers": "strict",
          "coloraxis": {
           "colorbar": {
            "outlinewidth": 0,
            "ticks": ""
           }
          },
          "colorscale": {
           "diverging": [
            [
             0,
             "#8e0152"
            ],
            [
             0.1,
             "#c51b7d"
            ],
            [
             0.2,
             "#de77ae"
            ],
            [
             0.3,
             "#f1b6da"
            ],
            [
             0.4,
             "#fde0ef"
            ],
            [
             0.5,
             "#f7f7f7"
            ],
            [
             0.6,
             "#e6f5d0"
            ],
            [
             0.7,
             "#b8e186"
            ],
            [
             0.8,
             "#7fbc41"
            ],
            [
             0.9,
             "#4d9221"
            ],
            [
             1,
             "#276419"
            ]
           ],
           "sequential": [
            [
             0,
             "#0d0887"
            ],
            [
             0.1111111111111111,
             "#46039f"
            ],
            [
             0.2222222222222222,
             "#7201a8"
            ],
            [
             0.3333333333333333,
             "#9c179e"
            ],
            [
             0.4444444444444444,
             "#bd3786"
            ],
            [
             0.5555555555555556,
             "#d8576b"
            ],
            [
             0.6666666666666666,
             "#ed7953"
            ],
            [
             0.7777777777777778,
             "#fb9f3a"
            ],
            [
             0.8888888888888888,
             "#fdca26"
            ],
            [
             1,
             "#f0f921"
            ]
           ],
           "sequentialminus": [
            [
             0,
             "#0d0887"
            ],
            [
             0.1111111111111111,
             "#46039f"
            ],
            [
             0.2222222222222222,
             "#7201a8"
            ],
            [
             0.3333333333333333,
             "#9c179e"
            ],
            [
             0.4444444444444444,
             "#bd3786"
            ],
            [
             0.5555555555555556,
             "#d8576b"
            ],
            [
             0.6666666666666666,
             "#ed7953"
            ],
            [
             0.7777777777777778,
             "#fb9f3a"
            ],
            [
             0.8888888888888888,
             "#fdca26"
            ],
            [
             1,
             "#f0f921"
            ]
           ]
          },
          "colorway": [
           "#636efa",
           "#EF553B",
           "#00cc96",
           "#ab63fa",
           "#FFA15A",
           "#19d3f3",
           "#FF6692",
           "#B6E880",
           "#FF97FF",
           "#FECB52"
          ],
          "font": {
           "color": "#2a3f5f"
          },
          "geo": {
           "bgcolor": "white",
           "lakecolor": "white",
           "landcolor": "#E5ECF6",
           "showlakes": true,
           "showland": true,
           "subunitcolor": "white"
          },
          "hoverlabel": {
           "align": "left"
          },
          "hovermode": "closest",
          "mapbox": {
           "style": "light"
          },
          "paper_bgcolor": "white",
          "plot_bgcolor": "#E5ECF6",
          "polar": {
           "angularaxis": {
            "gridcolor": "white",
            "linecolor": "white",
            "ticks": ""
           },
           "bgcolor": "#E5ECF6",
           "radialaxis": {
            "gridcolor": "white",
            "linecolor": "white",
            "ticks": ""
           }
          },
          "scene": {
           "xaxis": {
            "backgroundcolor": "#E5ECF6",
            "gridcolor": "white",
            "gridwidth": 2,
            "linecolor": "white",
            "showbackground": true,
            "ticks": "",
            "zerolinecolor": "white"
           },
           "yaxis": {
            "backgroundcolor": "#E5ECF6",
            "gridcolor": "white",
            "gridwidth": 2,
            "linecolor": "white",
            "showbackground": true,
            "ticks": "",
            "zerolinecolor": "white"
           },
           "zaxis": {
            "backgroundcolor": "#E5ECF6",
            "gridcolor": "white",
            "gridwidth": 2,
            "linecolor": "white",
            "showbackground": true,
            "ticks": "",
            "zerolinecolor": "white"
           }
          },
          "shapedefaults": {
           "line": {
            "color": "#2a3f5f"
           }
          },
          "ternary": {
           "aaxis": {
            "gridcolor": "white",
            "linecolor": "white",
            "ticks": ""
           },
           "baxis": {
            "gridcolor": "white",
            "linecolor": "white",
            "ticks": ""
           },
           "bgcolor": "#E5ECF6",
           "caxis": {
            "gridcolor": "white",
            "linecolor": "white",
            "ticks": ""
           }
          },
          "title": {
           "x": 0.05
          },
          "xaxis": {
           "automargin": true,
           "gridcolor": "white",
           "linecolor": "white",
           "ticks": "",
           "title": {
            "standoff": 15
           },
           "zerolinecolor": "white",
           "zerolinewidth": 2
          },
          "yaxis": {
           "automargin": true,
           "gridcolor": "white",
           "linecolor": "white",
           "ticks": "",
           "title": {
            "standoff": 15
           },
           "zerolinecolor": "white",
           "zerolinewidth": 2
          }
         }
        },
        "title": {
         "font": {
          "color": "#4D5663"
         }
        },
        "xaxis": {
         "gridcolor": "#E1E5ED",
         "showgrid": true,
         "tickfont": {
          "color": "#4D5663"
         },
         "title": {
          "font": {
           "color": "#4D5663"
          },
          "text": ""
         },
         "zerolinecolor": "#E1E5ED"
        },
        "yaxis": {
         "gridcolor": "#E1E5ED",
         "showgrid": true,
         "tickfont": {
          "color": "#4D5663"
         },
         "title": {
          "font": {
           "color": "#4D5663"
          },
          "text": ""
         },
         "zerolinecolor": "#E1E5ED"
        }
       }
      },
      "text/html": [
       "<div>                            <div id=\"595c245b-f8e0-458f-9d8a-f5e752ab1584\" class=\"plotly-graph-div\" style=\"height:525px; width:100%;\"></div>            <script type=\"text/javascript\">                require([\"plotly\"], function(Plotly) {                    window.PLOTLYENV=window.PLOTLYENV || {};\n",
       "                    window.PLOTLYENV.BASE_URL='https://plot.ly';                                    if (document.getElementById(\"595c245b-f8e0-458f-9d8a-f5e752ab1584\")) {                    Plotly.newPlot(                        \"595c245b-f8e0-458f-9d8a-f5e752ab1584\",                        [{\"line\":{\"color\":\"rgba(255, 153, 51, 1.0)\",\"dash\":\"solid\",\"shape\":\"linear\",\"width\":1.3},\"mode\":\"lines\",\"name\":\"A\",\"text\":\"\",\"x\":[0,1,2,3,4,5,6,7,8,9,10,11,12,13,14,15,16,17,18,19,20,21,22,23,24,25,26,27,28,29,30,31,32,33,34,35,36,37,38,39,40,41,42,43,44,45,46,47,48,49,50,51,52,53,54,55,56,57,58,59,60,61,62,63,64,65,66,67,68,69,70,71,72,73,74,75,76,77,78,79,80,81,82,83,84,85,86,87,88,89,90,91,92,93,94,95,96,97,98,99],\"y\":[-1.5470379470686257,-0.3866827505899728,0.05907767532625553,1.3528949385329836,-0.2446134380889313,-2.406380574789591,-0.2816288308863832,0.4275053609457478,-0.5819392334941368,0.7569495452421476,0.6453177603325179,0.57422805107268,1.3148995288538112,0.220666189826017,-0.2839870046920182,0.7140778562736044,1.2652541519683163,-0.5332706279507585,-1.99742682090396,0.4405887301243418,1.6892743646745116,-0.19165751288169328,0.5104035641178164,1.3803225460438007,0.16703348752209532,-0.285872723137153,-0.2049482645233315,-0.6179469943011561,0.6032652329988165,0.05057590325797419,-1.3294185799763285,0.578716171231639,-1.6111718252564509,-0.7525916016188796,0.8249183497350251,-0.015267594448878615,-2.0692673026355326,0.6428908175911534,1.7655572451119899,2.031329227063635,-1.466347474243045,1.6401369002649178,-0.34019045909674234,0.8635745180435763,-0.41744886551989835,-0.10163440297958373,0.7703425064697068,1.4689212890171626,-0.23433370060897665,-1.3258769200955578,-1.1718941254219373,0.801932550048809,1.448807734284354,0.9847030866880221,0.3376184172512405,-1.5242713825393606,0.7027628372435865,-0.2791683192032702,0.020488303009922777,0.820619688063049,-0.36218158301404263,0.14617037002964653,1.6718586124907957,0.6705673605246165,0.27828495652272867,0.20926566932783422,-1.9184096983655765,-0.6402371208591136,-0.08170770033706065,-0.06808155063387622,-1.38010522374821,0.39561517267437496,0.7531494990024865,-0.6283031170433298,-1.8242056728883924,0.9256295159513197,1.2767649316415697,0.18525786624729326,0.5745200766324614,0.8337022049758677,-0.3243762742733441,0.4824787010648017,-0.1608409373329267,1.8793431047865878,0.3314905561931448,-0.29036873392865464,0.7482402104538096,0.49709639164898334,0.21495382334267585,1.0208806180216834,-0.03170735862101034,-2.5312495750725925,2.1046549936147385,-0.1046128281488064,-0.3285804840215899,0.24177836912715794,0.05569559765452582,-0.762999801993306,-0.6164640215496762,-1.8421776428608174],\"type\":\"scatter\"},{\"line\":{\"color\":\"rgba(55, 128, 191, 1.0)\",\"dash\":\"solid\",\"shape\":\"linear\",\"width\":1.3},\"mode\":\"lines\",\"name\":\"B\",\"text\":\"\",\"x\":[0,1,2,3,4,5,6,7,8,9,10,11,12,13,14,15,16,17,18,19,20,21,22,23,24,25,26,27,28,29,30,31,32,33,34,35,36,37,38,39,40,41,42,43,44,45,46,47,48,49,50,51,52,53,54,55,56,57,58,59,60,61,62,63,64,65,66,67,68,69,70,71,72,73,74,75,76,77,78,79,80,81,82,83,84,85,86,87,88,89,90,91,92,93,94,95,96,97,98,99],\"y\":[-0.17932026330190684,0.34198544751858234,-1.2713269129457325,0.0016652786409217964,1.4803864821833077,-0.2836750888514914,-1.4155538362514601,-0.5739661271236048,-0.35744198935824456,-0.8994230904876396,0.6991253544572609,-0.874793148785467,-0.39153074019047707,-0.880394830638912,0.4995926613587126,0.6293698296553195,1.3544469494098934,0.4810071047022162,-0.40595170495224314,0.09622342847254901,0.43681638785495297,-0.7536552634789734,0.46515551350074097,-0.4107904278107822,-0.667536213298158,-0.644002357567441,0.3279416680591974,-0.35640426241977324,0.7192398636967984,-0.3544851170731683,0.08830059864042557,0.030758743727376085,0.8935198532569544,0.3892696875617487,0.3237375347818951,0.6041497331006355,-0.40400232746982956,1.8468632501683382,-0.029077327946170142,0.25908762161059545,0.8679450620220365,0.967081274178919,1.80357447518855,0.7548651304368754,-0.5513298895031992,1.3705646354783096,0.8589382061452533,-1.0947470720924772,0.765715570102174,0.2385720284350847,-0.5320081762202075,-2.1047278011907666,-0.22838874539262682,-1.0758351304521767,0.6994286964722767,1.1983555883520542,1.8709137281616257,0.3346340175992276,1.179301597937332,-1.9309090060954557,-1.0881323911298968,0.0925198558216795,-0.6780781717104581,0.6074641297220856,1.0533655951830938,0.8330378584588016,-0.5385028983342077,-1.5582948613417311,0.5633831011807973,0.296668625167125,-0.9065113935632445,-0.21770298654540515,-0.18554362127577312,0.8460395539141479,-0.06587075962834432,-1.3271566677311997,0.25495202389316673,-0.6747528477615352,-1.435892609276357,-0.960122176589752,-0.3454127480759408,0.4072393867432423,-1.338046384045666,0.5103799524326336,1.4224780373575563,0.5088221930699162,0.03356517523728443,0.45970454247660264,1.2459543043789276,0.2505549812457923,0.259785611079415,0.5130794204738841,2.8931347231761175,-0.08760616578299192,-1.1963390674150716,0.8284380378357371,1.0897731639265282,3.2145514299528397,0.5444588734985717,-1.5142056829390005],\"type\":\"scatter\"},{\"line\":{\"color\":\"rgba(50, 171, 96, 1.0)\",\"dash\":\"solid\",\"shape\":\"linear\",\"width\":1.3},\"mode\":\"lines\",\"name\":\"C\",\"text\":\"\",\"x\":[0,1,2,3,4,5,6,7,8,9,10,11,12,13,14,15,16,17,18,19,20,21,22,23,24,25,26,27,28,29,30,31,32,33,34,35,36,37,38,39,40,41,42,43,44,45,46,47,48,49,50,51,52,53,54,55,56,57,58,59,60,61,62,63,64,65,66,67,68,69,70,71,72,73,74,75,76,77,78,79,80,81,82,83,84,85,86,87,88,89,90,91,92,93,94,95,96,97,98,99],\"y\":[-0.8827337164904582,-1.8364531539319333,0.8082687682781682,0.6289536187563297,0.13738826055039535,-0.48702056371183133,-0.4662976847342923,-0.7015128306413758,-2.075792831188183,1.1176300474724994,0.9671408679228939,0.3868725572827184,1.2346153433668805,-0.9703164223331473,1.9817729912124495,-0.7776807674549705,1.0904074274491107,0.10563209017692979,-1.5907909212167808,1.0082636128241178,-0.3353296165270854,-0.7591345840064578,0.7742601105711353,1.1467958848004252,0.9200633767725459,0.7346362265663221,-0.8139337677173419,-0.5546883808219134,0.2764431453193479,-0.95215237627935,-0.07095272199313353,-0.520697352733301,-0.4340839633081928,-1.0466663533478058,1.2543681127605029,0.8666311142299339,-0.3518608740488995,-0.43880066086130814,0.42178024324125096,1.299203464296593,-0.15407331280936215,-0.6075954511987632,-0.31243377106445835,-0.3299566935335466,-0.8873057264322378,0.04679665624628326,-0.12976410822364787,0.6617216984182405,0.2677726756401323,0.36854030491480244,1.0834360202988516,-0.5358001827681771,1.3566403293736051,1.3232084208589134,-0.9200288536262442,0.4035164337882321,1.457756930269989,-0.48177075689597204,-0.10253003630182166,-1.1087611194830596,1.2405184299530734,-1.1613026903681023,-0.21807727298806873,2.073990265406395,-0.12142871305310494,-1.130168455585731,0.6737067936121557,-0.5226892924994307,0.9439193803151366,-0.9443041315154184,-0.5173949214588162,0.35076467768349945,-0.1268157260701168,1.5232667086176082,-0.42512384149961735,-1.2916065855294245,-0.2895713037165531,0.5519442699233186,1.6307332488054225,0.49046965386208186,-1.5335496821072878,-0.4633643003770435,-0.7016934868574808,-0.2487663579333527,0.31110876877089483,-1.7132404041523144,1.057646417962785,-0.1528239791025941,-0.699145591330207,-1.7823629346489065,-0.11037143237132825,0.5125188565494171,0.4533917864601765,-0.6654675164735756,1.6813259994038556,-0.995626301686294,0.484448176581966,-0.9251656585866519,-0.41487414299947856,1.3509865271705759],\"type\":\"scatter\"},{\"line\":{\"color\":\"rgba(128, 0, 128, 1.0)\",\"dash\":\"solid\",\"shape\":\"linear\",\"width\":1.3},\"mode\":\"lines\",\"name\":\"D\",\"text\":\"\",\"x\":[0,1,2,3,4,5,6,7,8,9,10,11,12,13,14,15,16,17,18,19,20,21,22,23,24,25,26,27,28,29,30,31,32,33,34,35,36,37,38,39,40,41,42,43,44,45,46,47,48,49,50,51,52,53,54,55,56,57,58,59,60,61,62,63,64,65,66,67,68,69,70,71,72,73,74,75,76,77,78,79,80,81,82,83,84,85,86,87,88,89,90,91,92,93,94,95,96,97,98,99],\"y\":[-0.6920880206110122,-1.1528187877583664,0.5086136006525542,-0.3215793850236674,-1.394860954443431,0.8898543007611304,0.6766517919690216,1.2415891437981637,0.5749645946153426,0.8191522907746716,-1.3401567878568013,0.004138571752962983,1.9727662152133698,1.7100298800610687,0.7905135404134748,0.5035795302927593,-0.6426516642396118,0.6107854330514066,0.10928182793825748,1.1501642674489254,-2.4740487192674028,-0.43881799465043336,-0.8094019886420079,-0.31202726037660966,-0.2236736738974433,-1.3740994147648478,-0.24299560216202182,0.32179333878077643,0.48952220272470165,0.1242364926299338,0.6655346523272315,0.2335595973186929,-1.3979047777316438,-1.1861224414071925,-0.11470463861534105,0.888977369121416,0.19762432272577532,-0.911490070227444,0.42138513877796047,-1.2392259969612873,-0.42396337197608314,-0.8040254949941189,0.5246503673076683,0.6174376551293572,0.6667732964950027,-1.624315511280616,-0.7009900507939105,-0.7566895336475554,0.4228153655438361,-0.4921515625061394,-0.28024629047864485,-0.015140262941474195,1.2599427979153641,0.5190923874462334,0.05096023773849388,1.323901428598727,1.548038022029308,-0.8155899694131572,0.9399055199142157,0.07432006820395431,1.0041698831027674,-1.20750103555811,0.859700286664465,-0.28205347737206277,-0.30401620740514995,0.16367012099450978,-1.2584412572551649,-0.325827150091203,-1.7999396554564284,-0.20307309104609228,-1.1442481553192654,0.653286239947092,0.07516392687232953,0.7521899316131974,0.5260372458993744,-1.395226916488713,0.9921908967238827,1.2418292779657578,-0.1539017470993894,0.7373886256861507,0.38834918020664827,0.2362135412776182,0.0115188899390858,-1.6415807833383291,1.8233714094438518,-0.02860208451841463,0.9508625218057386,-1.4221906894981022,0.43956758103632954,0.3276390633566963,0.5591093211320485,2.0975676475011604,0.5114912158185853,1.0926954349320122,0.09089460843272662,-0.07754270763857592,-0.23416245302275307,1.013785139194283,1.3047201740780954,0.02289887280392105],\"type\":\"scatter\"}],                        {\"legend\":{\"bgcolor\":\"#F5F6F9\",\"font\":{\"color\":\"#4D5663\"}},\"paper_bgcolor\":\"#F5F6F9\",\"plot_bgcolor\":\"#F5F6F9\",\"template\":{\"data\":{\"barpolar\":[{\"marker\":{\"line\":{\"color\":\"#E5ECF6\",\"width\":0.5},\"pattern\":{\"fillmode\":\"overlay\",\"size\":10,\"solidity\":0.2}},\"type\":\"barpolar\"}],\"bar\":[{\"error_x\":{\"color\":\"#2a3f5f\"},\"error_y\":{\"color\":\"#2a3f5f\"},\"marker\":{\"line\":{\"color\":\"#E5ECF6\",\"width\":0.5},\"pattern\":{\"fillmode\":\"overlay\",\"size\":10,\"solidity\":0.2}},\"type\":\"bar\"}],\"carpet\":[{\"aaxis\":{\"endlinecolor\":\"#2a3f5f\",\"gridcolor\":\"white\",\"linecolor\":\"white\",\"minorgridcolor\":\"white\",\"startlinecolor\":\"#2a3f5f\"},\"baxis\":{\"endlinecolor\":\"#2a3f5f\",\"gridcolor\":\"white\",\"linecolor\":\"white\",\"minorgridcolor\":\"white\",\"startlinecolor\":\"#2a3f5f\"},\"type\":\"carpet\"}],\"choropleth\":[{\"colorbar\":{\"outlinewidth\":0,\"ticks\":\"\"},\"type\":\"choropleth\"}],\"contourcarpet\":[{\"colorbar\":{\"outlinewidth\":0,\"ticks\":\"\"},\"type\":\"contourcarpet\"}],\"contour\":[{\"colorbar\":{\"outlinewidth\":0,\"ticks\":\"\"},\"colorscale\":[[0.0,\"#0d0887\"],[0.1111111111111111,\"#46039f\"],[0.2222222222222222,\"#7201a8\"],[0.3333333333333333,\"#9c179e\"],[0.4444444444444444,\"#bd3786\"],[0.5555555555555556,\"#d8576b\"],[0.6666666666666666,\"#ed7953\"],[0.7777777777777778,\"#fb9f3a\"],[0.8888888888888888,\"#fdca26\"],[1.0,\"#f0f921\"]],\"type\":\"contour\"}],\"heatmapgl\":[{\"colorbar\":{\"outlinewidth\":0,\"ticks\":\"\"},\"colorscale\":[[0.0,\"#0d0887\"],[0.1111111111111111,\"#46039f\"],[0.2222222222222222,\"#7201a8\"],[0.3333333333333333,\"#9c179e\"],[0.4444444444444444,\"#bd3786\"],[0.5555555555555556,\"#d8576b\"],[0.6666666666666666,\"#ed7953\"],[0.7777777777777778,\"#fb9f3a\"],[0.8888888888888888,\"#fdca26\"],[1.0,\"#f0f921\"]],\"type\":\"heatmapgl\"}],\"heatmap\":[{\"colorbar\":{\"outlinewidth\":0,\"ticks\":\"\"},\"colorscale\":[[0.0,\"#0d0887\"],[0.1111111111111111,\"#46039f\"],[0.2222222222222222,\"#7201a8\"],[0.3333333333333333,\"#9c179e\"],[0.4444444444444444,\"#bd3786\"],[0.5555555555555556,\"#d8576b\"],[0.6666666666666666,\"#ed7953\"],[0.7777777777777778,\"#fb9f3a\"],[0.8888888888888888,\"#fdca26\"],[1.0,\"#f0f921\"]],\"type\":\"heatmap\"}],\"histogram2dcontour\":[{\"colorbar\":{\"outlinewidth\":0,\"ticks\":\"\"},\"colorscale\":[[0.0,\"#0d0887\"],[0.1111111111111111,\"#46039f\"],[0.2222222222222222,\"#7201a8\"],[0.3333333333333333,\"#9c179e\"],[0.4444444444444444,\"#bd3786\"],[0.5555555555555556,\"#d8576b\"],[0.6666666666666666,\"#ed7953\"],[0.7777777777777778,\"#fb9f3a\"],[0.8888888888888888,\"#fdca26\"],[1.0,\"#f0f921\"]],\"type\":\"histogram2dcontour\"}],\"histogram2d\":[{\"colorbar\":{\"outlinewidth\":0,\"ticks\":\"\"},\"colorscale\":[[0.0,\"#0d0887\"],[0.1111111111111111,\"#46039f\"],[0.2222222222222222,\"#7201a8\"],[0.3333333333333333,\"#9c179e\"],[0.4444444444444444,\"#bd3786\"],[0.5555555555555556,\"#d8576b\"],[0.6666666666666666,\"#ed7953\"],[0.7777777777777778,\"#fb9f3a\"],[0.8888888888888888,\"#fdca26\"],[1.0,\"#f0f921\"]],\"type\":\"histogram2d\"}],\"histogram\":[{\"marker\":{\"pattern\":{\"fillmode\":\"overlay\",\"size\":10,\"solidity\":0.2}},\"type\":\"histogram\"}],\"mesh3d\":[{\"colorbar\":{\"outlinewidth\":0,\"ticks\":\"\"},\"type\":\"mesh3d\"}],\"parcoords\":[{\"line\":{\"colorbar\":{\"outlinewidth\":0,\"ticks\":\"\"}},\"type\":\"parcoords\"}],\"pie\":[{\"automargin\":true,\"type\":\"pie\"}],\"scatter3d\":[{\"line\":{\"colorbar\":{\"outlinewidth\":0,\"ticks\":\"\"}},\"marker\":{\"colorbar\":{\"outlinewidth\":0,\"ticks\":\"\"}},\"type\":\"scatter3d\"}],\"scattercarpet\":[{\"marker\":{\"colorbar\":{\"outlinewidth\":0,\"ticks\":\"\"}},\"type\":\"scattercarpet\"}],\"scattergeo\":[{\"marker\":{\"colorbar\":{\"outlinewidth\":0,\"ticks\":\"\"}},\"type\":\"scattergeo\"}],\"scattergl\":[{\"marker\":{\"colorbar\":{\"outlinewidth\":0,\"ticks\":\"\"}},\"type\":\"scattergl\"}],\"scattermapbox\":[{\"marker\":{\"colorbar\":{\"outlinewidth\":0,\"ticks\":\"\"}},\"type\":\"scattermapbox\"}],\"scatterpolargl\":[{\"marker\":{\"colorbar\":{\"outlinewidth\":0,\"ticks\":\"\"}},\"type\":\"scatterpolargl\"}],\"scatterpolar\":[{\"marker\":{\"colorbar\":{\"outlinewidth\":0,\"ticks\":\"\"}},\"type\":\"scatterpolar\"}],\"scatter\":[{\"marker\":{\"colorbar\":{\"outlinewidth\":0,\"ticks\":\"\"}},\"type\":\"scatter\"}],\"scatterternary\":[{\"marker\":{\"colorbar\":{\"outlinewidth\":0,\"ticks\":\"\"}},\"type\":\"scatterternary\"}],\"surface\":[{\"colorbar\":{\"outlinewidth\":0,\"ticks\":\"\"},\"colorscale\":[[0.0,\"#0d0887\"],[0.1111111111111111,\"#46039f\"],[0.2222222222222222,\"#7201a8\"],[0.3333333333333333,\"#9c179e\"],[0.4444444444444444,\"#bd3786\"],[0.5555555555555556,\"#d8576b\"],[0.6666666666666666,\"#ed7953\"],[0.7777777777777778,\"#fb9f3a\"],[0.8888888888888888,\"#fdca26\"],[1.0,\"#f0f921\"]],\"type\":\"surface\"}],\"table\":[{\"cells\":{\"fill\":{\"color\":\"#EBF0F8\"},\"line\":{\"color\":\"white\"}},\"header\":{\"fill\":{\"color\":\"#C8D4E3\"},\"line\":{\"color\":\"white\"}},\"type\":\"table\"}]},\"layout\":{\"annotationdefaults\":{\"arrowcolor\":\"#2a3f5f\",\"arrowhead\":0,\"arrowwidth\":1},\"autotypenumbers\":\"strict\",\"coloraxis\":{\"colorbar\":{\"outlinewidth\":0,\"ticks\":\"\"}},\"colorscale\":{\"diverging\":[[0,\"#8e0152\"],[0.1,\"#c51b7d\"],[0.2,\"#de77ae\"],[0.3,\"#f1b6da\"],[0.4,\"#fde0ef\"],[0.5,\"#f7f7f7\"],[0.6,\"#e6f5d0\"],[0.7,\"#b8e186\"],[0.8,\"#7fbc41\"],[0.9,\"#4d9221\"],[1,\"#276419\"]],\"sequential\":[[0.0,\"#0d0887\"],[0.1111111111111111,\"#46039f\"],[0.2222222222222222,\"#7201a8\"],[0.3333333333333333,\"#9c179e\"],[0.4444444444444444,\"#bd3786\"],[0.5555555555555556,\"#d8576b\"],[0.6666666666666666,\"#ed7953\"],[0.7777777777777778,\"#fb9f3a\"],[0.8888888888888888,\"#fdca26\"],[1.0,\"#f0f921\"]],\"sequentialminus\":[[0.0,\"#0d0887\"],[0.1111111111111111,\"#46039f\"],[0.2222222222222222,\"#7201a8\"],[0.3333333333333333,\"#9c179e\"],[0.4444444444444444,\"#bd3786\"],[0.5555555555555556,\"#d8576b\"],[0.6666666666666666,\"#ed7953\"],[0.7777777777777778,\"#fb9f3a\"],[0.8888888888888888,\"#fdca26\"],[1.0,\"#f0f921\"]]},\"colorway\":[\"#636efa\",\"#EF553B\",\"#00cc96\",\"#ab63fa\",\"#FFA15A\",\"#19d3f3\",\"#FF6692\",\"#B6E880\",\"#FF97FF\",\"#FECB52\"],\"font\":{\"color\":\"#2a3f5f\"},\"geo\":{\"bgcolor\":\"white\",\"lakecolor\":\"white\",\"landcolor\":\"#E5ECF6\",\"showlakes\":true,\"showland\":true,\"subunitcolor\":\"white\"},\"hoverlabel\":{\"align\":\"left\"},\"hovermode\":\"closest\",\"mapbox\":{\"style\":\"light\"},\"paper_bgcolor\":\"white\",\"plot_bgcolor\":\"#E5ECF6\",\"polar\":{\"angularaxis\":{\"gridcolor\":\"white\",\"linecolor\":\"white\",\"ticks\":\"\"},\"bgcolor\":\"#E5ECF6\",\"radialaxis\":{\"gridcolor\":\"white\",\"linecolor\":\"white\",\"ticks\":\"\"}},\"scene\":{\"xaxis\":{\"backgroundcolor\":\"#E5ECF6\",\"gridcolor\":\"white\",\"gridwidth\":2,\"linecolor\":\"white\",\"showbackground\":true,\"ticks\":\"\",\"zerolinecolor\":\"white\"},\"yaxis\":{\"backgroundcolor\":\"#E5ECF6\",\"gridcolor\":\"white\",\"gridwidth\":2,\"linecolor\":\"white\",\"showbackground\":true,\"ticks\":\"\",\"zerolinecolor\":\"white\"},\"zaxis\":{\"backgroundcolor\":\"#E5ECF6\",\"gridcolor\":\"white\",\"gridwidth\":2,\"linecolor\":\"white\",\"showbackground\":true,\"ticks\":\"\",\"zerolinecolor\":\"white\"}},\"shapedefaults\":{\"line\":{\"color\":\"#2a3f5f\"}},\"ternary\":{\"aaxis\":{\"gridcolor\":\"white\",\"linecolor\":\"white\",\"ticks\":\"\"},\"baxis\":{\"gridcolor\":\"white\",\"linecolor\":\"white\",\"ticks\":\"\"},\"bgcolor\":\"#E5ECF6\",\"caxis\":{\"gridcolor\":\"white\",\"linecolor\":\"white\",\"ticks\":\"\"}},\"title\":{\"x\":0.05},\"xaxis\":{\"automargin\":true,\"gridcolor\":\"white\",\"linecolor\":\"white\",\"ticks\":\"\",\"title\":{\"standoff\":15},\"zerolinecolor\":\"white\",\"zerolinewidth\":2},\"yaxis\":{\"automargin\":true,\"gridcolor\":\"white\",\"linecolor\":\"white\",\"ticks\":\"\",\"title\":{\"standoff\":15},\"zerolinecolor\":\"white\",\"zerolinewidth\":2}}},\"title\":{\"font\":{\"color\":\"#4D5663\"}},\"xaxis\":{\"gridcolor\":\"#E1E5ED\",\"showgrid\":true,\"tickfont\":{\"color\":\"#4D5663\"},\"title\":{\"font\":{\"color\":\"#4D5663\"},\"text\":\"\"},\"zerolinecolor\":\"#E1E5ED\"},\"yaxis\":{\"gridcolor\":\"#E1E5ED\",\"showgrid\":true,\"tickfont\":{\"color\":\"#4D5663\"},\"title\":{\"font\":{\"color\":\"#4D5663\"},\"text\":\"\"},\"zerolinecolor\":\"#E1E5ED\"}},                        {\"showLink\": true, \"linkText\": \"Export to plot.ly\", \"plotlyServerURL\": \"https://plot.ly\", \"responsive\": true}                    ).then(function(){\n",
       "                            \n",
       "var gd = document.getElementById('595c245b-f8e0-458f-9d8a-f5e752ab1584');\n",
       "var x = new MutationObserver(function (mutations, observer) {{\n",
       "        var display = window.getComputedStyle(gd).display;\n",
       "        if (!display || display === 'none') {{\n",
       "            console.log([gd, 'removed!']);\n",
       "            Plotly.purge(gd);\n",
       "            observer.disconnect();\n",
       "        }}\n",
       "}});\n",
       "\n",
       "// Listen for the removal of the full notebook cells\n",
       "var notebookContainer = gd.closest('#notebook-container');\n",
       "if (notebookContainer) {{\n",
       "    x.observe(notebookContainer, {childList: true});\n",
       "}}\n",
       "\n",
       "// Listen for the clearing of the current output cell\n",
       "var outputEl = gd.closest('.output');\n",
       "if (outputEl) {{\n",
       "    x.observe(outputEl, {childList: true});\n",
       "}}\n",
       "\n",
       "                        })                };                });            </script>        </div>"
      ]
     },
     "metadata": {},
     "output_type": "display_data"
    }
   ],
   "source": [
    "df.iplot()"
   ]
  },
  {
   "cell_type": "code",
   "execution_count": 65,
   "metadata": {},
   "outputs": [],
   "source": [
    "%matplotlib inline"
   ]
  },
  {
   "cell_type": "code",
   "execution_count": 66,
   "metadata": {},
   "outputs": [
    {
     "data": {
      "application/vnd.plotly.v1+json": {
       "config": {
        "linkText": "Export to plot.ly",
        "plotlyServerURL": "https://plot.ly",
        "showLink": true
       },
       "data": [
        {
         "line": {
          "color": "rgba(255, 153, 51, 1.0)",
          "dash": "solid",
          "shape": "linear",
          "width": 1.3
         },
         "marker": {
          "size": 12,
          "symbol": "circle"
         },
         "mode": "markers",
         "name": "B",
         "text": "",
         "type": "scatter",
         "x": [
          -1.5470379470686257,
          -0.3866827505899728,
          0.05907767532625553,
          1.3528949385329836,
          -0.2446134380889313,
          -2.406380574789591,
          -0.2816288308863832,
          0.4275053609457478,
          -0.5819392334941368,
          0.7569495452421476,
          0.6453177603325179,
          0.57422805107268,
          1.3148995288538112,
          0.220666189826017,
          -0.2839870046920182,
          0.7140778562736044,
          1.2652541519683163,
          -0.5332706279507585,
          -1.99742682090396,
          0.4405887301243418,
          1.6892743646745116,
          -0.19165751288169328,
          0.5104035641178164,
          1.3803225460438007,
          0.16703348752209532,
          -0.285872723137153,
          -0.2049482645233315,
          -0.6179469943011561,
          0.6032652329988165,
          0.05057590325797419,
          -1.3294185799763285,
          0.578716171231639,
          -1.6111718252564509,
          -0.7525916016188796,
          0.8249183497350251,
          -0.015267594448878615,
          -2.0692673026355326,
          0.6428908175911534,
          1.7655572451119899,
          2.031329227063635,
          -1.466347474243045,
          1.6401369002649178,
          -0.34019045909674234,
          0.8635745180435763,
          -0.41744886551989835,
          -0.10163440297958373,
          0.7703425064697068,
          1.4689212890171626,
          -0.23433370060897665,
          -1.3258769200955578,
          -1.1718941254219373,
          0.801932550048809,
          1.448807734284354,
          0.9847030866880221,
          0.3376184172512405,
          -1.5242713825393606,
          0.7027628372435865,
          -0.2791683192032702,
          0.020488303009922777,
          0.820619688063049,
          -0.36218158301404263,
          0.14617037002964653,
          1.6718586124907957,
          0.6705673605246165,
          0.27828495652272867,
          0.20926566932783422,
          -1.9184096983655765,
          -0.6402371208591136,
          -0.08170770033706065,
          -0.06808155063387622,
          -1.38010522374821,
          0.39561517267437496,
          0.7531494990024865,
          -0.6283031170433298,
          -1.8242056728883924,
          0.9256295159513197,
          1.2767649316415697,
          0.18525786624729326,
          0.5745200766324614,
          0.8337022049758677,
          -0.3243762742733441,
          0.4824787010648017,
          -0.1608409373329267,
          1.8793431047865878,
          0.3314905561931448,
          -0.29036873392865464,
          0.7482402104538096,
          0.49709639164898334,
          0.21495382334267585,
          1.0208806180216834,
          -0.03170735862101034,
          -2.5312495750725925,
          2.1046549936147385,
          -0.1046128281488064,
          -0.3285804840215899,
          0.24177836912715794,
          0.05569559765452582,
          -0.762999801993306,
          -0.6164640215496762,
          -1.8421776428608174
         ],
         "y": [
          -0.17932026330190684,
          0.34198544751858234,
          -1.2713269129457325,
          0.0016652786409217964,
          1.4803864821833077,
          -0.2836750888514914,
          -1.4155538362514601,
          -0.5739661271236048,
          -0.35744198935824456,
          -0.8994230904876396,
          0.6991253544572609,
          -0.874793148785467,
          -0.39153074019047707,
          -0.880394830638912,
          0.4995926613587126,
          0.6293698296553195,
          1.3544469494098934,
          0.4810071047022162,
          -0.40595170495224314,
          0.09622342847254901,
          0.43681638785495297,
          -0.7536552634789734,
          0.46515551350074097,
          -0.4107904278107822,
          -0.667536213298158,
          -0.644002357567441,
          0.3279416680591974,
          -0.35640426241977324,
          0.7192398636967984,
          -0.3544851170731683,
          0.08830059864042557,
          0.030758743727376085,
          0.8935198532569544,
          0.3892696875617487,
          0.3237375347818951,
          0.6041497331006355,
          -0.40400232746982956,
          1.8468632501683382,
          -0.029077327946170142,
          0.25908762161059545,
          0.8679450620220365,
          0.967081274178919,
          1.80357447518855,
          0.7548651304368754,
          -0.5513298895031992,
          1.3705646354783096,
          0.8589382061452533,
          -1.0947470720924772,
          0.765715570102174,
          0.2385720284350847,
          -0.5320081762202075,
          -2.1047278011907666,
          -0.22838874539262682,
          -1.0758351304521767,
          0.6994286964722767,
          1.1983555883520542,
          1.8709137281616257,
          0.3346340175992276,
          1.179301597937332,
          -1.9309090060954557,
          -1.0881323911298968,
          0.0925198558216795,
          -0.6780781717104581,
          0.6074641297220856,
          1.0533655951830938,
          0.8330378584588016,
          -0.5385028983342077,
          -1.5582948613417311,
          0.5633831011807973,
          0.296668625167125,
          -0.9065113935632445,
          -0.21770298654540515,
          -0.18554362127577312,
          0.8460395539141479,
          -0.06587075962834432,
          -1.3271566677311997,
          0.25495202389316673,
          -0.6747528477615352,
          -1.435892609276357,
          -0.960122176589752,
          -0.3454127480759408,
          0.4072393867432423,
          -1.338046384045666,
          0.5103799524326336,
          1.4224780373575563,
          0.5088221930699162,
          0.03356517523728443,
          0.45970454247660264,
          1.2459543043789276,
          0.2505549812457923,
          0.259785611079415,
          0.5130794204738841,
          2.8931347231761175,
          -0.08760616578299192,
          -1.1963390674150716,
          0.8284380378357371,
          1.0897731639265282,
          3.2145514299528397,
          0.5444588734985717,
          -1.5142056829390005
         ]
        }
       ],
       "layout": {
        "legend": {
         "bgcolor": "#F5F6F9",
         "font": {
          "color": "#4D5663"
         }
        },
        "paper_bgcolor": "#F5F6F9",
        "plot_bgcolor": "#F5F6F9",
        "template": {
         "data": {
          "bar": [
           {
            "error_x": {
             "color": "#2a3f5f"
            },
            "error_y": {
             "color": "#2a3f5f"
            },
            "marker": {
             "line": {
              "color": "#E5ECF6",
              "width": 0.5
             },
             "pattern": {
              "fillmode": "overlay",
              "size": 10,
              "solidity": 0.2
             }
            },
            "type": "bar"
           }
          ],
          "barpolar": [
           {
            "marker": {
             "line": {
              "color": "#E5ECF6",
              "width": 0.5
             },
             "pattern": {
              "fillmode": "overlay",
              "size": 10,
              "solidity": 0.2
             }
            },
            "type": "barpolar"
           }
          ],
          "carpet": [
           {
            "aaxis": {
             "endlinecolor": "#2a3f5f",
             "gridcolor": "white",
             "linecolor": "white",
             "minorgridcolor": "white",
             "startlinecolor": "#2a3f5f"
            },
            "baxis": {
             "endlinecolor": "#2a3f5f",
             "gridcolor": "white",
             "linecolor": "white",
             "minorgridcolor": "white",
             "startlinecolor": "#2a3f5f"
            },
            "type": "carpet"
           }
          ],
          "choropleth": [
           {
            "colorbar": {
             "outlinewidth": 0,
             "ticks": ""
            },
            "type": "choropleth"
           }
          ],
          "contour": [
           {
            "colorbar": {
             "outlinewidth": 0,
             "ticks": ""
            },
            "colorscale": [
             [
              0,
              "#0d0887"
             ],
             [
              0.1111111111111111,
              "#46039f"
             ],
             [
              0.2222222222222222,
              "#7201a8"
             ],
             [
              0.3333333333333333,
              "#9c179e"
             ],
             [
              0.4444444444444444,
              "#bd3786"
             ],
             [
              0.5555555555555556,
              "#d8576b"
             ],
             [
              0.6666666666666666,
              "#ed7953"
             ],
             [
              0.7777777777777778,
              "#fb9f3a"
             ],
             [
              0.8888888888888888,
              "#fdca26"
             ],
             [
              1,
              "#f0f921"
             ]
            ],
            "type": "contour"
           }
          ],
          "contourcarpet": [
           {
            "colorbar": {
             "outlinewidth": 0,
             "ticks": ""
            },
            "type": "contourcarpet"
           }
          ],
          "heatmap": [
           {
            "colorbar": {
             "outlinewidth": 0,
             "ticks": ""
            },
            "colorscale": [
             [
              0,
              "#0d0887"
             ],
             [
              0.1111111111111111,
              "#46039f"
             ],
             [
              0.2222222222222222,
              "#7201a8"
             ],
             [
              0.3333333333333333,
              "#9c179e"
             ],
             [
              0.4444444444444444,
              "#bd3786"
             ],
             [
              0.5555555555555556,
              "#d8576b"
             ],
             [
              0.6666666666666666,
              "#ed7953"
             ],
             [
              0.7777777777777778,
              "#fb9f3a"
             ],
             [
              0.8888888888888888,
              "#fdca26"
             ],
             [
              1,
              "#f0f921"
             ]
            ],
            "type": "heatmap"
           }
          ],
          "heatmapgl": [
           {
            "colorbar": {
             "outlinewidth": 0,
             "ticks": ""
            },
            "colorscale": [
             [
              0,
              "#0d0887"
             ],
             [
              0.1111111111111111,
              "#46039f"
             ],
             [
              0.2222222222222222,
              "#7201a8"
             ],
             [
              0.3333333333333333,
              "#9c179e"
             ],
             [
              0.4444444444444444,
              "#bd3786"
             ],
             [
              0.5555555555555556,
              "#d8576b"
             ],
             [
              0.6666666666666666,
              "#ed7953"
             ],
             [
              0.7777777777777778,
              "#fb9f3a"
             ],
             [
              0.8888888888888888,
              "#fdca26"
             ],
             [
              1,
              "#f0f921"
             ]
            ],
            "type": "heatmapgl"
           }
          ],
          "histogram": [
           {
            "marker": {
             "pattern": {
              "fillmode": "overlay",
              "size": 10,
              "solidity": 0.2
             }
            },
            "type": "histogram"
           }
          ],
          "histogram2d": [
           {
            "colorbar": {
             "outlinewidth": 0,
             "ticks": ""
            },
            "colorscale": [
             [
              0,
              "#0d0887"
             ],
             [
              0.1111111111111111,
              "#46039f"
             ],
             [
              0.2222222222222222,
              "#7201a8"
             ],
             [
              0.3333333333333333,
              "#9c179e"
             ],
             [
              0.4444444444444444,
              "#bd3786"
             ],
             [
              0.5555555555555556,
              "#d8576b"
             ],
             [
              0.6666666666666666,
              "#ed7953"
             ],
             [
              0.7777777777777778,
              "#fb9f3a"
             ],
             [
              0.8888888888888888,
              "#fdca26"
             ],
             [
              1,
              "#f0f921"
             ]
            ],
            "type": "histogram2d"
           }
          ],
          "histogram2dcontour": [
           {
            "colorbar": {
             "outlinewidth": 0,
             "ticks": ""
            },
            "colorscale": [
             [
              0,
              "#0d0887"
             ],
             [
              0.1111111111111111,
              "#46039f"
             ],
             [
              0.2222222222222222,
              "#7201a8"
             ],
             [
              0.3333333333333333,
              "#9c179e"
             ],
             [
              0.4444444444444444,
              "#bd3786"
             ],
             [
              0.5555555555555556,
              "#d8576b"
             ],
             [
              0.6666666666666666,
              "#ed7953"
             ],
             [
              0.7777777777777778,
              "#fb9f3a"
             ],
             [
              0.8888888888888888,
              "#fdca26"
             ],
             [
              1,
              "#f0f921"
             ]
            ],
            "type": "histogram2dcontour"
           }
          ],
          "mesh3d": [
           {
            "colorbar": {
             "outlinewidth": 0,
             "ticks": ""
            },
            "type": "mesh3d"
           }
          ],
          "parcoords": [
           {
            "line": {
             "colorbar": {
              "outlinewidth": 0,
              "ticks": ""
             }
            },
            "type": "parcoords"
           }
          ],
          "pie": [
           {
            "automargin": true,
            "type": "pie"
           }
          ],
          "scatter": [
           {
            "marker": {
             "colorbar": {
              "outlinewidth": 0,
              "ticks": ""
             }
            },
            "type": "scatter"
           }
          ],
          "scatter3d": [
           {
            "line": {
             "colorbar": {
              "outlinewidth": 0,
              "ticks": ""
             }
            },
            "marker": {
             "colorbar": {
              "outlinewidth": 0,
              "ticks": ""
             }
            },
            "type": "scatter3d"
           }
          ],
          "scattercarpet": [
           {
            "marker": {
             "colorbar": {
              "outlinewidth": 0,
              "ticks": ""
             }
            },
            "type": "scattercarpet"
           }
          ],
          "scattergeo": [
           {
            "marker": {
             "colorbar": {
              "outlinewidth": 0,
              "ticks": ""
             }
            },
            "type": "scattergeo"
           }
          ],
          "scattergl": [
           {
            "marker": {
             "colorbar": {
              "outlinewidth": 0,
              "ticks": ""
             }
            },
            "type": "scattergl"
           }
          ],
          "scattermapbox": [
           {
            "marker": {
             "colorbar": {
              "outlinewidth": 0,
              "ticks": ""
             }
            },
            "type": "scattermapbox"
           }
          ],
          "scatterpolar": [
           {
            "marker": {
             "colorbar": {
              "outlinewidth": 0,
              "ticks": ""
             }
            },
            "type": "scatterpolar"
           }
          ],
          "scatterpolargl": [
           {
            "marker": {
             "colorbar": {
              "outlinewidth": 0,
              "ticks": ""
             }
            },
            "type": "scatterpolargl"
           }
          ],
          "scatterternary": [
           {
            "marker": {
             "colorbar": {
              "outlinewidth": 0,
              "ticks": ""
             }
            },
            "type": "scatterternary"
           }
          ],
          "surface": [
           {
            "colorbar": {
             "outlinewidth": 0,
             "ticks": ""
            },
            "colorscale": [
             [
              0,
              "#0d0887"
             ],
             [
              0.1111111111111111,
              "#46039f"
             ],
             [
              0.2222222222222222,
              "#7201a8"
             ],
             [
              0.3333333333333333,
              "#9c179e"
             ],
             [
              0.4444444444444444,
              "#bd3786"
             ],
             [
              0.5555555555555556,
              "#d8576b"
             ],
             [
              0.6666666666666666,
              "#ed7953"
             ],
             [
              0.7777777777777778,
              "#fb9f3a"
             ],
             [
              0.8888888888888888,
              "#fdca26"
             ],
             [
              1,
              "#f0f921"
             ]
            ],
            "type": "surface"
           }
          ],
          "table": [
           {
            "cells": {
             "fill": {
              "color": "#EBF0F8"
             },
             "line": {
              "color": "white"
             }
            },
            "header": {
             "fill": {
              "color": "#C8D4E3"
             },
             "line": {
              "color": "white"
             }
            },
            "type": "table"
           }
          ]
         },
         "layout": {
          "annotationdefaults": {
           "arrowcolor": "#2a3f5f",
           "arrowhead": 0,
           "arrowwidth": 1
          },
          "autotypenumbers": "strict",
          "coloraxis": {
           "colorbar": {
            "outlinewidth": 0,
            "ticks": ""
           }
          },
          "colorscale": {
           "diverging": [
            [
             0,
             "#8e0152"
            ],
            [
             0.1,
             "#c51b7d"
            ],
            [
             0.2,
             "#de77ae"
            ],
            [
             0.3,
             "#f1b6da"
            ],
            [
             0.4,
             "#fde0ef"
            ],
            [
             0.5,
             "#f7f7f7"
            ],
            [
             0.6,
             "#e6f5d0"
            ],
            [
             0.7,
             "#b8e186"
            ],
            [
             0.8,
             "#7fbc41"
            ],
            [
             0.9,
             "#4d9221"
            ],
            [
             1,
             "#276419"
            ]
           ],
           "sequential": [
            [
             0,
             "#0d0887"
            ],
            [
             0.1111111111111111,
             "#46039f"
            ],
            [
             0.2222222222222222,
             "#7201a8"
            ],
            [
             0.3333333333333333,
             "#9c179e"
            ],
            [
             0.4444444444444444,
             "#bd3786"
            ],
            [
             0.5555555555555556,
             "#d8576b"
            ],
            [
             0.6666666666666666,
             "#ed7953"
            ],
            [
             0.7777777777777778,
             "#fb9f3a"
            ],
            [
             0.8888888888888888,
             "#fdca26"
            ],
            [
             1,
             "#f0f921"
            ]
           ],
           "sequentialminus": [
            [
             0,
             "#0d0887"
            ],
            [
             0.1111111111111111,
             "#46039f"
            ],
            [
             0.2222222222222222,
             "#7201a8"
            ],
            [
             0.3333333333333333,
             "#9c179e"
            ],
            [
             0.4444444444444444,
             "#bd3786"
            ],
            [
             0.5555555555555556,
             "#d8576b"
            ],
            [
             0.6666666666666666,
             "#ed7953"
            ],
            [
             0.7777777777777778,
             "#fb9f3a"
            ],
            [
             0.8888888888888888,
             "#fdca26"
            ],
            [
             1,
             "#f0f921"
            ]
           ]
          },
          "colorway": [
           "#636efa",
           "#EF553B",
           "#00cc96",
           "#ab63fa",
           "#FFA15A",
           "#19d3f3",
           "#FF6692",
           "#B6E880",
           "#FF97FF",
           "#FECB52"
          ],
          "font": {
           "color": "#2a3f5f"
          },
          "geo": {
           "bgcolor": "white",
           "lakecolor": "white",
           "landcolor": "#E5ECF6",
           "showlakes": true,
           "showland": true,
           "subunitcolor": "white"
          },
          "hoverlabel": {
           "align": "left"
          },
          "hovermode": "closest",
          "mapbox": {
           "style": "light"
          },
          "paper_bgcolor": "white",
          "plot_bgcolor": "#E5ECF6",
          "polar": {
           "angularaxis": {
            "gridcolor": "white",
            "linecolor": "white",
            "ticks": ""
           },
           "bgcolor": "#E5ECF6",
           "radialaxis": {
            "gridcolor": "white",
            "linecolor": "white",
            "ticks": ""
           }
          },
          "scene": {
           "xaxis": {
            "backgroundcolor": "#E5ECF6",
            "gridcolor": "white",
            "gridwidth": 2,
            "linecolor": "white",
            "showbackground": true,
            "ticks": "",
            "zerolinecolor": "white"
           },
           "yaxis": {
            "backgroundcolor": "#E5ECF6",
            "gridcolor": "white",
            "gridwidth": 2,
            "linecolor": "white",
            "showbackground": true,
            "ticks": "",
            "zerolinecolor": "white"
           },
           "zaxis": {
            "backgroundcolor": "#E5ECF6",
            "gridcolor": "white",
            "gridwidth": 2,
            "linecolor": "white",
            "showbackground": true,
            "ticks": "",
            "zerolinecolor": "white"
           }
          },
          "shapedefaults": {
           "line": {
            "color": "#2a3f5f"
           }
          },
          "ternary": {
           "aaxis": {
            "gridcolor": "white",
            "linecolor": "white",
            "ticks": ""
           },
           "baxis": {
            "gridcolor": "white",
            "linecolor": "white",
            "ticks": ""
           },
           "bgcolor": "#E5ECF6",
           "caxis": {
            "gridcolor": "white",
            "linecolor": "white",
            "ticks": ""
           }
          },
          "title": {
           "x": 0.05
          },
          "xaxis": {
           "automargin": true,
           "gridcolor": "white",
           "linecolor": "white",
           "ticks": "",
           "title": {
            "standoff": 15
           },
           "zerolinecolor": "white",
           "zerolinewidth": 2
          },
          "yaxis": {
           "automargin": true,
           "gridcolor": "white",
           "linecolor": "white",
           "ticks": "",
           "title": {
            "standoff": 15
           },
           "zerolinecolor": "white",
           "zerolinewidth": 2
          }
         }
        },
        "title": {
         "font": {
          "color": "#4D5663"
         }
        },
        "xaxis": {
         "gridcolor": "#E1E5ED",
         "showgrid": true,
         "tickfont": {
          "color": "#4D5663"
         },
         "title": {
          "font": {
           "color": "#4D5663"
          },
          "text": ""
         },
         "zerolinecolor": "#E1E5ED"
        },
        "yaxis": {
         "gridcolor": "#E1E5ED",
         "showgrid": true,
         "tickfont": {
          "color": "#4D5663"
         },
         "title": {
          "font": {
           "color": "#4D5663"
          },
          "text": ""
         },
         "zerolinecolor": "#E1E5ED"
        }
       }
      },
      "text/html": [
       "<div>                            <div id=\"e0d94d49-441f-4d0d-92cf-501821015f74\" class=\"plotly-graph-div\" style=\"height:525px; width:100%;\"></div>            <script type=\"text/javascript\">                require([\"plotly\"], function(Plotly) {                    window.PLOTLYENV=window.PLOTLYENV || {};\n",
       "                    window.PLOTLYENV.BASE_URL='https://plot.ly';                                    if (document.getElementById(\"e0d94d49-441f-4d0d-92cf-501821015f74\")) {                    Plotly.newPlot(                        \"e0d94d49-441f-4d0d-92cf-501821015f74\",                        [{\"line\":{\"color\":\"rgba(255, 153, 51, 1.0)\",\"dash\":\"solid\",\"shape\":\"linear\",\"width\":1.3},\"marker\":{\"size\":12,\"symbol\":\"circle\"},\"mode\":\"markers\",\"name\":\"B\",\"text\":\"\",\"x\":[-1.5470379470686257,-0.3866827505899728,0.05907767532625553,1.3528949385329836,-0.2446134380889313,-2.406380574789591,-0.2816288308863832,0.4275053609457478,-0.5819392334941368,0.7569495452421476,0.6453177603325179,0.57422805107268,1.3148995288538112,0.220666189826017,-0.2839870046920182,0.7140778562736044,1.2652541519683163,-0.5332706279507585,-1.99742682090396,0.4405887301243418,1.6892743646745116,-0.19165751288169328,0.5104035641178164,1.3803225460438007,0.16703348752209532,-0.285872723137153,-0.2049482645233315,-0.6179469943011561,0.6032652329988165,0.05057590325797419,-1.3294185799763285,0.578716171231639,-1.6111718252564509,-0.7525916016188796,0.8249183497350251,-0.015267594448878615,-2.0692673026355326,0.6428908175911534,1.7655572451119899,2.031329227063635,-1.466347474243045,1.6401369002649178,-0.34019045909674234,0.8635745180435763,-0.41744886551989835,-0.10163440297958373,0.7703425064697068,1.4689212890171626,-0.23433370060897665,-1.3258769200955578,-1.1718941254219373,0.801932550048809,1.448807734284354,0.9847030866880221,0.3376184172512405,-1.5242713825393606,0.7027628372435865,-0.2791683192032702,0.020488303009922777,0.820619688063049,-0.36218158301404263,0.14617037002964653,1.6718586124907957,0.6705673605246165,0.27828495652272867,0.20926566932783422,-1.9184096983655765,-0.6402371208591136,-0.08170770033706065,-0.06808155063387622,-1.38010522374821,0.39561517267437496,0.7531494990024865,-0.6283031170433298,-1.8242056728883924,0.9256295159513197,1.2767649316415697,0.18525786624729326,0.5745200766324614,0.8337022049758677,-0.3243762742733441,0.4824787010648017,-0.1608409373329267,1.8793431047865878,0.3314905561931448,-0.29036873392865464,0.7482402104538096,0.49709639164898334,0.21495382334267585,1.0208806180216834,-0.03170735862101034,-2.5312495750725925,2.1046549936147385,-0.1046128281488064,-0.3285804840215899,0.24177836912715794,0.05569559765452582,-0.762999801993306,-0.6164640215496762,-1.8421776428608174],\"y\":[-0.17932026330190684,0.34198544751858234,-1.2713269129457325,0.0016652786409217964,1.4803864821833077,-0.2836750888514914,-1.4155538362514601,-0.5739661271236048,-0.35744198935824456,-0.8994230904876396,0.6991253544572609,-0.874793148785467,-0.39153074019047707,-0.880394830638912,0.4995926613587126,0.6293698296553195,1.3544469494098934,0.4810071047022162,-0.40595170495224314,0.09622342847254901,0.43681638785495297,-0.7536552634789734,0.46515551350074097,-0.4107904278107822,-0.667536213298158,-0.644002357567441,0.3279416680591974,-0.35640426241977324,0.7192398636967984,-0.3544851170731683,0.08830059864042557,0.030758743727376085,0.8935198532569544,0.3892696875617487,0.3237375347818951,0.6041497331006355,-0.40400232746982956,1.8468632501683382,-0.029077327946170142,0.25908762161059545,0.8679450620220365,0.967081274178919,1.80357447518855,0.7548651304368754,-0.5513298895031992,1.3705646354783096,0.8589382061452533,-1.0947470720924772,0.765715570102174,0.2385720284350847,-0.5320081762202075,-2.1047278011907666,-0.22838874539262682,-1.0758351304521767,0.6994286964722767,1.1983555883520542,1.8709137281616257,0.3346340175992276,1.179301597937332,-1.9309090060954557,-1.0881323911298968,0.0925198558216795,-0.6780781717104581,0.6074641297220856,1.0533655951830938,0.8330378584588016,-0.5385028983342077,-1.5582948613417311,0.5633831011807973,0.296668625167125,-0.9065113935632445,-0.21770298654540515,-0.18554362127577312,0.8460395539141479,-0.06587075962834432,-1.3271566677311997,0.25495202389316673,-0.6747528477615352,-1.435892609276357,-0.960122176589752,-0.3454127480759408,0.4072393867432423,-1.338046384045666,0.5103799524326336,1.4224780373575563,0.5088221930699162,0.03356517523728443,0.45970454247660264,1.2459543043789276,0.2505549812457923,0.259785611079415,0.5130794204738841,2.8931347231761175,-0.08760616578299192,-1.1963390674150716,0.8284380378357371,1.0897731639265282,3.2145514299528397,0.5444588734985717,-1.5142056829390005],\"type\":\"scatter\"}],                        {\"legend\":{\"bgcolor\":\"#F5F6F9\",\"font\":{\"color\":\"#4D5663\"}},\"paper_bgcolor\":\"#F5F6F9\",\"plot_bgcolor\":\"#F5F6F9\",\"template\":{\"data\":{\"barpolar\":[{\"marker\":{\"line\":{\"color\":\"#E5ECF6\",\"width\":0.5},\"pattern\":{\"fillmode\":\"overlay\",\"size\":10,\"solidity\":0.2}},\"type\":\"barpolar\"}],\"bar\":[{\"error_x\":{\"color\":\"#2a3f5f\"},\"error_y\":{\"color\":\"#2a3f5f\"},\"marker\":{\"line\":{\"color\":\"#E5ECF6\",\"width\":0.5},\"pattern\":{\"fillmode\":\"overlay\",\"size\":10,\"solidity\":0.2}},\"type\":\"bar\"}],\"carpet\":[{\"aaxis\":{\"endlinecolor\":\"#2a3f5f\",\"gridcolor\":\"white\",\"linecolor\":\"white\",\"minorgridcolor\":\"white\",\"startlinecolor\":\"#2a3f5f\"},\"baxis\":{\"endlinecolor\":\"#2a3f5f\",\"gridcolor\":\"white\",\"linecolor\":\"white\",\"minorgridcolor\":\"white\",\"startlinecolor\":\"#2a3f5f\"},\"type\":\"carpet\"}],\"choropleth\":[{\"colorbar\":{\"outlinewidth\":0,\"ticks\":\"\"},\"type\":\"choropleth\"}],\"contourcarpet\":[{\"colorbar\":{\"outlinewidth\":0,\"ticks\":\"\"},\"type\":\"contourcarpet\"}],\"contour\":[{\"colorbar\":{\"outlinewidth\":0,\"ticks\":\"\"},\"colorscale\":[[0.0,\"#0d0887\"],[0.1111111111111111,\"#46039f\"],[0.2222222222222222,\"#7201a8\"],[0.3333333333333333,\"#9c179e\"],[0.4444444444444444,\"#bd3786\"],[0.5555555555555556,\"#d8576b\"],[0.6666666666666666,\"#ed7953\"],[0.7777777777777778,\"#fb9f3a\"],[0.8888888888888888,\"#fdca26\"],[1.0,\"#f0f921\"]],\"type\":\"contour\"}],\"heatmapgl\":[{\"colorbar\":{\"outlinewidth\":0,\"ticks\":\"\"},\"colorscale\":[[0.0,\"#0d0887\"],[0.1111111111111111,\"#46039f\"],[0.2222222222222222,\"#7201a8\"],[0.3333333333333333,\"#9c179e\"],[0.4444444444444444,\"#bd3786\"],[0.5555555555555556,\"#d8576b\"],[0.6666666666666666,\"#ed7953\"],[0.7777777777777778,\"#fb9f3a\"],[0.8888888888888888,\"#fdca26\"],[1.0,\"#f0f921\"]],\"type\":\"heatmapgl\"}],\"heatmap\":[{\"colorbar\":{\"outlinewidth\":0,\"ticks\":\"\"},\"colorscale\":[[0.0,\"#0d0887\"],[0.1111111111111111,\"#46039f\"],[0.2222222222222222,\"#7201a8\"],[0.3333333333333333,\"#9c179e\"],[0.4444444444444444,\"#bd3786\"],[0.5555555555555556,\"#d8576b\"],[0.6666666666666666,\"#ed7953\"],[0.7777777777777778,\"#fb9f3a\"],[0.8888888888888888,\"#fdca26\"],[1.0,\"#f0f921\"]],\"type\":\"heatmap\"}],\"histogram2dcontour\":[{\"colorbar\":{\"outlinewidth\":0,\"ticks\":\"\"},\"colorscale\":[[0.0,\"#0d0887\"],[0.1111111111111111,\"#46039f\"],[0.2222222222222222,\"#7201a8\"],[0.3333333333333333,\"#9c179e\"],[0.4444444444444444,\"#bd3786\"],[0.5555555555555556,\"#d8576b\"],[0.6666666666666666,\"#ed7953\"],[0.7777777777777778,\"#fb9f3a\"],[0.8888888888888888,\"#fdca26\"],[1.0,\"#f0f921\"]],\"type\":\"histogram2dcontour\"}],\"histogram2d\":[{\"colorbar\":{\"outlinewidth\":0,\"ticks\":\"\"},\"colorscale\":[[0.0,\"#0d0887\"],[0.1111111111111111,\"#46039f\"],[0.2222222222222222,\"#7201a8\"],[0.3333333333333333,\"#9c179e\"],[0.4444444444444444,\"#bd3786\"],[0.5555555555555556,\"#d8576b\"],[0.6666666666666666,\"#ed7953\"],[0.7777777777777778,\"#fb9f3a\"],[0.8888888888888888,\"#fdca26\"],[1.0,\"#f0f921\"]],\"type\":\"histogram2d\"}],\"histogram\":[{\"marker\":{\"pattern\":{\"fillmode\":\"overlay\",\"size\":10,\"solidity\":0.2}},\"type\":\"histogram\"}],\"mesh3d\":[{\"colorbar\":{\"outlinewidth\":0,\"ticks\":\"\"},\"type\":\"mesh3d\"}],\"parcoords\":[{\"line\":{\"colorbar\":{\"outlinewidth\":0,\"ticks\":\"\"}},\"type\":\"parcoords\"}],\"pie\":[{\"automargin\":true,\"type\":\"pie\"}],\"scatter3d\":[{\"line\":{\"colorbar\":{\"outlinewidth\":0,\"ticks\":\"\"}},\"marker\":{\"colorbar\":{\"outlinewidth\":0,\"ticks\":\"\"}},\"type\":\"scatter3d\"}],\"scattercarpet\":[{\"marker\":{\"colorbar\":{\"outlinewidth\":0,\"ticks\":\"\"}},\"type\":\"scattercarpet\"}],\"scattergeo\":[{\"marker\":{\"colorbar\":{\"outlinewidth\":0,\"ticks\":\"\"}},\"type\":\"scattergeo\"}],\"scattergl\":[{\"marker\":{\"colorbar\":{\"outlinewidth\":0,\"ticks\":\"\"}},\"type\":\"scattergl\"}],\"scattermapbox\":[{\"marker\":{\"colorbar\":{\"outlinewidth\":0,\"ticks\":\"\"}},\"type\":\"scattermapbox\"}],\"scatterpolargl\":[{\"marker\":{\"colorbar\":{\"outlinewidth\":0,\"ticks\":\"\"}},\"type\":\"scatterpolargl\"}],\"scatterpolar\":[{\"marker\":{\"colorbar\":{\"outlinewidth\":0,\"ticks\":\"\"}},\"type\":\"scatterpolar\"}],\"scatter\":[{\"marker\":{\"colorbar\":{\"outlinewidth\":0,\"ticks\":\"\"}},\"type\":\"scatter\"}],\"scatterternary\":[{\"marker\":{\"colorbar\":{\"outlinewidth\":0,\"ticks\":\"\"}},\"type\":\"scatterternary\"}],\"surface\":[{\"colorbar\":{\"outlinewidth\":0,\"ticks\":\"\"},\"colorscale\":[[0.0,\"#0d0887\"],[0.1111111111111111,\"#46039f\"],[0.2222222222222222,\"#7201a8\"],[0.3333333333333333,\"#9c179e\"],[0.4444444444444444,\"#bd3786\"],[0.5555555555555556,\"#d8576b\"],[0.6666666666666666,\"#ed7953\"],[0.7777777777777778,\"#fb9f3a\"],[0.8888888888888888,\"#fdca26\"],[1.0,\"#f0f921\"]],\"type\":\"surface\"}],\"table\":[{\"cells\":{\"fill\":{\"color\":\"#EBF0F8\"},\"line\":{\"color\":\"white\"}},\"header\":{\"fill\":{\"color\":\"#C8D4E3\"},\"line\":{\"color\":\"white\"}},\"type\":\"table\"}]},\"layout\":{\"annotationdefaults\":{\"arrowcolor\":\"#2a3f5f\",\"arrowhead\":0,\"arrowwidth\":1},\"autotypenumbers\":\"strict\",\"coloraxis\":{\"colorbar\":{\"outlinewidth\":0,\"ticks\":\"\"}},\"colorscale\":{\"diverging\":[[0,\"#8e0152\"],[0.1,\"#c51b7d\"],[0.2,\"#de77ae\"],[0.3,\"#f1b6da\"],[0.4,\"#fde0ef\"],[0.5,\"#f7f7f7\"],[0.6,\"#e6f5d0\"],[0.7,\"#b8e186\"],[0.8,\"#7fbc41\"],[0.9,\"#4d9221\"],[1,\"#276419\"]],\"sequential\":[[0.0,\"#0d0887\"],[0.1111111111111111,\"#46039f\"],[0.2222222222222222,\"#7201a8\"],[0.3333333333333333,\"#9c179e\"],[0.4444444444444444,\"#bd3786\"],[0.5555555555555556,\"#d8576b\"],[0.6666666666666666,\"#ed7953\"],[0.7777777777777778,\"#fb9f3a\"],[0.8888888888888888,\"#fdca26\"],[1.0,\"#f0f921\"]],\"sequentialminus\":[[0.0,\"#0d0887\"],[0.1111111111111111,\"#46039f\"],[0.2222222222222222,\"#7201a8\"],[0.3333333333333333,\"#9c179e\"],[0.4444444444444444,\"#bd3786\"],[0.5555555555555556,\"#d8576b\"],[0.6666666666666666,\"#ed7953\"],[0.7777777777777778,\"#fb9f3a\"],[0.8888888888888888,\"#fdca26\"],[1.0,\"#f0f921\"]]},\"colorway\":[\"#636efa\",\"#EF553B\",\"#00cc96\",\"#ab63fa\",\"#FFA15A\",\"#19d3f3\",\"#FF6692\",\"#B6E880\",\"#FF97FF\",\"#FECB52\"],\"font\":{\"color\":\"#2a3f5f\"},\"geo\":{\"bgcolor\":\"white\",\"lakecolor\":\"white\",\"landcolor\":\"#E5ECF6\",\"showlakes\":true,\"showland\":true,\"subunitcolor\":\"white\"},\"hoverlabel\":{\"align\":\"left\"},\"hovermode\":\"closest\",\"mapbox\":{\"style\":\"light\"},\"paper_bgcolor\":\"white\",\"plot_bgcolor\":\"#E5ECF6\",\"polar\":{\"angularaxis\":{\"gridcolor\":\"white\",\"linecolor\":\"white\",\"ticks\":\"\"},\"bgcolor\":\"#E5ECF6\",\"radialaxis\":{\"gridcolor\":\"white\",\"linecolor\":\"white\",\"ticks\":\"\"}},\"scene\":{\"xaxis\":{\"backgroundcolor\":\"#E5ECF6\",\"gridcolor\":\"white\",\"gridwidth\":2,\"linecolor\":\"white\",\"showbackground\":true,\"ticks\":\"\",\"zerolinecolor\":\"white\"},\"yaxis\":{\"backgroundcolor\":\"#E5ECF6\",\"gridcolor\":\"white\",\"gridwidth\":2,\"linecolor\":\"white\",\"showbackground\":true,\"ticks\":\"\",\"zerolinecolor\":\"white\"},\"zaxis\":{\"backgroundcolor\":\"#E5ECF6\",\"gridcolor\":\"white\",\"gridwidth\":2,\"linecolor\":\"white\",\"showbackground\":true,\"ticks\":\"\",\"zerolinecolor\":\"white\"}},\"shapedefaults\":{\"line\":{\"color\":\"#2a3f5f\"}},\"ternary\":{\"aaxis\":{\"gridcolor\":\"white\",\"linecolor\":\"white\",\"ticks\":\"\"},\"baxis\":{\"gridcolor\":\"white\",\"linecolor\":\"white\",\"ticks\":\"\"},\"bgcolor\":\"#E5ECF6\",\"caxis\":{\"gridcolor\":\"white\",\"linecolor\":\"white\",\"ticks\":\"\"}},\"title\":{\"x\":0.05},\"xaxis\":{\"automargin\":true,\"gridcolor\":\"white\",\"linecolor\":\"white\",\"ticks\":\"\",\"title\":{\"standoff\":15},\"zerolinecolor\":\"white\",\"zerolinewidth\":2},\"yaxis\":{\"automargin\":true,\"gridcolor\":\"white\",\"linecolor\":\"white\",\"ticks\":\"\",\"title\":{\"standoff\":15},\"zerolinecolor\":\"white\",\"zerolinewidth\":2}}},\"title\":{\"font\":{\"color\":\"#4D5663\"}},\"xaxis\":{\"gridcolor\":\"#E1E5ED\",\"showgrid\":true,\"tickfont\":{\"color\":\"#4D5663\"},\"title\":{\"font\":{\"color\":\"#4D5663\"},\"text\":\"\"},\"zerolinecolor\":\"#E1E5ED\"},\"yaxis\":{\"gridcolor\":\"#E1E5ED\",\"showgrid\":true,\"tickfont\":{\"color\":\"#4D5663\"},\"title\":{\"font\":{\"color\":\"#4D5663\"},\"text\":\"\"},\"zerolinecolor\":\"#E1E5ED\"}},                        {\"showLink\": true, \"linkText\": \"Export to plot.ly\", \"plotlyServerURL\": \"https://plot.ly\", \"responsive\": true}                    ).then(function(){\n",
       "                            \n",
       "var gd = document.getElementById('e0d94d49-441f-4d0d-92cf-501821015f74');\n",
       "var x = new MutationObserver(function (mutations, observer) {{\n",
       "        var display = window.getComputedStyle(gd).display;\n",
       "        if (!display || display === 'none') {{\n",
       "            console.log([gd, 'removed!']);\n",
       "            Plotly.purge(gd);\n",
       "            observer.disconnect();\n",
       "        }}\n",
       "}});\n",
       "\n",
       "// Listen for the removal of the full notebook cells\n",
       "var notebookContainer = gd.closest('#notebook-container');\n",
       "if (notebookContainer) {{\n",
       "    x.observe(notebookContainer, {childList: true});\n",
       "}}\n",
       "\n",
       "// Listen for the clearing of the current output cell\n",
       "var outputEl = gd.closest('.output');\n",
       "if (outputEl) {{\n",
       "    x.observe(outputEl, {childList: true});\n",
       "}}\n",
       "\n",
       "                        })                };                });            </script>        </div>"
      ]
     },
     "metadata": {},
     "output_type": "display_data"
    }
   ],
   "source": [
    "df.iplot(kind='scatter',x='A',y='B',mode='markers')"
   ]
  },
  {
   "cell_type": "code",
   "execution_count": 67,
   "metadata": {},
   "outputs": [
    {
     "data": {
      "application/vnd.plotly.v1+json": {
       "config": {
        "linkText": "Export to plot.ly",
        "plotlyServerURL": "https://plot.ly",
        "showLink": true
       },
       "data": [
        {
         "line": {
          "color": "rgba(255, 153, 51, 1.0)",
          "dash": "solid",
          "shape": "linear",
          "width": 1.3
         },
         "marker": {
          "size": 20,
          "symbol": "circle"
         },
         "mode": "markers",
         "name": "B",
         "text": "",
         "type": "scatter",
         "x": [
          -1.5470379470686257,
          -0.3866827505899728,
          0.05907767532625553,
          1.3528949385329836,
          -0.2446134380889313,
          -2.406380574789591,
          -0.2816288308863832,
          0.4275053609457478,
          -0.5819392334941368,
          0.7569495452421476,
          0.6453177603325179,
          0.57422805107268,
          1.3148995288538112,
          0.220666189826017,
          -0.2839870046920182,
          0.7140778562736044,
          1.2652541519683163,
          -0.5332706279507585,
          -1.99742682090396,
          0.4405887301243418,
          1.6892743646745116,
          -0.19165751288169328,
          0.5104035641178164,
          1.3803225460438007,
          0.16703348752209532,
          -0.285872723137153,
          -0.2049482645233315,
          -0.6179469943011561,
          0.6032652329988165,
          0.05057590325797419,
          -1.3294185799763285,
          0.578716171231639,
          -1.6111718252564509,
          -0.7525916016188796,
          0.8249183497350251,
          -0.015267594448878615,
          -2.0692673026355326,
          0.6428908175911534,
          1.7655572451119899,
          2.031329227063635,
          -1.466347474243045,
          1.6401369002649178,
          -0.34019045909674234,
          0.8635745180435763,
          -0.41744886551989835,
          -0.10163440297958373,
          0.7703425064697068,
          1.4689212890171626,
          -0.23433370060897665,
          -1.3258769200955578,
          -1.1718941254219373,
          0.801932550048809,
          1.448807734284354,
          0.9847030866880221,
          0.3376184172512405,
          -1.5242713825393606,
          0.7027628372435865,
          -0.2791683192032702,
          0.020488303009922777,
          0.820619688063049,
          -0.36218158301404263,
          0.14617037002964653,
          1.6718586124907957,
          0.6705673605246165,
          0.27828495652272867,
          0.20926566932783422,
          -1.9184096983655765,
          -0.6402371208591136,
          -0.08170770033706065,
          -0.06808155063387622,
          -1.38010522374821,
          0.39561517267437496,
          0.7531494990024865,
          -0.6283031170433298,
          -1.8242056728883924,
          0.9256295159513197,
          1.2767649316415697,
          0.18525786624729326,
          0.5745200766324614,
          0.8337022049758677,
          -0.3243762742733441,
          0.4824787010648017,
          -0.1608409373329267,
          1.8793431047865878,
          0.3314905561931448,
          -0.29036873392865464,
          0.7482402104538096,
          0.49709639164898334,
          0.21495382334267585,
          1.0208806180216834,
          -0.03170735862101034,
          -2.5312495750725925,
          2.1046549936147385,
          -0.1046128281488064,
          -0.3285804840215899,
          0.24177836912715794,
          0.05569559765452582,
          -0.762999801993306,
          -0.6164640215496762,
          -1.8421776428608174
         ],
         "y": [
          -0.17932026330190684,
          0.34198544751858234,
          -1.2713269129457325,
          0.0016652786409217964,
          1.4803864821833077,
          -0.2836750888514914,
          -1.4155538362514601,
          -0.5739661271236048,
          -0.35744198935824456,
          -0.8994230904876396,
          0.6991253544572609,
          -0.874793148785467,
          -0.39153074019047707,
          -0.880394830638912,
          0.4995926613587126,
          0.6293698296553195,
          1.3544469494098934,
          0.4810071047022162,
          -0.40595170495224314,
          0.09622342847254901,
          0.43681638785495297,
          -0.7536552634789734,
          0.46515551350074097,
          -0.4107904278107822,
          -0.667536213298158,
          -0.644002357567441,
          0.3279416680591974,
          -0.35640426241977324,
          0.7192398636967984,
          -0.3544851170731683,
          0.08830059864042557,
          0.030758743727376085,
          0.8935198532569544,
          0.3892696875617487,
          0.3237375347818951,
          0.6041497331006355,
          -0.40400232746982956,
          1.8468632501683382,
          -0.029077327946170142,
          0.25908762161059545,
          0.8679450620220365,
          0.967081274178919,
          1.80357447518855,
          0.7548651304368754,
          -0.5513298895031992,
          1.3705646354783096,
          0.8589382061452533,
          -1.0947470720924772,
          0.765715570102174,
          0.2385720284350847,
          -0.5320081762202075,
          -2.1047278011907666,
          -0.22838874539262682,
          -1.0758351304521767,
          0.6994286964722767,
          1.1983555883520542,
          1.8709137281616257,
          0.3346340175992276,
          1.179301597937332,
          -1.9309090060954557,
          -1.0881323911298968,
          0.0925198558216795,
          -0.6780781717104581,
          0.6074641297220856,
          1.0533655951830938,
          0.8330378584588016,
          -0.5385028983342077,
          -1.5582948613417311,
          0.5633831011807973,
          0.296668625167125,
          -0.9065113935632445,
          -0.21770298654540515,
          -0.18554362127577312,
          0.8460395539141479,
          -0.06587075962834432,
          -1.3271566677311997,
          0.25495202389316673,
          -0.6747528477615352,
          -1.435892609276357,
          -0.960122176589752,
          -0.3454127480759408,
          0.4072393867432423,
          -1.338046384045666,
          0.5103799524326336,
          1.4224780373575563,
          0.5088221930699162,
          0.03356517523728443,
          0.45970454247660264,
          1.2459543043789276,
          0.2505549812457923,
          0.259785611079415,
          0.5130794204738841,
          2.8931347231761175,
          -0.08760616578299192,
          -1.1963390674150716,
          0.8284380378357371,
          1.0897731639265282,
          3.2145514299528397,
          0.5444588734985717,
          -1.5142056829390005
         ]
        }
       ],
       "layout": {
        "legend": {
         "bgcolor": "#F5F6F9",
         "font": {
          "color": "#4D5663"
         }
        },
        "paper_bgcolor": "#F5F6F9",
        "plot_bgcolor": "#F5F6F9",
        "template": {
         "data": {
          "bar": [
           {
            "error_x": {
             "color": "#2a3f5f"
            },
            "error_y": {
             "color": "#2a3f5f"
            },
            "marker": {
             "line": {
              "color": "#E5ECF6",
              "width": 0.5
             },
             "pattern": {
              "fillmode": "overlay",
              "size": 10,
              "solidity": 0.2
             }
            },
            "type": "bar"
           }
          ],
          "barpolar": [
           {
            "marker": {
             "line": {
              "color": "#E5ECF6",
              "width": 0.5
             },
             "pattern": {
              "fillmode": "overlay",
              "size": 10,
              "solidity": 0.2
             }
            },
            "type": "barpolar"
           }
          ],
          "carpet": [
           {
            "aaxis": {
             "endlinecolor": "#2a3f5f",
             "gridcolor": "white",
             "linecolor": "white",
             "minorgridcolor": "white",
             "startlinecolor": "#2a3f5f"
            },
            "baxis": {
             "endlinecolor": "#2a3f5f",
             "gridcolor": "white",
             "linecolor": "white",
             "minorgridcolor": "white",
             "startlinecolor": "#2a3f5f"
            },
            "type": "carpet"
           }
          ],
          "choropleth": [
           {
            "colorbar": {
             "outlinewidth": 0,
             "ticks": ""
            },
            "type": "choropleth"
           }
          ],
          "contour": [
           {
            "colorbar": {
             "outlinewidth": 0,
             "ticks": ""
            },
            "colorscale": [
             [
              0,
              "#0d0887"
             ],
             [
              0.1111111111111111,
              "#46039f"
             ],
             [
              0.2222222222222222,
              "#7201a8"
             ],
             [
              0.3333333333333333,
              "#9c179e"
             ],
             [
              0.4444444444444444,
              "#bd3786"
             ],
             [
              0.5555555555555556,
              "#d8576b"
             ],
             [
              0.6666666666666666,
              "#ed7953"
             ],
             [
              0.7777777777777778,
              "#fb9f3a"
             ],
             [
              0.8888888888888888,
              "#fdca26"
             ],
             [
              1,
              "#f0f921"
             ]
            ],
            "type": "contour"
           }
          ],
          "contourcarpet": [
           {
            "colorbar": {
             "outlinewidth": 0,
             "ticks": ""
            },
            "type": "contourcarpet"
           }
          ],
          "heatmap": [
           {
            "colorbar": {
             "outlinewidth": 0,
             "ticks": ""
            },
            "colorscale": [
             [
              0,
              "#0d0887"
             ],
             [
              0.1111111111111111,
              "#46039f"
             ],
             [
              0.2222222222222222,
              "#7201a8"
             ],
             [
              0.3333333333333333,
              "#9c179e"
             ],
             [
              0.4444444444444444,
              "#bd3786"
             ],
             [
              0.5555555555555556,
              "#d8576b"
             ],
             [
              0.6666666666666666,
              "#ed7953"
             ],
             [
              0.7777777777777778,
              "#fb9f3a"
             ],
             [
              0.8888888888888888,
              "#fdca26"
             ],
             [
              1,
              "#f0f921"
             ]
            ],
            "type": "heatmap"
           }
          ],
          "heatmapgl": [
           {
            "colorbar": {
             "outlinewidth": 0,
             "ticks": ""
            },
            "colorscale": [
             [
              0,
              "#0d0887"
             ],
             [
              0.1111111111111111,
              "#46039f"
             ],
             [
              0.2222222222222222,
              "#7201a8"
             ],
             [
              0.3333333333333333,
              "#9c179e"
             ],
             [
              0.4444444444444444,
              "#bd3786"
             ],
             [
              0.5555555555555556,
              "#d8576b"
             ],
             [
              0.6666666666666666,
              "#ed7953"
             ],
             [
              0.7777777777777778,
              "#fb9f3a"
             ],
             [
              0.8888888888888888,
              "#fdca26"
             ],
             [
              1,
              "#f0f921"
             ]
            ],
            "type": "heatmapgl"
           }
          ],
          "histogram": [
           {
            "marker": {
             "pattern": {
              "fillmode": "overlay",
              "size": 10,
              "solidity": 0.2
             }
            },
            "type": "histogram"
           }
          ],
          "histogram2d": [
           {
            "colorbar": {
             "outlinewidth": 0,
             "ticks": ""
            },
            "colorscale": [
             [
              0,
              "#0d0887"
             ],
             [
              0.1111111111111111,
              "#46039f"
             ],
             [
              0.2222222222222222,
              "#7201a8"
             ],
             [
              0.3333333333333333,
              "#9c179e"
             ],
             [
              0.4444444444444444,
              "#bd3786"
             ],
             [
              0.5555555555555556,
              "#d8576b"
             ],
             [
              0.6666666666666666,
              "#ed7953"
             ],
             [
              0.7777777777777778,
              "#fb9f3a"
             ],
             [
              0.8888888888888888,
              "#fdca26"
             ],
             [
              1,
              "#f0f921"
             ]
            ],
            "type": "histogram2d"
           }
          ],
          "histogram2dcontour": [
           {
            "colorbar": {
             "outlinewidth": 0,
             "ticks": ""
            },
            "colorscale": [
             [
              0,
              "#0d0887"
             ],
             [
              0.1111111111111111,
              "#46039f"
             ],
             [
              0.2222222222222222,
              "#7201a8"
             ],
             [
              0.3333333333333333,
              "#9c179e"
             ],
             [
              0.4444444444444444,
              "#bd3786"
             ],
             [
              0.5555555555555556,
              "#d8576b"
             ],
             [
              0.6666666666666666,
              "#ed7953"
             ],
             [
              0.7777777777777778,
              "#fb9f3a"
             ],
             [
              0.8888888888888888,
              "#fdca26"
             ],
             [
              1,
              "#f0f921"
             ]
            ],
            "type": "histogram2dcontour"
           }
          ],
          "mesh3d": [
           {
            "colorbar": {
             "outlinewidth": 0,
             "ticks": ""
            },
            "type": "mesh3d"
           }
          ],
          "parcoords": [
           {
            "line": {
             "colorbar": {
              "outlinewidth": 0,
              "ticks": ""
             }
            },
            "type": "parcoords"
           }
          ],
          "pie": [
           {
            "automargin": true,
            "type": "pie"
           }
          ],
          "scatter": [
           {
            "marker": {
             "colorbar": {
              "outlinewidth": 0,
              "ticks": ""
             }
            },
            "type": "scatter"
           }
          ],
          "scatter3d": [
           {
            "line": {
             "colorbar": {
              "outlinewidth": 0,
              "ticks": ""
             }
            },
            "marker": {
             "colorbar": {
              "outlinewidth": 0,
              "ticks": ""
             }
            },
            "type": "scatter3d"
           }
          ],
          "scattercarpet": [
           {
            "marker": {
             "colorbar": {
              "outlinewidth": 0,
              "ticks": ""
             }
            },
            "type": "scattercarpet"
           }
          ],
          "scattergeo": [
           {
            "marker": {
             "colorbar": {
              "outlinewidth": 0,
              "ticks": ""
             }
            },
            "type": "scattergeo"
           }
          ],
          "scattergl": [
           {
            "marker": {
             "colorbar": {
              "outlinewidth": 0,
              "ticks": ""
             }
            },
            "type": "scattergl"
           }
          ],
          "scattermapbox": [
           {
            "marker": {
             "colorbar": {
              "outlinewidth": 0,
              "ticks": ""
             }
            },
            "type": "scattermapbox"
           }
          ],
          "scatterpolar": [
           {
            "marker": {
             "colorbar": {
              "outlinewidth": 0,
              "ticks": ""
             }
            },
            "type": "scatterpolar"
           }
          ],
          "scatterpolargl": [
           {
            "marker": {
             "colorbar": {
              "outlinewidth": 0,
              "ticks": ""
             }
            },
            "type": "scatterpolargl"
           }
          ],
          "scatterternary": [
           {
            "marker": {
             "colorbar": {
              "outlinewidth": 0,
              "ticks": ""
             }
            },
            "type": "scatterternary"
           }
          ],
          "surface": [
           {
            "colorbar": {
             "outlinewidth": 0,
             "ticks": ""
            },
            "colorscale": [
             [
              0,
              "#0d0887"
             ],
             [
              0.1111111111111111,
              "#46039f"
             ],
             [
              0.2222222222222222,
              "#7201a8"
             ],
             [
              0.3333333333333333,
              "#9c179e"
             ],
             [
              0.4444444444444444,
              "#bd3786"
             ],
             [
              0.5555555555555556,
              "#d8576b"
             ],
             [
              0.6666666666666666,
              "#ed7953"
             ],
             [
              0.7777777777777778,
              "#fb9f3a"
             ],
             [
              0.8888888888888888,
              "#fdca26"
             ],
             [
              1,
              "#f0f921"
             ]
            ],
            "type": "surface"
           }
          ],
          "table": [
           {
            "cells": {
             "fill": {
              "color": "#EBF0F8"
             },
             "line": {
              "color": "white"
             }
            },
            "header": {
             "fill": {
              "color": "#C8D4E3"
             },
             "line": {
              "color": "white"
             }
            },
            "type": "table"
           }
          ]
         },
         "layout": {
          "annotationdefaults": {
           "arrowcolor": "#2a3f5f",
           "arrowhead": 0,
           "arrowwidth": 1
          },
          "autotypenumbers": "strict",
          "coloraxis": {
           "colorbar": {
            "outlinewidth": 0,
            "ticks": ""
           }
          },
          "colorscale": {
           "diverging": [
            [
             0,
             "#8e0152"
            ],
            [
             0.1,
             "#c51b7d"
            ],
            [
             0.2,
             "#de77ae"
            ],
            [
             0.3,
             "#f1b6da"
            ],
            [
             0.4,
             "#fde0ef"
            ],
            [
             0.5,
             "#f7f7f7"
            ],
            [
             0.6,
             "#e6f5d0"
            ],
            [
             0.7,
             "#b8e186"
            ],
            [
             0.8,
             "#7fbc41"
            ],
            [
             0.9,
             "#4d9221"
            ],
            [
             1,
             "#276419"
            ]
           ],
           "sequential": [
            [
             0,
             "#0d0887"
            ],
            [
             0.1111111111111111,
             "#46039f"
            ],
            [
             0.2222222222222222,
             "#7201a8"
            ],
            [
             0.3333333333333333,
             "#9c179e"
            ],
            [
             0.4444444444444444,
             "#bd3786"
            ],
            [
             0.5555555555555556,
             "#d8576b"
            ],
            [
             0.6666666666666666,
             "#ed7953"
            ],
            [
             0.7777777777777778,
             "#fb9f3a"
            ],
            [
             0.8888888888888888,
             "#fdca26"
            ],
            [
             1,
             "#f0f921"
            ]
           ],
           "sequentialminus": [
            [
             0,
             "#0d0887"
            ],
            [
             0.1111111111111111,
             "#46039f"
            ],
            [
             0.2222222222222222,
             "#7201a8"
            ],
            [
             0.3333333333333333,
             "#9c179e"
            ],
            [
             0.4444444444444444,
             "#bd3786"
            ],
            [
             0.5555555555555556,
             "#d8576b"
            ],
            [
             0.6666666666666666,
             "#ed7953"
            ],
            [
             0.7777777777777778,
             "#fb9f3a"
            ],
            [
             0.8888888888888888,
             "#fdca26"
            ],
            [
             1,
             "#f0f921"
            ]
           ]
          },
          "colorway": [
           "#636efa",
           "#EF553B",
           "#00cc96",
           "#ab63fa",
           "#FFA15A",
           "#19d3f3",
           "#FF6692",
           "#B6E880",
           "#FF97FF",
           "#FECB52"
          ],
          "font": {
           "color": "#2a3f5f"
          },
          "geo": {
           "bgcolor": "white",
           "lakecolor": "white",
           "landcolor": "#E5ECF6",
           "showlakes": true,
           "showland": true,
           "subunitcolor": "white"
          },
          "hoverlabel": {
           "align": "left"
          },
          "hovermode": "closest",
          "mapbox": {
           "style": "light"
          },
          "paper_bgcolor": "white",
          "plot_bgcolor": "#E5ECF6",
          "polar": {
           "angularaxis": {
            "gridcolor": "white",
            "linecolor": "white",
            "ticks": ""
           },
           "bgcolor": "#E5ECF6",
           "radialaxis": {
            "gridcolor": "white",
            "linecolor": "white",
            "ticks": ""
           }
          },
          "scene": {
           "xaxis": {
            "backgroundcolor": "#E5ECF6",
            "gridcolor": "white",
            "gridwidth": 2,
            "linecolor": "white",
            "showbackground": true,
            "ticks": "",
            "zerolinecolor": "white"
           },
           "yaxis": {
            "backgroundcolor": "#E5ECF6",
            "gridcolor": "white",
            "gridwidth": 2,
            "linecolor": "white",
            "showbackground": true,
            "ticks": "",
            "zerolinecolor": "white"
           },
           "zaxis": {
            "backgroundcolor": "#E5ECF6",
            "gridcolor": "white",
            "gridwidth": 2,
            "linecolor": "white",
            "showbackground": true,
            "ticks": "",
            "zerolinecolor": "white"
           }
          },
          "shapedefaults": {
           "line": {
            "color": "#2a3f5f"
           }
          },
          "ternary": {
           "aaxis": {
            "gridcolor": "white",
            "linecolor": "white",
            "ticks": ""
           },
           "baxis": {
            "gridcolor": "white",
            "linecolor": "white",
            "ticks": ""
           },
           "bgcolor": "#E5ECF6",
           "caxis": {
            "gridcolor": "white",
            "linecolor": "white",
            "ticks": ""
           }
          },
          "title": {
           "x": 0.05
          },
          "xaxis": {
           "automargin": true,
           "gridcolor": "white",
           "linecolor": "white",
           "ticks": "",
           "title": {
            "standoff": 15
           },
           "zerolinecolor": "white",
           "zerolinewidth": 2
          },
          "yaxis": {
           "automargin": true,
           "gridcolor": "white",
           "linecolor": "white",
           "ticks": "",
           "title": {
            "standoff": 15
           },
           "zerolinecolor": "white",
           "zerolinewidth": 2
          }
         }
        },
        "title": {
         "font": {
          "color": "#4D5663"
         }
        },
        "xaxis": {
         "gridcolor": "#E1E5ED",
         "showgrid": true,
         "tickfont": {
          "color": "#4D5663"
         },
         "title": {
          "font": {
           "color": "#4D5663"
          },
          "text": ""
         },
         "zerolinecolor": "#E1E5ED"
        },
        "yaxis": {
         "gridcolor": "#E1E5ED",
         "showgrid": true,
         "tickfont": {
          "color": "#4D5663"
         },
         "title": {
          "font": {
           "color": "#4D5663"
          },
          "text": ""
         },
         "zerolinecolor": "#E1E5ED"
        }
       }
      },
      "text/html": [
       "<div>                            <div id=\"b6249ec8-b3fe-4f3e-a288-f0262a2dbd87\" class=\"plotly-graph-div\" style=\"height:525px; width:100%;\"></div>            <script type=\"text/javascript\">                require([\"plotly\"], function(Plotly) {                    window.PLOTLYENV=window.PLOTLYENV || {};\n",
       "                    window.PLOTLYENV.BASE_URL='https://plot.ly';                                    if (document.getElementById(\"b6249ec8-b3fe-4f3e-a288-f0262a2dbd87\")) {                    Plotly.newPlot(                        \"b6249ec8-b3fe-4f3e-a288-f0262a2dbd87\",                        [{\"line\":{\"color\":\"rgba(255, 153, 51, 1.0)\",\"dash\":\"solid\",\"shape\":\"linear\",\"width\":1.3},\"marker\":{\"size\":20,\"symbol\":\"circle\"},\"mode\":\"markers\",\"name\":\"B\",\"text\":\"\",\"x\":[-1.5470379470686257,-0.3866827505899728,0.05907767532625553,1.3528949385329836,-0.2446134380889313,-2.406380574789591,-0.2816288308863832,0.4275053609457478,-0.5819392334941368,0.7569495452421476,0.6453177603325179,0.57422805107268,1.3148995288538112,0.220666189826017,-0.2839870046920182,0.7140778562736044,1.2652541519683163,-0.5332706279507585,-1.99742682090396,0.4405887301243418,1.6892743646745116,-0.19165751288169328,0.5104035641178164,1.3803225460438007,0.16703348752209532,-0.285872723137153,-0.2049482645233315,-0.6179469943011561,0.6032652329988165,0.05057590325797419,-1.3294185799763285,0.578716171231639,-1.6111718252564509,-0.7525916016188796,0.8249183497350251,-0.015267594448878615,-2.0692673026355326,0.6428908175911534,1.7655572451119899,2.031329227063635,-1.466347474243045,1.6401369002649178,-0.34019045909674234,0.8635745180435763,-0.41744886551989835,-0.10163440297958373,0.7703425064697068,1.4689212890171626,-0.23433370060897665,-1.3258769200955578,-1.1718941254219373,0.801932550048809,1.448807734284354,0.9847030866880221,0.3376184172512405,-1.5242713825393606,0.7027628372435865,-0.2791683192032702,0.020488303009922777,0.820619688063049,-0.36218158301404263,0.14617037002964653,1.6718586124907957,0.6705673605246165,0.27828495652272867,0.20926566932783422,-1.9184096983655765,-0.6402371208591136,-0.08170770033706065,-0.06808155063387622,-1.38010522374821,0.39561517267437496,0.7531494990024865,-0.6283031170433298,-1.8242056728883924,0.9256295159513197,1.2767649316415697,0.18525786624729326,0.5745200766324614,0.8337022049758677,-0.3243762742733441,0.4824787010648017,-0.1608409373329267,1.8793431047865878,0.3314905561931448,-0.29036873392865464,0.7482402104538096,0.49709639164898334,0.21495382334267585,1.0208806180216834,-0.03170735862101034,-2.5312495750725925,2.1046549936147385,-0.1046128281488064,-0.3285804840215899,0.24177836912715794,0.05569559765452582,-0.762999801993306,-0.6164640215496762,-1.8421776428608174],\"y\":[-0.17932026330190684,0.34198544751858234,-1.2713269129457325,0.0016652786409217964,1.4803864821833077,-0.2836750888514914,-1.4155538362514601,-0.5739661271236048,-0.35744198935824456,-0.8994230904876396,0.6991253544572609,-0.874793148785467,-0.39153074019047707,-0.880394830638912,0.4995926613587126,0.6293698296553195,1.3544469494098934,0.4810071047022162,-0.40595170495224314,0.09622342847254901,0.43681638785495297,-0.7536552634789734,0.46515551350074097,-0.4107904278107822,-0.667536213298158,-0.644002357567441,0.3279416680591974,-0.35640426241977324,0.7192398636967984,-0.3544851170731683,0.08830059864042557,0.030758743727376085,0.8935198532569544,0.3892696875617487,0.3237375347818951,0.6041497331006355,-0.40400232746982956,1.8468632501683382,-0.029077327946170142,0.25908762161059545,0.8679450620220365,0.967081274178919,1.80357447518855,0.7548651304368754,-0.5513298895031992,1.3705646354783096,0.8589382061452533,-1.0947470720924772,0.765715570102174,0.2385720284350847,-0.5320081762202075,-2.1047278011907666,-0.22838874539262682,-1.0758351304521767,0.6994286964722767,1.1983555883520542,1.8709137281616257,0.3346340175992276,1.179301597937332,-1.9309090060954557,-1.0881323911298968,0.0925198558216795,-0.6780781717104581,0.6074641297220856,1.0533655951830938,0.8330378584588016,-0.5385028983342077,-1.5582948613417311,0.5633831011807973,0.296668625167125,-0.9065113935632445,-0.21770298654540515,-0.18554362127577312,0.8460395539141479,-0.06587075962834432,-1.3271566677311997,0.25495202389316673,-0.6747528477615352,-1.435892609276357,-0.960122176589752,-0.3454127480759408,0.4072393867432423,-1.338046384045666,0.5103799524326336,1.4224780373575563,0.5088221930699162,0.03356517523728443,0.45970454247660264,1.2459543043789276,0.2505549812457923,0.259785611079415,0.5130794204738841,2.8931347231761175,-0.08760616578299192,-1.1963390674150716,0.8284380378357371,1.0897731639265282,3.2145514299528397,0.5444588734985717,-1.5142056829390005],\"type\":\"scatter\"}],                        {\"legend\":{\"bgcolor\":\"#F5F6F9\",\"font\":{\"color\":\"#4D5663\"}},\"paper_bgcolor\":\"#F5F6F9\",\"plot_bgcolor\":\"#F5F6F9\",\"template\":{\"data\":{\"barpolar\":[{\"marker\":{\"line\":{\"color\":\"#E5ECF6\",\"width\":0.5},\"pattern\":{\"fillmode\":\"overlay\",\"size\":10,\"solidity\":0.2}},\"type\":\"barpolar\"}],\"bar\":[{\"error_x\":{\"color\":\"#2a3f5f\"},\"error_y\":{\"color\":\"#2a3f5f\"},\"marker\":{\"line\":{\"color\":\"#E5ECF6\",\"width\":0.5},\"pattern\":{\"fillmode\":\"overlay\",\"size\":10,\"solidity\":0.2}},\"type\":\"bar\"}],\"carpet\":[{\"aaxis\":{\"endlinecolor\":\"#2a3f5f\",\"gridcolor\":\"white\",\"linecolor\":\"white\",\"minorgridcolor\":\"white\",\"startlinecolor\":\"#2a3f5f\"},\"baxis\":{\"endlinecolor\":\"#2a3f5f\",\"gridcolor\":\"white\",\"linecolor\":\"white\",\"minorgridcolor\":\"white\",\"startlinecolor\":\"#2a3f5f\"},\"type\":\"carpet\"}],\"choropleth\":[{\"colorbar\":{\"outlinewidth\":0,\"ticks\":\"\"},\"type\":\"choropleth\"}],\"contourcarpet\":[{\"colorbar\":{\"outlinewidth\":0,\"ticks\":\"\"},\"type\":\"contourcarpet\"}],\"contour\":[{\"colorbar\":{\"outlinewidth\":0,\"ticks\":\"\"},\"colorscale\":[[0.0,\"#0d0887\"],[0.1111111111111111,\"#46039f\"],[0.2222222222222222,\"#7201a8\"],[0.3333333333333333,\"#9c179e\"],[0.4444444444444444,\"#bd3786\"],[0.5555555555555556,\"#d8576b\"],[0.6666666666666666,\"#ed7953\"],[0.7777777777777778,\"#fb9f3a\"],[0.8888888888888888,\"#fdca26\"],[1.0,\"#f0f921\"]],\"type\":\"contour\"}],\"heatmapgl\":[{\"colorbar\":{\"outlinewidth\":0,\"ticks\":\"\"},\"colorscale\":[[0.0,\"#0d0887\"],[0.1111111111111111,\"#46039f\"],[0.2222222222222222,\"#7201a8\"],[0.3333333333333333,\"#9c179e\"],[0.4444444444444444,\"#bd3786\"],[0.5555555555555556,\"#d8576b\"],[0.6666666666666666,\"#ed7953\"],[0.7777777777777778,\"#fb9f3a\"],[0.8888888888888888,\"#fdca26\"],[1.0,\"#f0f921\"]],\"type\":\"heatmapgl\"}],\"heatmap\":[{\"colorbar\":{\"outlinewidth\":0,\"ticks\":\"\"},\"colorscale\":[[0.0,\"#0d0887\"],[0.1111111111111111,\"#46039f\"],[0.2222222222222222,\"#7201a8\"],[0.3333333333333333,\"#9c179e\"],[0.4444444444444444,\"#bd3786\"],[0.5555555555555556,\"#d8576b\"],[0.6666666666666666,\"#ed7953\"],[0.7777777777777778,\"#fb9f3a\"],[0.8888888888888888,\"#fdca26\"],[1.0,\"#f0f921\"]],\"type\":\"heatmap\"}],\"histogram2dcontour\":[{\"colorbar\":{\"outlinewidth\":0,\"ticks\":\"\"},\"colorscale\":[[0.0,\"#0d0887\"],[0.1111111111111111,\"#46039f\"],[0.2222222222222222,\"#7201a8\"],[0.3333333333333333,\"#9c179e\"],[0.4444444444444444,\"#bd3786\"],[0.5555555555555556,\"#d8576b\"],[0.6666666666666666,\"#ed7953\"],[0.7777777777777778,\"#fb9f3a\"],[0.8888888888888888,\"#fdca26\"],[1.0,\"#f0f921\"]],\"type\":\"histogram2dcontour\"}],\"histogram2d\":[{\"colorbar\":{\"outlinewidth\":0,\"ticks\":\"\"},\"colorscale\":[[0.0,\"#0d0887\"],[0.1111111111111111,\"#46039f\"],[0.2222222222222222,\"#7201a8\"],[0.3333333333333333,\"#9c179e\"],[0.4444444444444444,\"#bd3786\"],[0.5555555555555556,\"#d8576b\"],[0.6666666666666666,\"#ed7953\"],[0.7777777777777778,\"#fb9f3a\"],[0.8888888888888888,\"#fdca26\"],[1.0,\"#f0f921\"]],\"type\":\"histogram2d\"}],\"histogram\":[{\"marker\":{\"pattern\":{\"fillmode\":\"overlay\",\"size\":10,\"solidity\":0.2}},\"type\":\"histogram\"}],\"mesh3d\":[{\"colorbar\":{\"outlinewidth\":0,\"ticks\":\"\"},\"type\":\"mesh3d\"}],\"parcoords\":[{\"line\":{\"colorbar\":{\"outlinewidth\":0,\"ticks\":\"\"}},\"type\":\"parcoords\"}],\"pie\":[{\"automargin\":true,\"type\":\"pie\"}],\"scatter3d\":[{\"line\":{\"colorbar\":{\"outlinewidth\":0,\"ticks\":\"\"}},\"marker\":{\"colorbar\":{\"outlinewidth\":0,\"ticks\":\"\"}},\"type\":\"scatter3d\"}],\"scattercarpet\":[{\"marker\":{\"colorbar\":{\"outlinewidth\":0,\"ticks\":\"\"}},\"type\":\"scattercarpet\"}],\"scattergeo\":[{\"marker\":{\"colorbar\":{\"outlinewidth\":0,\"ticks\":\"\"}},\"type\":\"scattergeo\"}],\"scattergl\":[{\"marker\":{\"colorbar\":{\"outlinewidth\":0,\"ticks\":\"\"}},\"type\":\"scattergl\"}],\"scattermapbox\":[{\"marker\":{\"colorbar\":{\"outlinewidth\":0,\"ticks\":\"\"}},\"type\":\"scattermapbox\"}],\"scatterpolargl\":[{\"marker\":{\"colorbar\":{\"outlinewidth\":0,\"ticks\":\"\"}},\"type\":\"scatterpolargl\"}],\"scatterpolar\":[{\"marker\":{\"colorbar\":{\"outlinewidth\":0,\"ticks\":\"\"}},\"type\":\"scatterpolar\"}],\"scatter\":[{\"marker\":{\"colorbar\":{\"outlinewidth\":0,\"ticks\":\"\"}},\"type\":\"scatter\"}],\"scatterternary\":[{\"marker\":{\"colorbar\":{\"outlinewidth\":0,\"ticks\":\"\"}},\"type\":\"scatterternary\"}],\"surface\":[{\"colorbar\":{\"outlinewidth\":0,\"ticks\":\"\"},\"colorscale\":[[0.0,\"#0d0887\"],[0.1111111111111111,\"#46039f\"],[0.2222222222222222,\"#7201a8\"],[0.3333333333333333,\"#9c179e\"],[0.4444444444444444,\"#bd3786\"],[0.5555555555555556,\"#d8576b\"],[0.6666666666666666,\"#ed7953\"],[0.7777777777777778,\"#fb9f3a\"],[0.8888888888888888,\"#fdca26\"],[1.0,\"#f0f921\"]],\"type\":\"surface\"}],\"table\":[{\"cells\":{\"fill\":{\"color\":\"#EBF0F8\"},\"line\":{\"color\":\"white\"}},\"header\":{\"fill\":{\"color\":\"#C8D4E3\"},\"line\":{\"color\":\"white\"}},\"type\":\"table\"}]},\"layout\":{\"annotationdefaults\":{\"arrowcolor\":\"#2a3f5f\",\"arrowhead\":0,\"arrowwidth\":1},\"autotypenumbers\":\"strict\",\"coloraxis\":{\"colorbar\":{\"outlinewidth\":0,\"ticks\":\"\"}},\"colorscale\":{\"diverging\":[[0,\"#8e0152\"],[0.1,\"#c51b7d\"],[0.2,\"#de77ae\"],[0.3,\"#f1b6da\"],[0.4,\"#fde0ef\"],[0.5,\"#f7f7f7\"],[0.6,\"#e6f5d0\"],[0.7,\"#b8e186\"],[0.8,\"#7fbc41\"],[0.9,\"#4d9221\"],[1,\"#276419\"]],\"sequential\":[[0.0,\"#0d0887\"],[0.1111111111111111,\"#46039f\"],[0.2222222222222222,\"#7201a8\"],[0.3333333333333333,\"#9c179e\"],[0.4444444444444444,\"#bd3786\"],[0.5555555555555556,\"#d8576b\"],[0.6666666666666666,\"#ed7953\"],[0.7777777777777778,\"#fb9f3a\"],[0.8888888888888888,\"#fdca26\"],[1.0,\"#f0f921\"]],\"sequentialminus\":[[0.0,\"#0d0887\"],[0.1111111111111111,\"#46039f\"],[0.2222222222222222,\"#7201a8\"],[0.3333333333333333,\"#9c179e\"],[0.4444444444444444,\"#bd3786\"],[0.5555555555555556,\"#d8576b\"],[0.6666666666666666,\"#ed7953\"],[0.7777777777777778,\"#fb9f3a\"],[0.8888888888888888,\"#fdca26\"],[1.0,\"#f0f921\"]]},\"colorway\":[\"#636efa\",\"#EF553B\",\"#00cc96\",\"#ab63fa\",\"#FFA15A\",\"#19d3f3\",\"#FF6692\",\"#B6E880\",\"#FF97FF\",\"#FECB52\"],\"font\":{\"color\":\"#2a3f5f\"},\"geo\":{\"bgcolor\":\"white\",\"lakecolor\":\"white\",\"landcolor\":\"#E5ECF6\",\"showlakes\":true,\"showland\":true,\"subunitcolor\":\"white\"},\"hoverlabel\":{\"align\":\"left\"},\"hovermode\":\"closest\",\"mapbox\":{\"style\":\"light\"},\"paper_bgcolor\":\"white\",\"plot_bgcolor\":\"#E5ECF6\",\"polar\":{\"angularaxis\":{\"gridcolor\":\"white\",\"linecolor\":\"white\",\"ticks\":\"\"},\"bgcolor\":\"#E5ECF6\",\"radialaxis\":{\"gridcolor\":\"white\",\"linecolor\":\"white\",\"ticks\":\"\"}},\"scene\":{\"xaxis\":{\"backgroundcolor\":\"#E5ECF6\",\"gridcolor\":\"white\",\"gridwidth\":2,\"linecolor\":\"white\",\"showbackground\":true,\"ticks\":\"\",\"zerolinecolor\":\"white\"},\"yaxis\":{\"backgroundcolor\":\"#E5ECF6\",\"gridcolor\":\"white\",\"gridwidth\":2,\"linecolor\":\"white\",\"showbackground\":true,\"ticks\":\"\",\"zerolinecolor\":\"white\"},\"zaxis\":{\"backgroundcolor\":\"#E5ECF6\",\"gridcolor\":\"white\",\"gridwidth\":2,\"linecolor\":\"white\",\"showbackground\":true,\"ticks\":\"\",\"zerolinecolor\":\"white\"}},\"shapedefaults\":{\"line\":{\"color\":\"#2a3f5f\"}},\"ternary\":{\"aaxis\":{\"gridcolor\":\"white\",\"linecolor\":\"white\",\"ticks\":\"\"},\"baxis\":{\"gridcolor\":\"white\",\"linecolor\":\"white\",\"ticks\":\"\"},\"bgcolor\":\"#E5ECF6\",\"caxis\":{\"gridcolor\":\"white\",\"linecolor\":\"white\",\"ticks\":\"\"}},\"title\":{\"x\":0.05},\"xaxis\":{\"automargin\":true,\"gridcolor\":\"white\",\"linecolor\":\"white\",\"ticks\":\"\",\"title\":{\"standoff\":15},\"zerolinecolor\":\"white\",\"zerolinewidth\":2},\"yaxis\":{\"automargin\":true,\"gridcolor\":\"white\",\"linecolor\":\"white\",\"ticks\":\"\",\"title\":{\"standoff\":15},\"zerolinecolor\":\"white\",\"zerolinewidth\":2}}},\"title\":{\"font\":{\"color\":\"#4D5663\"}},\"xaxis\":{\"gridcolor\":\"#E1E5ED\",\"showgrid\":true,\"tickfont\":{\"color\":\"#4D5663\"},\"title\":{\"font\":{\"color\":\"#4D5663\"},\"text\":\"\"},\"zerolinecolor\":\"#E1E5ED\"},\"yaxis\":{\"gridcolor\":\"#E1E5ED\",\"showgrid\":true,\"tickfont\":{\"color\":\"#4D5663\"},\"title\":{\"font\":{\"color\":\"#4D5663\"},\"text\":\"\"},\"zerolinecolor\":\"#E1E5ED\"}},                        {\"showLink\": true, \"linkText\": \"Export to plot.ly\", \"plotlyServerURL\": \"https://plot.ly\", \"responsive\": true}                    ).then(function(){\n",
       "                            \n",
       "var gd = document.getElementById('b6249ec8-b3fe-4f3e-a288-f0262a2dbd87');\n",
       "var x = new MutationObserver(function (mutations, observer) {{\n",
       "        var display = window.getComputedStyle(gd).display;\n",
       "        if (!display || display === 'none') {{\n",
       "            console.log([gd, 'removed!']);\n",
       "            Plotly.purge(gd);\n",
       "            observer.disconnect();\n",
       "        }}\n",
       "}});\n",
       "\n",
       "// Listen for the removal of the full notebook cells\n",
       "var notebookContainer = gd.closest('#notebook-container');\n",
       "if (notebookContainer) {{\n",
       "    x.observe(notebookContainer, {childList: true});\n",
       "}}\n",
       "\n",
       "// Listen for the clearing of the current output cell\n",
       "var outputEl = gd.closest('.output');\n",
       "if (outputEl) {{\n",
       "    x.observe(outputEl, {childList: true});\n",
       "}}\n",
       "\n",
       "                        })                };                });            </script>        </div>"
      ]
     },
     "metadata": {},
     "output_type": "display_data"
    }
   ],
   "source": [
    "df.iplot(kind='scatter',x='A',y='B',mode='markers',size=20)"
   ]
  },
  {
   "cell_type": "code",
   "execution_count": 68,
   "metadata": {},
   "outputs": [
    {
     "data": {
      "text/html": [
       "<div>\n",
       "<style scoped>\n",
       "    .dataframe tbody tr th:only-of-type {\n",
       "        vertical-align: middle;\n",
       "    }\n",
       "\n",
       "    .dataframe tbody tr th {\n",
       "        vertical-align: top;\n",
       "    }\n",
       "\n",
       "    .dataframe thead th {\n",
       "        text-align: right;\n",
       "    }\n",
       "</style>\n",
       "<table border=\"1\" class=\"dataframe\">\n",
       "  <thead>\n",
       "    <tr style=\"text-align: right;\">\n",
       "      <th></th>\n",
       "      <th>Category</th>\n",
       "      <th>Values</th>\n",
       "    </tr>\n",
       "  </thead>\n",
       "  <tbody>\n",
       "    <tr>\n",
       "      <th>0</th>\n",
       "      <td>A</td>\n",
       "      <td>32</td>\n",
       "    </tr>\n",
       "    <tr>\n",
       "      <th>1</th>\n",
       "      <td>B</td>\n",
       "      <td>43</td>\n",
       "    </tr>\n",
       "    <tr>\n",
       "      <th>2</th>\n",
       "      <td>C</td>\n",
       "      <td>50</td>\n",
       "    </tr>\n",
       "  </tbody>\n",
       "</table>\n",
       "</div>"
      ],
      "text/plain": [
       "  Category  Values\n",
       "0        A      32\n",
       "1        B      43\n",
       "2        C      50"
      ]
     },
     "execution_count": 68,
     "metadata": {},
     "output_type": "execute_result"
    }
   ],
   "source": [
    "df2#.iplot(kind='bar',x=)"
   ]
  },
  {
   "cell_type": "code",
   "execution_count": 70,
   "metadata": {},
   "outputs": [
    {
     "data": {
      "application/vnd.plotly.v1+json": {
       "config": {
        "linkText": "Export to plot.ly",
        "plotlyServerURL": "https://plot.ly",
        "showLink": true
       },
       "data": [
        {
         "marker": {
          "color": "rgba(255, 153, 51, 0.6)",
          "line": {
           "color": "rgba(255, 153, 51, 1.0)",
           "width": 1
          }
         },
         "name": "Values",
         "orientation": "v",
         "text": "",
         "type": "bar",
         "x": [
          "A",
          "B",
          "C"
         ],
         "y": [
          32,
          43,
          50
         ]
        }
       ],
       "layout": {
        "legend": {
         "bgcolor": "#F5F6F9",
         "font": {
          "color": "#4D5663"
         }
        },
        "paper_bgcolor": "#F5F6F9",
        "plot_bgcolor": "#F5F6F9",
        "template": {
         "data": {
          "bar": [
           {
            "error_x": {
             "color": "#2a3f5f"
            },
            "error_y": {
             "color": "#2a3f5f"
            },
            "marker": {
             "line": {
              "color": "#E5ECF6",
              "width": 0.5
             },
             "pattern": {
              "fillmode": "overlay",
              "size": 10,
              "solidity": 0.2
             }
            },
            "type": "bar"
           }
          ],
          "barpolar": [
           {
            "marker": {
             "line": {
              "color": "#E5ECF6",
              "width": 0.5
             },
             "pattern": {
              "fillmode": "overlay",
              "size": 10,
              "solidity": 0.2
             }
            },
            "type": "barpolar"
           }
          ],
          "carpet": [
           {
            "aaxis": {
             "endlinecolor": "#2a3f5f",
             "gridcolor": "white",
             "linecolor": "white",
             "minorgridcolor": "white",
             "startlinecolor": "#2a3f5f"
            },
            "baxis": {
             "endlinecolor": "#2a3f5f",
             "gridcolor": "white",
             "linecolor": "white",
             "minorgridcolor": "white",
             "startlinecolor": "#2a3f5f"
            },
            "type": "carpet"
           }
          ],
          "choropleth": [
           {
            "colorbar": {
             "outlinewidth": 0,
             "ticks": ""
            },
            "type": "choropleth"
           }
          ],
          "contour": [
           {
            "colorbar": {
             "outlinewidth": 0,
             "ticks": ""
            },
            "colorscale": [
             [
              0,
              "#0d0887"
             ],
             [
              0.1111111111111111,
              "#46039f"
             ],
             [
              0.2222222222222222,
              "#7201a8"
             ],
             [
              0.3333333333333333,
              "#9c179e"
             ],
             [
              0.4444444444444444,
              "#bd3786"
             ],
             [
              0.5555555555555556,
              "#d8576b"
             ],
             [
              0.6666666666666666,
              "#ed7953"
             ],
             [
              0.7777777777777778,
              "#fb9f3a"
             ],
             [
              0.8888888888888888,
              "#fdca26"
             ],
             [
              1,
              "#f0f921"
             ]
            ],
            "type": "contour"
           }
          ],
          "contourcarpet": [
           {
            "colorbar": {
             "outlinewidth": 0,
             "ticks": ""
            },
            "type": "contourcarpet"
           }
          ],
          "heatmap": [
           {
            "colorbar": {
             "outlinewidth": 0,
             "ticks": ""
            },
            "colorscale": [
             [
              0,
              "#0d0887"
             ],
             [
              0.1111111111111111,
              "#46039f"
             ],
             [
              0.2222222222222222,
              "#7201a8"
             ],
             [
              0.3333333333333333,
              "#9c179e"
             ],
             [
              0.4444444444444444,
              "#bd3786"
             ],
             [
              0.5555555555555556,
              "#d8576b"
             ],
             [
              0.6666666666666666,
              "#ed7953"
             ],
             [
              0.7777777777777778,
              "#fb9f3a"
             ],
             [
              0.8888888888888888,
              "#fdca26"
             ],
             [
              1,
              "#f0f921"
             ]
            ],
            "type": "heatmap"
           }
          ],
          "heatmapgl": [
           {
            "colorbar": {
             "outlinewidth": 0,
             "ticks": ""
            },
            "colorscale": [
             [
              0,
              "#0d0887"
             ],
             [
              0.1111111111111111,
              "#46039f"
             ],
             [
              0.2222222222222222,
              "#7201a8"
             ],
             [
              0.3333333333333333,
              "#9c179e"
             ],
             [
              0.4444444444444444,
              "#bd3786"
             ],
             [
              0.5555555555555556,
              "#d8576b"
             ],
             [
              0.6666666666666666,
              "#ed7953"
             ],
             [
              0.7777777777777778,
              "#fb9f3a"
             ],
             [
              0.8888888888888888,
              "#fdca26"
             ],
             [
              1,
              "#f0f921"
             ]
            ],
            "type": "heatmapgl"
           }
          ],
          "histogram": [
           {
            "marker": {
             "pattern": {
              "fillmode": "overlay",
              "size": 10,
              "solidity": 0.2
             }
            },
            "type": "histogram"
           }
          ],
          "histogram2d": [
           {
            "colorbar": {
             "outlinewidth": 0,
             "ticks": ""
            },
            "colorscale": [
             [
              0,
              "#0d0887"
             ],
             [
              0.1111111111111111,
              "#46039f"
             ],
             [
              0.2222222222222222,
              "#7201a8"
             ],
             [
              0.3333333333333333,
              "#9c179e"
             ],
             [
              0.4444444444444444,
              "#bd3786"
             ],
             [
              0.5555555555555556,
              "#d8576b"
             ],
             [
              0.6666666666666666,
              "#ed7953"
             ],
             [
              0.7777777777777778,
              "#fb9f3a"
             ],
             [
              0.8888888888888888,
              "#fdca26"
             ],
             [
              1,
              "#f0f921"
             ]
            ],
            "type": "histogram2d"
           }
          ],
          "histogram2dcontour": [
           {
            "colorbar": {
             "outlinewidth": 0,
             "ticks": ""
            },
            "colorscale": [
             [
              0,
              "#0d0887"
             ],
             [
              0.1111111111111111,
              "#46039f"
             ],
             [
              0.2222222222222222,
              "#7201a8"
             ],
             [
              0.3333333333333333,
              "#9c179e"
             ],
             [
              0.4444444444444444,
              "#bd3786"
             ],
             [
              0.5555555555555556,
              "#d8576b"
             ],
             [
              0.6666666666666666,
              "#ed7953"
             ],
             [
              0.7777777777777778,
              "#fb9f3a"
             ],
             [
              0.8888888888888888,
              "#fdca26"
             ],
             [
              1,
              "#f0f921"
             ]
            ],
            "type": "histogram2dcontour"
           }
          ],
          "mesh3d": [
           {
            "colorbar": {
             "outlinewidth": 0,
             "ticks": ""
            },
            "type": "mesh3d"
           }
          ],
          "parcoords": [
           {
            "line": {
             "colorbar": {
              "outlinewidth": 0,
              "ticks": ""
             }
            },
            "type": "parcoords"
           }
          ],
          "pie": [
           {
            "automargin": true,
            "type": "pie"
           }
          ],
          "scatter": [
           {
            "marker": {
             "colorbar": {
              "outlinewidth": 0,
              "ticks": ""
             }
            },
            "type": "scatter"
           }
          ],
          "scatter3d": [
           {
            "line": {
             "colorbar": {
              "outlinewidth": 0,
              "ticks": ""
             }
            },
            "marker": {
             "colorbar": {
              "outlinewidth": 0,
              "ticks": ""
             }
            },
            "type": "scatter3d"
           }
          ],
          "scattercarpet": [
           {
            "marker": {
             "colorbar": {
              "outlinewidth": 0,
              "ticks": ""
             }
            },
            "type": "scattercarpet"
           }
          ],
          "scattergeo": [
           {
            "marker": {
             "colorbar": {
              "outlinewidth": 0,
              "ticks": ""
             }
            },
            "type": "scattergeo"
           }
          ],
          "scattergl": [
           {
            "marker": {
             "colorbar": {
              "outlinewidth": 0,
              "ticks": ""
             }
            },
            "type": "scattergl"
           }
          ],
          "scattermapbox": [
           {
            "marker": {
             "colorbar": {
              "outlinewidth": 0,
              "ticks": ""
             }
            },
            "type": "scattermapbox"
           }
          ],
          "scatterpolar": [
           {
            "marker": {
             "colorbar": {
              "outlinewidth": 0,
              "ticks": ""
             }
            },
            "type": "scatterpolar"
           }
          ],
          "scatterpolargl": [
           {
            "marker": {
             "colorbar": {
              "outlinewidth": 0,
              "ticks": ""
             }
            },
            "type": "scatterpolargl"
           }
          ],
          "scatterternary": [
           {
            "marker": {
             "colorbar": {
              "outlinewidth": 0,
              "ticks": ""
             }
            },
            "type": "scatterternary"
           }
          ],
          "surface": [
           {
            "colorbar": {
             "outlinewidth": 0,
             "ticks": ""
            },
            "colorscale": [
             [
              0,
              "#0d0887"
             ],
             [
              0.1111111111111111,
              "#46039f"
             ],
             [
              0.2222222222222222,
              "#7201a8"
             ],
             [
              0.3333333333333333,
              "#9c179e"
             ],
             [
              0.4444444444444444,
              "#bd3786"
             ],
             [
              0.5555555555555556,
              "#d8576b"
             ],
             [
              0.6666666666666666,
              "#ed7953"
             ],
             [
              0.7777777777777778,
              "#fb9f3a"
             ],
             [
              0.8888888888888888,
              "#fdca26"
             ],
             [
              1,
              "#f0f921"
             ]
            ],
            "type": "surface"
           }
          ],
          "table": [
           {
            "cells": {
             "fill": {
              "color": "#EBF0F8"
             },
             "line": {
              "color": "white"
             }
            },
            "header": {
             "fill": {
              "color": "#C8D4E3"
             },
             "line": {
              "color": "white"
             }
            },
            "type": "table"
           }
          ]
         },
         "layout": {
          "annotationdefaults": {
           "arrowcolor": "#2a3f5f",
           "arrowhead": 0,
           "arrowwidth": 1
          },
          "autotypenumbers": "strict",
          "coloraxis": {
           "colorbar": {
            "outlinewidth": 0,
            "ticks": ""
           }
          },
          "colorscale": {
           "diverging": [
            [
             0,
             "#8e0152"
            ],
            [
             0.1,
             "#c51b7d"
            ],
            [
             0.2,
             "#de77ae"
            ],
            [
             0.3,
             "#f1b6da"
            ],
            [
             0.4,
             "#fde0ef"
            ],
            [
             0.5,
             "#f7f7f7"
            ],
            [
             0.6,
             "#e6f5d0"
            ],
            [
             0.7,
             "#b8e186"
            ],
            [
             0.8,
             "#7fbc41"
            ],
            [
             0.9,
             "#4d9221"
            ],
            [
             1,
             "#276419"
            ]
           ],
           "sequential": [
            [
             0,
             "#0d0887"
            ],
            [
             0.1111111111111111,
             "#46039f"
            ],
            [
             0.2222222222222222,
             "#7201a8"
            ],
            [
             0.3333333333333333,
             "#9c179e"
            ],
            [
             0.4444444444444444,
             "#bd3786"
            ],
            [
             0.5555555555555556,
             "#d8576b"
            ],
            [
             0.6666666666666666,
             "#ed7953"
            ],
            [
             0.7777777777777778,
             "#fb9f3a"
            ],
            [
             0.8888888888888888,
             "#fdca26"
            ],
            [
             1,
             "#f0f921"
            ]
           ],
           "sequentialminus": [
            [
             0,
             "#0d0887"
            ],
            [
             0.1111111111111111,
             "#46039f"
            ],
            [
             0.2222222222222222,
             "#7201a8"
            ],
            [
             0.3333333333333333,
             "#9c179e"
            ],
            [
             0.4444444444444444,
             "#bd3786"
            ],
            [
             0.5555555555555556,
             "#d8576b"
            ],
            [
             0.6666666666666666,
             "#ed7953"
            ],
            [
             0.7777777777777778,
             "#fb9f3a"
            ],
            [
             0.8888888888888888,
             "#fdca26"
            ],
            [
             1,
             "#f0f921"
            ]
           ]
          },
          "colorway": [
           "#636efa",
           "#EF553B",
           "#00cc96",
           "#ab63fa",
           "#FFA15A",
           "#19d3f3",
           "#FF6692",
           "#B6E880",
           "#FF97FF",
           "#FECB52"
          ],
          "font": {
           "color": "#2a3f5f"
          },
          "geo": {
           "bgcolor": "white",
           "lakecolor": "white",
           "landcolor": "#E5ECF6",
           "showlakes": true,
           "showland": true,
           "subunitcolor": "white"
          },
          "hoverlabel": {
           "align": "left"
          },
          "hovermode": "closest",
          "mapbox": {
           "style": "light"
          },
          "paper_bgcolor": "white",
          "plot_bgcolor": "#E5ECF6",
          "polar": {
           "angularaxis": {
            "gridcolor": "white",
            "linecolor": "white",
            "ticks": ""
           },
           "bgcolor": "#E5ECF6",
           "radialaxis": {
            "gridcolor": "white",
            "linecolor": "white",
            "ticks": ""
           }
          },
          "scene": {
           "xaxis": {
            "backgroundcolor": "#E5ECF6",
            "gridcolor": "white",
            "gridwidth": 2,
            "linecolor": "white",
            "showbackground": true,
            "ticks": "",
            "zerolinecolor": "white"
           },
           "yaxis": {
            "backgroundcolor": "#E5ECF6",
            "gridcolor": "white",
            "gridwidth": 2,
            "linecolor": "white",
            "showbackground": true,
            "ticks": "",
            "zerolinecolor": "white"
           },
           "zaxis": {
            "backgroundcolor": "#E5ECF6",
            "gridcolor": "white",
            "gridwidth": 2,
            "linecolor": "white",
            "showbackground": true,
            "ticks": "",
            "zerolinecolor": "white"
           }
          },
          "shapedefaults": {
           "line": {
            "color": "#2a3f5f"
           }
          },
          "ternary": {
           "aaxis": {
            "gridcolor": "white",
            "linecolor": "white",
            "ticks": ""
           },
           "baxis": {
            "gridcolor": "white",
            "linecolor": "white",
            "ticks": ""
           },
           "bgcolor": "#E5ECF6",
           "caxis": {
            "gridcolor": "white",
            "linecolor": "white",
            "ticks": ""
           }
          },
          "title": {
           "x": 0.05
          },
          "xaxis": {
           "automargin": true,
           "gridcolor": "white",
           "linecolor": "white",
           "ticks": "",
           "title": {
            "standoff": 15
           },
           "zerolinecolor": "white",
           "zerolinewidth": 2
          },
          "yaxis": {
           "automargin": true,
           "gridcolor": "white",
           "linecolor": "white",
           "ticks": "",
           "title": {
            "standoff": 15
           },
           "zerolinecolor": "white",
           "zerolinewidth": 2
          }
         }
        },
        "title": {
         "font": {
          "color": "#4D5663"
         }
        },
        "xaxis": {
         "gridcolor": "#E1E5ED",
         "showgrid": true,
         "tickfont": {
          "color": "#4D5663"
         },
         "title": {
          "font": {
           "color": "#4D5663"
          },
          "text": ""
         },
         "zerolinecolor": "#E1E5ED"
        },
        "yaxis": {
         "gridcolor": "#E1E5ED",
         "showgrid": true,
         "tickfont": {
          "color": "#4D5663"
         },
         "title": {
          "font": {
           "color": "#4D5663"
          },
          "text": ""
         },
         "zerolinecolor": "#E1E5ED"
        }
       }
      },
      "text/html": [
       "<div>                            <div id=\"5937bdee-faf9-42d5-99ad-1fadab142cb5\" class=\"plotly-graph-div\" style=\"height:525px; width:100%;\"></div>            <script type=\"text/javascript\">                require([\"plotly\"], function(Plotly) {                    window.PLOTLYENV=window.PLOTLYENV || {};\n",
       "                    window.PLOTLYENV.BASE_URL='https://plot.ly';                                    if (document.getElementById(\"5937bdee-faf9-42d5-99ad-1fadab142cb5\")) {                    Plotly.newPlot(                        \"5937bdee-faf9-42d5-99ad-1fadab142cb5\",                        [{\"marker\":{\"color\":\"rgba(255, 153, 51, 0.6)\",\"line\":{\"color\":\"rgba(255, 153, 51, 1.0)\",\"width\":1}},\"name\":\"Values\",\"orientation\":\"v\",\"text\":\"\",\"x\":[\"A\",\"B\",\"C\"],\"y\":[32,43,50],\"type\":\"bar\"}],                        {\"legend\":{\"bgcolor\":\"#F5F6F9\",\"font\":{\"color\":\"#4D5663\"}},\"paper_bgcolor\":\"#F5F6F9\",\"plot_bgcolor\":\"#F5F6F9\",\"template\":{\"data\":{\"barpolar\":[{\"marker\":{\"line\":{\"color\":\"#E5ECF6\",\"width\":0.5},\"pattern\":{\"fillmode\":\"overlay\",\"size\":10,\"solidity\":0.2}},\"type\":\"barpolar\"}],\"bar\":[{\"error_x\":{\"color\":\"#2a3f5f\"},\"error_y\":{\"color\":\"#2a3f5f\"},\"marker\":{\"line\":{\"color\":\"#E5ECF6\",\"width\":0.5},\"pattern\":{\"fillmode\":\"overlay\",\"size\":10,\"solidity\":0.2}},\"type\":\"bar\"}],\"carpet\":[{\"aaxis\":{\"endlinecolor\":\"#2a3f5f\",\"gridcolor\":\"white\",\"linecolor\":\"white\",\"minorgridcolor\":\"white\",\"startlinecolor\":\"#2a3f5f\"},\"baxis\":{\"endlinecolor\":\"#2a3f5f\",\"gridcolor\":\"white\",\"linecolor\":\"white\",\"minorgridcolor\":\"white\",\"startlinecolor\":\"#2a3f5f\"},\"type\":\"carpet\"}],\"choropleth\":[{\"colorbar\":{\"outlinewidth\":0,\"ticks\":\"\"},\"type\":\"choropleth\"}],\"contourcarpet\":[{\"colorbar\":{\"outlinewidth\":0,\"ticks\":\"\"},\"type\":\"contourcarpet\"}],\"contour\":[{\"colorbar\":{\"outlinewidth\":0,\"ticks\":\"\"},\"colorscale\":[[0.0,\"#0d0887\"],[0.1111111111111111,\"#46039f\"],[0.2222222222222222,\"#7201a8\"],[0.3333333333333333,\"#9c179e\"],[0.4444444444444444,\"#bd3786\"],[0.5555555555555556,\"#d8576b\"],[0.6666666666666666,\"#ed7953\"],[0.7777777777777778,\"#fb9f3a\"],[0.8888888888888888,\"#fdca26\"],[1.0,\"#f0f921\"]],\"type\":\"contour\"}],\"heatmapgl\":[{\"colorbar\":{\"outlinewidth\":0,\"ticks\":\"\"},\"colorscale\":[[0.0,\"#0d0887\"],[0.1111111111111111,\"#46039f\"],[0.2222222222222222,\"#7201a8\"],[0.3333333333333333,\"#9c179e\"],[0.4444444444444444,\"#bd3786\"],[0.5555555555555556,\"#d8576b\"],[0.6666666666666666,\"#ed7953\"],[0.7777777777777778,\"#fb9f3a\"],[0.8888888888888888,\"#fdca26\"],[1.0,\"#f0f921\"]],\"type\":\"heatmapgl\"}],\"heatmap\":[{\"colorbar\":{\"outlinewidth\":0,\"ticks\":\"\"},\"colorscale\":[[0.0,\"#0d0887\"],[0.1111111111111111,\"#46039f\"],[0.2222222222222222,\"#7201a8\"],[0.3333333333333333,\"#9c179e\"],[0.4444444444444444,\"#bd3786\"],[0.5555555555555556,\"#d8576b\"],[0.6666666666666666,\"#ed7953\"],[0.7777777777777778,\"#fb9f3a\"],[0.8888888888888888,\"#fdca26\"],[1.0,\"#f0f921\"]],\"type\":\"heatmap\"}],\"histogram2dcontour\":[{\"colorbar\":{\"outlinewidth\":0,\"ticks\":\"\"},\"colorscale\":[[0.0,\"#0d0887\"],[0.1111111111111111,\"#46039f\"],[0.2222222222222222,\"#7201a8\"],[0.3333333333333333,\"#9c179e\"],[0.4444444444444444,\"#bd3786\"],[0.5555555555555556,\"#d8576b\"],[0.6666666666666666,\"#ed7953\"],[0.7777777777777778,\"#fb9f3a\"],[0.8888888888888888,\"#fdca26\"],[1.0,\"#f0f921\"]],\"type\":\"histogram2dcontour\"}],\"histogram2d\":[{\"colorbar\":{\"outlinewidth\":0,\"ticks\":\"\"},\"colorscale\":[[0.0,\"#0d0887\"],[0.1111111111111111,\"#46039f\"],[0.2222222222222222,\"#7201a8\"],[0.3333333333333333,\"#9c179e\"],[0.4444444444444444,\"#bd3786\"],[0.5555555555555556,\"#d8576b\"],[0.6666666666666666,\"#ed7953\"],[0.7777777777777778,\"#fb9f3a\"],[0.8888888888888888,\"#fdca26\"],[1.0,\"#f0f921\"]],\"type\":\"histogram2d\"}],\"histogram\":[{\"marker\":{\"pattern\":{\"fillmode\":\"overlay\",\"size\":10,\"solidity\":0.2}},\"type\":\"histogram\"}],\"mesh3d\":[{\"colorbar\":{\"outlinewidth\":0,\"ticks\":\"\"},\"type\":\"mesh3d\"}],\"parcoords\":[{\"line\":{\"colorbar\":{\"outlinewidth\":0,\"ticks\":\"\"}},\"type\":\"parcoords\"}],\"pie\":[{\"automargin\":true,\"type\":\"pie\"}],\"scatter3d\":[{\"line\":{\"colorbar\":{\"outlinewidth\":0,\"ticks\":\"\"}},\"marker\":{\"colorbar\":{\"outlinewidth\":0,\"ticks\":\"\"}},\"type\":\"scatter3d\"}],\"scattercarpet\":[{\"marker\":{\"colorbar\":{\"outlinewidth\":0,\"ticks\":\"\"}},\"type\":\"scattercarpet\"}],\"scattergeo\":[{\"marker\":{\"colorbar\":{\"outlinewidth\":0,\"ticks\":\"\"}},\"type\":\"scattergeo\"}],\"scattergl\":[{\"marker\":{\"colorbar\":{\"outlinewidth\":0,\"ticks\":\"\"}},\"type\":\"scattergl\"}],\"scattermapbox\":[{\"marker\":{\"colorbar\":{\"outlinewidth\":0,\"ticks\":\"\"}},\"type\":\"scattermapbox\"}],\"scatterpolargl\":[{\"marker\":{\"colorbar\":{\"outlinewidth\":0,\"ticks\":\"\"}},\"type\":\"scatterpolargl\"}],\"scatterpolar\":[{\"marker\":{\"colorbar\":{\"outlinewidth\":0,\"ticks\":\"\"}},\"type\":\"scatterpolar\"}],\"scatter\":[{\"marker\":{\"colorbar\":{\"outlinewidth\":0,\"ticks\":\"\"}},\"type\":\"scatter\"}],\"scatterternary\":[{\"marker\":{\"colorbar\":{\"outlinewidth\":0,\"ticks\":\"\"}},\"type\":\"scatterternary\"}],\"surface\":[{\"colorbar\":{\"outlinewidth\":0,\"ticks\":\"\"},\"colorscale\":[[0.0,\"#0d0887\"],[0.1111111111111111,\"#46039f\"],[0.2222222222222222,\"#7201a8\"],[0.3333333333333333,\"#9c179e\"],[0.4444444444444444,\"#bd3786\"],[0.5555555555555556,\"#d8576b\"],[0.6666666666666666,\"#ed7953\"],[0.7777777777777778,\"#fb9f3a\"],[0.8888888888888888,\"#fdca26\"],[1.0,\"#f0f921\"]],\"type\":\"surface\"}],\"table\":[{\"cells\":{\"fill\":{\"color\":\"#EBF0F8\"},\"line\":{\"color\":\"white\"}},\"header\":{\"fill\":{\"color\":\"#C8D4E3\"},\"line\":{\"color\":\"white\"}},\"type\":\"table\"}]},\"layout\":{\"annotationdefaults\":{\"arrowcolor\":\"#2a3f5f\",\"arrowhead\":0,\"arrowwidth\":1},\"autotypenumbers\":\"strict\",\"coloraxis\":{\"colorbar\":{\"outlinewidth\":0,\"ticks\":\"\"}},\"colorscale\":{\"diverging\":[[0,\"#8e0152\"],[0.1,\"#c51b7d\"],[0.2,\"#de77ae\"],[0.3,\"#f1b6da\"],[0.4,\"#fde0ef\"],[0.5,\"#f7f7f7\"],[0.6,\"#e6f5d0\"],[0.7,\"#b8e186\"],[0.8,\"#7fbc41\"],[0.9,\"#4d9221\"],[1,\"#276419\"]],\"sequential\":[[0.0,\"#0d0887\"],[0.1111111111111111,\"#46039f\"],[0.2222222222222222,\"#7201a8\"],[0.3333333333333333,\"#9c179e\"],[0.4444444444444444,\"#bd3786\"],[0.5555555555555556,\"#d8576b\"],[0.6666666666666666,\"#ed7953\"],[0.7777777777777778,\"#fb9f3a\"],[0.8888888888888888,\"#fdca26\"],[1.0,\"#f0f921\"]],\"sequentialminus\":[[0.0,\"#0d0887\"],[0.1111111111111111,\"#46039f\"],[0.2222222222222222,\"#7201a8\"],[0.3333333333333333,\"#9c179e\"],[0.4444444444444444,\"#bd3786\"],[0.5555555555555556,\"#d8576b\"],[0.6666666666666666,\"#ed7953\"],[0.7777777777777778,\"#fb9f3a\"],[0.8888888888888888,\"#fdca26\"],[1.0,\"#f0f921\"]]},\"colorway\":[\"#636efa\",\"#EF553B\",\"#00cc96\",\"#ab63fa\",\"#FFA15A\",\"#19d3f3\",\"#FF6692\",\"#B6E880\",\"#FF97FF\",\"#FECB52\"],\"font\":{\"color\":\"#2a3f5f\"},\"geo\":{\"bgcolor\":\"white\",\"lakecolor\":\"white\",\"landcolor\":\"#E5ECF6\",\"showlakes\":true,\"showland\":true,\"subunitcolor\":\"white\"},\"hoverlabel\":{\"align\":\"left\"},\"hovermode\":\"closest\",\"mapbox\":{\"style\":\"light\"},\"paper_bgcolor\":\"white\",\"plot_bgcolor\":\"#E5ECF6\",\"polar\":{\"angularaxis\":{\"gridcolor\":\"white\",\"linecolor\":\"white\",\"ticks\":\"\"},\"bgcolor\":\"#E5ECF6\",\"radialaxis\":{\"gridcolor\":\"white\",\"linecolor\":\"white\",\"ticks\":\"\"}},\"scene\":{\"xaxis\":{\"backgroundcolor\":\"#E5ECF6\",\"gridcolor\":\"white\",\"gridwidth\":2,\"linecolor\":\"white\",\"showbackground\":true,\"ticks\":\"\",\"zerolinecolor\":\"white\"},\"yaxis\":{\"backgroundcolor\":\"#E5ECF6\",\"gridcolor\":\"white\",\"gridwidth\":2,\"linecolor\":\"white\",\"showbackground\":true,\"ticks\":\"\",\"zerolinecolor\":\"white\"},\"zaxis\":{\"backgroundcolor\":\"#E5ECF6\",\"gridcolor\":\"white\",\"gridwidth\":2,\"linecolor\":\"white\",\"showbackground\":true,\"ticks\":\"\",\"zerolinecolor\":\"white\"}},\"shapedefaults\":{\"line\":{\"color\":\"#2a3f5f\"}},\"ternary\":{\"aaxis\":{\"gridcolor\":\"white\",\"linecolor\":\"white\",\"ticks\":\"\"},\"baxis\":{\"gridcolor\":\"white\",\"linecolor\":\"white\",\"ticks\":\"\"},\"bgcolor\":\"#E5ECF6\",\"caxis\":{\"gridcolor\":\"white\",\"linecolor\":\"white\",\"ticks\":\"\"}},\"title\":{\"x\":0.05},\"xaxis\":{\"automargin\":true,\"gridcolor\":\"white\",\"linecolor\":\"white\",\"ticks\":\"\",\"title\":{\"standoff\":15},\"zerolinecolor\":\"white\",\"zerolinewidth\":2},\"yaxis\":{\"automargin\":true,\"gridcolor\":\"white\",\"linecolor\":\"white\",\"ticks\":\"\",\"title\":{\"standoff\":15},\"zerolinecolor\":\"white\",\"zerolinewidth\":2}}},\"title\":{\"font\":{\"color\":\"#4D5663\"}},\"xaxis\":{\"gridcolor\":\"#E1E5ED\",\"showgrid\":true,\"tickfont\":{\"color\":\"#4D5663\"},\"title\":{\"font\":{\"color\":\"#4D5663\"},\"text\":\"\"},\"zerolinecolor\":\"#E1E5ED\"},\"yaxis\":{\"gridcolor\":\"#E1E5ED\",\"showgrid\":true,\"tickfont\":{\"color\":\"#4D5663\"},\"title\":{\"font\":{\"color\":\"#4D5663\"},\"text\":\"\"},\"zerolinecolor\":\"#E1E5ED\"}},                        {\"showLink\": true, \"linkText\": \"Export to plot.ly\", \"plotlyServerURL\": \"https://plot.ly\", \"responsive\": true}                    ).then(function(){\n",
       "                            \n",
       "var gd = document.getElementById('5937bdee-faf9-42d5-99ad-1fadab142cb5');\n",
       "var x = new MutationObserver(function (mutations, observer) {{\n",
       "        var display = window.getComputedStyle(gd).display;\n",
       "        if (!display || display === 'none') {{\n",
       "            console.log([gd, 'removed!']);\n",
       "            Plotly.purge(gd);\n",
       "            observer.disconnect();\n",
       "        }}\n",
       "}});\n",
       "\n",
       "// Listen for the removal of the full notebook cells\n",
       "var notebookContainer = gd.closest('#notebook-container');\n",
       "if (notebookContainer) {{\n",
       "    x.observe(notebookContainer, {childList: true});\n",
       "}}\n",
       "\n",
       "// Listen for the clearing of the current output cell\n",
       "var outputEl = gd.closest('.output');\n",
       "if (outputEl) {{\n",
       "    x.observe(outputEl, {childList: true});\n",
       "}}\n",
       "\n",
       "                        })                };                });            </script>        </div>"
      ]
     },
     "metadata": {},
     "output_type": "display_data"
    }
   ],
   "source": [
    "df2.iplot(kind='bar',x='Category',y='Values')"
   ]
  },
  {
   "cell_type": "code",
   "execution_count": 74,
   "metadata": {},
   "outputs": [
    {
     "data": {
      "application/vnd.plotly.v1+json": {
       "config": {
        "linkText": "Export to plot.ly",
        "plotlyServerURL": "https://plot.ly",
        "showLink": true
       },
       "data": [
        {
         "marker": {
          "color": "rgba(255, 153, 51, 0.6)",
          "line": {
           "color": "rgba(255, 153, 51, 1.0)",
           "width": 1
          }
         },
         "name": "None",
         "orientation": "v",
         "text": "",
         "type": "bar",
         "x": [
          "A",
          "B",
          "C",
          "D"
         ],
         "y": [
          7.274168528515852,
          10.818435295049126,
          0.6694024161420095,
          7.068778648124067
         ]
        }
       ],
       "layout": {
        "legend": {
         "bgcolor": "#F5F6F9",
         "font": {
          "color": "#4D5663"
         }
        },
        "paper_bgcolor": "#F5F6F9",
        "plot_bgcolor": "#F5F6F9",
        "template": {
         "data": {
          "bar": [
           {
            "error_x": {
             "color": "#2a3f5f"
            },
            "error_y": {
             "color": "#2a3f5f"
            },
            "marker": {
             "line": {
              "color": "#E5ECF6",
              "width": 0.5
             },
             "pattern": {
              "fillmode": "overlay",
              "size": 10,
              "solidity": 0.2
             }
            },
            "type": "bar"
           }
          ],
          "barpolar": [
           {
            "marker": {
             "line": {
              "color": "#E5ECF6",
              "width": 0.5
             },
             "pattern": {
              "fillmode": "overlay",
              "size": 10,
              "solidity": 0.2
             }
            },
            "type": "barpolar"
           }
          ],
          "carpet": [
           {
            "aaxis": {
             "endlinecolor": "#2a3f5f",
             "gridcolor": "white",
             "linecolor": "white",
             "minorgridcolor": "white",
             "startlinecolor": "#2a3f5f"
            },
            "baxis": {
             "endlinecolor": "#2a3f5f",
             "gridcolor": "white",
             "linecolor": "white",
             "minorgridcolor": "white",
             "startlinecolor": "#2a3f5f"
            },
            "type": "carpet"
           }
          ],
          "choropleth": [
           {
            "colorbar": {
             "outlinewidth": 0,
             "ticks": ""
            },
            "type": "choropleth"
           }
          ],
          "contour": [
           {
            "colorbar": {
             "outlinewidth": 0,
             "ticks": ""
            },
            "colorscale": [
             [
              0,
              "#0d0887"
             ],
             [
              0.1111111111111111,
              "#46039f"
             ],
             [
              0.2222222222222222,
              "#7201a8"
             ],
             [
              0.3333333333333333,
              "#9c179e"
             ],
             [
              0.4444444444444444,
              "#bd3786"
             ],
             [
              0.5555555555555556,
              "#d8576b"
             ],
             [
              0.6666666666666666,
              "#ed7953"
             ],
             [
              0.7777777777777778,
              "#fb9f3a"
             ],
             [
              0.8888888888888888,
              "#fdca26"
             ],
             [
              1,
              "#f0f921"
             ]
            ],
            "type": "contour"
           }
          ],
          "contourcarpet": [
           {
            "colorbar": {
             "outlinewidth": 0,
             "ticks": ""
            },
            "type": "contourcarpet"
           }
          ],
          "heatmap": [
           {
            "colorbar": {
             "outlinewidth": 0,
             "ticks": ""
            },
            "colorscale": [
             [
              0,
              "#0d0887"
             ],
             [
              0.1111111111111111,
              "#46039f"
             ],
             [
              0.2222222222222222,
              "#7201a8"
             ],
             [
              0.3333333333333333,
              "#9c179e"
             ],
             [
              0.4444444444444444,
              "#bd3786"
             ],
             [
              0.5555555555555556,
              "#d8576b"
             ],
             [
              0.6666666666666666,
              "#ed7953"
             ],
             [
              0.7777777777777778,
              "#fb9f3a"
             ],
             [
              0.8888888888888888,
              "#fdca26"
             ],
             [
              1,
              "#f0f921"
             ]
            ],
            "type": "heatmap"
           }
          ],
          "heatmapgl": [
           {
            "colorbar": {
             "outlinewidth": 0,
             "ticks": ""
            },
            "colorscale": [
             [
              0,
              "#0d0887"
             ],
             [
              0.1111111111111111,
              "#46039f"
             ],
             [
              0.2222222222222222,
              "#7201a8"
             ],
             [
              0.3333333333333333,
              "#9c179e"
             ],
             [
              0.4444444444444444,
              "#bd3786"
             ],
             [
              0.5555555555555556,
              "#d8576b"
             ],
             [
              0.6666666666666666,
              "#ed7953"
             ],
             [
              0.7777777777777778,
              "#fb9f3a"
             ],
             [
              0.8888888888888888,
              "#fdca26"
             ],
             [
              1,
              "#f0f921"
             ]
            ],
            "type": "heatmapgl"
           }
          ],
          "histogram": [
           {
            "marker": {
             "pattern": {
              "fillmode": "overlay",
              "size": 10,
              "solidity": 0.2
             }
            },
            "type": "histogram"
           }
          ],
          "histogram2d": [
           {
            "colorbar": {
             "outlinewidth": 0,
             "ticks": ""
            },
            "colorscale": [
             [
              0,
              "#0d0887"
             ],
             [
              0.1111111111111111,
              "#46039f"
             ],
             [
              0.2222222222222222,
              "#7201a8"
             ],
             [
              0.3333333333333333,
              "#9c179e"
             ],
             [
              0.4444444444444444,
              "#bd3786"
             ],
             [
              0.5555555555555556,
              "#d8576b"
             ],
             [
              0.6666666666666666,
              "#ed7953"
             ],
             [
              0.7777777777777778,
              "#fb9f3a"
             ],
             [
              0.8888888888888888,
              "#fdca26"
             ],
             [
              1,
              "#f0f921"
             ]
            ],
            "type": "histogram2d"
           }
          ],
          "histogram2dcontour": [
           {
            "colorbar": {
             "outlinewidth": 0,
             "ticks": ""
            },
            "colorscale": [
             [
              0,
              "#0d0887"
             ],
             [
              0.1111111111111111,
              "#46039f"
             ],
             [
              0.2222222222222222,
              "#7201a8"
             ],
             [
              0.3333333333333333,
              "#9c179e"
             ],
             [
              0.4444444444444444,
              "#bd3786"
             ],
             [
              0.5555555555555556,
              "#d8576b"
             ],
             [
              0.6666666666666666,
              "#ed7953"
             ],
             [
              0.7777777777777778,
              "#fb9f3a"
             ],
             [
              0.8888888888888888,
              "#fdca26"
             ],
             [
              1,
              "#f0f921"
             ]
            ],
            "type": "histogram2dcontour"
           }
          ],
          "mesh3d": [
           {
            "colorbar": {
             "outlinewidth": 0,
             "ticks": ""
            },
            "type": "mesh3d"
           }
          ],
          "parcoords": [
           {
            "line": {
             "colorbar": {
              "outlinewidth": 0,
              "ticks": ""
             }
            },
            "type": "parcoords"
           }
          ],
          "pie": [
           {
            "automargin": true,
            "type": "pie"
           }
          ],
          "scatter": [
           {
            "marker": {
             "colorbar": {
              "outlinewidth": 0,
              "ticks": ""
             }
            },
            "type": "scatter"
           }
          ],
          "scatter3d": [
           {
            "line": {
             "colorbar": {
              "outlinewidth": 0,
              "ticks": ""
             }
            },
            "marker": {
             "colorbar": {
              "outlinewidth": 0,
              "ticks": ""
             }
            },
            "type": "scatter3d"
           }
          ],
          "scattercarpet": [
           {
            "marker": {
             "colorbar": {
              "outlinewidth": 0,
              "ticks": ""
             }
            },
            "type": "scattercarpet"
           }
          ],
          "scattergeo": [
           {
            "marker": {
             "colorbar": {
              "outlinewidth": 0,
              "ticks": ""
             }
            },
            "type": "scattergeo"
           }
          ],
          "scattergl": [
           {
            "marker": {
             "colorbar": {
              "outlinewidth": 0,
              "ticks": ""
             }
            },
            "type": "scattergl"
           }
          ],
          "scattermapbox": [
           {
            "marker": {
             "colorbar": {
              "outlinewidth": 0,
              "ticks": ""
             }
            },
            "type": "scattermapbox"
           }
          ],
          "scatterpolar": [
           {
            "marker": {
             "colorbar": {
              "outlinewidth": 0,
              "ticks": ""
             }
            },
            "type": "scatterpolar"
           }
          ],
          "scatterpolargl": [
           {
            "marker": {
             "colorbar": {
              "outlinewidth": 0,
              "ticks": ""
             }
            },
            "type": "scatterpolargl"
           }
          ],
          "scatterternary": [
           {
            "marker": {
             "colorbar": {
              "outlinewidth": 0,
              "ticks": ""
             }
            },
            "type": "scatterternary"
           }
          ],
          "surface": [
           {
            "colorbar": {
             "outlinewidth": 0,
             "ticks": ""
            },
            "colorscale": [
             [
              0,
              "#0d0887"
             ],
             [
              0.1111111111111111,
              "#46039f"
             ],
             [
              0.2222222222222222,
              "#7201a8"
             ],
             [
              0.3333333333333333,
              "#9c179e"
             ],
             [
              0.4444444444444444,
              "#bd3786"
             ],
             [
              0.5555555555555556,
              "#d8576b"
             ],
             [
              0.6666666666666666,
              "#ed7953"
             ],
             [
              0.7777777777777778,
              "#fb9f3a"
             ],
             [
              0.8888888888888888,
              "#fdca26"
             ],
             [
              1,
              "#f0f921"
             ]
            ],
            "type": "surface"
           }
          ],
          "table": [
           {
            "cells": {
             "fill": {
              "color": "#EBF0F8"
             },
             "line": {
              "color": "white"
             }
            },
            "header": {
             "fill": {
              "color": "#C8D4E3"
             },
             "line": {
              "color": "white"
             }
            },
            "type": "table"
           }
          ]
         },
         "layout": {
          "annotationdefaults": {
           "arrowcolor": "#2a3f5f",
           "arrowhead": 0,
           "arrowwidth": 1
          },
          "autotypenumbers": "strict",
          "coloraxis": {
           "colorbar": {
            "outlinewidth": 0,
            "ticks": ""
           }
          },
          "colorscale": {
           "diverging": [
            [
             0,
             "#8e0152"
            ],
            [
             0.1,
             "#c51b7d"
            ],
            [
             0.2,
             "#de77ae"
            ],
            [
             0.3,
             "#f1b6da"
            ],
            [
             0.4,
             "#fde0ef"
            ],
            [
             0.5,
             "#f7f7f7"
            ],
            [
             0.6,
             "#e6f5d0"
            ],
            [
             0.7,
             "#b8e186"
            ],
            [
             0.8,
             "#7fbc41"
            ],
            [
             0.9,
             "#4d9221"
            ],
            [
             1,
             "#276419"
            ]
           ],
           "sequential": [
            [
             0,
             "#0d0887"
            ],
            [
             0.1111111111111111,
             "#46039f"
            ],
            [
             0.2222222222222222,
             "#7201a8"
            ],
            [
             0.3333333333333333,
             "#9c179e"
            ],
            [
             0.4444444444444444,
             "#bd3786"
            ],
            [
             0.5555555555555556,
             "#d8576b"
            ],
            [
             0.6666666666666666,
             "#ed7953"
            ],
            [
             0.7777777777777778,
             "#fb9f3a"
            ],
            [
             0.8888888888888888,
             "#fdca26"
            ],
            [
             1,
             "#f0f921"
            ]
           ],
           "sequentialminus": [
            [
             0,
             "#0d0887"
            ],
            [
             0.1111111111111111,
             "#46039f"
            ],
            [
             0.2222222222222222,
             "#7201a8"
            ],
            [
             0.3333333333333333,
             "#9c179e"
            ],
            [
             0.4444444444444444,
             "#bd3786"
            ],
            [
             0.5555555555555556,
             "#d8576b"
            ],
            [
             0.6666666666666666,
             "#ed7953"
            ],
            [
             0.7777777777777778,
             "#fb9f3a"
            ],
            [
             0.8888888888888888,
             "#fdca26"
            ],
            [
             1,
             "#f0f921"
            ]
           ]
          },
          "colorway": [
           "#636efa",
           "#EF553B",
           "#00cc96",
           "#ab63fa",
           "#FFA15A",
           "#19d3f3",
           "#FF6692",
           "#B6E880",
           "#FF97FF",
           "#FECB52"
          ],
          "font": {
           "color": "#2a3f5f"
          },
          "geo": {
           "bgcolor": "white",
           "lakecolor": "white",
           "landcolor": "#E5ECF6",
           "showlakes": true,
           "showland": true,
           "subunitcolor": "white"
          },
          "hoverlabel": {
           "align": "left"
          },
          "hovermode": "closest",
          "mapbox": {
           "style": "light"
          },
          "paper_bgcolor": "white",
          "plot_bgcolor": "#E5ECF6",
          "polar": {
           "angularaxis": {
            "gridcolor": "white",
            "linecolor": "white",
            "ticks": ""
           },
           "bgcolor": "#E5ECF6",
           "radialaxis": {
            "gridcolor": "white",
            "linecolor": "white",
            "ticks": ""
           }
          },
          "scene": {
           "xaxis": {
            "backgroundcolor": "#E5ECF6",
            "gridcolor": "white",
            "gridwidth": 2,
            "linecolor": "white",
            "showbackground": true,
            "ticks": "",
            "zerolinecolor": "white"
           },
           "yaxis": {
            "backgroundcolor": "#E5ECF6",
            "gridcolor": "white",
            "gridwidth": 2,
            "linecolor": "white",
            "showbackground": true,
            "ticks": "",
            "zerolinecolor": "white"
           },
           "zaxis": {
            "backgroundcolor": "#E5ECF6",
            "gridcolor": "white",
            "gridwidth": 2,
            "linecolor": "white",
            "showbackground": true,
            "ticks": "",
            "zerolinecolor": "white"
           }
          },
          "shapedefaults": {
           "line": {
            "color": "#2a3f5f"
           }
          },
          "ternary": {
           "aaxis": {
            "gridcolor": "white",
            "linecolor": "white",
            "ticks": ""
           },
           "baxis": {
            "gridcolor": "white",
            "linecolor": "white",
            "ticks": ""
           },
           "bgcolor": "#E5ECF6",
           "caxis": {
            "gridcolor": "white",
            "linecolor": "white",
            "ticks": ""
           }
          },
          "title": {
           "x": 0.05
          },
          "xaxis": {
           "automargin": true,
           "gridcolor": "white",
           "linecolor": "white",
           "ticks": "",
           "title": {
            "standoff": 15
           },
           "zerolinecolor": "white",
           "zerolinewidth": 2
          },
          "yaxis": {
           "automargin": true,
           "gridcolor": "white",
           "linecolor": "white",
           "ticks": "",
           "title": {
            "standoff": 15
           },
           "zerolinecolor": "white",
           "zerolinewidth": 2
          }
         }
        },
        "title": {
         "font": {
          "color": "#4D5663"
         }
        },
        "xaxis": {
         "gridcolor": "#E1E5ED",
         "showgrid": true,
         "tickfont": {
          "color": "#4D5663"
         },
         "title": {
          "font": {
           "color": "#4D5663"
          },
          "text": ""
         },
         "zerolinecolor": "#E1E5ED"
        },
        "yaxis": {
         "gridcolor": "#E1E5ED",
         "showgrid": true,
         "tickfont": {
          "color": "#4D5663"
         },
         "title": {
          "font": {
           "color": "#4D5663"
          },
          "text": ""
         },
         "zerolinecolor": "#E1E5ED"
        }
       }
      },
      "text/html": [
       "<div>                            <div id=\"d73d6b78-3086-424a-bcef-229c3ebffce6\" class=\"plotly-graph-div\" style=\"height:525px; width:100%;\"></div>            <script type=\"text/javascript\">                require([\"plotly\"], function(Plotly) {                    window.PLOTLYENV=window.PLOTLYENV || {};\n",
       "                    window.PLOTLYENV.BASE_URL='https://plot.ly';                                    if (document.getElementById(\"d73d6b78-3086-424a-bcef-229c3ebffce6\")) {                    Plotly.newPlot(                        \"d73d6b78-3086-424a-bcef-229c3ebffce6\",                        [{\"marker\":{\"color\":\"rgba(255, 153, 51, 0.6)\",\"line\":{\"color\":\"rgba(255, 153, 51, 1.0)\",\"width\":1}},\"name\":\"None\",\"orientation\":\"v\",\"text\":\"\",\"x\":[\"A\",\"B\",\"C\",\"D\"],\"y\":[7.274168528515852,10.818435295049126,0.6694024161420095,7.068778648124067],\"type\":\"bar\"}],                        {\"legend\":{\"bgcolor\":\"#F5F6F9\",\"font\":{\"color\":\"#4D5663\"}},\"paper_bgcolor\":\"#F5F6F9\",\"plot_bgcolor\":\"#F5F6F9\",\"template\":{\"data\":{\"barpolar\":[{\"marker\":{\"line\":{\"color\":\"#E5ECF6\",\"width\":0.5},\"pattern\":{\"fillmode\":\"overlay\",\"size\":10,\"solidity\":0.2}},\"type\":\"barpolar\"}],\"bar\":[{\"error_x\":{\"color\":\"#2a3f5f\"},\"error_y\":{\"color\":\"#2a3f5f\"},\"marker\":{\"line\":{\"color\":\"#E5ECF6\",\"width\":0.5},\"pattern\":{\"fillmode\":\"overlay\",\"size\":10,\"solidity\":0.2}},\"type\":\"bar\"}],\"carpet\":[{\"aaxis\":{\"endlinecolor\":\"#2a3f5f\",\"gridcolor\":\"white\",\"linecolor\":\"white\",\"minorgridcolor\":\"white\",\"startlinecolor\":\"#2a3f5f\"},\"baxis\":{\"endlinecolor\":\"#2a3f5f\",\"gridcolor\":\"white\",\"linecolor\":\"white\",\"minorgridcolor\":\"white\",\"startlinecolor\":\"#2a3f5f\"},\"type\":\"carpet\"}],\"choropleth\":[{\"colorbar\":{\"outlinewidth\":0,\"ticks\":\"\"},\"type\":\"choropleth\"}],\"contourcarpet\":[{\"colorbar\":{\"outlinewidth\":0,\"ticks\":\"\"},\"type\":\"contourcarpet\"}],\"contour\":[{\"colorbar\":{\"outlinewidth\":0,\"ticks\":\"\"},\"colorscale\":[[0.0,\"#0d0887\"],[0.1111111111111111,\"#46039f\"],[0.2222222222222222,\"#7201a8\"],[0.3333333333333333,\"#9c179e\"],[0.4444444444444444,\"#bd3786\"],[0.5555555555555556,\"#d8576b\"],[0.6666666666666666,\"#ed7953\"],[0.7777777777777778,\"#fb9f3a\"],[0.8888888888888888,\"#fdca26\"],[1.0,\"#f0f921\"]],\"type\":\"contour\"}],\"heatmapgl\":[{\"colorbar\":{\"outlinewidth\":0,\"ticks\":\"\"},\"colorscale\":[[0.0,\"#0d0887\"],[0.1111111111111111,\"#46039f\"],[0.2222222222222222,\"#7201a8\"],[0.3333333333333333,\"#9c179e\"],[0.4444444444444444,\"#bd3786\"],[0.5555555555555556,\"#d8576b\"],[0.6666666666666666,\"#ed7953\"],[0.7777777777777778,\"#fb9f3a\"],[0.8888888888888888,\"#fdca26\"],[1.0,\"#f0f921\"]],\"type\":\"heatmapgl\"}],\"heatmap\":[{\"colorbar\":{\"outlinewidth\":0,\"ticks\":\"\"},\"colorscale\":[[0.0,\"#0d0887\"],[0.1111111111111111,\"#46039f\"],[0.2222222222222222,\"#7201a8\"],[0.3333333333333333,\"#9c179e\"],[0.4444444444444444,\"#bd3786\"],[0.5555555555555556,\"#d8576b\"],[0.6666666666666666,\"#ed7953\"],[0.7777777777777778,\"#fb9f3a\"],[0.8888888888888888,\"#fdca26\"],[1.0,\"#f0f921\"]],\"type\":\"heatmap\"}],\"histogram2dcontour\":[{\"colorbar\":{\"outlinewidth\":0,\"ticks\":\"\"},\"colorscale\":[[0.0,\"#0d0887\"],[0.1111111111111111,\"#46039f\"],[0.2222222222222222,\"#7201a8\"],[0.3333333333333333,\"#9c179e\"],[0.4444444444444444,\"#bd3786\"],[0.5555555555555556,\"#d8576b\"],[0.6666666666666666,\"#ed7953\"],[0.7777777777777778,\"#fb9f3a\"],[0.8888888888888888,\"#fdca26\"],[1.0,\"#f0f921\"]],\"type\":\"histogram2dcontour\"}],\"histogram2d\":[{\"colorbar\":{\"outlinewidth\":0,\"ticks\":\"\"},\"colorscale\":[[0.0,\"#0d0887\"],[0.1111111111111111,\"#46039f\"],[0.2222222222222222,\"#7201a8\"],[0.3333333333333333,\"#9c179e\"],[0.4444444444444444,\"#bd3786\"],[0.5555555555555556,\"#d8576b\"],[0.6666666666666666,\"#ed7953\"],[0.7777777777777778,\"#fb9f3a\"],[0.8888888888888888,\"#fdca26\"],[1.0,\"#f0f921\"]],\"type\":\"histogram2d\"}],\"histogram\":[{\"marker\":{\"pattern\":{\"fillmode\":\"overlay\",\"size\":10,\"solidity\":0.2}},\"type\":\"histogram\"}],\"mesh3d\":[{\"colorbar\":{\"outlinewidth\":0,\"ticks\":\"\"},\"type\":\"mesh3d\"}],\"parcoords\":[{\"line\":{\"colorbar\":{\"outlinewidth\":0,\"ticks\":\"\"}},\"type\":\"parcoords\"}],\"pie\":[{\"automargin\":true,\"type\":\"pie\"}],\"scatter3d\":[{\"line\":{\"colorbar\":{\"outlinewidth\":0,\"ticks\":\"\"}},\"marker\":{\"colorbar\":{\"outlinewidth\":0,\"ticks\":\"\"}},\"type\":\"scatter3d\"}],\"scattercarpet\":[{\"marker\":{\"colorbar\":{\"outlinewidth\":0,\"ticks\":\"\"}},\"type\":\"scattercarpet\"}],\"scattergeo\":[{\"marker\":{\"colorbar\":{\"outlinewidth\":0,\"ticks\":\"\"}},\"type\":\"scattergeo\"}],\"scattergl\":[{\"marker\":{\"colorbar\":{\"outlinewidth\":0,\"ticks\":\"\"}},\"type\":\"scattergl\"}],\"scattermapbox\":[{\"marker\":{\"colorbar\":{\"outlinewidth\":0,\"ticks\":\"\"}},\"type\":\"scattermapbox\"}],\"scatterpolargl\":[{\"marker\":{\"colorbar\":{\"outlinewidth\":0,\"ticks\":\"\"}},\"type\":\"scatterpolargl\"}],\"scatterpolar\":[{\"marker\":{\"colorbar\":{\"outlinewidth\":0,\"ticks\":\"\"}},\"type\":\"scatterpolar\"}],\"scatter\":[{\"marker\":{\"colorbar\":{\"outlinewidth\":0,\"ticks\":\"\"}},\"type\":\"scatter\"}],\"scatterternary\":[{\"marker\":{\"colorbar\":{\"outlinewidth\":0,\"ticks\":\"\"}},\"type\":\"scatterternary\"}],\"surface\":[{\"colorbar\":{\"outlinewidth\":0,\"ticks\":\"\"},\"colorscale\":[[0.0,\"#0d0887\"],[0.1111111111111111,\"#46039f\"],[0.2222222222222222,\"#7201a8\"],[0.3333333333333333,\"#9c179e\"],[0.4444444444444444,\"#bd3786\"],[0.5555555555555556,\"#d8576b\"],[0.6666666666666666,\"#ed7953\"],[0.7777777777777778,\"#fb9f3a\"],[0.8888888888888888,\"#fdca26\"],[1.0,\"#f0f921\"]],\"type\":\"surface\"}],\"table\":[{\"cells\":{\"fill\":{\"color\":\"#EBF0F8\"},\"line\":{\"color\":\"white\"}},\"header\":{\"fill\":{\"color\":\"#C8D4E3\"},\"line\":{\"color\":\"white\"}},\"type\":\"table\"}]},\"layout\":{\"annotationdefaults\":{\"arrowcolor\":\"#2a3f5f\",\"arrowhead\":0,\"arrowwidth\":1},\"autotypenumbers\":\"strict\",\"coloraxis\":{\"colorbar\":{\"outlinewidth\":0,\"ticks\":\"\"}},\"colorscale\":{\"diverging\":[[0,\"#8e0152\"],[0.1,\"#c51b7d\"],[0.2,\"#de77ae\"],[0.3,\"#f1b6da\"],[0.4,\"#fde0ef\"],[0.5,\"#f7f7f7\"],[0.6,\"#e6f5d0\"],[0.7,\"#b8e186\"],[0.8,\"#7fbc41\"],[0.9,\"#4d9221\"],[1,\"#276419\"]],\"sequential\":[[0.0,\"#0d0887\"],[0.1111111111111111,\"#46039f\"],[0.2222222222222222,\"#7201a8\"],[0.3333333333333333,\"#9c179e\"],[0.4444444444444444,\"#bd3786\"],[0.5555555555555556,\"#d8576b\"],[0.6666666666666666,\"#ed7953\"],[0.7777777777777778,\"#fb9f3a\"],[0.8888888888888888,\"#fdca26\"],[1.0,\"#f0f921\"]],\"sequentialminus\":[[0.0,\"#0d0887\"],[0.1111111111111111,\"#46039f\"],[0.2222222222222222,\"#7201a8\"],[0.3333333333333333,\"#9c179e\"],[0.4444444444444444,\"#bd3786\"],[0.5555555555555556,\"#d8576b\"],[0.6666666666666666,\"#ed7953\"],[0.7777777777777778,\"#fb9f3a\"],[0.8888888888888888,\"#fdca26\"],[1.0,\"#f0f921\"]]},\"colorway\":[\"#636efa\",\"#EF553B\",\"#00cc96\",\"#ab63fa\",\"#FFA15A\",\"#19d3f3\",\"#FF6692\",\"#B6E880\",\"#FF97FF\",\"#FECB52\"],\"font\":{\"color\":\"#2a3f5f\"},\"geo\":{\"bgcolor\":\"white\",\"lakecolor\":\"white\",\"landcolor\":\"#E5ECF6\",\"showlakes\":true,\"showland\":true,\"subunitcolor\":\"white\"},\"hoverlabel\":{\"align\":\"left\"},\"hovermode\":\"closest\",\"mapbox\":{\"style\":\"light\"},\"paper_bgcolor\":\"white\",\"plot_bgcolor\":\"#E5ECF6\",\"polar\":{\"angularaxis\":{\"gridcolor\":\"white\",\"linecolor\":\"white\",\"ticks\":\"\"},\"bgcolor\":\"#E5ECF6\",\"radialaxis\":{\"gridcolor\":\"white\",\"linecolor\":\"white\",\"ticks\":\"\"}},\"scene\":{\"xaxis\":{\"backgroundcolor\":\"#E5ECF6\",\"gridcolor\":\"white\",\"gridwidth\":2,\"linecolor\":\"white\",\"showbackground\":true,\"ticks\":\"\",\"zerolinecolor\":\"white\"},\"yaxis\":{\"backgroundcolor\":\"#E5ECF6\",\"gridcolor\":\"white\",\"gridwidth\":2,\"linecolor\":\"white\",\"showbackground\":true,\"ticks\":\"\",\"zerolinecolor\":\"white\"},\"zaxis\":{\"backgroundcolor\":\"#E5ECF6\",\"gridcolor\":\"white\",\"gridwidth\":2,\"linecolor\":\"white\",\"showbackground\":true,\"ticks\":\"\",\"zerolinecolor\":\"white\"}},\"shapedefaults\":{\"line\":{\"color\":\"#2a3f5f\"}},\"ternary\":{\"aaxis\":{\"gridcolor\":\"white\",\"linecolor\":\"white\",\"ticks\":\"\"},\"baxis\":{\"gridcolor\":\"white\",\"linecolor\":\"white\",\"ticks\":\"\"},\"bgcolor\":\"#E5ECF6\",\"caxis\":{\"gridcolor\":\"white\",\"linecolor\":\"white\",\"ticks\":\"\"}},\"title\":{\"x\":0.05},\"xaxis\":{\"automargin\":true,\"gridcolor\":\"white\",\"linecolor\":\"white\",\"ticks\":\"\",\"title\":{\"standoff\":15},\"zerolinecolor\":\"white\",\"zerolinewidth\":2},\"yaxis\":{\"automargin\":true,\"gridcolor\":\"white\",\"linecolor\":\"white\",\"ticks\":\"\",\"title\":{\"standoff\":15},\"zerolinecolor\":\"white\",\"zerolinewidth\":2}}},\"title\":{\"font\":{\"color\":\"#4D5663\"}},\"xaxis\":{\"gridcolor\":\"#E1E5ED\",\"showgrid\":true,\"tickfont\":{\"color\":\"#4D5663\"},\"title\":{\"font\":{\"color\":\"#4D5663\"},\"text\":\"\"},\"zerolinecolor\":\"#E1E5ED\"},\"yaxis\":{\"gridcolor\":\"#E1E5ED\",\"showgrid\":true,\"tickfont\":{\"color\":\"#4D5663\"},\"title\":{\"font\":{\"color\":\"#4D5663\"},\"text\":\"\"},\"zerolinecolor\":\"#E1E5ED\"}},                        {\"showLink\": true, \"linkText\": \"Export to plot.ly\", \"plotlyServerURL\": \"https://plot.ly\", \"responsive\": true}                    ).then(function(){\n",
       "                            \n",
       "var gd = document.getElementById('d73d6b78-3086-424a-bcef-229c3ebffce6');\n",
       "var x = new MutationObserver(function (mutations, observer) {{\n",
       "        var display = window.getComputedStyle(gd).display;\n",
       "        if (!display || display === 'none') {{\n",
       "            console.log([gd, 'removed!']);\n",
       "            Plotly.purge(gd);\n",
       "            observer.disconnect();\n",
       "        }}\n",
       "}});\n",
       "\n",
       "// Listen for the removal of the full notebook cells\n",
       "var notebookContainer = gd.closest('#notebook-container');\n",
       "if (notebookContainer) {{\n",
       "    x.observe(notebookContainer, {childList: true});\n",
       "}}\n",
       "\n",
       "// Listen for the clearing of the current output cell\n",
       "var outputEl = gd.closest('.output');\n",
       "if (outputEl) {{\n",
       "    x.observe(outputEl, {childList: true});\n",
       "}}\n",
       "\n",
       "                        })                };                });            </script>        </div>"
      ]
     },
     "metadata": {},
     "output_type": "display_data"
    }
   ],
   "source": [
    "df.sum().iplot(kind='bar')"
   ]
  },
  {
   "cell_type": "code",
   "execution_count": 76,
   "metadata": {},
   "outputs": [
    {
     "data": {
      "application/vnd.plotly.v1+json": {
       "config": {
        "linkText": "Export to plot.ly",
        "plotlyServerURL": "https://plot.ly",
        "showLink": true
       },
       "data": [
        {
         "boxpoints": false,
         "line": {
          "width": 1.3
         },
         "marker": {
          "color": "rgba(255, 153, 51, 1.0)"
         },
         "name": "A",
         "orientation": "v",
         "type": "box",
         "y": [
          -1.5470379470686257,
          -0.3866827505899728,
          0.05907767532625553,
          1.3528949385329836,
          -0.2446134380889313,
          -2.406380574789591,
          -0.2816288308863832,
          0.4275053609457478,
          -0.5819392334941368,
          0.7569495452421476,
          0.6453177603325179,
          0.57422805107268,
          1.3148995288538112,
          0.220666189826017,
          -0.2839870046920182,
          0.7140778562736044,
          1.2652541519683163,
          -0.5332706279507585,
          -1.99742682090396,
          0.4405887301243418,
          1.6892743646745116,
          -0.19165751288169328,
          0.5104035641178164,
          1.3803225460438007,
          0.16703348752209532,
          -0.285872723137153,
          -0.2049482645233315,
          -0.6179469943011561,
          0.6032652329988165,
          0.05057590325797419,
          -1.3294185799763285,
          0.578716171231639,
          -1.6111718252564509,
          -0.7525916016188796,
          0.8249183497350251,
          -0.015267594448878615,
          -2.0692673026355326,
          0.6428908175911534,
          1.7655572451119899,
          2.031329227063635,
          -1.466347474243045,
          1.6401369002649178,
          -0.34019045909674234,
          0.8635745180435763,
          -0.41744886551989835,
          -0.10163440297958373,
          0.7703425064697068,
          1.4689212890171626,
          -0.23433370060897665,
          -1.3258769200955578,
          -1.1718941254219373,
          0.801932550048809,
          1.448807734284354,
          0.9847030866880221,
          0.3376184172512405,
          -1.5242713825393606,
          0.7027628372435865,
          -0.2791683192032702,
          0.020488303009922777,
          0.820619688063049,
          -0.36218158301404263,
          0.14617037002964653,
          1.6718586124907957,
          0.6705673605246165,
          0.27828495652272867,
          0.20926566932783422,
          -1.9184096983655765,
          -0.6402371208591136,
          -0.08170770033706065,
          -0.06808155063387622,
          -1.38010522374821,
          0.39561517267437496,
          0.7531494990024865,
          -0.6283031170433298,
          -1.8242056728883924,
          0.9256295159513197,
          1.2767649316415697,
          0.18525786624729326,
          0.5745200766324614,
          0.8337022049758677,
          -0.3243762742733441,
          0.4824787010648017,
          -0.1608409373329267,
          1.8793431047865878,
          0.3314905561931448,
          -0.29036873392865464,
          0.7482402104538096,
          0.49709639164898334,
          0.21495382334267585,
          1.0208806180216834,
          -0.03170735862101034,
          -2.5312495750725925,
          2.1046549936147385,
          -0.1046128281488064,
          -0.3285804840215899,
          0.24177836912715794,
          0.05569559765452582,
          -0.762999801993306,
          -0.6164640215496762,
          -1.8421776428608174
         ]
        },
        {
         "boxpoints": false,
         "line": {
          "width": 1.3
         },
         "marker": {
          "color": "rgba(55, 128, 191, 1.0)"
         },
         "name": "B",
         "orientation": "v",
         "type": "box",
         "y": [
          -0.17932026330190684,
          0.34198544751858234,
          -1.2713269129457325,
          0.0016652786409217964,
          1.4803864821833077,
          -0.2836750888514914,
          -1.4155538362514601,
          -0.5739661271236048,
          -0.35744198935824456,
          -0.8994230904876396,
          0.6991253544572609,
          -0.874793148785467,
          -0.39153074019047707,
          -0.880394830638912,
          0.4995926613587126,
          0.6293698296553195,
          1.3544469494098934,
          0.4810071047022162,
          -0.40595170495224314,
          0.09622342847254901,
          0.43681638785495297,
          -0.7536552634789734,
          0.46515551350074097,
          -0.4107904278107822,
          -0.667536213298158,
          -0.644002357567441,
          0.3279416680591974,
          -0.35640426241977324,
          0.7192398636967984,
          -0.3544851170731683,
          0.08830059864042557,
          0.030758743727376085,
          0.8935198532569544,
          0.3892696875617487,
          0.3237375347818951,
          0.6041497331006355,
          -0.40400232746982956,
          1.8468632501683382,
          -0.029077327946170142,
          0.25908762161059545,
          0.8679450620220365,
          0.967081274178919,
          1.80357447518855,
          0.7548651304368754,
          -0.5513298895031992,
          1.3705646354783096,
          0.8589382061452533,
          -1.0947470720924772,
          0.765715570102174,
          0.2385720284350847,
          -0.5320081762202075,
          -2.1047278011907666,
          -0.22838874539262682,
          -1.0758351304521767,
          0.6994286964722767,
          1.1983555883520542,
          1.8709137281616257,
          0.3346340175992276,
          1.179301597937332,
          -1.9309090060954557,
          -1.0881323911298968,
          0.0925198558216795,
          -0.6780781717104581,
          0.6074641297220856,
          1.0533655951830938,
          0.8330378584588016,
          -0.5385028983342077,
          -1.5582948613417311,
          0.5633831011807973,
          0.296668625167125,
          -0.9065113935632445,
          -0.21770298654540515,
          -0.18554362127577312,
          0.8460395539141479,
          -0.06587075962834432,
          -1.3271566677311997,
          0.25495202389316673,
          -0.6747528477615352,
          -1.435892609276357,
          -0.960122176589752,
          -0.3454127480759408,
          0.4072393867432423,
          -1.338046384045666,
          0.5103799524326336,
          1.4224780373575563,
          0.5088221930699162,
          0.03356517523728443,
          0.45970454247660264,
          1.2459543043789276,
          0.2505549812457923,
          0.259785611079415,
          0.5130794204738841,
          2.8931347231761175,
          -0.08760616578299192,
          -1.1963390674150716,
          0.8284380378357371,
          1.0897731639265282,
          3.2145514299528397,
          0.5444588734985717,
          -1.5142056829390005
         ]
        },
        {
         "boxpoints": false,
         "line": {
          "width": 1.3
         },
         "marker": {
          "color": "rgba(50, 171, 96, 1.0)"
         },
         "name": "C",
         "orientation": "v",
         "type": "box",
         "y": [
          -0.8827337164904582,
          -1.8364531539319333,
          0.8082687682781682,
          0.6289536187563297,
          0.13738826055039535,
          -0.48702056371183133,
          -0.4662976847342923,
          -0.7015128306413758,
          -2.075792831188183,
          1.1176300474724994,
          0.9671408679228939,
          0.3868725572827184,
          1.2346153433668805,
          -0.9703164223331473,
          1.9817729912124495,
          -0.7776807674549705,
          1.0904074274491107,
          0.10563209017692979,
          -1.5907909212167808,
          1.0082636128241178,
          -0.3353296165270854,
          -0.7591345840064578,
          0.7742601105711353,
          1.1467958848004252,
          0.9200633767725459,
          0.7346362265663221,
          -0.8139337677173419,
          -0.5546883808219134,
          0.2764431453193479,
          -0.95215237627935,
          -0.07095272199313353,
          -0.520697352733301,
          -0.4340839633081928,
          -1.0466663533478058,
          1.2543681127605029,
          0.8666311142299339,
          -0.3518608740488995,
          -0.43880066086130814,
          0.42178024324125096,
          1.299203464296593,
          -0.15407331280936215,
          -0.6075954511987632,
          -0.31243377106445835,
          -0.3299566935335466,
          -0.8873057264322378,
          0.04679665624628326,
          -0.12976410822364787,
          0.6617216984182405,
          0.2677726756401323,
          0.36854030491480244,
          1.0834360202988516,
          -0.5358001827681771,
          1.3566403293736051,
          1.3232084208589134,
          -0.9200288536262442,
          0.4035164337882321,
          1.457756930269989,
          -0.48177075689597204,
          -0.10253003630182166,
          -1.1087611194830596,
          1.2405184299530734,
          -1.1613026903681023,
          -0.21807727298806873,
          2.073990265406395,
          -0.12142871305310494,
          -1.130168455585731,
          0.6737067936121557,
          -0.5226892924994307,
          0.9439193803151366,
          -0.9443041315154184,
          -0.5173949214588162,
          0.35076467768349945,
          -0.1268157260701168,
          1.5232667086176082,
          -0.42512384149961735,
          -1.2916065855294245,
          -0.2895713037165531,
          0.5519442699233186,
          1.6307332488054225,
          0.49046965386208186,
          -1.5335496821072878,
          -0.4633643003770435,
          -0.7016934868574808,
          -0.2487663579333527,
          0.31110876877089483,
          -1.7132404041523144,
          1.057646417962785,
          -0.1528239791025941,
          -0.699145591330207,
          -1.7823629346489065,
          -0.11037143237132825,
          0.5125188565494171,
          0.4533917864601765,
          -0.6654675164735756,
          1.6813259994038556,
          -0.995626301686294,
          0.484448176581966,
          -0.9251656585866519,
          -0.41487414299947856,
          1.3509865271705759
         ]
        },
        {
         "boxpoints": false,
         "line": {
          "width": 1.3
         },
         "marker": {
          "color": "rgba(128, 0, 128, 1.0)"
         },
         "name": "D",
         "orientation": "v",
         "type": "box",
         "y": [
          -0.6920880206110122,
          -1.1528187877583664,
          0.5086136006525542,
          -0.3215793850236674,
          -1.394860954443431,
          0.8898543007611304,
          0.6766517919690216,
          1.2415891437981637,
          0.5749645946153426,
          0.8191522907746716,
          -1.3401567878568013,
          0.004138571752962983,
          1.9727662152133698,
          1.7100298800610687,
          0.7905135404134748,
          0.5035795302927593,
          -0.6426516642396118,
          0.6107854330514066,
          0.10928182793825748,
          1.1501642674489254,
          -2.4740487192674028,
          -0.43881799465043336,
          -0.8094019886420079,
          -0.31202726037660966,
          -0.2236736738974433,
          -1.3740994147648478,
          -0.24299560216202182,
          0.32179333878077643,
          0.48952220272470165,
          0.1242364926299338,
          0.6655346523272315,
          0.2335595973186929,
          -1.3979047777316438,
          -1.1861224414071925,
          -0.11470463861534105,
          0.888977369121416,
          0.19762432272577532,
          -0.911490070227444,
          0.42138513877796047,
          -1.2392259969612873,
          -0.42396337197608314,
          -0.8040254949941189,
          0.5246503673076683,
          0.6174376551293572,
          0.6667732964950027,
          -1.624315511280616,
          -0.7009900507939105,
          -0.7566895336475554,
          0.4228153655438361,
          -0.4921515625061394,
          -0.28024629047864485,
          -0.015140262941474195,
          1.2599427979153641,
          0.5190923874462334,
          0.05096023773849388,
          1.323901428598727,
          1.548038022029308,
          -0.8155899694131572,
          0.9399055199142157,
          0.07432006820395431,
          1.0041698831027674,
          -1.20750103555811,
          0.859700286664465,
          -0.28205347737206277,
          -0.30401620740514995,
          0.16367012099450978,
          -1.2584412572551649,
          -0.325827150091203,
          -1.7999396554564284,
          -0.20307309104609228,
          -1.1442481553192654,
          0.653286239947092,
          0.07516392687232953,
          0.7521899316131974,
          0.5260372458993744,
          -1.395226916488713,
          0.9921908967238827,
          1.2418292779657578,
          -0.1539017470993894,
          0.7373886256861507,
          0.38834918020664827,
          0.2362135412776182,
          0.0115188899390858,
          -1.6415807833383291,
          1.8233714094438518,
          -0.02860208451841463,
          0.9508625218057386,
          -1.4221906894981022,
          0.43956758103632954,
          0.3276390633566963,
          0.5591093211320485,
          2.0975676475011604,
          0.5114912158185853,
          1.0926954349320122,
          0.09089460843272662,
          -0.07754270763857592,
          -0.23416245302275307,
          1.013785139194283,
          1.3047201740780954,
          0.02289887280392105
         ]
        }
       ],
       "layout": {
        "legend": {
         "bgcolor": "#F5F6F9",
         "font": {
          "color": "#4D5663"
         }
        },
        "paper_bgcolor": "#F5F6F9",
        "plot_bgcolor": "#F5F6F9",
        "template": {
         "data": {
          "bar": [
           {
            "error_x": {
             "color": "#2a3f5f"
            },
            "error_y": {
             "color": "#2a3f5f"
            },
            "marker": {
             "line": {
              "color": "#E5ECF6",
              "width": 0.5
             },
             "pattern": {
              "fillmode": "overlay",
              "size": 10,
              "solidity": 0.2
             }
            },
            "type": "bar"
           }
          ],
          "barpolar": [
           {
            "marker": {
             "line": {
              "color": "#E5ECF6",
              "width": 0.5
             },
             "pattern": {
              "fillmode": "overlay",
              "size": 10,
              "solidity": 0.2
             }
            },
            "type": "barpolar"
           }
          ],
          "carpet": [
           {
            "aaxis": {
             "endlinecolor": "#2a3f5f",
             "gridcolor": "white",
             "linecolor": "white",
             "minorgridcolor": "white",
             "startlinecolor": "#2a3f5f"
            },
            "baxis": {
             "endlinecolor": "#2a3f5f",
             "gridcolor": "white",
             "linecolor": "white",
             "minorgridcolor": "white",
             "startlinecolor": "#2a3f5f"
            },
            "type": "carpet"
           }
          ],
          "choropleth": [
           {
            "colorbar": {
             "outlinewidth": 0,
             "ticks": ""
            },
            "type": "choropleth"
           }
          ],
          "contour": [
           {
            "colorbar": {
             "outlinewidth": 0,
             "ticks": ""
            },
            "colorscale": [
             [
              0,
              "#0d0887"
             ],
             [
              0.1111111111111111,
              "#46039f"
             ],
             [
              0.2222222222222222,
              "#7201a8"
             ],
             [
              0.3333333333333333,
              "#9c179e"
             ],
             [
              0.4444444444444444,
              "#bd3786"
             ],
             [
              0.5555555555555556,
              "#d8576b"
             ],
             [
              0.6666666666666666,
              "#ed7953"
             ],
             [
              0.7777777777777778,
              "#fb9f3a"
             ],
             [
              0.8888888888888888,
              "#fdca26"
             ],
             [
              1,
              "#f0f921"
             ]
            ],
            "type": "contour"
           }
          ],
          "contourcarpet": [
           {
            "colorbar": {
             "outlinewidth": 0,
             "ticks": ""
            },
            "type": "contourcarpet"
           }
          ],
          "heatmap": [
           {
            "colorbar": {
             "outlinewidth": 0,
             "ticks": ""
            },
            "colorscale": [
             [
              0,
              "#0d0887"
             ],
             [
              0.1111111111111111,
              "#46039f"
             ],
             [
              0.2222222222222222,
              "#7201a8"
             ],
             [
              0.3333333333333333,
              "#9c179e"
             ],
             [
              0.4444444444444444,
              "#bd3786"
             ],
             [
              0.5555555555555556,
              "#d8576b"
             ],
             [
              0.6666666666666666,
              "#ed7953"
             ],
             [
              0.7777777777777778,
              "#fb9f3a"
             ],
             [
              0.8888888888888888,
              "#fdca26"
             ],
             [
              1,
              "#f0f921"
             ]
            ],
            "type": "heatmap"
           }
          ],
          "heatmapgl": [
           {
            "colorbar": {
             "outlinewidth": 0,
             "ticks": ""
            },
            "colorscale": [
             [
              0,
              "#0d0887"
             ],
             [
              0.1111111111111111,
              "#46039f"
             ],
             [
              0.2222222222222222,
              "#7201a8"
             ],
             [
              0.3333333333333333,
              "#9c179e"
             ],
             [
              0.4444444444444444,
              "#bd3786"
             ],
             [
              0.5555555555555556,
              "#d8576b"
             ],
             [
              0.6666666666666666,
              "#ed7953"
             ],
             [
              0.7777777777777778,
              "#fb9f3a"
             ],
             [
              0.8888888888888888,
              "#fdca26"
             ],
             [
              1,
              "#f0f921"
             ]
            ],
            "type": "heatmapgl"
           }
          ],
          "histogram": [
           {
            "marker": {
             "pattern": {
              "fillmode": "overlay",
              "size": 10,
              "solidity": 0.2
             }
            },
            "type": "histogram"
           }
          ],
          "histogram2d": [
           {
            "colorbar": {
             "outlinewidth": 0,
             "ticks": ""
            },
            "colorscale": [
             [
              0,
              "#0d0887"
             ],
             [
              0.1111111111111111,
              "#46039f"
             ],
             [
              0.2222222222222222,
              "#7201a8"
             ],
             [
              0.3333333333333333,
              "#9c179e"
             ],
             [
              0.4444444444444444,
              "#bd3786"
             ],
             [
              0.5555555555555556,
              "#d8576b"
             ],
             [
              0.6666666666666666,
              "#ed7953"
             ],
             [
              0.7777777777777778,
              "#fb9f3a"
             ],
             [
              0.8888888888888888,
              "#fdca26"
             ],
             [
              1,
              "#f0f921"
             ]
            ],
            "type": "histogram2d"
           }
          ],
          "histogram2dcontour": [
           {
            "colorbar": {
             "outlinewidth": 0,
             "ticks": ""
            },
            "colorscale": [
             [
              0,
              "#0d0887"
             ],
             [
              0.1111111111111111,
              "#46039f"
             ],
             [
              0.2222222222222222,
              "#7201a8"
             ],
             [
              0.3333333333333333,
              "#9c179e"
             ],
             [
              0.4444444444444444,
              "#bd3786"
             ],
             [
              0.5555555555555556,
              "#d8576b"
             ],
             [
              0.6666666666666666,
              "#ed7953"
             ],
             [
              0.7777777777777778,
              "#fb9f3a"
             ],
             [
              0.8888888888888888,
              "#fdca26"
             ],
             [
              1,
              "#f0f921"
             ]
            ],
            "type": "histogram2dcontour"
           }
          ],
          "mesh3d": [
           {
            "colorbar": {
             "outlinewidth": 0,
             "ticks": ""
            },
            "type": "mesh3d"
           }
          ],
          "parcoords": [
           {
            "line": {
             "colorbar": {
              "outlinewidth": 0,
              "ticks": ""
             }
            },
            "type": "parcoords"
           }
          ],
          "pie": [
           {
            "automargin": true,
            "type": "pie"
           }
          ],
          "scatter": [
           {
            "marker": {
             "colorbar": {
              "outlinewidth": 0,
              "ticks": ""
             }
            },
            "type": "scatter"
           }
          ],
          "scatter3d": [
           {
            "line": {
             "colorbar": {
              "outlinewidth": 0,
              "ticks": ""
             }
            },
            "marker": {
             "colorbar": {
              "outlinewidth": 0,
              "ticks": ""
             }
            },
            "type": "scatter3d"
           }
          ],
          "scattercarpet": [
           {
            "marker": {
             "colorbar": {
              "outlinewidth": 0,
              "ticks": ""
             }
            },
            "type": "scattercarpet"
           }
          ],
          "scattergeo": [
           {
            "marker": {
             "colorbar": {
              "outlinewidth": 0,
              "ticks": ""
             }
            },
            "type": "scattergeo"
           }
          ],
          "scattergl": [
           {
            "marker": {
             "colorbar": {
              "outlinewidth": 0,
              "ticks": ""
             }
            },
            "type": "scattergl"
           }
          ],
          "scattermapbox": [
           {
            "marker": {
             "colorbar": {
              "outlinewidth": 0,
              "ticks": ""
             }
            },
            "type": "scattermapbox"
           }
          ],
          "scatterpolar": [
           {
            "marker": {
             "colorbar": {
              "outlinewidth": 0,
              "ticks": ""
             }
            },
            "type": "scatterpolar"
           }
          ],
          "scatterpolargl": [
           {
            "marker": {
             "colorbar": {
              "outlinewidth": 0,
              "ticks": ""
             }
            },
            "type": "scatterpolargl"
           }
          ],
          "scatterternary": [
           {
            "marker": {
             "colorbar": {
              "outlinewidth": 0,
              "ticks": ""
             }
            },
            "type": "scatterternary"
           }
          ],
          "surface": [
           {
            "colorbar": {
             "outlinewidth": 0,
             "ticks": ""
            },
            "colorscale": [
             [
              0,
              "#0d0887"
             ],
             [
              0.1111111111111111,
              "#46039f"
             ],
             [
              0.2222222222222222,
              "#7201a8"
             ],
             [
              0.3333333333333333,
              "#9c179e"
             ],
             [
              0.4444444444444444,
              "#bd3786"
             ],
             [
              0.5555555555555556,
              "#d8576b"
             ],
             [
              0.6666666666666666,
              "#ed7953"
             ],
             [
              0.7777777777777778,
              "#fb9f3a"
             ],
             [
              0.8888888888888888,
              "#fdca26"
             ],
             [
              1,
              "#f0f921"
             ]
            ],
            "type": "surface"
           }
          ],
          "table": [
           {
            "cells": {
             "fill": {
              "color": "#EBF0F8"
             },
             "line": {
              "color": "white"
             }
            },
            "header": {
             "fill": {
              "color": "#C8D4E3"
             },
             "line": {
              "color": "white"
             }
            },
            "type": "table"
           }
          ]
         },
         "layout": {
          "annotationdefaults": {
           "arrowcolor": "#2a3f5f",
           "arrowhead": 0,
           "arrowwidth": 1
          },
          "autotypenumbers": "strict",
          "coloraxis": {
           "colorbar": {
            "outlinewidth": 0,
            "ticks": ""
           }
          },
          "colorscale": {
           "diverging": [
            [
             0,
             "#8e0152"
            ],
            [
             0.1,
             "#c51b7d"
            ],
            [
             0.2,
             "#de77ae"
            ],
            [
             0.3,
             "#f1b6da"
            ],
            [
             0.4,
             "#fde0ef"
            ],
            [
             0.5,
             "#f7f7f7"
            ],
            [
             0.6,
             "#e6f5d0"
            ],
            [
             0.7,
             "#b8e186"
            ],
            [
             0.8,
             "#7fbc41"
            ],
            [
             0.9,
             "#4d9221"
            ],
            [
             1,
             "#276419"
            ]
           ],
           "sequential": [
            [
             0,
             "#0d0887"
            ],
            [
             0.1111111111111111,
             "#46039f"
            ],
            [
             0.2222222222222222,
             "#7201a8"
            ],
            [
             0.3333333333333333,
             "#9c179e"
            ],
            [
             0.4444444444444444,
             "#bd3786"
            ],
            [
             0.5555555555555556,
             "#d8576b"
            ],
            [
             0.6666666666666666,
             "#ed7953"
            ],
            [
             0.7777777777777778,
             "#fb9f3a"
            ],
            [
             0.8888888888888888,
             "#fdca26"
            ],
            [
             1,
             "#f0f921"
            ]
           ],
           "sequentialminus": [
            [
             0,
             "#0d0887"
            ],
            [
             0.1111111111111111,
             "#46039f"
            ],
            [
             0.2222222222222222,
             "#7201a8"
            ],
            [
             0.3333333333333333,
             "#9c179e"
            ],
            [
             0.4444444444444444,
             "#bd3786"
            ],
            [
             0.5555555555555556,
             "#d8576b"
            ],
            [
             0.6666666666666666,
             "#ed7953"
            ],
            [
             0.7777777777777778,
             "#fb9f3a"
            ],
            [
             0.8888888888888888,
             "#fdca26"
            ],
            [
             1,
             "#f0f921"
            ]
           ]
          },
          "colorway": [
           "#636efa",
           "#EF553B",
           "#00cc96",
           "#ab63fa",
           "#FFA15A",
           "#19d3f3",
           "#FF6692",
           "#B6E880",
           "#FF97FF",
           "#FECB52"
          ],
          "font": {
           "color": "#2a3f5f"
          },
          "geo": {
           "bgcolor": "white",
           "lakecolor": "white",
           "landcolor": "#E5ECF6",
           "showlakes": true,
           "showland": true,
           "subunitcolor": "white"
          },
          "hoverlabel": {
           "align": "left"
          },
          "hovermode": "closest",
          "mapbox": {
           "style": "light"
          },
          "paper_bgcolor": "white",
          "plot_bgcolor": "#E5ECF6",
          "polar": {
           "angularaxis": {
            "gridcolor": "white",
            "linecolor": "white",
            "ticks": ""
           },
           "bgcolor": "#E5ECF6",
           "radialaxis": {
            "gridcolor": "white",
            "linecolor": "white",
            "ticks": ""
           }
          },
          "scene": {
           "xaxis": {
            "backgroundcolor": "#E5ECF6",
            "gridcolor": "white",
            "gridwidth": 2,
            "linecolor": "white",
            "showbackground": true,
            "ticks": "",
            "zerolinecolor": "white"
           },
           "yaxis": {
            "backgroundcolor": "#E5ECF6",
            "gridcolor": "white",
            "gridwidth": 2,
            "linecolor": "white",
            "showbackground": true,
            "ticks": "",
            "zerolinecolor": "white"
           },
           "zaxis": {
            "backgroundcolor": "#E5ECF6",
            "gridcolor": "white",
            "gridwidth": 2,
            "linecolor": "white",
            "showbackground": true,
            "ticks": "",
            "zerolinecolor": "white"
           }
          },
          "shapedefaults": {
           "line": {
            "color": "#2a3f5f"
           }
          },
          "ternary": {
           "aaxis": {
            "gridcolor": "white",
            "linecolor": "white",
            "ticks": ""
           },
           "baxis": {
            "gridcolor": "white",
            "linecolor": "white",
            "ticks": ""
           },
           "bgcolor": "#E5ECF6",
           "caxis": {
            "gridcolor": "white",
            "linecolor": "white",
            "ticks": ""
           }
          },
          "title": {
           "x": 0.05
          },
          "xaxis": {
           "automargin": true,
           "gridcolor": "white",
           "linecolor": "white",
           "ticks": "",
           "title": {
            "standoff": 15
           },
           "zerolinecolor": "white",
           "zerolinewidth": 2
          },
          "yaxis": {
           "automargin": true,
           "gridcolor": "white",
           "linecolor": "white",
           "ticks": "",
           "title": {
            "standoff": 15
           },
           "zerolinecolor": "white",
           "zerolinewidth": 2
          }
         }
        },
        "title": {
         "font": {
          "color": "#4D5663"
         }
        },
        "xaxis": {
         "gridcolor": "#E1E5ED",
         "showgrid": true,
         "tickfont": {
          "color": "#4D5663"
         },
         "title": {
          "font": {
           "color": "#4D5663"
          },
          "text": ""
         },
         "zerolinecolor": "#E1E5ED"
        },
        "yaxis": {
         "gridcolor": "#E1E5ED",
         "showgrid": true,
         "tickfont": {
          "color": "#4D5663"
         },
         "title": {
          "font": {
           "color": "#4D5663"
          },
          "text": ""
         },
         "zerolinecolor": "#E1E5ED"
        }
       }
      },
      "text/html": [
       "<div>                            <div id=\"907aabf2-1ddc-4a87-b38e-a96b295dda18\" class=\"plotly-graph-div\" style=\"height:525px; width:100%;\"></div>            <script type=\"text/javascript\">                require([\"plotly\"], function(Plotly) {                    window.PLOTLYENV=window.PLOTLYENV || {};\n",
       "                    window.PLOTLYENV.BASE_URL='https://plot.ly';                                    if (document.getElementById(\"907aabf2-1ddc-4a87-b38e-a96b295dda18\")) {                    Plotly.newPlot(                        \"907aabf2-1ddc-4a87-b38e-a96b295dda18\",                        [{\"boxpoints\":false,\"line\":{\"width\":1.3},\"marker\":{\"color\":\"rgba(255, 153, 51, 1.0)\"},\"name\":\"A\",\"orientation\":\"v\",\"y\":[-1.5470379470686257,-0.3866827505899728,0.05907767532625553,1.3528949385329836,-0.2446134380889313,-2.406380574789591,-0.2816288308863832,0.4275053609457478,-0.5819392334941368,0.7569495452421476,0.6453177603325179,0.57422805107268,1.3148995288538112,0.220666189826017,-0.2839870046920182,0.7140778562736044,1.2652541519683163,-0.5332706279507585,-1.99742682090396,0.4405887301243418,1.6892743646745116,-0.19165751288169328,0.5104035641178164,1.3803225460438007,0.16703348752209532,-0.285872723137153,-0.2049482645233315,-0.6179469943011561,0.6032652329988165,0.05057590325797419,-1.3294185799763285,0.578716171231639,-1.6111718252564509,-0.7525916016188796,0.8249183497350251,-0.015267594448878615,-2.0692673026355326,0.6428908175911534,1.7655572451119899,2.031329227063635,-1.466347474243045,1.6401369002649178,-0.34019045909674234,0.8635745180435763,-0.41744886551989835,-0.10163440297958373,0.7703425064697068,1.4689212890171626,-0.23433370060897665,-1.3258769200955578,-1.1718941254219373,0.801932550048809,1.448807734284354,0.9847030866880221,0.3376184172512405,-1.5242713825393606,0.7027628372435865,-0.2791683192032702,0.020488303009922777,0.820619688063049,-0.36218158301404263,0.14617037002964653,1.6718586124907957,0.6705673605246165,0.27828495652272867,0.20926566932783422,-1.9184096983655765,-0.6402371208591136,-0.08170770033706065,-0.06808155063387622,-1.38010522374821,0.39561517267437496,0.7531494990024865,-0.6283031170433298,-1.8242056728883924,0.9256295159513197,1.2767649316415697,0.18525786624729326,0.5745200766324614,0.8337022049758677,-0.3243762742733441,0.4824787010648017,-0.1608409373329267,1.8793431047865878,0.3314905561931448,-0.29036873392865464,0.7482402104538096,0.49709639164898334,0.21495382334267585,1.0208806180216834,-0.03170735862101034,-2.5312495750725925,2.1046549936147385,-0.1046128281488064,-0.3285804840215899,0.24177836912715794,0.05569559765452582,-0.762999801993306,-0.6164640215496762,-1.8421776428608174],\"type\":\"box\"},{\"boxpoints\":false,\"line\":{\"width\":1.3},\"marker\":{\"color\":\"rgba(55, 128, 191, 1.0)\"},\"name\":\"B\",\"orientation\":\"v\",\"y\":[-0.17932026330190684,0.34198544751858234,-1.2713269129457325,0.0016652786409217964,1.4803864821833077,-0.2836750888514914,-1.4155538362514601,-0.5739661271236048,-0.35744198935824456,-0.8994230904876396,0.6991253544572609,-0.874793148785467,-0.39153074019047707,-0.880394830638912,0.4995926613587126,0.6293698296553195,1.3544469494098934,0.4810071047022162,-0.40595170495224314,0.09622342847254901,0.43681638785495297,-0.7536552634789734,0.46515551350074097,-0.4107904278107822,-0.667536213298158,-0.644002357567441,0.3279416680591974,-0.35640426241977324,0.7192398636967984,-0.3544851170731683,0.08830059864042557,0.030758743727376085,0.8935198532569544,0.3892696875617487,0.3237375347818951,0.6041497331006355,-0.40400232746982956,1.8468632501683382,-0.029077327946170142,0.25908762161059545,0.8679450620220365,0.967081274178919,1.80357447518855,0.7548651304368754,-0.5513298895031992,1.3705646354783096,0.8589382061452533,-1.0947470720924772,0.765715570102174,0.2385720284350847,-0.5320081762202075,-2.1047278011907666,-0.22838874539262682,-1.0758351304521767,0.6994286964722767,1.1983555883520542,1.8709137281616257,0.3346340175992276,1.179301597937332,-1.9309090060954557,-1.0881323911298968,0.0925198558216795,-0.6780781717104581,0.6074641297220856,1.0533655951830938,0.8330378584588016,-0.5385028983342077,-1.5582948613417311,0.5633831011807973,0.296668625167125,-0.9065113935632445,-0.21770298654540515,-0.18554362127577312,0.8460395539141479,-0.06587075962834432,-1.3271566677311997,0.25495202389316673,-0.6747528477615352,-1.435892609276357,-0.960122176589752,-0.3454127480759408,0.4072393867432423,-1.338046384045666,0.5103799524326336,1.4224780373575563,0.5088221930699162,0.03356517523728443,0.45970454247660264,1.2459543043789276,0.2505549812457923,0.259785611079415,0.5130794204738841,2.8931347231761175,-0.08760616578299192,-1.1963390674150716,0.8284380378357371,1.0897731639265282,3.2145514299528397,0.5444588734985717,-1.5142056829390005],\"type\":\"box\"},{\"boxpoints\":false,\"line\":{\"width\":1.3},\"marker\":{\"color\":\"rgba(50, 171, 96, 1.0)\"},\"name\":\"C\",\"orientation\":\"v\",\"y\":[-0.8827337164904582,-1.8364531539319333,0.8082687682781682,0.6289536187563297,0.13738826055039535,-0.48702056371183133,-0.4662976847342923,-0.7015128306413758,-2.075792831188183,1.1176300474724994,0.9671408679228939,0.3868725572827184,1.2346153433668805,-0.9703164223331473,1.9817729912124495,-0.7776807674549705,1.0904074274491107,0.10563209017692979,-1.5907909212167808,1.0082636128241178,-0.3353296165270854,-0.7591345840064578,0.7742601105711353,1.1467958848004252,0.9200633767725459,0.7346362265663221,-0.8139337677173419,-0.5546883808219134,0.2764431453193479,-0.95215237627935,-0.07095272199313353,-0.520697352733301,-0.4340839633081928,-1.0466663533478058,1.2543681127605029,0.8666311142299339,-0.3518608740488995,-0.43880066086130814,0.42178024324125096,1.299203464296593,-0.15407331280936215,-0.6075954511987632,-0.31243377106445835,-0.3299566935335466,-0.8873057264322378,0.04679665624628326,-0.12976410822364787,0.6617216984182405,0.2677726756401323,0.36854030491480244,1.0834360202988516,-0.5358001827681771,1.3566403293736051,1.3232084208589134,-0.9200288536262442,0.4035164337882321,1.457756930269989,-0.48177075689597204,-0.10253003630182166,-1.1087611194830596,1.2405184299530734,-1.1613026903681023,-0.21807727298806873,2.073990265406395,-0.12142871305310494,-1.130168455585731,0.6737067936121557,-0.5226892924994307,0.9439193803151366,-0.9443041315154184,-0.5173949214588162,0.35076467768349945,-0.1268157260701168,1.5232667086176082,-0.42512384149961735,-1.2916065855294245,-0.2895713037165531,0.5519442699233186,1.6307332488054225,0.49046965386208186,-1.5335496821072878,-0.4633643003770435,-0.7016934868574808,-0.2487663579333527,0.31110876877089483,-1.7132404041523144,1.057646417962785,-0.1528239791025941,-0.699145591330207,-1.7823629346489065,-0.11037143237132825,0.5125188565494171,0.4533917864601765,-0.6654675164735756,1.6813259994038556,-0.995626301686294,0.484448176581966,-0.9251656585866519,-0.41487414299947856,1.3509865271705759],\"type\":\"box\"},{\"boxpoints\":false,\"line\":{\"width\":1.3},\"marker\":{\"color\":\"rgba(128, 0, 128, 1.0)\"},\"name\":\"D\",\"orientation\":\"v\",\"y\":[-0.6920880206110122,-1.1528187877583664,0.5086136006525542,-0.3215793850236674,-1.394860954443431,0.8898543007611304,0.6766517919690216,1.2415891437981637,0.5749645946153426,0.8191522907746716,-1.3401567878568013,0.004138571752962983,1.9727662152133698,1.7100298800610687,0.7905135404134748,0.5035795302927593,-0.6426516642396118,0.6107854330514066,0.10928182793825748,1.1501642674489254,-2.4740487192674028,-0.43881799465043336,-0.8094019886420079,-0.31202726037660966,-0.2236736738974433,-1.3740994147648478,-0.24299560216202182,0.32179333878077643,0.48952220272470165,0.1242364926299338,0.6655346523272315,0.2335595973186929,-1.3979047777316438,-1.1861224414071925,-0.11470463861534105,0.888977369121416,0.19762432272577532,-0.911490070227444,0.42138513877796047,-1.2392259969612873,-0.42396337197608314,-0.8040254949941189,0.5246503673076683,0.6174376551293572,0.6667732964950027,-1.624315511280616,-0.7009900507939105,-0.7566895336475554,0.4228153655438361,-0.4921515625061394,-0.28024629047864485,-0.015140262941474195,1.2599427979153641,0.5190923874462334,0.05096023773849388,1.323901428598727,1.548038022029308,-0.8155899694131572,0.9399055199142157,0.07432006820395431,1.0041698831027674,-1.20750103555811,0.859700286664465,-0.28205347737206277,-0.30401620740514995,0.16367012099450978,-1.2584412572551649,-0.325827150091203,-1.7999396554564284,-0.20307309104609228,-1.1442481553192654,0.653286239947092,0.07516392687232953,0.7521899316131974,0.5260372458993744,-1.395226916488713,0.9921908967238827,1.2418292779657578,-0.1539017470993894,0.7373886256861507,0.38834918020664827,0.2362135412776182,0.0115188899390858,-1.6415807833383291,1.8233714094438518,-0.02860208451841463,0.9508625218057386,-1.4221906894981022,0.43956758103632954,0.3276390633566963,0.5591093211320485,2.0975676475011604,0.5114912158185853,1.0926954349320122,0.09089460843272662,-0.07754270763857592,-0.23416245302275307,1.013785139194283,1.3047201740780954,0.02289887280392105],\"type\":\"box\"}],                        {\"legend\":{\"bgcolor\":\"#F5F6F9\",\"font\":{\"color\":\"#4D5663\"}},\"paper_bgcolor\":\"#F5F6F9\",\"plot_bgcolor\":\"#F5F6F9\",\"template\":{\"data\":{\"barpolar\":[{\"marker\":{\"line\":{\"color\":\"#E5ECF6\",\"width\":0.5},\"pattern\":{\"fillmode\":\"overlay\",\"size\":10,\"solidity\":0.2}},\"type\":\"barpolar\"}],\"bar\":[{\"error_x\":{\"color\":\"#2a3f5f\"},\"error_y\":{\"color\":\"#2a3f5f\"},\"marker\":{\"line\":{\"color\":\"#E5ECF6\",\"width\":0.5},\"pattern\":{\"fillmode\":\"overlay\",\"size\":10,\"solidity\":0.2}},\"type\":\"bar\"}],\"carpet\":[{\"aaxis\":{\"endlinecolor\":\"#2a3f5f\",\"gridcolor\":\"white\",\"linecolor\":\"white\",\"minorgridcolor\":\"white\",\"startlinecolor\":\"#2a3f5f\"},\"baxis\":{\"endlinecolor\":\"#2a3f5f\",\"gridcolor\":\"white\",\"linecolor\":\"white\",\"minorgridcolor\":\"white\",\"startlinecolor\":\"#2a3f5f\"},\"type\":\"carpet\"}],\"choropleth\":[{\"colorbar\":{\"outlinewidth\":0,\"ticks\":\"\"},\"type\":\"choropleth\"}],\"contourcarpet\":[{\"colorbar\":{\"outlinewidth\":0,\"ticks\":\"\"},\"type\":\"contourcarpet\"}],\"contour\":[{\"colorbar\":{\"outlinewidth\":0,\"ticks\":\"\"},\"colorscale\":[[0.0,\"#0d0887\"],[0.1111111111111111,\"#46039f\"],[0.2222222222222222,\"#7201a8\"],[0.3333333333333333,\"#9c179e\"],[0.4444444444444444,\"#bd3786\"],[0.5555555555555556,\"#d8576b\"],[0.6666666666666666,\"#ed7953\"],[0.7777777777777778,\"#fb9f3a\"],[0.8888888888888888,\"#fdca26\"],[1.0,\"#f0f921\"]],\"type\":\"contour\"}],\"heatmapgl\":[{\"colorbar\":{\"outlinewidth\":0,\"ticks\":\"\"},\"colorscale\":[[0.0,\"#0d0887\"],[0.1111111111111111,\"#46039f\"],[0.2222222222222222,\"#7201a8\"],[0.3333333333333333,\"#9c179e\"],[0.4444444444444444,\"#bd3786\"],[0.5555555555555556,\"#d8576b\"],[0.6666666666666666,\"#ed7953\"],[0.7777777777777778,\"#fb9f3a\"],[0.8888888888888888,\"#fdca26\"],[1.0,\"#f0f921\"]],\"type\":\"heatmapgl\"}],\"heatmap\":[{\"colorbar\":{\"outlinewidth\":0,\"ticks\":\"\"},\"colorscale\":[[0.0,\"#0d0887\"],[0.1111111111111111,\"#46039f\"],[0.2222222222222222,\"#7201a8\"],[0.3333333333333333,\"#9c179e\"],[0.4444444444444444,\"#bd3786\"],[0.5555555555555556,\"#d8576b\"],[0.6666666666666666,\"#ed7953\"],[0.7777777777777778,\"#fb9f3a\"],[0.8888888888888888,\"#fdca26\"],[1.0,\"#f0f921\"]],\"type\":\"heatmap\"}],\"histogram2dcontour\":[{\"colorbar\":{\"outlinewidth\":0,\"ticks\":\"\"},\"colorscale\":[[0.0,\"#0d0887\"],[0.1111111111111111,\"#46039f\"],[0.2222222222222222,\"#7201a8\"],[0.3333333333333333,\"#9c179e\"],[0.4444444444444444,\"#bd3786\"],[0.5555555555555556,\"#d8576b\"],[0.6666666666666666,\"#ed7953\"],[0.7777777777777778,\"#fb9f3a\"],[0.8888888888888888,\"#fdca26\"],[1.0,\"#f0f921\"]],\"type\":\"histogram2dcontour\"}],\"histogram2d\":[{\"colorbar\":{\"outlinewidth\":0,\"ticks\":\"\"},\"colorscale\":[[0.0,\"#0d0887\"],[0.1111111111111111,\"#46039f\"],[0.2222222222222222,\"#7201a8\"],[0.3333333333333333,\"#9c179e\"],[0.4444444444444444,\"#bd3786\"],[0.5555555555555556,\"#d8576b\"],[0.6666666666666666,\"#ed7953\"],[0.7777777777777778,\"#fb9f3a\"],[0.8888888888888888,\"#fdca26\"],[1.0,\"#f0f921\"]],\"type\":\"histogram2d\"}],\"histogram\":[{\"marker\":{\"pattern\":{\"fillmode\":\"overlay\",\"size\":10,\"solidity\":0.2}},\"type\":\"histogram\"}],\"mesh3d\":[{\"colorbar\":{\"outlinewidth\":0,\"ticks\":\"\"},\"type\":\"mesh3d\"}],\"parcoords\":[{\"line\":{\"colorbar\":{\"outlinewidth\":0,\"ticks\":\"\"}},\"type\":\"parcoords\"}],\"pie\":[{\"automargin\":true,\"type\":\"pie\"}],\"scatter3d\":[{\"line\":{\"colorbar\":{\"outlinewidth\":0,\"ticks\":\"\"}},\"marker\":{\"colorbar\":{\"outlinewidth\":0,\"ticks\":\"\"}},\"type\":\"scatter3d\"}],\"scattercarpet\":[{\"marker\":{\"colorbar\":{\"outlinewidth\":0,\"ticks\":\"\"}},\"type\":\"scattercarpet\"}],\"scattergeo\":[{\"marker\":{\"colorbar\":{\"outlinewidth\":0,\"ticks\":\"\"}},\"type\":\"scattergeo\"}],\"scattergl\":[{\"marker\":{\"colorbar\":{\"outlinewidth\":0,\"ticks\":\"\"}},\"type\":\"scattergl\"}],\"scattermapbox\":[{\"marker\":{\"colorbar\":{\"outlinewidth\":0,\"ticks\":\"\"}},\"type\":\"scattermapbox\"}],\"scatterpolargl\":[{\"marker\":{\"colorbar\":{\"outlinewidth\":0,\"ticks\":\"\"}},\"type\":\"scatterpolargl\"}],\"scatterpolar\":[{\"marker\":{\"colorbar\":{\"outlinewidth\":0,\"ticks\":\"\"}},\"type\":\"scatterpolar\"}],\"scatter\":[{\"marker\":{\"colorbar\":{\"outlinewidth\":0,\"ticks\":\"\"}},\"type\":\"scatter\"}],\"scatterternary\":[{\"marker\":{\"colorbar\":{\"outlinewidth\":0,\"ticks\":\"\"}},\"type\":\"scatterternary\"}],\"surface\":[{\"colorbar\":{\"outlinewidth\":0,\"ticks\":\"\"},\"colorscale\":[[0.0,\"#0d0887\"],[0.1111111111111111,\"#46039f\"],[0.2222222222222222,\"#7201a8\"],[0.3333333333333333,\"#9c179e\"],[0.4444444444444444,\"#bd3786\"],[0.5555555555555556,\"#d8576b\"],[0.6666666666666666,\"#ed7953\"],[0.7777777777777778,\"#fb9f3a\"],[0.8888888888888888,\"#fdca26\"],[1.0,\"#f0f921\"]],\"type\":\"surface\"}],\"table\":[{\"cells\":{\"fill\":{\"color\":\"#EBF0F8\"},\"line\":{\"color\":\"white\"}},\"header\":{\"fill\":{\"color\":\"#C8D4E3\"},\"line\":{\"color\":\"white\"}},\"type\":\"table\"}]},\"layout\":{\"annotationdefaults\":{\"arrowcolor\":\"#2a3f5f\",\"arrowhead\":0,\"arrowwidth\":1},\"autotypenumbers\":\"strict\",\"coloraxis\":{\"colorbar\":{\"outlinewidth\":0,\"ticks\":\"\"}},\"colorscale\":{\"diverging\":[[0,\"#8e0152\"],[0.1,\"#c51b7d\"],[0.2,\"#de77ae\"],[0.3,\"#f1b6da\"],[0.4,\"#fde0ef\"],[0.5,\"#f7f7f7\"],[0.6,\"#e6f5d0\"],[0.7,\"#b8e186\"],[0.8,\"#7fbc41\"],[0.9,\"#4d9221\"],[1,\"#276419\"]],\"sequential\":[[0.0,\"#0d0887\"],[0.1111111111111111,\"#46039f\"],[0.2222222222222222,\"#7201a8\"],[0.3333333333333333,\"#9c179e\"],[0.4444444444444444,\"#bd3786\"],[0.5555555555555556,\"#d8576b\"],[0.6666666666666666,\"#ed7953\"],[0.7777777777777778,\"#fb9f3a\"],[0.8888888888888888,\"#fdca26\"],[1.0,\"#f0f921\"]],\"sequentialminus\":[[0.0,\"#0d0887\"],[0.1111111111111111,\"#46039f\"],[0.2222222222222222,\"#7201a8\"],[0.3333333333333333,\"#9c179e\"],[0.4444444444444444,\"#bd3786\"],[0.5555555555555556,\"#d8576b\"],[0.6666666666666666,\"#ed7953\"],[0.7777777777777778,\"#fb9f3a\"],[0.8888888888888888,\"#fdca26\"],[1.0,\"#f0f921\"]]},\"colorway\":[\"#636efa\",\"#EF553B\",\"#00cc96\",\"#ab63fa\",\"#FFA15A\",\"#19d3f3\",\"#FF6692\",\"#B6E880\",\"#FF97FF\",\"#FECB52\"],\"font\":{\"color\":\"#2a3f5f\"},\"geo\":{\"bgcolor\":\"white\",\"lakecolor\":\"white\",\"landcolor\":\"#E5ECF6\",\"showlakes\":true,\"showland\":true,\"subunitcolor\":\"white\"},\"hoverlabel\":{\"align\":\"left\"},\"hovermode\":\"closest\",\"mapbox\":{\"style\":\"light\"},\"paper_bgcolor\":\"white\",\"plot_bgcolor\":\"#E5ECF6\",\"polar\":{\"angularaxis\":{\"gridcolor\":\"white\",\"linecolor\":\"white\",\"ticks\":\"\"},\"bgcolor\":\"#E5ECF6\",\"radialaxis\":{\"gridcolor\":\"white\",\"linecolor\":\"white\",\"ticks\":\"\"}},\"scene\":{\"xaxis\":{\"backgroundcolor\":\"#E5ECF6\",\"gridcolor\":\"white\",\"gridwidth\":2,\"linecolor\":\"white\",\"showbackground\":true,\"ticks\":\"\",\"zerolinecolor\":\"white\"},\"yaxis\":{\"backgroundcolor\":\"#E5ECF6\",\"gridcolor\":\"white\",\"gridwidth\":2,\"linecolor\":\"white\",\"showbackground\":true,\"ticks\":\"\",\"zerolinecolor\":\"white\"},\"zaxis\":{\"backgroundcolor\":\"#E5ECF6\",\"gridcolor\":\"white\",\"gridwidth\":2,\"linecolor\":\"white\",\"showbackground\":true,\"ticks\":\"\",\"zerolinecolor\":\"white\"}},\"shapedefaults\":{\"line\":{\"color\":\"#2a3f5f\"}},\"ternary\":{\"aaxis\":{\"gridcolor\":\"white\",\"linecolor\":\"white\",\"ticks\":\"\"},\"baxis\":{\"gridcolor\":\"white\",\"linecolor\":\"white\",\"ticks\":\"\"},\"bgcolor\":\"#E5ECF6\",\"caxis\":{\"gridcolor\":\"white\",\"linecolor\":\"white\",\"ticks\":\"\"}},\"title\":{\"x\":0.05},\"xaxis\":{\"automargin\":true,\"gridcolor\":\"white\",\"linecolor\":\"white\",\"ticks\":\"\",\"title\":{\"standoff\":15},\"zerolinecolor\":\"white\",\"zerolinewidth\":2},\"yaxis\":{\"automargin\":true,\"gridcolor\":\"white\",\"linecolor\":\"white\",\"ticks\":\"\",\"title\":{\"standoff\":15},\"zerolinecolor\":\"white\",\"zerolinewidth\":2}}},\"title\":{\"font\":{\"color\":\"#4D5663\"}},\"xaxis\":{\"gridcolor\":\"#E1E5ED\",\"showgrid\":true,\"tickfont\":{\"color\":\"#4D5663\"},\"title\":{\"font\":{\"color\":\"#4D5663\"},\"text\":\"\"},\"zerolinecolor\":\"#E1E5ED\"},\"yaxis\":{\"gridcolor\":\"#E1E5ED\",\"showgrid\":true,\"tickfont\":{\"color\":\"#4D5663\"},\"title\":{\"font\":{\"color\":\"#4D5663\"},\"text\":\"\"},\"zerolinecolor\":\"#E1E5ED\"}},                        {\"showLink\": true, \"linkText\": \"Export to plot.ly\", \"plotlyServerURL\": \"https://plot.ly\", \"responsive\": true}                    ).then(function(){\n",
       "                            \n",
       "var gd = document.getElementById('907aabf2-1ddc-4a87-b38e-a96b295dda18');\n",
       "var x = new MutationObserver(function (mutations, observer) {{\n",
       "        var display = window.getComputedStyle(gd).display;\n",
       "        if (!display || display === 'none') {{\n",
       "            console.log([gd, 'removed!']);\n",
       "            Plotly.purge(gd);\n",
       "            observer.disconnect();\n",
       "        }}\n",
       "}});\n",
       "\n",
       "// Listen for the removal of the full notebook cells\n",
       "var notebookContainer = gd.closest('#notebook-container');\n",
       "if (notebookContainer) {{\n",
       "    x.observe(notebookContainer, {childList: true});\n",
       "}}\n",
       "\n",
       "// Listen for the clearing of the current output cell\n",
       "var outputEl = gd.closest('.output');\n",
       "if (outputEl) {{\n",
       "    x.observe(outputEl, {childList: true});\n",
       "}}\n",
       "\n",
       "                        })                };                });            </script>        </div>"
      ]
     },
     "metadata": {},
     "output_type": "display_data"
    }
   ],
   "source": [
    "df.iplot(kind='box')"
   ]
  },
  {
   "cell_type": "code",
   "execution_count": 77,
   "metadata": {},
   "outputs": [],
   "source": [
    "df3 = pd.DataFrame({'x':[1,2,3,4,5],'y':[10,20,30,20,10],'z':[500,400,300,200,100]})"
   ]
  },
  {
   "cell_type": "code",
   "execution_count": 80,
   "metadata": {},
   "outputs": [
    {
     "data": {
      "application/vnd.plotly.v1+json": {
       "config": {
        "linkText": "Export to plot.ly",
        "plotlyServerURL": "https://plot.ly",
        "showLink": true
       },
       "data": [
        {
         "colorscale": [
          [
           0,
           "rgb(165,0,38)"
          ],
          [
           0.1,
           "rgb(215,48,39)"
          ],
          [
           0.2,
           "rgb(244,109,67)"
          ],
          [
           0.3,
           "rgb(253,174,97)"
          ],
          [
           0.4,
           "rgb(254,224,144)"
          ],
          [
           0.5,
           "rgb(255,255,191)"
          ],
          [
           0.6,
           "rgb(224,243,248)"
          ],
          [
           0.7,
           "rgb(171,217,233)"
          ],
          [
           0.8,
           "rgb(116,173,209)"
          ],
          [
           0.9,
           "rgb(69,117,180)"
          ],
          [
           1,
           "rgb(49,54,149)"
          ]
         ],
         "type": "surface",
         "x": [
          0,
          1,
          2,
          3,
          4
         ],
         "y": [
          "x",
          "y",
          "z"
         ],
         "z": [
          [
           1,
           2,
           3,
           4,
           5
          ],
          [
           10,
           20,
           30,
           20,
           10
          ],
          [
           500,
           400,
           300,
           200,
           100
          ]
         ]
        }
       ],
       "layout": {
        "legend": {
         "bgcolor": "#F5F6F9",
         "font": {
          "color": "#4D5663"
         }
        },
        "paper_bgcolor": "#F5F6F9",
        "plot_bgcolor": "#F5F6F9",
        "template": {
         "data": {
          "bar": [
           {
            "error_x": {
             "color": "#2a3f5f"
            },
            "error_y": {
             "color": "#2a3f5f"
            },
            "marker": {
             "line": {
              "color": "#E5ECF6",
              "width": 0.5
             },
             "pattern": {
              "fillmode": "overlay",
              "size": 10,
              "solidity": 0.2
             }
            },
            "type": "bar"
           }
          ],
          "barpolar": [
           {
            "marker": {
             "line": {
              "color": "#E5ECF6",
              "width": 0.5
             },
             "pattern": {
              "fillmode": "overlay",
              "size": 10,
              "solidity": 0.2
             }
            },
            "type": "barpolar"
           }
          ],
          "carpet": [
           {
            "aaxis": {
             "endlinecolor": "#2a3f5f",
             "gridcolor": "white",
             "linecolor": "white",
             "minorgridcolor": "white",
             "startlinecolor": "#2a3f5f"
            },
            "baxis": {
             "endlinecolor": "#2a3f5f",
             "gridcolor": "white",
             "linecolor": "white",
             "minorgridcolor": "white",
             "startlinecolor": "#2a3f5f"
            },
            "type": "carpet"
           }
          ],
          "choropleth": [
           {
            "colorbar": {
             "outlinewidth": 0,
             "ticks": ""
            },
            "type": "choropleth"
           }
          ],
          "contour": [
           {
            "colorbar": {
             "outlinewidth": 0,
             "ticks": ""
            },
            "colorscale": [
             [
              0,
              "#0d0887"
             ],
             [
              0.1111111111111111,
              "#46039f"
             ],
             [
              0.2222222222222222,
              "#7201a8"
             ],
             [
              0.3333333333333333,
              "#9c179e"
             ],
             [
              0.4444444444444444,
              "#bd3786"
             ],
             [
              0.5555555555555556,
              "#d8576b"
             ],
             [
              0.6666666666666666,
              "#ed7953"
             ],
             [
              0.7777777777777778,
              "#fb9f3a"
             ],
             [
              0.8888888888888888,
              "#fdca26"
             ],
             [
              1,
              "#f0f921"
             ]
            ],
            "type": "contour"
           }
          ],
          "contourcarpet": [
           {
            "colorbar": {
             "outlinewidth": 0,
             "ticks": ""
            },
            "type": "contourcarpet"
           }
          ],
          "heatmap": [
           {
            "colorbar": {
             "outlinewidth": 0,
             "ticks": ""
            },
            "colorscale": [
             [
              0,
              "#0d0887"
             ],
             [
              0.1111111111111111,
              "#46039f"
             ],
             [
              0.2222222222222222,
              "#7201a8"
             ],
             [
              0.3333333333333333,
              "#9c179e"
             ],
             [
              0.4444444444444444,
              "#bd3786"
             ],
             [
              0.5555555555555556,
              "#d8576b"
             ],
             [
              0.6666666666666666,
              "#ed7953"
             ],
             [
              0.7777777777777778,
              "#fb9f3a"
             ],
             [
              0.8888888888888888,
              "#fdca26"
             ],
             [
              1,
              "#f0f921"
             ]
            ],
            "type": "heatmap"
           }
          ],
          "heatmapgl": [
           {
            "colorbar": {
             "outlinewidth": 0,
             "ticks": ""
            },
            "colorscale": [
             [
              0,
              "#0d0887"
             ],
             [
              0.1111111111111111,
              "#46039f"
             ],
             [
              0.2222222222222222,
              "#7201a8"
             ],
             [
              0.3333333333333333,
              "#9c179e"
             ],
             [
              0.4444444444444444,
              "#bd3786"
             ],
             [
              0.5555555555555556,
              "#d8576b"
             ],
             [
              0.6666666666666666,
              "#ed7953"
             ],
             [
              0.7777777777777778,
              "#fb9f3a"
             ],
             [
              0.8888888888888888,
              "#fdca26"
             ],
             [
              1,
              "#f0f921"
             ]
            ],
            "type": "heatmapgl"
           }
          ],
          "histogram": [
           {
            "marker": {
             "pattern": {
              "fillmode": "overlay",
              "size": 10,
              "solidity": 0.2
             }
            },
            "type": "histogram"
           }
          ],
          "histogram2d": [
           {
            "colorbar": {
             "outlinewidth": 0,
             "ticks": ""
            },
            "colorscale": [
             [
              0,
              "#0d0887"
             ],
             [
              0.1111111111111111,
              "#46039f"
             ],
             [
              0.2222222222222222,
              "#7201a8"
             ],
             [
              0.3333333333333333,
              "#9c179e"
             ],
             [
              0.4444444444444444,
              "#bd3786"
             ],
             [
              0.5555555555555556,
              "#d8576b"
             ],
             [
              0.6666666666666666,
              "#ed7953"
             ],
             [
              0.7777777777777778,
              "#fb9f3a"
             ],
             [
              0.8888888888888888,
              "#fdca26"
             ],
             [
              1,
              "#f0f921"
             ]
            ],
            "type": "histogram2d"
           }
          ],
          "histogram2dcontour": [
           {
            "colorbar": {
             "outlinewidth": 0,
             "ticks": ""
            },
            "colorscale": [
             [
              0,
              "#0d0887"
             ],
             [
              0.1111111111111111,
              "#46039f"
             ],
             [
              0.2222222222222222,
              "#7201a8"
             ],
             [
              0.3333333333333333,
              "#9c179e"
             ],
             [
              0.4444444444444444,
              "#bd3786"
             ],
             [
              0.5555555555555556,
              "#d8576b"
             ],
             [
              0.6666666666666666,
              "#ed7953"
             ],
             [
              0.7777777777777778,
              "#fb9f3a"
             ],
             [
              0.8888888888888888,
              "#fdca26"
             ],
             [
              1,
              "#f0f921"
             ]
            ],
            "type": "histogram2dcontour"
           }
          ],
          "mesh3d": [
           {
            "colorbar": {
             "outlinewidth": 0,
             "ticks": ""
            },
            "type": "mesh3d"
           }
          ],
          "parcoords": [
           {
            "line": {
             "colorbar": {
              "outlinewidth": 0,
              "ticks": ""
             }
            },
            "type": "parcoords"
           }
          ],
          "pie": [
           {
            "automargin": true,
            "type": "pie"
           }
          ],
          "scatter": [
           {
            "marker": {
             "colorbar": {
              "outlinewidth": 0,
              "ticks": ""
             }
            },
            "type": "scatter"
           }
          ],
          "scatter3d": [
           {
            "line": {
             "colorbar": {
              "outlinewidth": 0,
              "ticks": ""
             }
            },
            "marker": {
             "colorbar": {
              "outlinewidth": 0,
              "ticks": ""
             }
            },
            "type": "scatter3d"
           }
          ],
          "scattercarpet": [
           {
            "marker": {
             "colorbar": {
              "outlinewidth": 0,
              "ticks": ""
             }
            },
            "type": "scattercarpet"
           }
          ],
          "scattergeo": [
           {
            "marker": {
             "colorbar": {
              "outlinewidth": 0,
              "ticks": ""
             }
            },
            "type": "scattergeo"
           }
          ],
          "scattergl": [
           {
            "marker": {
             "colorbar": {
              "outlinewidth": 0,
              "ticks": ""
             }
            },
            "type": "scattergl"
           }
          ],
          "scattermapbox": [
           {
            "marker": {
             "colorbar": {
              "outlinewidth": 0,
              "ticks": ""
             }
            },
            "type": "scattermapbox"
           }
          ],
          "scatterpolar": [
           {
            "marker": {
             "colorbar": {
              "outlinewidth": 0,
              "ticks": ""
             }
            },
            "type": "scatterpolar"
           }
          ],
          "scatterpolargl": [
           {
            "marker": {
             "colorbar": {
              "outlinewidth": 0,
              "ticks": ""
             }
            },
            "type": "scatterpolargl"
           }
          ],
          "scatterternary": [
           {
            "marker": {
             "colorbar": {
              "outlinewidth": 0,
              "ticks": ""
             }
            },
            "type": "scatterternary"
           }
          ],
          "surface": [
           {
            "colorbar": {
             "outlinewidth": 0,
             "ticks": ""
            },
            "colorscale": [
             [
              0,
              "#0d0887"
             ],
             [
              0.1111111111111111,
              "#46039f"
             ],
             [
              0.2222222222222222,
              "#7201a8"
             ],
             [
              0.3333333333333333,
              "#9c179e"
             ],
             [
              0.4444444444444444,
              "#bd3786"
             ],
             [
              0.5555555555555556,
              "#d8576b"
             ],
             [
              0.6666666666666666,
              "#ed7953"
             ],
             [
              0.7777777777777778,
              "#fb9f3a"
             ],
             [
              0.8888888888888888,
              "#fdca26"
             ],
             [
              1,
              "#f0f921"
             ]
            ],
            "type": "surface"
           }
          ],
          "table": [
           {
            "cells": {
             "fill": {
              "color": "#EBF0F8"
             },
             "line": {
              "color": "white"
             }
            },
            "header": {
             "fill": {
              "color": "#C8D4E3"
             },
             "line": {
              "color": "white"
             }
            },
            "type": "table"
           }
          ]
         },
         "layout": {
          "annotationdefaults": {
           "arrowcolor": "#2a3f5f",
           "arrowhead": 0,
           "arrowwidth": 1
          },
          "autotypenumbers": "strict",
          "coloraxis": {
           "colorbar": {
            "outlinewidth": 0,
            "ticks": ""
           }
          },
          "colorscale": {
           "diverging": [
            [
             0,
             "#8e0152"
            ],
            [
             0.1,
             "#c51b7d"
            ],
            [
             0.2,
             "#de77ae"
            ],
            [
             0.3,
             "#f1b6da"
            ],
            [
             0.4,
             "#fde0ef"
            ],
            [
             0.5,
             "#f7f7f7"
            ],
            [
             0.6,
             "#e6f5d0"
            ],
            [
             0.7,
             "#b8e186"
            ],
            [
             0.8,
             "#7fbc41"
            ],
            [
             0.9,
             "#4d9221"
            ],
            [
             1,
             "#276419"
            ]
           ],
           "sequential": [
            [
             0,
             "#0d0887"
            ],
            [
             0.1111111111111111,
             "#46039f"
            ],
            [
             0.2222222222222222,
             "#7201a8"
            ],
            [
             0.3333333333333333,
             "#9c179e"
            ],
            [
             0.4444444444444444,
             "#bd3786"
            ],
            [
             0.5555555555555556,
             "#d8576b"
            ],
            [
             0.6666666666666666,
             "#ed7953"
            ],
            [
             0.7777777777777778,
             "#fb9f3a"
            ],
            [
             0.8888888888888888,
             "#fdca26"
            ],
            [
             1,
             "#f0f921"
            ]
           ],
           "sequentialminus": [
            [
             0,
             "#0d0887"
            ],
            [
             0.1111111111111111,
             "#46039f"
            ],
            [
             0.2222222222222222,
             "#7201a8"
            ],
            [
             0.3333333333333333,
             "#9c179e"
            ],
            [
             0.4444444444444444,
             "#bd3786"
            ],
            [
             0.5555555555555556,
             "#d8576b"
            ],
            [
             0.6666666666666666,
             "#ed7953"
            ],
            [
             0.7777777777777778,
             "#fb9f3a"
            ],
            [
             0.8888888888888888,
             "#fdca26"
            ],
            [
             1,
             "#f0f921"
            ]
           ]
          },
          "colorway": [
           "#636efa",
           "#EF553B",
           "#00cc96",
           "#ab63fa",
           "#FFA15A",
           "#19d3f3",
           "#FF6692",
           "#B6E880",
           "#FF97FF",
           "#FECB52"
          ],
          "font": {
           "color": "#2a3f5f"
          },
          "geo": {
           "bgcolor": "white",
           "lakecolor": "white",
           "landcolor": "#E5ECF6",
           "showlakes": true,
           "showland": true,
           "subunitcolor": "white"
          },
          "hoverlabel": {
           "align": "left"
          },
          "hovermode": "closest",
          "mapbox": {
           "style": "light"
          },
          "paper_bgcolor": "white",
          "plot_bgcolor": "#E5ECF6",
          "polar": {
           "angularaxis": {
            "gridcolor": "white",
            "linecolor": "white",
            "ticks": ""
           },
           "bgcolor": "#E5ECF6",
           "radialaxis": {
            "gridcolor": "white",
            "linecolor": "white",
            "ticks": ""
           }
          },
          "scene": {
           "xaxis": {
            "backgroundcolor": "#E5ECF6",
            "gridcolor": "white",
            "gridwidth": 2,
            "linecolor": "white",
            "showbackground": true,
            "ticks": "",
            "zerolinecolor": "white"
           },
           "yaxis": {
            "backgroundcolor": "#E5ECF6",
            "gridcolor": "white",
            "gridwidth": 2,
            "linecolor": "white",
            "showbackground": true,
            "ticks": "",
            "zerolinecolor": "white"
           },
           "zaxis": {
            "backgroundcolor": "#E5ECF6",
            "gridcolor": "white",
            "gridwidth": 2,
            "linecolor": "white",
            "showbackground": true,
            "ticks": "",
            "zerolinecolor": "white"
           }
          },
          "shapedefaults": {
           "line": {
            "color": "#2a3f5f"
           }
          },
          "ternary": {
           "aaxis": {
            "gridcolor": "white",
            "linecolor": "white",
            "ticks": ""
           },
           "baxis": {
            "gridcolor": "white",
            "linecolor": "white",
            "ticks": ""
           },
           "bgcolor": "#E5ECF6",
           "caxis": {
            "gridcolor": "white",
            "linecolor": "white",
            "ticks": ""
           }
          },
          "title": {
           "x": 0.05
          },
          "xaxis": {
           "automargin": true,
           "gridcolor": "white",
           "linecolor": "white",
           "ticks": "",
           "title": {
            "standoff": 15
           },
           "zerolinecolor": "white",
           "zerolinewidth": 2
          },
          "yaxis": {
           "automargin": true,
           "gridcolor": "white",
           "linecolor": "white",
           "ticks": "",
           "title": {
            "standoff": 15
           },
           "zerolinecolor": "white",
           "zerolinewidth": 2
          }
         }
        },
        "title": {
         "font": {
          "color": "#4D5663"
         }
        },
        "xaxis": {
         "gridcolor": "#E1E5ED",
         "showgrid": true,
         "tickfont": {
          "color": "#4D5663"
         },
         "title": {
          "font": {
           "color": "#4D5663"
          },
          "text": ""
         },
         "zerolinecolor": "#E1E5ED"
        },
        "yaxis": {
         "gridcolor": "#E1E5ED",
         "showgrid": true,
         "tickfont": {
          "color": "#4D5663"
         },
         "title": {
          "font": {
           "color": "#4D5663"
          },
          "text": ""
         },
         "zerolinecolor": "#E1E5ED"
        }
       }
      },
      "text/html": [
       "<div>                            <div id=\"21d95d65-5135-4e15-811a-b5b84ee885d1\" class=\"plotly-graph-div\" style=\"height:525px; width:100%;\"></div>            <script type=\"text/javascript\">                require([\"plotly\"], function(Plotly) {                    window.PLOTLYENV=window.PLOTLYENV || {};\n",
       "                    window.PLOTLYENV.BASE_URL='https://plot.ly';                                    if (document.getElementById(\"21d95d65-5135-4e15-811a-b5b84ee885d1\")) {                    Plotly.newPlot(                        \"21d95d65-5135-4e15-811a-b5b84ee885d1\",                        [{\"colorscale\":[[0.0,\"rgb(165,0,38)\"],[0.1,\"rgb(215,48,39)\"],[0.2,\"rgb(244,109,67)\"],[0.3,\"rgb(253,174,97)\"],[0.4,\"rgb(254,224,144)\"],[0.5,\"rgb(255,255,191)\"],[0.6,\"rgb(224,243,248)\"],[0.7,\"rgb(171,217,233)\"],[0.8,\"rgb(116,173,209)\"],[0.9,\"rgb(69,117,180)\"],[1.0,\"rgb(49,54,149)\"]],\"x\":[0,1,2,3,4],\"y\":[\"x\",\"y\",\"z\"],\"z\":[[1,2,3,4,5],[10,20,30,20,10],[500,400,300,200,100]],\"type\":\"surface\"}],                        {\"legend\":{\"bgcolor\":\"#F5F6F9\",\"font\":{\"color\":\"#4D5663\"}},\"paper_bgcolor\":\"#F5F6F9\",\"plot_bgcolor\":\"#F5F6F9\",\"template\":{\"data\":{\"barpolar\":[{\"marker\":{\"line\":{\"color\":\"#E5ECF6\",\"width\":0.5},\"pattern\":{\"fillmode\":\"overlay\",\"size\":10,\"solidity\":0.2}},\"type\":\"barpolar\"}],\"bar\":[{\"error_x\":{\"color\":\"#2a3f5f\"},\"error_y\":{\"color\":\"#2a3f5f\"},\"marker\":{\"line\":{\"color\":\"#E5ECF6\",\"width\":0.5},\"pattern\":{\"fillmode\":\"overlay\",\"size\":10,\"solidity\":0.2}},\"type\":\"bar\"}],\"carpet\":[{\"aaxis\":{\"endlinecolor\":\"#2a3f5f\",\"gridcolor\":\"white\",\"linecolor\":\"white\",\"minorgridcolor\":\"white\",\"startlinecolor\":\"#2a3f5f\"},\"baxis\":{\"endlinecolor\":\"#2a3f5f\",\"gridcolor\":\"white\",\"linecolor\":\"white\",\"minorgridcolor\":\"white\",\"startlinecolor\":\"#2a3f5f\"},\"type\":\"carpet\"}],\"choropleth\":[{\"colorbar\":{\"outlinewidth\":0,\"ticks\":\"\"},\"type\":\"choropleth\"}],\"contourcarpet\":[{\"colorbar\":{\"outlinewidth\":0,\"ticks\":\"\"},\"type\":\"contourcarpet\"}],\"contour\":[{\"colorbar\":{\"outlinewidth\":0,\"ticks\":\"\"},\"colorscale\":[[0.0,\"#0d0887\"],[0.1111111111111111,\"#46039f\"],[0.2222222222222222,\"#7201a8\"],[0.3333333333333333,\"#9c179e\"],[0.4444444444444444,\"#bd3786\"],[0.5555555555555556,\"#d8576b\"],[0.6666666666666666,\"#ed7953\"],[0.7777777777777778,\"#fb9f3a\"],[0.8888888888888888,\"#fdca26\"],[1.0,\"#f0f921\"]],\"type\":\"contour\"}],\"heatmapgl\":[{\"colorbar\":{\"outlinewidth\":0,\"ticks\":\"\"},\"colorscale\":[[0.0,\"#0d0887\"],[0.1111111111111111,\"#46039f\"],[0.2222222222222222,\"#7201a8\"],[0.3333333333333333,\"#9c179e\"],[0.4444444444444444,\"#bd3786\"],[0.5555555555555556,\"#d8576b\"],[0.6666666666666666,\"#ed7953\"],[0.7777777777777778,\"#fb9f3a\"],[0.8888888888888888,\"#fdca26\"],[1.0,\"#f0f921\"]],\"type\":\"heatmapgl\"}],\"heatmap\":[{\"colorbar\":{\"outlinewidth\":0,\"ticks\":\"\"},\"colorscale\":[[0.0,\"#0d0887\"],[0.1111111111111111,\"#46039f\"],[0.2222222222222222,\"#7201a8\"],[0.3333333333333333,\"#9c179e\"],[0.4444444444444444,\"#bd3786\"],[0.5555555555555556,\"#d8576b\"],[0.6666666666666666,\"#ed7953\"],[0.7777777777777778,\"#fb9f3a\"],[0.8888888888888888,\"#fdca26\"],[1.0,\"#f0f921\"]],\"type\":\"heatmap\"}],\"histogram2dcontour\":[{\"colorbar\":{\"outlinewidth\":0,\"ticks\":\"\"},\"colorscale\":[[0.0,\"#0d0887\"],[0.1111111111111111,\"#46039f\"],[0.2222222222222222,\"#7201a8\"],[0.3333333333333333,\"#9c179e\"],[0.4444444444444444,\"#bd3786\"],[0.5555555555555556,\"#d8576b\"],[0.6666666666666666,\"#ed7953\"],[0.7777777777777778,\"#fb9f3a\"],[0.8888888888888888,\"#fdca26\"],[1.0,\"#f0f921\"]],\"type\":\"histogram2dcontour\"}],\"histogram2d\":[{\"colorbar\":{\"outlinewidth\":0,\"ticks\":\"\"},\"colorscale\":[[0.0,\"#0d0887\"],[0.1111111111111111,\"#46039f\"],[0.2222222222222222,\"#7201a8\"],[0.3333333333333333,\"#9c179e\"],[0.4444444444444444,\"#bd3786\"],[0.5555555555555556,\"#d8576b\"],[0.6666666666666666,\"#ed7953\"],[0.7777777777777778,\"#fb9f3a\"],[0.8888888888888888,\"#fdca26\"],[1.0,\"#f0f921\"]],\"type\":\"histogram2d\"}],\"histogram\":[{\"marker\":{\"pattern\":{\"fillmode\":\"overlay\",\"size\":10,\"solidity\":0.2}},\"type\":\"histogram\"}],\"mesh3d\":[{\"colorbar\":{\"outlinewidth\":0,\"ticks\":\"\"},\"type\":\"mesh3d\"}],\"parcoords\":[{\"line\":{\"colorbar\":{\"outlinewidth\":0,\"ticks\":\"\"}},\"type\":\"parcoords\"}],\"pie\":[{\"automargin\":true,\"type\":\"pie\"}],\"scatter3d\":[{\"line\":{\"colorbar\":{\"outlinewidth\":0,\"ticks\":\"\"}},\"marker\":{\"colorbar\":{\"outlinewidth\":0,\"ticks\":\"\"}},\"type\":\"scatter3d\"}],\"scattercarpet\":[{\"marker\":{\"colorbar\":{\"outlinewidth\":0,\"ticks\":\"\"}},\"type\":\"scattercarpet\"}],\"scattergeo\":[{\"marker\":{\"colorbar\":{\"outlinewidth\":0,\"ticks\":\"\"}},\"type\":\"scattergeo\"}],\"scattergl\":[{\"marker\":{\"colorbar\":{\"outlinewidth\":0,\"ticks\":\"\"}},\"type\":\"scattergl\"}],\"scattermapbox\":[{\"marker\":{\"colorbar\":{\"outlinewidth\":0,\"ticks\":\"\"}},\"type\":\"scattermapbox\"}],\"scatterpolargl\":[{\"marker\":{\"colorbar\":{\"outlinewidth\":0,\"ticks\":\"\"}},\"type\":\"scatterpolargl\"}],\"scatterpolar\":[{\"marker\":{\"colorbar\":{\"outlinewidth\":0,\"ticks\":\"\"}},\"type\":\"scatterpolar\"}],\"scatter\":[{\"marker\":{\"colorbar\":{\"outlinewidth\":0,\"ticks\":\"\"}},\"type\":\"scatter\"}],\"scatterternary\":[{\"marker\":{\"colorbar\":{\"outlinewidth\":0,\"ticks\":\"\"}},\"type\":\"scatterternary\"}],\"surface\":[{\"colorbar\":{\"outlinewidth\":0,\"ticks\":\"\"},\"colorscale\":[[0.0,\"#0d0887\"],[0.1111111111111111,\"#46039f\"],[0.2222222222222222,\"#7201a8\"],[0.3333333333333333,\"#9c179e\"],[0.4444444444444444,\"#bd3786\"],[0.5555555555555556,\"#d8576b\"],[0.6666666666666666,\"#ed7953\"],[0.7777777777777778,\"#fb9f3a\"],[0.8888888888888888,\"#fdca26\"],[1.0,\"#f0f921\"]],\"type\":\"surface\"}],\"table\":[{\"cells\":{\"fill\":{\"color\":\"#EBF0F8\"},\"line\":{\"color\":\"white\"}},\"header\":{\"fill\":{\"color\":\"#C8D4E3\"},\"line\":{\"color\":\"white\"}},\"type\":\"table\"}]},\"layout\":{\"annotationdefaults\":{\"arrowcolor\":\"#2a3f5f\",\"arrowhead\":0,\"arrowwidth\":1},\"autotypenumbers\":\"strict\",\"coloraxis\":{\"colorbar\":{\"outlinewidth\":0,\"ticks\":\"\"}},\"colorscale\":{\"diverging\":[[0,\"#8e0152\"],[0.1,\"#c51b7d\"],[0.2,\"#de77ae\"],[0.3,\"#f1b6da\"],[0.4,\"#fde0ef\"],[0.5,\"#f7f7f7\"],[0.6,\"#e6f5d0\"],[0.7,\"#b8e186\"],[0.8,\"#7fbc41\"],[0.9,\"#4d9221\"],[1,\"#276419\"]],\"sequential\":[[0.0,\"#0d0887\"],[0.1111111111111111,\"#46039f\"],[0.2222222222222222,\"#7201a8\"],[0.3333333333333333,\"#9c179e\"],[0.4444444444444444,\"#bd3786\"],[0.5555555555555556,\"#d8576b\"],[0.6666666666666666,\"#ed7953\"],[0.7777777777777778,\"#fb9f3a\"],[0.8888888888888888,\"#fdca26\"],[1.0,\"#f0f921\"]],\"sequentialminus\":[[0.0,\"#0d0887\"],[0.1111111111111111,\"#46039f\"],[0.2222222222222222,\"#7201a8\"],[0.3333333333333333,\"#9c179e\"],[0.4444444444444444,\"#bd3786\"],[0.5555555555555556,\"#d8576b\"],[0.6666666666666666,\"#ed7953\"],[0.7777777777777778,\"#fb9f3a\"],[0.8888888888888888,\"#fdca26\"],[1.0,\"#f0f921\"]]},\"colorway\":[\"#636efa\",\"#EF553B\",\"#00cc96\",\"#ab63fa\",\"#FFA15A\",\"#19d3f3\",\"#FF6692\",\"#B6E880\",\"#FF97FF\",\"#FECB52\"],\"font\":{\"color\":\"#2a3f5f\"},\"geo\":{\"bgcolor\":\"white\",\"lakecolor\":\"white\",\"landcolor\":\"#E5ECF6\",\"showlakes\":true,\"showland\":true,\"subunitcolor\":\"white\"},\"hoverlabel\":{\"align\":\"left\"},\"hovermode\":\"closest\",\"mapbox\":{\"style\":\"light\"},\"paper_bgcolor\":\"white\",\"plot_bgcolor\":\"#E5ECF6\",\"polar\":{\"angularaxis\":{\"gridcolor\":\"white\",\"linecolor\":\"white\",\"ticks\":\"\"},\"bgcolor\":\"#E5ECF6\",\"radialaxis\":{\"gridcolor\":\"white\",\"linecolor\":\"white\",\"ticks\":\"\"}},\"scene\":{\"xaxis\":{\"backgroundcolor\":\"#E5ECF6\",\"gridcolor\":\"white\",\"gridwidth\":2,\"linecolor\":\"white\",\"showbackground\":true,\"ticks\":\"\",\"zerolinecolor\":\"white\"},\"yaxis\":{\"backgroundcolor\":\"#E5ECF6\",\"gridcolor\":\"white\",\"gridwidth\":2,\"linecolor\":\"white\",\"showbackground\":true,\"ticks\":\"\",\"zerolinecolor\":\"white\"},\"zaxis\":{\"backgroundcolor\":\"#E5ECF6\",\"gridcolor\":\"white\",\"gridwidth\":2,\"linecolor\":\"white\",\"showbackground\":true,\"ticks\":\"\",\"zerolinecolor\":\"white\"}},\"shapedefaults\":{\"line\":{\"color\":\"#2a3f5f\"}},\"ternary\":{\"aaxis\":{\"gridcolor\":\"white\",\"linecolor\":\"white\",\"ticks\":\"\"},\"baxis\":{\"gridcolor\":\"white\",\"linecolor\":\"white\",\"ticks\":\"\"},\"bgcolor\":\"#E5ECF6\",\"caxis\":{\"gridcolor\":\"white\",\"linecolor\":\"white\",\"ticks\":\"\"}},\"title\":{\"x\":0.05},\"xaxis\":{\"automargin\":true,\"gridcolor\":\"white\",\"linecolor\":\"white\",\"ticks\":\"\",\"title\":{\"standoff\":15},\"zerolinecolor\":\"white\",\"zerolinewidth\":2},\"yaxis\":{\"automargin\":true,\"gridcolor\":\"white\",\"linecolor\":\"white\",\"ticks\":\"\",\"title\":{\"standoff\":15},\"zerolinecolor\":\"white\",\"zerolinewidth\":2}}},\"title\":{\"font\":{\"color\":\"#4D5663\"}},\"xaxis\":{\"gridcolor\":\"#E1E5ED\",\"showgrid\":true,\"tickfont\":{\"color\":\"#4D5663\"},\"title\":{\"font\":{\"color\":\"#4D5663\"},\"text\":\"\"},\"zerolinecolor\":\"#E1E5ED\"},\"yaxis\":{\"gridcolor\":\"#E1E5ED\",\"showgrid\":true,\"tickfont\":{\"color\":\"#4D5663\"},\"title\":{\"font\":{\"color\":\"#4D5663\"},\"text\":\"\"},\"zerolinecolor\":\"#E1E5ED\"}},                        {\"showLink\": true, \"linkText\": \"Export to plot.ly\", \"plotlyServerURL\": \"https://plot.ly\", \"responsive\": true}                    ).then(function(){\n",
       "                            \n",
       "var gd = document.getElementById('21d95d65-5135-4e15-811a-b5b84ee885d1');\n",
       "var x = new MutationObserver(function (mutations, observer) {{\n",
       "        var display = window.getComputedStyle(gd).display;\n",
       "        if (!display || display === 'none') {{\n",
       "            console.log([gd, 'removed!']);\n",
       "            Plotly.purge(gd);\n",
       "            observer.disconnect();\n",
       "        }}\n",
       "}});\n",
       "\n",
       "// Listen for the removal of the full notebook cells\n",
       "var notebookContainer = gd.closest('#notebook-container');\n",
       "if (notebookContainer) {{\n",
       "    x.observe(notebookContainer, {childList: true});\n",
       "}}\n",
       "\n",
       "// Listen for the clearing of the current output cell\n",
       "var outputEl = gd.closest('.output');\n",
       "if (outputEl) {{\n",
       "    x.observe(outputEl, {childList: true});\n",
       "}}\n",
       "\n",
       "                        })                };                });            </script>        </div>"
      ]
     },
     "metadata": {},
     "output_type": "display_data"
    }
   ],
   "source": [
    "df3.iplot(kind='surface',colorscale='rdylbu')"
   ]
  },
  {
   "cell_type": "code",
   "execution_count": 84,
   "metadata": {},
   "outputs": [
    {
     "data": {
      "application/vnd.plotly.v1+json": {
       "config": {
        "linkText": "Export to plot.ly",
        "plotlyServerURL": "https://plot.ly",
        "showLink": true
       },
       "data": [
        {
         "histfunc": "count",
         "histnorm": "",
         "marker": {
          "color": "rgba(255, 153, 51, 1.0)",
          "line": {
           "color": "#4D5663",
           "width": 1.3
          }
         },
         "name": "A",
         "opacity": 0.8,
         "orientation": "v",
         "type": "histogram",
         "x": [
          -1.5470379470686257,
          -0.3866827505899728,
          0.05907767532625553,
          1.3528949385329836,
          -0.2446134380889313,
          -2.406380574789591,
          -0.2816288308863832,
          0.4275053609457478,
          -0.5819392334941368,
          0.7569495452421476,
          0.6453177603325179,
          0.57422805107268,
          1.3148995288538112,
          0.220666189826017,
          -0.2839870046920182,
          0.7140778562736044,
          1.2652541519683163,
          -0.5332706279507585,
          -1.99742682090396,
          0.4405887301243418,
          1.6892743646745116,
          -0.19165751288169328,
          0.5104035641178164,
          1.3803225460438007,
          0.16703348752209532,
          -0.285872723137153,
          -0.2049482645233315,
          -0.6179469943011561,
          0.6032652329988165,
          0.05057590325797419,
          -1.3294185799763285,
          0.578716171231639,
          -1.6111718252564509,
          -0.7525916016188796,
          0.8249183497350251,
          -0.015267594448878615,
          -2.0692673026355326,
          0.6428908175911534,
          1.7655572451119899,
          2.031329227063635,
          -1.466347474243045,
          1.6401369002649178,
          -0.34019045909674234,
          0.8635745180435763,
          -0.41744886551989835,
          -0.10163440297958373,
          0.7703425064697068,
          1.4689212890171626,
          -0.23433370060897665,
          -1.3258769200955578,
          -1.1718941254219373,
          0.801932550048809,
          1.448807734284354,
          0.9847030866880221,
          0.3376184172512405,
          -1.5242713825393606,
          0.7027628372435865,
          -0.2791683192032702,
          0.020488303009922777,
          0.820619688063049,
          -0.36218158301404263,
          0.14617037002964653,
          1.6718586124907957,
          0.6705673605246165,
          0.27828495652272867,
          0.20926566932783422,
          -1.9184096983655765,
          -0.6402371208591136,
          -0.08170770033706065,
          -0.06808155063387622,
          -1.38010522374821,
          0.39561517267437496,
          0.7531494990024865,
          -0.6283031170433298,
          -1.8242056728883924,
          0.9256295159513197,
          1.2767649316415697,
          0.18525786624729326,
          0.5745200766324614,
          0.8337022049758677,
          -0.3243762742733441,
          0.4824787010648017,
          -0.1608409373329267,
          1.8793431047865878,
          0.3314905561931448,
          -0.29036873392865464,
          0.7482402104538096,
          0.49709639164898334,
          0.21495382334267585,
          1.0208806180216834,
          -0.03170735862101034,
          -2.5312495750725925,
          2.1046549936147385,
          -0.1046128281488064,
          -0.3285804840215899,
          0.24177836912715794,
          0.05569559765452582,
          -0.762999801993306,
          -0.6164640215496762,
          -1.8421776428608174
         ]
        },
        {
         "histfunc": "count",
         "histnorm": "",
         "marker": {
          "color": "rgba(55, 128, 191, 1.0)",
          "line": {
           "color": "#4D5663",
           "width": 1.3
          }
         },
         "name": "B",
         "opacity": 0.8,
         "orientation": "v",
         "type": "histogram",
         "x": [
          -0.17932026330190684,
          0.34198544751858234,
          -1.2713269129457325,
          0.0016652786409217964,
          1.4803864821833077,
          -0.2836750888514914,
          -1.4155538362514601,
          -0.5739661271236048,
          -0.35744198935824456,
          -0.8994230904876396,
          0.6991253544572609,
          -0.874793148785467,
          -0.39153074019047707,
          -0.880394830638912,
          0.4995926613587126,
          0.6293698296553195,
          1.3544469494098934,
          0.4810071047022162,
          -0.40595170495224314,
          0.09622342847254901,
          0.43681638785495297,
          -0.7536552634789734,
          0.46515551350074097,
          -0.4107904278107822,
          -0.667536213298158,
          -0.644002357567441,
          0.3279416680591974,
          -0.35640426241977324,
          0.7192398636967984,
          -0.3544851170731683,
          0.08830059864042557,
          0.030758743727376085,
          0.8935198532569544,
          0.3892696875617487,
          0.3237375347818951,
          0.6041497331006355,
          -0.40400232746982956,
          1.8468632501683382,
          -0.029077327946170142,
          0.25908762161059545,
          0.8679450620220365,
          0.967081274178919,
          1.80357447518855,
          0.7548651304368754,
          -0.5513298895031992,
          1.3705646354783096,
          0.8589382061452533,
          -1.0947470720924772,
          0.765715570102174,
          0.2385720284350847,
          -0.5320081762202075,
          -2.1047278011907666,
          -0.22838874539262682,
          -1.0758351304521767,
          0.6994286964722767,
          1.1983555883520542,
          1.8709137281616257,
          0.3346340175992276,
          1.179301597937332,
          -1.9309090060954557,
          -1.0881323911298968,
          0.0925198558216795,
          -0.6780781717104581,
          0.6074641297220856,
          1.0533655951830938,
          0.8330378584588016,
          -0.5385028983342077,
          -1.5582948613417311,
          0.5633831011807973,
          0.296668625167125,
          -0.9065113935632445,
          -0.21770298654540515,
          -0.18554362127577312,
          0.8460395539141479,
          -0.06587075962834432,
          -1.3271566677311997,
          0.25495202389316673,
          -0.6747528477615352,
          -1.435892609276357,
          -0.960122176589752,
          -0.3454127480759408,
          0.4072393867432423,
          -1.338046384045666,
          0.5103799524326336,
          1.4224780373575563,
          0.5088221930699162,
          0.03356517523728443,
          0.45970454247660264,
          1.2459543043789276,
          0.2505549812457923,
          0.259785611079415,
          0.5130794204738841,
          2.8931347231761175,
          -0.08760616578299192,
          -1.1963390674150716,
          0.8284380378357371,
          1.0897731639265282,
          3.2145514299528397,
          0.5444588734985717,
          -1.5142056829390005
         ]
        },
        {
         "histfunc": "count",
         "histnorm": "",
         "marker": {
          "color": "rgba(50, 171, 96, 1.0)",
          "line": {
           "color": "#4D5663",
           "width": 1.3
          }
         },
         "name": "C",
         "opacity": 0.8,
         "orientation": "v",
         "type": "histogram",
         "x": [
          -0.8827337164904582,
          -1.8364531539319333,
          0.8082687682781682,
          0.6289536187563297,
          0.13738826055039535,
          -0.48702056371183133,
          -0.4662976847342923,
          -0.7015128306413758,
          -2.075792831188183,
          1.1176300474724994,
          0.9671408679228939,
          0.3868725572827184,
          1.2346153433668805,
          -0.9703164223331473,
          1.9817729912124495,
          -0.7776807674549705,
          1.0904074274491107,
          0.10563209017692979,
          -1.5907909212167808,
          1.0082636128241178,
          -0.3353296165270854,
          -0.7591345840064578,
          0.7742601105711353,
          1.1467958848004252,
          0.9200633767725459,
          0.7346362265663221,
          -0.8139337677173419,
          -0.5546883808219134,
          0.2764431453193479,
          -0.95215237627935,
          -0.07095272199313353,
          -0.520697352733301,
          -0.4340839633081928,
          -1.0466663533478058,
          1.2543681127605029,
          0.8666311142299339,
          -0.3518608740488995,
          -0.43880066086130814,
          0.42178024324125096,
          1.299203464296593,
          -0.15407331280936215,
          -0.6075954511987632,
          -0.31243377106445835,
          -0.3299566935335466,
          -0.8873057264322378,
          0.04679665624628326,
          -0.12976410822364787,
          0.6617216984182405,
          0.2677726756401323,
          0.36854030491480244,
          1.0834360202988516,
          -0.5358001827681771,
          1.3566403293736051,
          1.3232084208589134,
          -0.9200288536262442,
          0.4035164337882321,
          1.457756930269989,
          -0.48177075689597204,
          -0.10253003630182166,
          -1.1087611194830596,
          1.2405184299530734,
          -1.1613026903681023,
          -0.21807727298806873,
          2.073990265406395,
          -0.12142871305310494,
          -1.130168455585731,
          0.6737067936121557,
          -0.5226892924994307,
          0.9439193803151366,
          -0.9443041315154184,
          -0.5173949214588162,
          0.35076467768349945,
          -0.1268157260701168,
          1.5232667086176082,
          -0.42512384149961735,
          -1.2916065855294245,
          -0.2895713037165531,
          0.5519442699233186,
          1.6307332488054225,
          0.49046965386208186,
          -1.5335496821072878,
          -0.4633643003770435,
          -0.7016934868574808,
          -0.2487663579333527,
          0.31110876877089483,
          -1.7132404041523144,
          1.057646417962785,
          -0.1528239791025941,
          -0.699145591330207,
          -1.7823629346489065,
          -0.11037143237132825,
          0.5125188565494171,
          0.4533917864601765,
          -0.6654675164735756,
          1.6813259994038556,
          -0.995626301686294,
          0.484448176581966,
          -0.9251656585866519,
          -0.41487414299947856,
          1.3509865271705759
         ]
        },
        {
         "histfunc": "count",
         "histnorm": "",
         "marker": {
          "color": "rgba(128, 0, 128, 1.0)",
          "line": {
           "color": "#4D5663",
           "width": 1.3
          }
         },
         "name": "D",
         "opacity": 0.8,
         "orientation": "v",
         "type": "histogram",
         "x": [
          -0.6920880206110122,
          -1.1528187877583664,
          0.5086136006525542,
          -0.3215793850236674,
          -1.394860954443431,
          0.8898543007611304,
          0.6766517919690216,
          1.2415891437981637,
          0.5749645946153426,
          0.8191522907746716,
          -1.3401567878568013,
          0.004138571752962983,
          1.9727662152133698,
          1.7100298800610687,
          0.7905135404134748,
          0.5035795302927593,
          -0.6426516642396118,
          0.6107854330514066,
          0.10928182793825748,
          1.1501642674489254,
          -2.4740487192674028,
          -0.43881799465043336,
          -0.8094019886420079,
          -0.31202726037660966,
          -0.2236736738974433,
          -1.3740994147648478,
          -0.24299560216202182,
          0.32179333878077643,
          0.48952220272470165,
          0.1242364926299338,
          0.6655346523272315,
          0.2335595973186929,
          -1.3979047777316438,
          -1.1861224414071925,
          -0.11470463861534105,
          0.888977369121416,
          0.19762432272577532,
          -0.911490070227444,
          0.42138513877796047,
          -1.2392259969612873,
          -0.42396337197608314,
          -0.8040254949941189,
          0.5246503673076683,
          0.6174376551293572,
          0.6667732964950027,
          -1.624315511280616,
          -0.7009900507939105,
          -0.7566895336475554,
          0.4228153655438361,
          -0.4921515625061394,
          -0.28024629047864485,
          -0.015140262941474195,
          1.2599427979153641,
          0.5190923874462334,
          0.05096023773849388,
          1.323901428598727,
          1.548038022029308,
          -0.8155899694131572,
          0.9399055199142157,
          0.07432006820395431,
          1.0041698831027674,
          -1.20750103555811,
          0.859700286664465,
          -0.28205347737206277,
          -0.30401620740514995,
          0.16367012099450978,
          -1.2584412572551649,
          -0.325827150091203,
          -1.7999396554564284,
          -0.20307309104609228,
          -1.1442481553192654,
          0.653286239947092,
          0.07516392687232953,
          0.7521899316131974,
          0.5260372458993744,
          -1.395226916488713,
          0.9921908967238827,
          1.2418292779657578,
          -0.1539017470993894,
          0.7373886256861507,
          0.38834918020664827,
          0.2362135412776182,
          0.0115188899390858,
          -1.6415807833383291,
          1.8233714094438518,
          -0.02860208451841463,
          0.9508625218057386,
          -1.4221906894981022,
          0.43956758103632954,
          0.3276390633566963,
          0.5591093211320485,
          2.0975676475011604,
          0.5114912158185853,
          1.0926954349320122,
          0.09089460843272662,
          -0.07754270763857592,
          -0.23416245302275307,
          1.013785139194283,
          1.3047201740780954,
          0.02289887280392105
         ]
        }
       ],
       "layout": {
        "barmode": "overlay",
        "legend": {
         "bgcolor": "#F5F6F9",
         "font": {
          "color": "#4D5663"
         }
        },
        "paper_bgcolor": "#F5F6F9",
        "plot_bgcolor": "#F5F6F9",
        "template": {
         "data": {
          "bar": [
           {
            "error_x": {
             "color": "#2a3f5f"
            },
            "error_y": {
             "color": "#2a3f5f"
            },
            "marker": {
             "line": {
              "color": "#E5ECF6",
              "width": 0.5
             },
             "pattern": {
              "fillmode": "overlay",
              "size": 10,
              "solidity": 0.2
             }
            },
            "type": "bar"
           }
          ],
          "barpolar": [
           {
            "marker": {
             "line": {
              "color": "#E5ECF6",
              "width": 0.5
             },
             "pattern": {
              "fillmode": "overlay",
              "size": 10,
              "solidity": 0.2
             }
            },
            "type": "barpolar"
           }
          ],
          "carpet": [
           {
            "aaxis": {
             "endlinecolor": "#2a3f5f",
             "gridcolor": "white",
             "linecolor": "white",
             "minorgridcolor": "white",
             "startlinecolor": "#2a3f5f"
            },
            "baxis": {
             "endlinecolor": "#2a3f5f",
             "gridcolor": "white",
             "linecolor": "white",
             "minorgridcolor": "white",
             "startlinecolor": "#2a3f5f"
            },
            "type": "carpet"
           }
          ],
          "choropleth": [
           {
            "colorbar": {
             "outlinewidth": 0,
             "ticks": ""
            },
            "type": "choropleth"
           }
          ],
          "contour": [
           {
            "colorbar": {
             "outlinewidth": 0,
             "ticks": ""
            },
            "colorscale": [
             [
              0,
              "#0d0887"
             ],
             [
              0.1111111111111111,
              "#46039f"
             ],
             [
              0.2222222222222222,
              "#7201a8"
             ],
             [
              0.3333333333333333,
              "#9c179e"
             ],
             [
              0.4444444444444444,
              "#bd3786"
             ],
             [
              0.5555555555555556,
              "#d8576b"
             ],
             [
              0.6666666666666666,
              "#ed7953"
             ],
             [
              0.7777777777777778,
              "#fb9f3a"
             ],
             [
              0.8888888888888888,
              "#fdca26"
             ],
             [
              1,
              "#f0f921"
             ]
            ],
            "type": "contour"
           }
          ],
          "contourcarpet": [
           {
            "colorbar": {
             "outlinewidth": 0,
             "ticks": ""
            },
            "type": "contourcarpet"
           }
          ],
          "heatmap": [
           {
            "colorbar": {
             "outlinewidth": 0,
             "ticks": ""
            },
            "colorscale": [
             [
              0,
              "#0d0887"
             ],
             [
              0.1111111111111111,
              "#46039f"
             ],
             [
              0.2222222222222222,
              "#7201a8"
             ],
             [
              0.3333333333333333,
              "#9c179e"
             ],
             [
              0.4444444444444444,
              "#bd3786"
             ],
             [
              0.5555555555555556,
              "#d8576b"
             ],
             [
              0.6666666666666666,
              "#ed7953"
             ],
             [
              0.7777777777777778,
              "#fb9f3a"
             ],
             [
              0.8888888888888888,
              "#fdca26"
             ],
             [
              1,
              "#f0f921"
             ]
            ],
            "type": "heatmap"
           }
          ],
          "heatmapgl": [
           {
            "colorbar": {
             "outlinewidth": 0,
             "ticks": ""
            },
            "colorscale": [
             [
              0,
              "#0d0887"
             ],
             [
              0.1111111111111111,
              "#46039f"
             ],
             [
              0.2222222222222222,
              "#7201a8"
             ],
             [
              0.3333333333333333,
              "#9c179e"
             ],
             [
              0.4444444444444444,
              "#bd3786"
             ],
             [
              0.5555555555555556,
              "#d8576b"
             ],
             [
              0.6666666666666666,
              "#ed7953"
             ],
             [
              0.7777777777777778,
              "#fb9f3a"
             ],
             [
              0.8888888888888888,
              "#fdca26"
             ],
             [
              1,
              "#f0f921"
             ]
            ],
            "type": "heatmapgl"
           }
          ],
          "histogram": [
           {
            "marker": {
             "pattern": {
              "fillmode": "overlay",
              "size": 10,
              "solidity": 0.2
             }
            },
            "type": "histogram"
           }
          ],
          "histogram2d": [
           {
            "colorbar": {
             "outlinewidth": 0,
             "ticks": ""
            },
            "colorscale": [
             [
              0,
              "#0d0887"
             ],
             [
              0.1111111111111111,
              "#46039f"
             ],
             [
              0.2222222222222222,
              "#7201a8"
             ],
             [
              0.3333333333333333,
              "#9c179e"
             ],
             [
              0.4444444444444444,
              "#bd3786"
             ],
             [
              0.5555555555555556,
              "#d8576b"
             ],
             [
              0.6666666666666666,
              "#ed7953"
             ],
             [
              0.7777777777777778,
              "#fb9f3a"
             ],
             [
              0.8888888888888888,
              "#fdca26"
             ],
             [
              1,
              "#f0f921"
             ]
            ],
            "type": "histogram2d"
           }
          ],
          "histogram2dcontour": [
           {
            "colorbar": {
             "outlinewidth": 0,
             "ticks": ""
            },
            "colorscale": [
             [
              0,
              "#0d0887"
             ],
             [
              0.1111111111111111,
              "#46039f"
             ],
             [
              0.2222222222222222,
              "#7201a8"
             ],
             [
              0.3333333333333333,
              "#9c179e"
             ],
             [
              0.4444444444444444,
              "#bd3786"
             ],
             [
              0.5555555555555556,
              "#d8576b"
             ],
             [
              0.6666666666666666,
              "#ed7953"
             ],
             [
              0.7777777777777778,
              "#fb9f3a"
             ],
             [
              0.8888888888888888,
              "#fdca26"
             ],
             [
              1,
              "#f0f921"
             ]
            ],
            "type": "histogram2dcontour"
           }
          ],
          "mesh3d": [
           {
            "colorbar": {
             "outlinewidth": 0,
             "ticks": ""
            },
            "type": "mesh3d"
           }
          ],
          "parcoords": [
           {
            "line": {
             "colorbar": {
              "outlinewidth": 0,
              "ticks": ""
             }
            },
            "type": "parcoords"
           }
          ],
          "pie": [
           {
            "automargin": true,
            "type": "pie"
           }
          ],
          "scatter": [
           {
            "marker": {
             "colorbar": {
              "outlinewidth": 0,
              "ticks": ""
             }
            },
            "type": "scatter"
           }
          ],
          "scatter3d": [
           {
            "line": {
             "colorbar": {
              "outlinewidth": 0,
              "ticks": ""
             }
            },
            "marker": {
             "colorbar": {
              "outlinewidth": 0,
              "ticks": ""
             }
            },
            "type": "scatter3d"
           }
          ],
          "scattercarpet": [
           {
            "marker": {
             "colorbar": {
              "outlinewidth": 0,
              "ticks": ""
             }
            },
            "type": "scattercarpet"
           }
          ],
          "scattergeo": [
           {
            "marker": {
             "colorbar": {
              "outlinewidth": 0,
              "ticks": ""
             }
            },
            "type": "scattergeo"
           }
          ],
          "scattergl": [
           {
            "marker": {
             "colorbar": {
              "outlinewidth": 0,
              "ticks": ""
             }
            },
            "type": "scattergl"
           }
          ],
          "scattermapbox": [
           {
            "marker": {
             "colorbar": {
              "outlinewidth": 0,
              "ticks": ""
             }
            },
            "type": "scattermapbox"
           }
          ],
          "scatterpolar": [
           {
            "marker": {
             "colorbar": {
              "outlinewidth": 0,
              "ticks": ""
             }
            },
            "type": "scatterpolar"
           }
          ],
          "scatterpolargl": [
           {
            "marker": {
             "colorbar": {
              "outlinewidth": 0,
              "ticks": ""
             }
            },
            "type": "scatterpolargl"
           }
          ],
          "scatterternary": [
           {
            "marker": {
             "colorbar": {
              "outlinewidth": 0,
              "ticks": ""
             }
            },
            "type": "scatterternary"
           }
          ],
          "surface": [
           {
            "colorbar": {
             "outlinewidth": 0,
             "ticks": ""
            },
            "colorscale": [
             [
              0,
              "#0d0887"
             ],
             [
              0.1111111111111111,
              "#46039f"
             ],
             [
              0.2222222222222222,
              "#7201a8"
             ],
             [
              0.3333333333333333,
              "#9c179e"
             ],
             [
              0.4444444444444444,
              "#bd3786"
             ],
             [
              0.5555555555555556,
              "#d8576b"
             ],
             [
              0.6666666666666666,
              "#ed7953"
             ],
             [
              0.7777777777777778,
              "#fb9f3a"
             ],
             [
              0.8888888888888888,
              "#fdca26"
             ],
             [
              1,
              "#f0f921"
             ]
            ],
            "type": "surface"
           }
          ],
          "table": [
           {
            "cells": {
             "fill": {
              "color": "#EBF0F8"
             },
             "line": {
              "color": "white"
             }
            },
            "header": {
             "fill": {
              "color": "#C8D4E3"
             },
             "line": {
              "color": "white"
             }
            },
            "type": "table"
           }
          ]
         },
         "layout": {
          "annotationdefaults": {
           "arrowcolor": "#2a3f5f",
           "arrowhead": 0,
           "arrowwidth": 1
          },
          "autotypenumbers": "strict",
          "coloraxis": {
           "colorbar": {
            "outlinewidth": 0,
            "ticks": ""
           }
          },
          "colorscale": {
           "diverging": [
            [
             0,
             "#8e0152"
            ],
            [
             0.1,
             "#c51b7d"
            ],
            [
             0.2,
             "#de77ae"
            ],
            [
             0.3,
             "#f1b6da"
            ],
            [
             0.4,
             "#fde0ef"
            ],
            [
             0.5,
             "#f7f7f7"
            ],
            [
             0.6,
             "#e6f5d0"
            ],
            [
             0.7,
             "#b8e186"
            ],
            [
             0.8,
             "#7fbc41"
            ],
            [
             0.9,
             "#4d9221"
            ],
            [
             1,
             "#276419"
            ]
           ],
           "sequential": [
            [
             0,
             "#0d0887"
            ],
            [
             0.1111111111111111,
             "#46039f"
            ],
            [
             0.2222222222222222,
             "#7201a8"
            ],
            [
             0.3333333333333333,
             "#9c179e"
            ],
            [
             0.4444444444444444,
             "#bd3786"
            ],
            [
             0.5555555555555556,
             "#d8576b"
            ],
            [
             0.6666666666666666,
             "#ed7953"
            ],
            [
             0.7777777777777778,
             "#fb9f3a"
            ],
            [
             0.8888888888888888,
             "#fdca26"
            ],
            [
             1,
             "#f0f921"
            ]
           ],
           "sequentialminus": [
            [
             0,
             "#0d0887"
            ],
            [
             0.1111111111111111,
             "#46039f"
            ],
            [
             0.2222222222222222,
             "#7201a8"
            ],
            [
             0.3333333333333333,
             "#9c179e"
            ],
            [
             0.4444444444444444,
             "#bd3786"
            ],
            [
             0.5555555555555556,
             "#d8576b"
            ],
            [
             0.6666666666666666,
             "#ed7953"
            ],
            [
             0.7777777777777778,
             "#fb9f3a"
            ],
            [
             0.8888888888888888,
             "#fdca26"
            ],
            [
             1,
             "#f0f921"
            ]
           ]
          },
          "colorway": [
           "#636efa",
           "#EF553B",
           "#00cc96",
           "#ab63fa",
           "#FFA15A",
           "#19d3f3",
           "#FF6692",
           "#B6E880",
           "#FF97FF",
           "#FECB52"
          ],
          "font": {
           "color": "#2a3f5f"
          },
          "geo": {
           "bgcolor": "white",
           "lakecolor": "white",
           "landcolor": "#E5ECF6",
           "showlakes": true,
           "showland": true,
           "subunitcolor": "white"
          },
          "hoverlabel": {
           "align": "left"
          },
          "hovermode": "closest",
          "mapbox": {
           "style": "light"
          },
          "paper_bgcolor": "white",
          "plot_bgcolor": "#E5ECF6",
          "polar": {
           "angularaxis": {
            "gridcolor": "white",
            "linecolor": "white",
            "ticks": ""
           },
           "bgcolor": "#E5ECF6",
           "radialaxis": {
            "gridcolor": "white",
            "linecolor": "white",
            "ticks": ""
           }
          },
          "scene": {
           "xaxis": {
            "backgroundcolor": "#E5ECF6",
            "gridcolor": "white",
            "gridwidth": 2,
            "linecolor": "white",
            "showbackground": true,
            "ticks": "",
            "zerolinecolor": "white"
           },
           "yaxis": {
            "backgroundcolor": "#E5ECF6",
            "gridcolor": "white",
            "gridwidth": 2,
            "linecolor": "white",
            "showbackground": true,
            "ticks": "",
            "zerolinecolor": "white"
           },
           "zaxis": {
            "backgroundcolor": "#E5ECF6",
            "gridcolor": "white",
            "gridwidth": 2,
            "linecolor": "white",
            "showbackground": true,
            "ticks": "",
            "zerolinecolor": "white"
           }
          },
          "shapedefaults": {
           "line": {
            "color": "#2a3f5f"
           }
          },
          "ternary": {
           "aaxis": {
            "gridcolor": "white",
            "linecolor": "white",
            "ticks": ""
           },
           "baxis": {
            "gridcolor": "white",
            "linecolor": "white",
            "ticks": ""
           },
           "bgcolor": "#E5ECF6",
           "caxis": {
            "gridcolor": "white",
            "linecolor": "white",
            "ticks": ""
           }
          },
          "title": {
           "x": 0.05
          },
          "xaxis": {
           "automargin": true,
           "gridcolor": "white",
           "linecolor": "white",
           "ticks": "",
           "title": {
            "standoff": 15
           },
           "zerolinecolor": "white",
           "zerolinewidth": 2
          },
          "yaxis": {
           "automargin": true,
           "gridcolor": "white",
           "linecolor": "white",
           "ticks": "",
           "title": {
            "standoff": 15
           },
           "zerolinecolor": "white",
           "zerolinewidth": 2
          }
         }
        },
        "title": {
         "font": {
          "color": "#4D5663"
         }
        },
        "xaxis": {
         "gridcolor": "#E1E5ED",
         "showgrid": true,
         "tickfont": {
          "color": "#4D5663"
         },
         "title": {
          "font": {
           "color": "#4D5663"
          },
          "text": ""
         },
         "zerolinecolor": "#E1E5ED"
        },
        "yaxis": {
         "gridcolor": "#E1E5ED",
         "showgrid": true,
         "tickfont": {
          "color": "#4D5663"
         },
         "title": {
          "font": {
           "color": "#4D5663"
          },
          "text": ""
         },
         "zerolinecolor": "#E1E5ED"
        }
       }
      },
      "text/html": [
       "<div>                            <div id=\"99444526-84a9-4169-90de-1bf7cc86ea4e\" class=\"plotly-graph-div\" style=\"height:525px; width:100%;\"></div>            <script type=\"text/javascript\">                require([\"plotly\"], function(Plotly) {                    window.PLOTLYENV=window.PLOTLYENV || {};\n",
       "                    window.PLOTLYENV.BASE_URL='https://plot.ly';                                    if (document.getElementById(\"99444526-84a9-4169-90de-1bf7cc86ea4e\")) {                    Plotly.newPlot(                        \"99444526-84a9-4169-90de-1bf7cc86ea4e\",                        [{\"histfunc\":\"count\",\"histnorm\":\"\",\"marker\":{\"color\":\"rgba(255, 153, 51, 1.0)\",\"line\":{\"color\":\"#4D5663\",\"width\":1.3}},\"name\":\"A\",\"opacity\":0.8,\"orientation\":\"v\",\"x\":[-1.5470379470686257,-0.3866827505899728,0.05907767532625553,1.3528949385329836,-0.2446134380889313,-2.406380574789591,-0.2816288308863832,0.4275053609457478,-0.5819392334941368,0.7569495452421476,0.6453177603325179,0.57422805107268,1.3148995288538112,0.220666189826017,-0.2839870046920182,0.7140778562736044,1.2652541519683163,-0.5332706279507585,-1.99742682090396,0.4405887301243418,1.6892743646745116,-0.19165751288169328,0.5104035641178164,1.3803225460438007,0.16703348752209532,-0.285872723137153,-0.2049482645233315,-0.6179469943011561,0.6032652329988165,0.05057590325797419,-1.3294185799763285,0.578716171231639,-1.6111718252564509,-0.7525916016188796,0.8249183497350251,-0.015267594448878615,-2.0692673026355326,0.6428908175911534,1.7655572451119899,2.031329227063635,-1.466347474243045,1.6401369002649178,-0.34019045909674234,0.8635745180435763,-0.41744886551989835,-0.10163440297958373,0.7703425064697068,1.4689212890171626,-0.23433370060897665,-1.3258769200955578,-1.1718941254219373,0.801932550048809,1.448807734284354,0.9847030866880221,0.3376184172512405,-1.5242713825393606,0.7027628372435865,-0.2791683192032702,0.020488303009922777,0.820619688063049,-0.36218158301404263,0.14617037002964653,1.6718586124907957,0.6705673605246165,0.27828495652272867,0.20926566932783422,-1.9184096983655765,-0.6402371208591136,-0.08170770033706065,-0.06808155063387622,-1.38010522374821,0.39561517267437496,0.7531494990024865,-0.6283031170433298,-1.8242056728883924,0.9256295159513197,1.2767649316415697,0.18525786624729326,0.5745200766324614,0.8337022049758677,-0.3243762742733441,0.4824787010648017,-0.1608409373329267,1.8793431047865878,0.3314905561931448,-0.29036873392865464,0.7482402104538096,0.49709639164898334,0.21495382334267585,1.0208806180216834,-0.03170735862101034,-2.5312495750725925,2.1046549936147385,-0.1046128281488064,-0.3285804840215899,0.24177836912715794,0.05569559765452582,-0.762999801993306,-0.6164640215496762,-1.8421776428608174],\"type\":\"histogram\"},{\"histfunc\":\"count\",\"histnorm\":\"\",\"marker\":{\"color\":\"rgba(55, 128, 191, 1.0)\",\"line\":{\"color\":\"#4D5663\",\"width\":1.3}},\"name\":\"B\",\"opacity\":0.8,\"orientation\":\"v\",\"x\":[-0.17932026330190684,0.34198544751858234,-1.2713269129457325,0.0016652786409217964,1.4803864821833077,-0.2836750888514914,-1.4155538362514601,-0.5739661271236048,-0.35744198935824456,-0.8994230904876396,0.6991253544572609,-0.874793148785467,-0.39153074019047707,-0.880394830638912,0.4995926613587126,0.6293698296553195,1.3544469494098934,0.4810071047022162,-0.40595170495224314,0.09622342847254901,0.43681638785495297,-0.7536552634789734,0.46515551350074097,-0.4107904278107822,-0.667536213298158,-0.644002357567441,0.3279416680591974,-0.35640426241977324,0.7192398636967984,-0.3544851170731683,0.08830059864042557,0.030758743727376085,0.8935198532569544,0.3892696875617487,0.3237375347818951,0.6041497331006355,-0.40400232746982956,1.8468632501683382,-0.029077327946170142,0.25908762161059545,0.8679450620220365,0.967081274178919,1.80357447518855,0.7548651304368754,-0.5513298895031992,1.3705646354783096,0.8589382061452533,-1.0947470720924772,0.765715570102174,0.2385720284350847,-0.5320081762202075,-2.1047278011907666,-0.22838874539262682,-1.0758351304521767,0.6994286964722767,1.1983555883520542,1.8709137281616257,0.3346340175992276,1.179301597937332,-1.9309090060954557,-1.0881323911298968,0.0925198558216795,-0.6780781717104581,0.6074641297220856,1.0533655951830938,0.8330378584588016,-0.5385028983342077,-1.5582948613417311,0.5633831011807973,0.296668625167125,-0.9065113935632445,-0.21770298654540515,-0.18554362127577312,0.8460395539141479,-0.06587075962834432,-1.3271566677311997,0.25495202389316673,-0.6747528477615352,-1.435892609276357,-0.960122176589752,-0.3454127480759408,0.4072393867432423,-1.338046384045666,0.5103799524326336,1.4224780373575563,0.5088221930699162,0.03356517523728443,0.45970454247660264,1.2459543043789276,0.2505549812457923,0.259785611079415,0.5130794204738841,2.8931347231761175,-0.08760616578299192,-1.1963390674150716,0.8284380378357371,1.0897731639265282,3.2145514299528397,0.5444588734985717,-1.5142056829390005],\"type\":\"histogram\"},{\"histfunc\":\"count\",\"histnorm\":\"\",\"marker\":{\"color\":\"rgba(50, 171, 96, 1.0)\",\"line\":{\"color\":\"#4D5663\",\"width\":1.3}},\"name\":\"C\",\"opacity\":0.8,\"orientation\":\"v\",\"x\":[-0.8827337164904582,-1.8364531539319333,0.8082687682781682,0.6289536187563297,0.13738826055039535,-0.48702056371183133,-0.4662976847342923,-0.7015128306413758,-2.075792831188183,1.1176300474724994,0.9671408679228939,0.3868725572827184,1.2346153433668805,-0.9703164223331473,1.9817729912124495,-0.7776807674549705,1.0904074274491107,0.10563209017692979,-1.5907909212167808,1.0082636128241178,-0.3353296165270854,-0.7591345840064578,0.7742601105711353,1.1467958848004252,0.9200633767725459,0.7346362265663221,-0.8139337677173419,-0.5546883808219134,0.2764431453193479,-0.95215237627935,-0.07095272199313353,-0.520697352733301,-0.4340839633081928,-1.0466663533478058,1.2543681127605029,0.8666311142299339,-0.3518608740488995,-0.43880066086130814,0.42178024324125096,1.299203464296593,-0.15407331280936215,-0.6075954511987632,-0.31243377106445835,-0.3299566935335466,-0.8873057264322378,0.04679665624628326,-0.12976410822364787,0.6617216984182405,0.2677726756401323,0.36854030491480244,1.0834360202988516,-0.5358001827681771,1.3566403293736051,1.3232084208589134,-0.9200288536262442,0.4035164337882321,1.457756930269989,-0.48177075689597204,-0.10253003630182166,-1.1087611194830596,1.2405184299530734,-1.1613026903681023,-0.21807727298806873,2.073990265406395,-0.12142871305310494,-1.130168455585731,0.6737067936121557,-0.5226892924994307,0.9439193803151366,-0.9443041315154184,-0.5173949214588162,0.35076467768349945,-0.1268157260701168,1.5232667086176082,-0.42512384149961735,-1.2916065855294245,-0.2895713037165531,0.5519442699233186,1.6307332488054225,0.49046965386208186,-1.5335496821072878,-0.4633643003770435,-0.7016934868574808,-0.2487663579333527,0.31110876877089483,-1.7132404041523144,1.057646417962785,-0.1528239791025941,-0.699145591330207,-1.7823629346489065,-0.11037143237132825,0.5125188565494171,0.4533917864601765,-0.6654675164735756,1.6813259994038556,-0.995626301686294,0.484448176581966,-0.9251656585866519,-0.41487414299947856,1.3509865271705759],\"type\":\"histogram\"},{\"histfunc\":\"count\",\"histnorm\":\"\",\"marker\":{\"color\":\"rgba(128, 0, 128, 1.0)\",\"line\":{\"color\":\"#4D5663\",\"width\":1.3}},\"name\":\"D\",\"opacity\":0.8,\"orientation\":\"v\",\"x\":[-0.6920880206110122,-1.1528187877583664,0.5086136006525542,-0.3215793850236674,-1.394860954443431,0.8898543007611304,0.6766517919690216,1.2415891437981637,0.5749645946153426,0.8191522907746716,-1.3401567878568013,0.004138571752962983,1.9727662152133698,1.7100298800610687,0.7905135404134748,0.5035795302927593,-0.6426516642396118,0.6107854330514066,0.10928182793825748,1.1501642674489254,-2.4740487192674028,-0.43881799465043336,-0.8094019886420079,-0.31202726037660966,-0.2236736738974433,-1.3740994147648478,-0.24299560216202182,0.32179333878077643,0.48952220272470165,0.1242364926299338,0.6655346523272315,0.2335595973186929,-1.3979047777316438,-1.1861224414071925,-0.11470463861534105,0.888977369121416,0.19762432272577532,-0.911490070227444,0.42138513877796047,-1.2392259969612873,-0.42396337197608314,-0.8040254949941189,0.5246503673076683,0.6174376551293572,0.6667732964950027,-1.624315511280616,-0.7009900507939105,-0.7566895336475554,0.4228153655438361,-0.4921515625061394,-0.28024629047864485,-0.015140262941474195,1.2599427979153641,0.5190923874462334,0.05096023773849388,1.323901428598727,1.548038022029308,-0.8155899694131572,0.9399055199142157,0.07432006820395431,1.0041698831027674,-1.20750103555811,0.859700286664465,-0.28205347737206277,-0.30401620740514995,0.16367012099450978,-1.2584412572551649,-0.325827150091203,-1.7999396554564284,-0.20307309104609228,-1.1442481553192654,0.653286239947092,0.07516392687232953,0.7521899316131974,0.5260372458993744,-1.395226916488713,0.9921908967238827,1.2418292779657578,-0.1539017470993894,0.7373886256861507,0.38834918020664827,0.2362135412776182,0.0115188899390858,-1.6415807833383291,1.8233714094438518,-0.02860208451841463,0.9508625218057386,-1.4221906894981022,0.43956758103632954,0.3276390633566963,0.5591093211320485,2.0975676475011604,0.5114912158185853,1.0926954349320122,0.09089460843272662,-0.07754270763857592,-0.23416245302275307,1.013785139194283,1.3047201740780954,0.02289887280392105],\"type\":\"histogram\"}],                        {\"barmode\":\"overlay\",\"legend\":{\"bgcolor\":\"#F5F6F9\",\"font\":{\"color\":\"#4D5663\"}},\"paper_bgcolor\":\"#F5F6F9\",\"plot_bgcolor\":\"#F5F6F9\",\"template\":{\"data\":{\"barpolar\":[{\"marker\":{\"line\":{\"color\":\"#E5ECF6\",\"width\":0.5},\"pattern\":{\"fillmode\":\"overlay\",\"size\":10,\"solidity\":0.2}},\"type\":\"barpolar\"}],\"bar\":[{\"error_x\":{\"color\":\"#2a3f5f\"},\"error_y\":{\"color\":\"#2a3f5f\"},\"marker\":{\"line\":{\"color\":\"#E5ECF6\",\"width\":0.5},\"pattern\":{\"fillmode\":\"overlay\",\"size\":10,\"solidity\":0.2}},\"type\":\"bar\"}],\"carpet\":[{\"aaxis\":{\"endlinecolor\":\"#2a3f5f\",\"gridcolor\":\"white\",\"linecolor\":\"white\",\"minorgridcolor\":\"white\",\"startlinecolor\":\"#2a3f5f\"},\"baxis\":{\"endlinecolor\":\"#2a3f5f\",\"gridcolor\":\"white\",\"linecolor\":\"white\",\"minorgridcolor\":\"white\",\"startlinecolor\":\"#2a3f5f\"},\"type\":\"carpet\"}],\"choropleth\":[{\"colorbar\":{\"outlinewidth\":0,\"ticks\":\"\"},\"type\":\"choropleth\"}],\"contourcarpet\":[{\"colorbar\":{\"outlinewidth\":0,\"ticks\":\"\"},\"type\":\"contourcarpet\"}],\"contour\":[{\"colorbar\":{\"outlinewidth\":0,\"ticks\":\"\"},\"colorscale\":[[0.0,\"#0d0887\"],[0.1111111111111111,\"#46039f\"],[0.2222222222222222,\"#7201a8\"],[0.3333333333333333,\"#9c179e\"],[0.4444444444444444,\"#bd3786\"],[0.5555555555555556,\"#d8576b\"],[0.6666666666666666,\"#ed7953\"],[0.7777777777777778,\"#fb9f3a\"],[0.8888888888888888,\"#fdca26\"],[1.0,\"#f0f921\"]],\"type\":\"contour\"}],\"heatmapgl\":[{\"colorbar\":{\"outlinewidth\":0,\"ticks\":\"\"},\"colorscale\":[[0.0,\"#0d0887\"],[0.1111111111111111,\"#46039f\"],[0.2222222222222222,\"#7201a8\"],[0.3333333333333333,\"#9c179e\"],[0.4444444444444444,\"#bd3786\"],[0.5555555555555556,\"#d8576b\"],[0.6666666666666666,\"#ed7953\"],[0.7777777777777778,\"#fb9f3a\"],[0.8888888888888888,\"#fdca26\"],[1.0,\"#f0f921\"]],\"type\":\"heatmapgl\"}],\"heatmap\":[{\"colorbar\":{\"outlinewidth\":0,\"ticks\":\"\"},\"colorscale\":[[0.0,\"#0d0887\"],[0.1111111111111111,\"#46039f\"],[0.2222222222222222,\"#7201a8\"],[0.3333333333333333,\"#9c179e\"],[0.4444444444444444,\"#bd3786\"],[0.5555555555555556,\"#d8576b\"],[0.6666666666666666,\"#ed7953\"],[0.7777777777777778,\"#fb9f3a\"],[0.8888888888888888,\"#fdca26\"],[1.0,\"#f0f921\"]],\"type\":\"heatmap\"}],\"histogram2dcontour\":[{\"colorbar\":{\"outlinewidth\":0,\"ticks\":\"\"},\"colorscale\":[[0.0,\"#0d0887\"],[0.1111111111111111,\"#46039f\"],[0.2222222222222222,\"#7201a8\"],[0.3333333333333333,\"#9c179e\"],[0.4444444444444444,\"#bd3786\"],[0.5555555555555556,\"#d8576b\"],[0.6666666666666666,\"#ed7953\"],[0.7777777777777778,\"#fb9f3a\"],[0.8888888888888888,\"#fdca26\"],[1.0,\"#f0f921\"]],\"type\":\"histogram2dcontour\"}],\"histogram2d\":[{\"colorbar\":{\"outlinewidth\":0,\"ticks\":\"\"},\"colorscale\":[[0.0,\"#0d0887\"],[0.1111111111111111,\"#46039f\"],[0.2222222222222222,\"#7201a8\"],[0.3333333333333333,\"#9c179e\"],[0.4444444444444444,\"#bd3786\"],[0.5555555555555556,\"#d8576b\"],[0.6666666666666666,\"#ed7953\"],[0.7777777777777778,\"#fb9f3a\"],[0.8888888888888888,\"#fdca26\"],[1.0,\"#f0f921\"]],\"type\":\"histogram2d\"}],\"histogram\":[{\"marker\":{\"pattern\":{\"fillmode\":\"overlay\",\"size\":10,\"solidity\":0.2}},\"type\":\"histogram\"}],\"mesh3d\":[{\"colorbar\":{\"outlinewidth\":0,\"ticks\":\"\"},\"type\":\"mesh3d\"}],\"parcoords\":[{\"line\":{\"colorbar\":{\"outlinewidth\":0,\"ticks\":\"\"}},\"type\":\"parcoords\"}],\"pie\":[{\"automargin\":true,\"type\":\"pie\"}],\"scatter3d\":[{\"line\":{\"colorbar\":{\"outlinewidth\":0,\"ticks\":\"\"}},\"marker\":{\"colorbar\":{\"outlinewidth\":0,\"ticks\":\"\"}},\"type\":\"scatter3d\"}],\"scattercarpet\":[{\"marker\":{\"colorbar\":{\"outlinewidth\":0,\"ticks\":\"\"}},\"type\":\"scattercarpet\"}],\"scattergeo\":[{\"marker\":{\"colorbar\":{\"outlinewidth\":0,\"ticks\":\"\"}},\"type\":\"scattergeo\"}],\"scattergl\":[{\"marker\":{\"colorbar\":{\"outlinewidth\":0,\"ticks\":\"\"}},\"type\":\"scattergl\"}],\"scattermapbox\":[{\"marker\":{\"colorbar\":{\"outlinewidth\":0,\"ticks\":\"\"}},\"type\":\"scattermapbox\"}],\"scatterpolargl\":[{\"marker\":{\"colorbar\":{\"outlinewidth\":0,\"ticks\":\"\"}},\"type\":\"scatterpolargl\"}],\"scatterpolar\":[{\"marker\":{\"colorbar\":{\"outlinewidth\":0,\"ticks\":\"\"}},\"type\":\"scatterpolar\"}],\"scatter\":[{\"marker\":{\"colorbar\":{\"outlinewidth\":0,\"ticks\":\"\"}},\"type\":\"scatter\"}],\"scatterternary\":[{\"marker\":{\"colorbar\":{\"outlinewidth\":0,\"ticks\":\"\"}},\"type\":\"scatterternary\"}],\"surface\":[{\"colorbar\":{\"outlinewidth\":0,\"ticks\":\"\"},\"colorscale\":[[0.0,\"#0d0887\"],[0.1111111111111111,\"#46039f\"],[0.2222222222222222,\"#7201a8\"],[0.3333333333333333,\"#9c179e\"],[0.4444444444444444,\"#bd3786\"],[0.5555555555555556,\"#d8576b\"],[0.6666666666666666,\"#ed7953\"],[0.7777777777777778,\"#fb9f3a\"],[0.8888888888888888,\"#fdca26\"],[1.0,\"#f0f921\"]],\"type\":\"surface\"}],\"table\":[{\"cells\":{\"fill\":{\"color\":\"#EBF0F8\"},\"line\":{\"color\":\"white\"}},\"header\":{\"fill\":{\"color\":\"#C8D4E3\"},\"line\":{\"color\":\"white\"}},\"type\":\"table\"}]},\"layout\":{\"annotationdefaults\":{\"arrowcolor\":\"#2a3f5f\",\"arrowhead\":0,\"arrowwidth\":1},\"autotypenumbers\":\"strict\",\"coloraxis\":{\"colorbar\":{\"outlinewidth\":0,\"ticks\":\"\"}},\"colorscale\":{\"diverging\":[[0,\"#8e0152\"],[0.1,\"#c51b7d\"],[0.2,\"#de77ae\"],[0.3,\"#f1b6da\"],[0.4,\"#fde0ef\"],[0.5,\"#f7f7f7\"],[0.6,\"#e6f5d0\"],[0.7,\"#b8e186\"],[0.8,\"#7fbc41\"],[0.9,\"#4d9221\"],[1,\"#276419\"]],\"sequential\":[[0.0,\"#0d0887\"],[0.1111111111111111,\"#46039f\"],[0.2222222222222222,\"#7201a8\"],[0.3333333333333333,\"#9c179e\"],[0.4444444444444444,\"#bd3786\"],[0.5555555555555556,\"#d8576b\"],[0.6666666666666666,\"#ed7953\"],[0.7777777777777778,\"#fb9f3a\"],[0.8888888888888888,\"#fdca26\"],[1.0,\"#f0f921\"]],\"sequentialminus\":[[0.0,\"#0d0887\"],[0.1111111111111111,\"#46039f\"],[0.2222222222222222,\"#7201a8\"],[0.3333333333333333,\"#9c179e\"],[0.4444444444444444,\"#bd3786\"],[0.5555555555555556,\"#d8576b\"],[0.6666666666666666,\"#ed7953\"],[0.7777777777777778,\"#fb9f3a\"],[0.8888888888888888,\"#fdca26\"],[1.0,\"#f0f921\"]]},\"colorway\":[\"#636efa\",\"#EF553B\",\"#00cc96\",\"#ab63fa\",\"#FFA15A\",\"#19d3f3\",\"#FF6692\",\"#B6E880\",\"#FF97FF\",\"#FECB52\"],\"font\":{\"color\":\"#2a3f5f\"},\"geo\":{\"bgcolor\":\"white\",\"lakecolor\":\"white\",\"landcolor\":\"#E5ECF6\",\"showlakes\":true,\"showland\":true,\"subunitcolor\":\"white\"},\"hoverlabel\":{\"align\":\"left\"},\"hovermode\":\"closest\",\"mapbox\":{\"style\":\"light\"},\"paper_bgcolor\":\"white\",\"plot_bgcolor\":\"#E5ECF6\",\"polar\":{\"angularaxis\":{\"gridcolor\":\"white\",\"linecolor\":\"white\",\"ticks\":\"\"},\"bgcolor\":\"#E5ECF6\",\"radialaxis\":{\"gridcolor\":\"white\",\"linecolor\":\"white\",\"ticks\":\"\"}},\"scene\":{\"xaxis\":{\"backgroundcolor\":\"#E5ECF6\",\"gridcolor\":\"white\",\"gridwidth\":2,\"linecolor\":\"white\",\"showbackground\":true,\"ticks\":\"\",\"zerolinecolor\":\"white\"},\"yaxis\":{\"backgroundcolor\":\"#E5ECF6\",\"gridcolor\":\"white\",\"gridwidth\":2,\"linecolor\":\"white\",\"showbackground\":true,\"ticks\":\"\",\"zerolinecolor\":\"white\"},\"zaxis\":{\"backgroundcolor\":\"#E5ECF6\",\"gridcolor\":\"white\",\"gridwidth\":2,\"linecolor\":\"white\",\"showbackground\":true,\"ticks\":\"\",\"zerolinecolor\":\"white\"}},\"shapedefaults\":{\"line\":{\"color\":\"#2a3f5f\"}},\"ternary\":{\"aaxis\":{\"gridcolor\":\"white\",\"linecolor\":\"white\",\"ticks\":\"\"},\"baxis\":{\"gridcolor\":\"white\",\"linecolor\":\"white\",\"ticks\":\"\"},\"bgcolor\":\"#E5ECF6\",\"caxis\":{\"gridcolor\":\"white\",\"linecolor\":\"white\",\"ticks\":\"\"}},\"title\":{\"x\":0.05},\"xaxis\":{\"automargin\":true,\"gridcolor\":\"white\",\"linecolor\":\"white\",\"ticks\":\"\",\"title\":{\"standoff\":15},\"zerolinecolor\":\"white\",\"zerolinewidth\":2},\"yaxis\":{\"automargin\":true,\"gridcolor\":\"white\",\"linecolor\":\"white\",\"ticks\":\"\",\"title\":{\"standoff\":15},\"zerolinecolor\":\"white\",\"zerolinewidth\":2}}},\"title\":{\"font\":{\"color\":\"#4D5663\"}},\"xaxis\":{\"gridcolor\":\"#E1E5ED\",\"showgrid\":true,\"tickfont\":{\"color\":\"#4D5663\"},\"title\":{\"font\":{\"color\":\"#4D5663\"},\"text\":\"\"},\"zerolinecolor\":\"#E1E5ED\"},\"yaxis\":{\"gridcolor\":\"#E1E5ED\",\"showgrid\":true,\"tickfont\":{\"color\":\"#4D5663\"},\"title\":{\"font\":{\"color\":\"#4D5663\"},\"text\":\"\"},\"zerolinecolor\":\"#E1E5ED\"}},                        {\"showLink\": true, \"linkText\": \"Export to plot.ly\", \"plotlyServerURL\": \"https://plot.ly\", \"responsive\": true}                    ).then(function(){\n",
       "                            \n",
       "var gd = document.getElementById('99444526-84a9-4169-90de-1bf7cc86ea4e');\n",
       "var x = new MutationObserver(function (mutations, observer) {{\n",
       "        var display = window.getComputedStyle(gd).display;\n",
       "        if (!display || display === 'none') {{\n",
       "            console.log([gd, 'removed!']);\n",
       "            Plotly.purge(gd);\n",
       "            observer.disconnect();\n",
       "        }}\n",
       "}});\n",
       "\n",
       "// Listen for the removal of the full notebook cells\n",
       "var notebookContainer = gd.closest('#notebook-container');\n",
       "if (notebookContainer) {{\n",
       "    x.observe(notebookContainer, {childList: true});\n",
       "}}\n",
       "\n",
       "// Listen for the clearing of the current output cell\n",
       "var outputEl = gd.closest('.output');\n",
       "if (outputEl) {{\n",
       "    x.observe(outputEl, {childList: true});\n",
       "}}\n",
       "\n",
       "                        })                };                });            </script>        </div>"
      ]
     },
     "metadata": {},
     "output_type": "display_data"
    }
   ],
   "source": [
    "df.iplot(kind='hist')"
   ]
  },
  {
   "cell_type": "code",
   "execution_count": 90,
   "metadata": {},
   "outputs": [
    {
     "name": "stderr",
     "output_type": "stream",
     "text": [
      "C:\\Users\\silvio.fonseca\\AppData\\Local\\Programs\\Python\\Python310\\lib\\site-packages\\cufflinks\\plotlytools.py:849: FutureWarning:\n",
      "\n",
      "The pandas.np module is deprecated and will be removed from pandas in a future version. Import numpy directly instead.\n",
      "\n",
      "C:\\Users\\silvio.fonseca\\AppData\\Local\\Programs\\Python\\Python310\\lib\\site-packages\\cufflinks\\plotlytools.py:850: FutureWarning:\n",
      "\n",
      "The pandas.np module is deprecated and will be removed from pandas in a future version. Import numpy directly instead.\n",
      "\n"
     ]
    },
    {
     "data": {
      "application/vnd.plotly.v1+json": {
       "config": {
        "linkText": "Export to plot.ly",
        "plotlyServerURL": "https://plot.ly",
        "showLink": true
       },
       "data": [
        {
         "line": {
          "color": "rgba(255, 153, 51, 1.0)",
          "dash": "solid",
          "shape": "linear",
          "width": 1.3
         },
         "mode": "lines",
         "name": "A",
         "text": "",
         "type": "scatter",
         "x": [
          0,
          1,
          2,
          3,
          4,
          5,
          6,
          7,
          8,
          9,
          10,
          11,
          12,
          13,
          14,
          15,
          16,
          17,
          18,
          19,
          20,
          21,
          22,
          23,
          24,
          25,
          26,
          27,
          28,
          29,
          30,
          31,
          32,
          33,
          34,
          35,
          36,
          37,
          38,
          39,
          40,
          41,
          42,
          43,
          44,
          45,
          46,
          47,
          48,
          49,
          50,
          51,
          52,
          53,
          54,
          55,
          56,
          57,
          58,
          59,
          60,
          61,
          62,
          63,
          64,
          65,
          66,
          67,
          68,
          69,
          70,
          71,
          72,
          73,
          74,
          75,
          76,
          77,
          78,
          79,
          80,
          81,
          82,
          83,
          84,
          85,
          86,
          87,
          88,
          89,
          90,
          91,
          92,
          93,
          94,
          95,
          96,
          97,
          98,
          99
         ],
         "y": [
          -1.5470379470686257,
          -0.3866827505899728,
          0.05907767532625553,
          1.3528949385329836,
          -0.2446134380889313,
          -2.406380574789591,
          -0.2816288308863832,
          0.4275053609457478,
          -0.5819392334941368,
          0.7569495452421476,
          0.6453177603325179,
          0.57422805107268,
          1.3148995288538112,
          0.220666189826017,
          -0.2839870046920182,
          0.7140778562736044,
          1.2652541519683163,
          -0.5332706279507585,
          -1.99742682090396,
          0.4405887301243418,
          1.6892743646745116,
          -0.19165751288169328,
          0.5104035641178164,
          1.3803225460438007,
          0.16703348752209532,
          -0.285872723137153,
          -0.2049482645233315,
          -0.6179469943011561,
          0.6032652329988165,
          0.05057590325797419,
          -1.3294185799763285,
          0.578716171231639,
          -1.6111718252564509,
          -0.7525916016188796,
          0.8249183497350251,
          -0.015267594448878615,
          -2.0692673026355326,
          0.6428908175911534,
          1.7655572451119899,
          2.031329227063635,
          -1.466347474243045,
          1.6401369002649178,
          -0.34019045909674234,
          0.8635745180435763,
          -0.41744886551989835,
          -0.10163440297958373,
          0.7703425064697068,
          1.4689212890171626,
          -0.23433370060897665,
          -1.3258769200955578,
          -1.1718941254219373,
          0.801932550048809,
          1.448807734284354,
          0.9847030866880221,
          0.3376184172512405,
          -1.5242713825393606,
          0.7027628372435865,
          -0.2791683192032702,
          0.020488303009922777,
          0.820619688063049,
          -0.36218158301404263,
          0.14617037002964653,
          1.6718586124907957,
          0.6705673605246165,
          0.27828495652272867,
          0.20926566932783422,
          -1.9184096983655765,
          -0.6402371208591136,
          -0.08170770033706065,
          -0.06808155063387622,
          -1.38010522374821,
          0.39561517267437496,
          0.7531494990024865,
          -0.6283031170433298,
          -1.8242056728883924,
          0.9256295159513197,
          1.2767649316415697,
          0.18525786624729326,
          0.5745200766324614,
          0.8337022049758677,
          -0.3243762742733441,
          0.4824787010648017,
          -0.1608409373329267,
          1.8793431047865878,
          0.3314905561931448,
          -0.29036873392865464,
          0.7482402104538096,
          0.49709639164898334,
          0.21495382334267585,
          1.0208806180216834,
          -0.03170735862101034,
          -2.5312495750725925,
          2.1046549936147385,
          -0.1046128281488064,
          -0.3285804840215899,
          0.24177836912715794,
          0.05569559765452582,
          -0.762999801993306,
          -0.6164640215496762,
          -1.8421776428608174
         ]
        },
        {
         "line": {
          "color": "rgba(55, 128, 191, 1.0)",
          "dash": "solid",
          "shape": "linear",
          "width": 1.3
         },
         "mode": "lines",
         "name": "B",
         "text": "",
         "type": "scatter",
         "x": [
          0,
          1,
          2,
          3,
          4,
          5,
          6,
          7,
          8,
          9,
          10,
          11,
          12,
          13,
          14,
          15,
          16,
          17,
          18,
          19,
          20,
          21,
          22,
          23,
          24,
          25,
          26,
          27,
          28,
          29,
          30,
          31,
          32,
          33,
          34,
          35,
          36,
          37,
          38,
          39,
          40,
          41,
          42,
          43,
          44,
          45,
          46,
          47,
          48,
          49,
          50,
          51,
          52,
          53,
          54,
          55,
          56,
          57,
          58,
          59,
          60,
          61,
          62,
          63,
          64,
          65,
          66,
          67,
          68,
          69,
          70,
          71,
          72,
          73,
          74,
          75,
          76,
          77,
          78,
          79,
          80,
          81,
          82,
          83,
          84,
          85,
          86,
          87,
          88,
          89,
          90,
          91,
          92,
          93,
          94,
          95,
          96,
          97,
          98,
          99
         ],
         "y": [
          -0.17932026330190684,
          0.34198544751858234,
          -1.2713269129457325,
          0.0016652786409217964,
          1.4803864821833077,
          -0.2836750888514914,
          -1.4155538362514601,
          -0.5739661271236048,
          -0.35744198935824456,
          -0.8994230904876396,
          0.6991253544572609,
          -0.874793148785467,
          -0.39153074019047707,
          -0.880394830638912,
          0.4995926613587126,
          0.6293698296553195,
          1.3544469494098934,
          0.4810071047022162,
          -0.40595170495224314,
          0.09622342847254901,
          0.43681638785495297,
          -0.7536552634789734,
          0.46515551350074097,
          -0.4107904278107822,
          -0.667536213298158,
          -0.644002357567441,
          0.3279416680591974,
          -0.35640426241977324,
          0.7192398636967984,
          -0.3544851170731683,
          0.08830059864042557,
          0.030758743727376085,
          0.8935198532569544,
          0.3892696875617487,
          0.3237375347818951,
          0.6041497331006355,
          -0.40400232746982956,
          1.8468632501683382,
          -0.029077327946170142,
          0.25908762161059545,
          0.8679450620220365,
          0.967081274178919,
          1.80357447518855,
          0.7548651304368754,
          -0.5513298895031992,
          1.3705646354783096,
          0.8589382061452533,
          -1.0947470720924772,
          0.765715570102174,
          0.2385720284350847,
          -0.5320081762202075,
          -2.1047278011907666,
          -0.22838874539262682,
          -1.0758351304521767,
          0.6994286964722767,
          1.1983555883520542,
          1.8709137281616257,
          0.3346340175992276,
          1.179301597937332,
          -1.9309090060954557,
          -1.0881323911298968,
          0.0925198558216795,
          -0.6780781717104581,
          0.6074641297220856,
          1.0533655951830938,
          0.8330378584588016,
          -0.5385028983342077,
          -1.5582948613417311,
          0.5633831011807973,
          0.296668625167125,
          -0.9065113935632445,
          -0.21770298654540515,
          -0.18554362127577312,
          0.8460395539141479,
          -0.06587075962834432,
          -1.3271566677311997,
          0.25495202389316673,
          -0.6747528477615352,
          -1.435892609276357,
          -0.960122176589752,
          -0.3454127480759408,
          0.4072393867432423,
          -1.338046384045666,
          0.5103799524326336,
          1.4224780373575563,
          0.5088221930699162,
          0.03356517523728443,
          0.45970454247660264,
          1.2459543043789276,
          0.2505549812457923,
          0.259785611079415,
          0.5130794204738841,
          2.8931347231761175,
          -0.08760616578299192,
          -1.1963390674150716,
          0.8284380378357371,
          1.0897731639265282,
          3.2145514299528397,
          0.5444588734985717,
          -1.5142056829390005
         ]
        },
        {
         "connectgaps": false,
         "fill": "tozeroy",
         "line": {
          "color": "green",
          "dash": "solid",
          "shape": "linear",
          "width": 0.5
         },
         "mode": "lines",
         "name": "Spread",
         "showlegend": false,
         "type": "scatter",
         "x": [
          0,
          1,
          2,
          3,
          4,
          5,
          6,
          7,
          8,
          9,
          10,
          11,
          12,
          13,
          14,
          15,
          16,
          17,
          18,
          19,
          20,
          21,
          22,
          23,
          24,
          25,
          26,
          27,
          28,
          29,
          30,
          31,
          32,
          33,
          34,
          35,
          36,
          37,
          38,
          39,
          40,
          41,
          42,
          43,
          44,
          45,
          46,
          47,
          48,
          49,
          50,
          51,
          52,
          53,
          54,
          55,
          56,
          57,
          58,
          59,
          60,
          61,
          62,
          63,
          64,
          65,
          66,
          67,
          68,
          69,
          70,
          71,
          72,
          73,
          74,
          75,
          76,
          77,
          78,
          79,
          80,
          81,
          82,
          83,
          84,
          85,
          86,
          87,
          88,
          89,
          90,
          91,
          92,
          93,
          94,
          95,
          96,
          97,
          98,
          99
         ],
         "xaxis": "x2",
         "y": [
          "",
          "",
          1.3304045882719882,
          1.351229659892062,
          "",
          "",
          1.133925005365077,
          1.0014714880693527,
          "",
          1.6563726357297872,
          "",
          1.449021199858147,
          1.7064302690442883,
          1.101061020464929,
          "",
          0.08470802661828492,
          "",
          "",
          "",
          0.3443653016517928,
          1.2524579768195587,
          0.5619977505972801,
          0.04524805061707543,
          1.7911129738545828,
          0.8345697008202534,
          0.35812963443028795,
          "",
          "",
          "",
          0.4050610203311425,
          "",
          0.5479574275042629,
          "",
          "",
          0.50118081495313,
          "",
          "",
          "",
          1.79463457305816,
          1.7722416054530394,
          "",
          0.6730556260859988,
          "",
          0.1087093876067009,
          0.13388102398330082,
          "",
          "",
          2.56366836110964,
          "",
          "",
          "",
          2.9066603512395757,
          1.6771964796769807,
          2.060538217140199,
          "",
          "",
          "",
          "",
          "",
          2.7515286941585044,
          0.7259508081158541,
          0.05365051420796703,
          2.3499367842012537,
          0.06310323080253089,
          "",
          "",
          "",
          0.9180577404826176,
          "",
          "",
          "",
          0.6133181592197801,
          0.9386931202782596,
          "",
          "",
          2.2527861836825194,
          1.0218129077484028,
          0.8600107140088284,
          2.0104126859088183,
          1.7938243815656196,
          0.02103647380259671,
          0.07523931432155939,
          1.1772054467127393,
          1.3689631523539543,
          "",
          "",
          0.7146750352165252,
          0.0373918491723807,
          "",
          0.770325636775891,
          "",
          "",
          "",
          "",
          0.8677585833934817,
          "",
          "",
          "",
          "",
          ""
         ],
         "yaxis": "y2"
        },
        {
         "connectgaps": false,
         "fill": "tozeroy",
         "line": {
          "color": "red",
          "dash": "solid",
          "shape": "linear",
          "width": 0.5
         },
         "mode": "lines",
         "name": "Spread",
         "showlegend": false,
         "type": "scatter",
         "x": [
          0,
          1,
          2,
          3,
          4,
          5,
          6,
          7,
          8,
          9,
          10,
          11,
          12,
          13,
          14,
          15,
          16,
          17,
          18,
          19,
          20,
          21,
          22,
          23,
          24,
          25,
          26,
          27,
          28,
          29,
          30,
          31,
          32,
          33,
          34,
          35,
          36,
          37,
          38,
          39,
          40,
          41,
          42,
          43,
          44,
          45,
          46,
          47,
          48,
          49,
          50,
          51,
          52,
          53,
          54,
          55,
          56,
          57,
          58,
          59,
          60,
          61,
          62,
          63,
          64,
          65,
          66,
          67,
          68,
          69,
          70,
          71,
          72,
          73,
          74,
          75,
          76,
          77,
          78,
          79,
          80,
          81,
          82,
          83,
          84,
          85,
          86,
          87,
          88,
          89,
          90,
          91,
          92,
          93,
          94,
          95,
          96,
          97,
          98,
          99
         ],
         "xaxis": "x2",
         "y": [
          -1.3677176837667189,
          -0.7286681981085552,
          "",
          "",
          -1.724999920272239,
          -2.1227054859380994,
          "",
          "",
          -0.22449724413589223,
          "",
          -0.05380759412474301,
          "",
          "",
          "",
          -0.7835796660507308,
          "",
          -0.08919279744157715,
          -1.0142777326529746,
          -1.5914751159517169,
          "",
          "",
          "",
          "",
          "",
          "",
          "",
          -0.5328899325825289,
          -0.26154273188138283,
          -0.11597463069798186,
          "",
          -1.417719178616754,
          "",
          -2.5046916785134052,
          -1.1418612891806283,
          "",
          -0.6194173275495141,
          -1.665264975165703,
          -1.2039724325771848,
          "",
          "",
          -2.3342925362650813,
          "",
          -2.1437649342852922,
          "",
          "",
          -1.4721990384578933,
          -0.08859569967554648,
          "",
          -1.0000492707111506,
          -1.5644489485306425,
          -0.6398859492017298,
          "",
          "",
          "",
          -0.3618102792210362,
          -2.722626970891415,
          -1.1681508909180391,
          -0.6138023368024978,
          -1.1588132949274093,
          "",
          "",
          "",
          "",
          "",
          -0.7750806386603651,
          -0.6237721891309674,
          -1.3799068000313688,
          "",
          -0.6450908015178579,
          -0.3647501758010012,
          -0.4735938301849656,
          "",
          "",
          -1.4743426709574776,
          -1.758334913260048,
          "",
          "",
          "",
          "",
          "",
          "",
          "",
          "",
          "",
          -1.0909874811644116,
          -0.7991909269985709,
          "",
          "",
          -1.0310004810362519,
          "",
          -0.2914929697004253,
          -3.0443289955464765,
          -0.788479729561379,
          -0.01700666236581448,
          "",
          -0.5866596687085792,
          -1.0340775662720023,
          -3.977551231946146,
          -1.1609228950482477,
          -0.32797195992181694
         ],
         "yaxis": "y2"
        }
       ],
       "layout": {
        "hovermode": "x",
        "legend": {
         "bgcolor": "#F5F6F9",
         "font": {
          "color": "#4D5663"
         }
        },
        "paper_bgcolor": "#F5F6F9",
        "plot_bgcolor": "#F5F6F9",
        "template": {
         "data": {
          "bar": [
           {
            "error_x": {
             "color": "#2a3f5f"
            },
            "error_y": {
             "color": "#2a3f5f"
            },
            "marker": {
             "line": {
              "color": "#E5ECF6",
              "width": 0.5
             },
             "pattern": {
              "fillmode": "overlay",
              "size": 10,
              "solidity": 0.2
             }
            },
            "type": "bar"
           }
          ],
          "barpolar": [
           {
            "marker": {
             "line": {
              "color": "#E5ECF6",
              "width": 0.5
             },
             "pattern": {
              "fillmode": "overlay",
              "size": 10,
              "solidity": 0.2
             }
            },
            "type": "barpolar"
           }
          ],
          "carpet": [
           {
            "aaxis": {
             "endlinecolor": "#2a3f5f",
             "gridcolor": "white",
             "linecolor": "white",
             "minorgridcolor": "white",
             "startlinecolor": "#2a3f5f"
            },
            "baxis": {
             "endlinecolor": "#2a3f5f",
             "gridcolor": "white",
             "linecolor": "white",
             "minorgridcolor": "white",
             "startlinecolor": "#2a3f5f"
            },
            "type": "carpet"
           }
          ],
          "choropleth": [
           {
            "colorbar": {
             "outlinewidth": 0,
             "ticks": ""
            },
            "type": "choropleth"
           }
          ],
          "contour": [
           {
            "colorbar": {
             "outlinewidth": 0,
             "ticks": ""
            },
            "colorscale": [
             [
              0,
              "#0d0887"
             ],
             [
              0.1111111111111111,
              "#46039f"
             ],
             [
              0.2222222222222222,
              "#7201a8"
             ],
             [
              0.3333333333333333,
              "#9c179e"
             ],
             [
              0.4444444444444444,
              "#bd3786"
             ],
             [
              0.5555555555555556,
              "#d8576b"
             ],
             [
              0.6666666666666666,
              "#ed7953"
             ],
             [
              0.7777777777777778,
              "#fb9f3a"
             ],
             [
              0.8888888888888888,
              "#fdca26"
             ],
             [
              1,
              "#f0f921"
             ]
            ],
            "type": "contour"
           }
          ],
          "contourcarpet": [
           {
            "colorbar": {
             "outlinewidth": 0,
             "ticks": ""
            },
            "type": "contourcarpet"
           }
          ],
          "heatmap": [
           {
            "colorbar": {
             "outlinewidth": 0,
             "ticks": ""
            },
            "colorscale": [
             [
              0,
              "#0d0887"
             ],
             [
              0.1111111111111111,
              "#46039f"
             ],
             [
              0.2222222222222222,
              "#7201a8"
             ],
             [
              0.3333333333333333,
              "#9c179e"
             ],
             [
              0.4444444444444444,
              "#bd3786"
             ],
             [
              0.5555555555555556,
              "#d8576b"
             ],
             [
              0.6666666666666666,
              "#ed7953"
             ],
             [
              0.7777777777777778,
              "#fb9f3a"
             ],
             [
              0.8888888888888888,
              "#fdca26"
             ],
             [
              1,
              "#f0f921"
             ]
            ],
            "type": "heatmap"
           }
          ],
          "heatmapgl": [
           {
            "colorbar": {
             "outlinewidth": 0,
             "ticks": ""
            },
            "colorscale": [
             [
              0,
              "#0d0887"
             ],
             [
              0.1111111111111111,
              "#46039f"
             ],
             [
              0.2222222222222222,
              "#7201a8"
             ],
             [
              0.3333333333333333,
              "#9c179e"
             ],
             [
              0.4444444444444444,
              "#bd3786"
             ],
             [
              0.5555555555555556,
              "#d8576b"
             ],
             [
              0.6666666666666666,
              "#ed7953"
             ],
             [
              0.7777777777777778,
              "#fb9f3a"
             ],
             [
              0.8888888888888888,
              "#fdca26"
             ],
             [
              1,
              "#f0f921"
             ]
            ],
            "type": "heatmapgl"
           }
          ],
          "histogram": [
           {
            "marker": {
             "pattern": {
              "fillmode": "overlay",
              "size": 10,
              "solidity": 0.2
             }
            },
            "type": "histogram"
           }
          ],
          "histogram2d": [
           {
            "colorbar": {
             "outlinewidth": 0,
             "ticks": ""
            },
            "colorscale": [
             [
              0,
              "#0d0887"
             ],
             [
              0.1111111111111111,
              "#46039f"
             ],
             [
              0.2222222222222222,
              "#7201a8"
             ],
             [
              0.3333333333333333,
              "#9c179e"
             ],
             [
              0.4444444444444444,
              "#bd3786"
             ],
             [
              0.5555555555555556,
              "#d8576b"
             ],
             [
              0.6666666666666666,
              "#ed7953"
             ],
             [
              0.7777777777777778,
              "#fb9f3a"
             ],
             [
              0.8888888888888888,
              "#fdca26"
             ],
             [
              1,
              "#f0f921"
             ]
            ],
            "type": "histogram2d"
           }
          ],
          "histogram2dcontour": [
           {
            "colorbar": {
             "outlinewidth": 0,
             "ticks": ""
            },
            "colorscale": [
             [
              0,
              "#0d0887"
             ],
             [
              0.1111111111111111,
              "#46039f"
             ],
             [
              0.2222222222222222,
              "#7201a8"
             ],
             [
              0.3333333333333333,
              "#9c179e"
             ],
             [
              0.4444444444444444,
              "#bd3786"
             ],
             [
              0.5555555555555556,
              "#d8576b"
             ],
             [
              0.6666666666666666,
              "#ed7953"
             ],
             [
              0.7777777777777778,
              "#fb9f3a"
             ],
             [
              0.8888888888888888,
              "#fdca26"
             ],
             [
              1,
              "#f0f921"
             ]
            ],
            "type": "histogram2dcontour"
           }
          ],
          "mesh3d": [
           {
            "colorbar": {
             "outlinewidth": 0,
             "ticks": ""
            },
            "type": "mesh3d"
           }
          ],
          "parcoords": [
           {
            "line": {
             "colorbar": {
              "outlinewidth": 0,
              "ticks": ""
             }
            },
            "type": "parcoords"
           }
          ],
          "pie": [
           {
            "automargin": true,
            "type": "pie"
           }
          ],
          "scatter": [
           {
            "marker": {
             "colorbar": {
              "outlinewidth": 0,
              "ticks": ""
             }
            },
            "type": "scatter"
           }
          ],
          "scatter3d": [
           {
            "line": {
             "colorbar": {
              "outlinewidth": 0,
              "ticks": ""
             }
            },
            "marker": {
             "colorbar": {
              "outlinewidth": 0,
              "ticks": ""
             }
            },
            "type": "scatter3d"
           }
          ],
          "scattercarpet": [
           {
            "marker": {
             "colorbar": {
              "outlinewidth": 0,
              "ticks": ""
             }
            },
            "type": "scattercarpet"
           }
          ],
          "scattergeo": [
           {
            "marker": {
             "colorbar": {
              "outlinewidth": 0,
              "ticks": ""
             }
            },
            "type": "scattergeo"
           }
          ],
          "scattergl": [
           {
            "marker": {
             "colorbar": {
              "outlinewidth": 0,
              "ticks": ""
             }
            },
            "type": "scattergl"
           }
          ],
          "scattermapbox": [
           {
            "marker": {
             "colorbar": {
              "outlinewidth": 0,
              "ticks": ""
             }
            },
            "type": "scattermapbox"
           }
          ],
          "scatterpolar": [
           {
            "marker": {
             "colorbar": {
              "outlinewidth": 0,
              "ticks": ""
             }
            },
            "type": "scatterpolar"
           }
          ],
          "scatterpolargl": [
           {
            "marker": {
             "colorbar": {
              "outlinewidth": 0,
              "ticks": ""
             }
            },
            "type": "scatterpolargl"
           }
          ],
          "scatterternary": [
           {
            "marker": {
             "colorbar": {
              "outlinewidth": 0,
              "ticks": ""
             }
            },
            "type": "scatterternary"
           }
          ],
          "surface": [
           {
            "colorbar": {
             "outlinewidth": 0,
             "ticks": ""
            },
            "colorscale": [
             [
              0,
              "#0d0887"
             ],
             [
              0.1111111111111111,
              "#46039f"
             ],
             [
              0.2222222222222222,
              "#7201a8"
             ],
             [
              0.3333333333333333,
              "#9c179e"
             ],
             [
              0.4444444444444444,
              "#bd3786"
             ],
             [
              0.5555555555555556,
              "#d8576b"
             ],
             [
              0.6666666666666666,
              "#ed7953"
             ],
             [
              0.7777777777777778,
              "#fb9f3a"
             ],
             [
              0.8888888888888888,
              "#fdca26"
             ],
             [
              1,
              "#f0f921"
             ]
            ],
            "type": "surface"
           }
          ],
          "table": [
           {
            "cells": {
             "fill": {
              "color": "#EBF0F8"
             },
             "line": {
              "color": "white"
             }
            },
            "header": {
             "fill": {
              "color": "#C8D4E3"
             },
             "line": {
              "color": "white"
             }
            },
            "type": "table"
           }
          ]
         },
         "layout": {
          "annotationdefaults": {
           "arrowcolor": "#2a3f5f",
           "arrowhead": 0,
           "arrowwidth": 1
          },
          "autotypenumbers": "strict",
          "coloraxis": {
           "colorbar": {
            "outlinewidth": 0,
            "ticks": ""
           }
          },
          "colorscale": {
           "diverging": [
            [
             0,
             "#8e0152"
            ],
            [
             0.1,
             "#c51b7d"
            ],
            [
             0.2,
             "#de77ae"
            ],
            [
             0.3,
             "#f1b6da"
            ],
            [
             0.4,
             "#fde0ef"
            ],
            [
             0.5,
             "#f7f7f7"
            ],
            [
             0.6,
             "#e6f5d0"
            ],
            [
             0.7,
             "#b8e186"
            ],
            [
             0.8,
             "#7fbc41"
            ],
            [
             0.9,
             "#4d9221"
            ],
            [
             1,
             "#276419"
            ]
           ],
           "sequential": [
            [
             0,
             "#0d0887"
            ],
            [
             0.1111111111111111,
             "#46039f"
            ],
            [
             0.2222222222222222,
             "#7201a8"
            ],
            [
             0.3333333333333333,
             "#9c179e"
            ],
            [
             0.4444444444444444,
             "#bd3786"
            ],
            [
             0.5555555555555556,
             "#d8576b"
            ],
            [
             0.6666666666666666,
             "#ed7953"
            ],
            [
             0.7777777777777778,
             "#fb9f3a"
            ],
            [
             0.8888888888888888,
             "#fdca26"
            ],
            [
             1,
             "#f0f921"
            ]
           ],
           "sequentialminus": [
            [
             0,
             "#0d0887"
            ],
            [
             0.1111111111111111,
             "#46039f"
            ],
            [
             0.2222222222222222,
             "#7201a8"
            ],
            [
             0.3333333333333333,
             "#9c179e"
            ],
            [
             0.4444444444444444,
             "#bd3786"
            ],
            [
             0.5555555555555556,
             "#d8576b"
            ],
            [
             0.6666666666666666,
             "#ed7953"
            ],
            [
             0.7777777777777778,
             "#fb9f3a"
            ],
            [
             0.8888888888888888,
             "#fdca26"
            ],
            [
             1,
             "#f0f921"
            ]
           ]
          },
          "colorway": [
           "#636efa",
           "#EF553B",
           "#00cc96",
           "#ab63fa",
           "#FFA15A",
           "#19d3f3",
           "#FF6692",
           "#B6E880",
           "#FF97FF",
           "#FECB52"
          ],
          "font": {
           "color": "#2a3f5f"
          },
          "geo": {
           "bgcolor": "white",
           "lakecolor": "white",
           "landcolor": "#E5ECF6",
           "showlakes": true,
           "showland": true,
           "subunitcolor": "white"
          },
          "hoverlabel": {
           "align": "left"
          },
          "hovermode": "closest",
          "mapbox": {
           "style": "light"
          },
          "paper_bgcolor": "white",
          "plot_bgcolor": "#E5ECF6",
          "polar": {
           "angularaxis": {
            "gridcolor": "white",
            "linecolor": "white",
            "ticks": ""
           },
           "bgcolor": "#E5ECF6",
           "radialaxis": {
            "gridcolor": "white",
            "linecolor": "white",
            "ticks": ""
           }
          },
          "scene": {
           "xaxis": {
            "backgroundcolor": "#E5ECF6",
            "gridcolor": "white",
            "gridwidth": 2,
            "linecolor": "white",
            "showbackground": true,
            "ticks": "",
            "zerolinecolor": "white"
           },
           "yaxis": {
            "backgroundcolor": "#E5ECF6",
            "gridcolor": "white",
            "gridwidth": 2,
            "linecolor": "white",
            "showbackground": true,
            "ticks": "",
            "zerolinecolor": "white"
           },
           "zaxis": {
            "backgroundcolor": "#E5ECF6",
            "gridcolor": "white",
            "gridwidth": 2,
            "linecolor": "white",
            "showbackground": true,
            "ticks": "",
            "zerolinecolor": "white"
           }
          },
          "shapedefaults": {
           "line": {
            "color": "#2a3f5f"
           }
          },
          "ternary": {
           "aaxis": {
            "gridcolor": "white",
            "linecolor": "white",
            "ticks": ""
           },
           "baxis": {
            "gridcolor": "white",
            "linecolor": "white",
            "ticks": ""
           },
           "bgcolor": "#E5ECF6",
           "caxis": {
            "gridcolor": "white",
            "linecolor": "white",
            "ticks": ""
           }
          },
          "title": {
           "x": 0.05
          },
          "xaxis": {
           "automargin": true,
           "gridcolor": "white",
           "linecolor": "white",
           "ticks": "",
           "title": {
            "standoff": 15
           },
           "zerolinecolor": "white",
           "zerolinewidth": 2
          },
          "yaxis": {
           "automargin": true,
           "gridcolor": "white",
           "linecolor": "white",
           "ticks": "",
           "title": {
            "standoff": 15
           },
           "zerolinecolor": "white",
           "zerolinewidth": 2
          }
         }
        },
        "title": {
         "font": {
          "color": "#4D5663"
         }
        },
        "xaxis": {
         "gridcolor": "#E1E5ED",
         "showgrid": true,
         "tickfont": {
          "color": "#4D5663"
         },
         "title": {
          "font": {
           "color": "#4D5663"
          },
          "text": ""
         },
         "zerolinecolor": "#E1E5ED"
        },
        "xaxis2": {
         "anchor": "y2",
         "gridcolor": "#E1E5ED",
         "showgrid": true,
         "showticklabels": false,
         "tickfont": {
          "color": "#4D5663"
         },
         "title": {
          "font": {
           "color": "#4D5663"
          },
          "text": ""
         },
         "zerolinecolor": "#E1E5ED"
        },
        "yaxis": {
         "domain": [
          0.3,
          1
         ],
         "gridcolor": "#E1E5ED",
         "showgrid": true,
         "tickfont": {
          "color": "#4D5663"
         },
         "title": {
          "font": {
           "color": "#4D5663"
          },
          "text": ""
         },
         "zerolinecolor": "#E1E5ED"
        },
        "yaxis2": {
         "domain": [
          0,
          0.25
         ],
         "gridcolor": "#E1E5ED",
         "showgrid": true,
         "tickfont": {
          "color": "#4D5663"
         },
         "title": {
          "font": {
           "color": "#4D5663"
          },
          "text": "Spread"
         },
         "zerolinecolor": "#E1E5ED"
        }
       }
      },
      "text/html": [
       "<div>                            <div id=\"92d6df55-73cf-4e92-96c8-bd429077a880\" class=\"plotly-graph-div\" style=\"height:525px; width:100%;\"></div>            <script type=\"text/javascript\">                require([\"plotly\"], function(Plotly) {                    window.PLOTLYENV=window.PLOTLYENV || {};\n",
       "                    window.PLOTLYENV.BASE_URL='https://plot.ly';                                    if (document.getElementById(\"92d6df55-73cf-4e92-96c8-bd429077a880\")) {                    Plotly.newPlot(                        \"92d6df55-73cf-4e92-96c8-bd429077a880\",                        [{\"line\":{\"color\":\"rgba(255, 153, 51, 1.0)\",\"dash\":\"solid\",\"shape\":\"linear\",\"width\":1.3},\"mode\":\"lines\",\"name\":\"A\",\"text\":\"\",\"x\":[0,1,2,3,4,5,6,7,8,9,10,11,12,13,14,15,16,17,18,19,20,21,22,23,24,25,26,27,28,29,30,31,32,33,34,35,36,37,38,39,40,41,42,43,44,45,46,47,48,49,50,51,52,53,54,55,56,57,58,59,60,61,62,63,64,65,66,67,68,69,70,71,72,73,74,75,76,77,78,79,80,81,82,83,84,85,86,87,88,89,90,91,92,93,94,95,96,97,98,99],\"y\":[-1.5470379470686257,-0.3866827505899728,0.05907767532625553,1.3528949385329836,-0.2446134380889313,-2.406380574789591,-0.2816288308863832,0.4275053609457478,-0.5819392334941368,0.7569495452421476,0.6453177603325179,0.57422805107268,1.3148995288538112,0.220666189826017,-0.2839870046920182,0.7140778562736044,1.2652541519683163,-0.5332706279507585,-1.99742682090396,0.4405887301243418,1.6892743646745116,-0.19165751288169328,0.5104035641178164,1.3803225460438007,0.16703348752209532,-0.285872723137153,-0.2049482645233315,-0.6179469943011561,0.6032652329988165,0.05057590325797419,-1.3294185799763285,0.578716171231639,-1.6111718252564509,-0.7525916016188796,0.8249183497350251,-0.015267594448878615,-2.0692673026355326,0.6428908175911534,1.7655572451119899,2.031329227063635,-1.466347474243045,1.6401369002649178,-0.34019045909674234,0.8635745180435763,-0.41744886551989835,-0.10163440297958373,0.7703425064697068,1.4689212890171626,-0.23433370060897665,-1.3258769200955578,-1.1718941254219373,0.801932550048809,1.448807734284354,0.9847030866880221,0.3376184172512405,-1.5242713825393606,0.7027628372435865,-0.2791683192032702,0.020488303009922777,0.820619688063049,-0.36218158301404263,0.14617037002964653,1.6718586124907957,0.6705673605246165,0.27828495652272867,0.20926566932783422,-1.9184096983655765,-0.6402371208591136,-0.08170770033706065,-0.06808155063387622,-1.38010522374821,0.39561517267437496,0.7531494990024865,-0.6283031170433298,-1.8242056728883924,0.9256295159513197,1.2767649316415697,0.18525786624729326,0.5745200766324614,0.8337022049758677,-0.3243762742733441,0.4824787010648017,-0.1608409373329267,1.8793431047865878,0.3314905561931448,-0.29036873392865464,0.7482402104538096,0.49709639164898334,0.21495382334267585,1.0208806180216834,-0.03170735862101034,-2.5312495750725925,2.1046549936147385,-0.1046128281488064,-0.3285804840215899,0.24177836912715794,0.05569559765452582,-0.762999801993306,-0.6164640215496762,-1.8421776428608174],\"type\":\"scatter\"},{\"line\":{\"color\":\"rgba(55, 128, 191, 1.0)\",\"dash\":\"solid\",\"shape\":\"linear\",\"width\":1.3},\"mode\":\"lines\",\"name\":\"B\",\"text\":\"\",\"x\":[0,1,2,3,4,5,6,7,8,9,10,11,12,13,14,15,16,17,18,19,20,21,22,23,24,25,26,27,28,29,30,31,32,33,34,35,36,37,38,39,40,41,42,43,44,45,46,47,48,49,50,51,52,53,54,55,56,57,58,59,60,61,62,63,64,65,66,67,68,69,70,71,72,73,74,75,76,77,78,79,80,81,82,83,84,85,86,87,88,89,90,91,92,93,94,95,96,97,98,99],\"y\":[-0.17932026330190684,0.34198544751858234,-1.2713269129457325,0.0016652786409217964,1.4803864821833077,-0.2836750888514914,-1.4155538362514601,-0.5739661271236048,-0.35744198935824456,-0.8994230904876396,0.6991253544572609,-0.874793148785467,-0.39153074019047707,-0.880394830638912,0.4995926613587126,0.6293698296553195,1.3544469494098934,0.4810071047022162,-0.40595170495224314,0.09622342847254901,0.43681638785495297,-0.7536552634789734,0.46515551350074097,-0.4107904278107822,-0.667536213298158,-0.644002357567441,0.3279416680591974,-0.35640426241977324,0.7192398636967984,-0.3544851170731683,0.08830059864042557,0.030758743727376085,0.8935198532569544,0.3892696875617487,0.3237375347818951,0.6041497331006355,-0.40400232746982956,1.8468632501683382,-0.029077327946170142,0.25908762161059545,0.8679450620220365,0.967081274178919,1.80357447518855,0.7548651304368754,-0.5513298895031992,1.3705646354783096,0.8589382061452533,-1.0947470720924772,0.765715570102174,0.2385720284350847,-0.5320081762202075,-2.1047278011907666,-0.22838874539262682,-1.0758351304521767,0.6994286964722767,1.1983555883520542,1.8709137281616257,0.3346340175992276,1.179301597937332,-1.9309090060954557,-1.0881323911298968,0.0925198558216795,-0.6780781717104581,0.6074641297220856,1.0533655951830938,0.8330378584588016,-0.5385028983342077,-1.5582948613417311,0.5633831011807973,0.296668625167125,-0.9065113935632445,-0.21770298654540515,-0.18554362127577312,0.8460395539141479,-0.06587075962834432,-1.3271566677311997,0.25495202389316673,-0.6747528477615352,-1.435892609276357,-0.960122176589752,-0.3454127480759408,0.4072393867432423,-1.338046384045666,0.5103799524326336,1.4224780373575563,0.5088221930699162,0.03356517523728443,0.45970454247660264,1.2459543043789276,0.2505549812457923,0.259785611079415,0.5130794204738841,2.8931347231761175,-0.08760616578299192,-1.1963390674150716,0.8284380378357371,1.0897731639265282,3.2145514299528397,0.5444588734985717,-1.5142056829390005],\"type\":\"scatter\"},{\"connectgaps\":false,\"fill\":\"tozeroy\",\"line\":{\"color\":\"green\",\"dash\":\"solid\",\"shape\":\"linear\",\"width\":0.5},\"mode\":\"lines\",\"name\":\"Spread\",\"showlegend\":false,\"x\":[0,1,2,3,4,5,6,7,8,9,10,11,12,13,14,15,16,17,18,19,20,21,22,23,24,25,26,27,28,29,30,31,32,33,34,35,36,37,38,39,40,41,42,43,44,45,46,47,48,49,50,51,52,53,54,55,56,57,58,59,60,61,62,63,64,65,66,67,68,69,70,71,72,73,74,75,76,77,78,79,80,81,82,83,84,85,86,87,88,89,90,91,92,93,94,95,96,97,98,99],\"xaxis\":\"x2\",\"y\":[\"\",\"\",1.3304045882719882,1.351229659892062,\"\",\"\",1.133925005365077,1.0014714880693527,\"\",1.6563726357297872,\"\",1.449021199858147,1.7064302690442883,1.101061020464929,\"\",0.08470802661828492,\"\",\"\",\"\",0.3443653016517928,1.2524579768195587,0.5619977505972801,0.04524805061707543,1.7911129738545828,0.8345697008202534,0.35812963443028795,\"\",\"\",\"\",0.4050610203311425,\"\",0.5479574275042629,\"\",\"\",0.50118081495313,\"\",\"\",\"\",1.79463457305816,1.7722416054530394,\"\",0.6730556260859988,\"\",0.1087093876067009,0.13388102398330082,\"\",\"\",2.56366836110964,\"\",\"\",\"\",2.9066603512395757,1.6771964796769807,2.060538217140199,\"\",\"\",\"\",\"\",\"\",2.7515286941585044,0.7259508081158541,0.05365051420796703,2.3499367842012537,0.06310323080253089,\"\",\"\",\"\",0.9180577404826176,\"\",\"\",\"\",0.6133181592197801,0.9386931202782596,\"\",\"\",2.2527861836825194,1.0218129077484028,0.8600107140088284,2.0104126859088183,1.7938243815656196,0.02103647380259671,0.07523931432155939,1.1772054467127393,1.3689631523539543,\"\",\"\",0.7146750352165252,0.0373918491723807,\"\",0.770325636775891,\"\",\"\",\"\",\"\",0.8677585833934817,\"\",\"\",\"\",\"\",\"\"],\"yaxis\":\"y2\",\"type\":\"scatter\"},{\"connectgaps\":false,\"fill\":\"tozeroy\",\"line\":{\"color\":\"red\",\"dash\":\"solid\",\"shape\":\"linear\",\"width\":0.5},\"mode\":\"lines\",\"name\":\"Spread\",\"showlegend\":false,\"x\":[0,1,2,3,4,5,6,7,8,9,10,11,12,13,14,15,16,17,18,19,20,21,22,23,24,25,26,27,28,29,30,31,32,33,34,35,36,37,38,39,40,41,42,43,44,45,46,47,48,49,50,51,52,53,54,55,56,57,58,59,60,61,62,63,64,65,66,67,68,69,70,71,72,73,74,75,76,77,78,79,80,81,82,83,84,85,86,87,88,89,90,91,92,93,94,95,96,97,98,99],\"xaxis\":\"x2\",\"y\":[-1.3677176837667189,-0.7286681981085552,\"\",\"\",-1.724999920272239,-2.1227054859380994,\"\",\"\",-0.22449724413589223,\"\",-0.05380759412474301,\"\",\"\",\"\",-0.7835796660507308,\"\",-0.08919279744157715,-1.0142777326529746,-1.5914751159517169,\"\",\"\",\"\",\"\",\"\",\"\",\"\",-0.5328899325825289,-0.26154273188138283,-0.11597463069798186,\"\",-1.417719178616754,\"\",-2.5046916785134052,-1.1418612891806283,\"\",-0.6194173275495141,-1.665264975165703,-1.2039724325771848,\"\",\"\",-2.3342925362650813,\"\",-2.1437649342852922,\"\",\"\",-1.4721990384578933,-0.08859569967554648,\"\",-1.0000492707111506,-1.5644489485306425,-0.6398859492017298,\"\",\"\",\"\",-0.3618102792210362,-2.722626970891415,-1.1681508909180391,-0.6138023368024978,-1.1588132949274093,\"\",\"\",\"\",\"\",\"\",-0.7750806386603651,-0.6237721891309674,-1.3799068000313688,\"\",-0.6450908015178579,-0.3647501758010012,-0.4735938301849656,\"\",\"\",-1.4743426709574776,-1.758334913260048,\"\",\"\",\"\",\"\",\"\",\"\",\"\",\"\",\"\",-1.0909874811644116,-0.7991909269985709,\"\",\"\",-1.0310004810362519,\"\",-0.2914929697004253,-3.0443289955464765,-0.788479729561379,-0.01700666236581448,\"\",-0.5866596687085792,-1.0340775662720023,-3.977551231946146,-1.1609228950482477,-0.32797195992181694],\"yaxis\":\"y2\",\"type\":\"scatter\"}],                        {\"hovermode\":\"x\",\"legend\":{\"bgcolor\":\"#F5F6F9\",\"font\":{\"color\":\"#4D5663\"}},\"paper_bgcolor\":\"#F5F6F9\",\"plot_bgcolor\":\"#F5F6F9\",\"template\":{\"data\":{\"barpolar\":[{\"marker\":{\"line\":{\"color\":\"#E5ECF6\",\"width\":0.5},\"pattern\":{\"fillmode\":\"overlay\",\"size\":10,\"solidity\":0.2}},\"type\":\"barpolar\"}],\"bar\":[{\"error_x\":{\"color\":\"#2a3f5f\"},\"error_y\":{\"color\":\"#2a3f5f\"},\"marker\":{\"line\":{\"color\":\"#E5ECF6\",\"width\":0.5},\"pattern\":{\"fillmode\":\"overlay\",\"size\":10,\"solidity\":0.2}},\"type\":\"bar\"}],\"carpet\":[{\"aaxis\":{\"endlinecolor\":\"#2a3f5f\",\"gridcolor\":\"white\",\"linecolor\":\"white\",\"minorgridcolor\":\"white\",\"startlinecolor\":\"#2a3f5f\"},\"baxis\":{\"endlinecolor\":\"#2a3f5f\",\"gridcolor\":\"white\",\"linecolor\":\"white\",\"minorgridcolor\":\"white\",\"startlinecolor\":\"#2a3f5f\"},\"type\":\"carpet\"}],\"choropleth\":[{\"colorbar\":{\"outlinewidth\":0,\"ticks\":\"\"},\"type\":\"choropleth\"}],\"contourcarpet\":[{\"colorbar\":{\"outlinewidth\":0,\"ticks\":\"\"},\"type\":\"contourcarpet\"}],\"contour\":[{\"colorbar\":{\"outlinewidth\":0,\"ticks\":\"\"},\"colorscale\":[[0.0,\"#0d0887\"],[0.1111111111111111,\"#46039f\"],[0.2222222222222222,\"#7201a8\"],[0.3333333333333333,\"#9c179e\"],[0.4444444444444444,\"#bd3786\"],[0.5555555555555556,\"#d8576b\"],[0.6666666666666666,\"#ed7953\"],[0.7777777777777778,\"#fb9f3a\"],[0.8888888888888888,\"#fdca26\"],[1.0,\"#f0f921\"]],\"type\":\"contour\"}],\"heatmapgl\":[{\"colorbar\":{\"outlinewidth\":0,\"ticks\":\"\"},\"colorscale\":[[0.0,\"#0d0887\"],[0.1111111111111111,\"#46039f\"],[0.2222222222222222,\"#7201a8\"],[0.3333333333333333,\"#9c179e\"],[0.4444444444444444,\"#bd3786\"],[0.5555555555555556,\"#d8576b\"],[0.6666666666666666,\"#ed7953\"],[0.7777777777777778,\"#fb9f3a\"],[0.8888888888888888,\"#fdca26\"],[1.0,\"#f0f921\"]],\"type\":\"heatmapgl\"}],\"heatmap\":[{\"colorbar\":{\"outlinewidth\":0,\"ticks\":\"\"},\"colorscale\":[[0.0,\"#0d0887\"],[0.1111111111111111,\"#46039f\"],[0.2222222222222222,\"#7201a8\"],[0.3333333333333333,\"#9c179e\"],[0.4444444444444444,\"#bd3786\"],[0.5555555555555556,\"#d8576b\"],[0.6666666666666666,\"#ed7953\"],[0.7777777777777778,\"#fb9f3a\"],[0.8888888888888888,\"#fdca26\"],[1.0,\"#f0f921\"]],\"type\":\"heatmap\"}],\"histogram2dcontour\":[{\"colorbar\":{\"outlinewidth\":0,\"ticks\":\"\"},\"colorscale\":[[0.0,\"#0d0887\"],[0.1111111111111111,\"#46039f\"],[0.2222222222222222,\"#7201a8\"],[0.3333333333333333,\"#9c179e\"],[0.4444444444444444,\"#bd3786\"],[0.5555555555555556,\"#d8576b\"],[0.6666666666666666,\"#ed7953\"],[0.7777777777777778,\"#fb9f3a\"],[0.8888888888888888,\"#fdca26\"],[1.0,\"#f0f921\"]],\"type\":\"histogram2dcontour\"}],\"histogram2d\":[{\"colorbar\":{\"outlinewidth\":0,\"ticks\":\"\"},\"colorscale\":[[0.0,\"#0d0887\"],[0.1111111111111111,\"#46039f\"],[0.2222222222222222,\"#7201a8\"],[0.3333333333333333,\"#9c179e\"],[0.4444444444444444,\"#bd3786\"],[0.5555555555555556,\"#d8576b\"],[0.6666666666666666,\"#ed7953\"],[0.7777777777777778,\"#fb9f3a\"],[0.8888888888888888,\"#fdca26\"],[1.0,\"#f0f921\"]],\"type\":\"histogram2d\"}],\"histogram\":[{\"marker\":{\"pattern\":{\"fillmode\":\"overlay\",\"size\":10,\"solidity\":0.2}},\"type\":\"histogram\"}],\"mesh3d\":[{\"colorbar\":{\"outlinewidth\":0,\"ticks\":\"\"},\"type\":\"mesh3d\"}],\"parcoords\":[{\"line\":{\"colorbar\":{\"outlinewidth\":0,\"ticks\":\"\"}},\"type\":\"parcoords\"}],\"pie\":[{\"automargin\":true,\"type\":\"pie\"}],\"scatter3d\":[{\"line\":{\"colorbar\":{\"outlinewidth\":0,\"ticks\":\"\"}},\"marker\":{\"colorbar\":{\"outlinewidth\":0,\"ticks\":\"\"}},\"type\":\"scatter3d\"}],\"scattercarpet\":[{\"marker\":{\"colorbar\":{\"outlinewidth\":0,\"ticks\":\"\"}},\"type\":\"scattercarpet\"}],\"scattergeo\":[{\"marker\":{\"colorbar\":{\"outlinewidth\":0,\"ticks\":\"\"}},\"type\":\"scattergeo\"}],\"scattergl\":[{\"marker\":{\"colorbar\":{\"outlinewidth\":0,\"ticks\":\"\"}},\"type\":\"scattergl\"}],\"scattermapbox\":[{\"marker\":{\"colorbar\":{\"outlinewidth\":0,\"ticks\":\"\"}},\"type\":\"scattermapbox\"}],\"scatterpolargl\":[{\"marker\":{\"colorbar\":{\"outlinewidth\":0,\"ticks\":\"\"}},\"type\":\"scatterpolargl\"}],\"scatterpolar\":[{\"marker\":{\"colorbar\":{\"outlinewidth\":0,\"ticks\":\"\"}},\"type\":\"scatterpolar\"}],\"scatter\":[{\"marker\":{\"colorbar\":{\"outlinewidth\":0,\"ticks\":\"\"}},\"type\":\"scatter\"}],\"scatterternary\":[{\"marker\":{\"colorbar\":{\"outlinewidth\":0,\"ticks\":\"\"}},\"type\":\"scatterternary\"}],\"surface\":[{\"colorbar\":{\"outlinewidth\":0,\"ticks\":\"\"},\"colorscale\":[[0.0,\"#0d0887\"],[0.1111111111111111,\"#46039f\"],[0.2222222222222222,\"#7201a8\"],[0.3333333333333333,\"#9c179e\"],[0.4444444444444444,\"#bd3786\"],[0.5555555555555556,\"#d8576b\"],[0.6666666666666666,\"#ed7953\"],[0.7777777777777778,\"#fb9f3a\"],[0.8888888888888888,\"#fdca26\"],[1.0,\"#f0f921\"]],\"type\":\"surface\"}],\"table\":[{\"cells\":{\"fill\":{\"color\":\"#EBF0F8\"},\"line\":{\"color\":\"white\"}},\"header\":{\"fill\":{\"color\":\"#C8D4E3\"},\"line\":{\"color\":\"white\"}},\"type\":\"table\"}]},\"layout\":{\"annotationdefaults\":{\"arrowcolor\":\"#2a3f5f\",\"arrowhead\":0,\"arrowwidth\":1},\"autotypenumbers\":\"strict\",\"coloraxis\":{\"colorbar\":{\"outlinewidth\":0,\"ticks\":\"\"}},\"colorscale\":{\"diverging\":[[0,\"#8e0152\"],[0.1,\"#c51b7d\"],[0.2,\"#de77ae\"],[0.3,\"#f1b6da\"],[0.4,\"#fde0ef\"],[0.5,\"#f7f7f7\"],[0.6,\"#e6f5d0\"],[0.7,\"#b8e186\"],[0.8,\"#7fbc41\"],[0.9,\"#4d9221\"],[1,\"#276419\"]],\"sequential\":[[0.0,\"#0d0887\"],[0.1111111111111111,\"#46039f\"],[0.2222222222222222,\"#7201a8\"],[0.3333333333333333,\"#9c179e\"],[0.4444444444444444,\"#bd3786\"],[0.5555555555555556,\"#d8576b\"],[0.6666666666666666,\"#ed7953\"],[0.7777777777777778,\"#fb9f3a\"],[0.8888888888888888,\"#fdca26\"],[1.0,\"#f0f921\"]],\"sequentialminus\":[[0.0,\"#0d0887\"],[0.1111111111111111,\"#46039f\"],[0.2222222222222222,\"#7201a8\"],[0.3333333333333333,\"#9c179e\"],[0.4444444444444444,\"#bd3786\"],[0.5555555555555556,\"#d8576b\"],[0.6666666666666666,\"#ed7953\"],[0.7777777777777778,\"#fb9f3a\"],[0.8888888888888888,\"#fdca26\"],[1.0,\"#f0f921\"]]},\"colorway\":[\"#636efa\",\"#EF553B\",\"#00cc96\",\"#ab63fa\",\"#FFA15A\",\"#19d3f3\",\"#FF6692\",\"#B6E880\",\"#FF97FF\",\"#FECB52\"],\"font\":{\"color\":\"#2a3f5f\"},\"geo\":{\"bgcolor\":\"white\",\"lakecolor\":\"white\",\"landcolor\":\"#E5ECF6\",\"showlakes\":true,\"showland\":true,\"subunitcolor\":\"white\"},\"hoverlabel\":{\"align\":\"left\"},\"hovermode\":\"closest\",\"mapbox\":{\"style\":\"light\"},\"paper_bgcolor\":\"white\",\"plot_bgcolor\":\"#E5ECF6\",\"polar\":{\"angularaxis\":{\"gridcolor\":\"white\",\"linecolor\":\"white\",\"ticks\":\"\"},\"bgcolor\":\"#E5ECF6\",\"radialaxis\":{\"gridcolor\":\"white\",\"linecolor\":\"white\",\"ticks\":\"\"}},\"scene\":{\"xaxis\":{\"backgroundcolor\":\"#E5ECF6\",\"gridcolor\":\"white\",\"gridwidth\":2,\"linecolor\":\"white\",\"showbackground\":true,\"ticks\":\"\",\"zerolinecolor\":\"white\"},\"yaxis\":{\"backgroundcolor\":\"#E5ECF6\",\"gridcolor\":\"white\",\"gridwidth\":2,\"linecolor\":\"white\",\"showbackground\":true,\"ticks\":\"\",\"zerolinecolor\":\"white\"},\"zaxis\":{\"backgroundcolor\":\"#E5ECF6\",\"gridcolor\":\"white\",\"gridwidth\":2,\"linecolor\":\"white\",\"showbackground\":true,\"ticks\":\"\",\"zerolinecolor\":\"white\"}},\"shapedefaults\":{\"line\":{\"color\":\"#2a3f5f\"}},\"ternary\":{\"aaxis\":{\"gridcolor\":\"white\",\"linecolor\":\"white\",\"ticks\":\"\"},\"baxis\":{\"gridcolor\":\"white\",\"linecolor\":\"white\",\"ticks\":\"\"},\"bgcolor\":\"#E5ECF6\",\"caxis\":{\"gridcolor\":\"white\",\"linecolor\":\"white\",\"ticks\":\"\"}},\"title\":{\"x\":0.05},\"xaxis\":{\"automargin\":true,\"gridcolor\":\"white\",\"linecolor\":\"white\",\"ticks\":\"\",\"title\":{\"standoff\":15},\"zerolinecolor\":\"white\",\"zerolinewidth\":2},\"yaxis\":{\"automargin\":true,\"gridcolor\":\"white\",\"linecolor\":\"white\",\"ticks\":\"\",\"title\":{\"standoff\":15},\"zerolinecolor\":\"white\",\"zerolinewidth\":2}}},\"title\":{\"font\":{\"color\":\"#4D5663\"}},\"xaxis\":{\"gridcolor\":\"#E1E5ED\",\"showgrid\":true,\"tickfont\":{\"color\":\"#4D5663\"},\"title\":{\"font\":{\"color\":\"#4D5663\"},\"text\":\"\"},\"zerolinecolor\":\"#E1E5ED\"},\"yaxis\":{\"domain\":[0.3,1],\"gridcolor\":\"#E1E5ED\",\"showgrid\":true,\"tickfont\":{\"color\":\"#4D5663\"},\"title\":{\"font\":{\"color\":\"#4D5663\"},\"text\":\"\"},\"zerolinecolor\":\"#E1E5ED\"},\"yaxis2\":{\"domain\":[0,0.25],\"gridcolor\":\"#E1E5ED\",\"showgrid\":true,\"tickfont\":{\"color\":\"#4D5663\"},\"title\":{\"font\":{\"color\":\"#4D5663\"},\"text\":\"Spread\"},\"zerolinecolor\":\"#E1E5ED\"},\"xaxis2\":{\"anchor\":\"y2\",\"gridcolor\":\"#E1E5ED\",\"showgrid\":true,\"showticklabels\":false,\"tickfont\":{\"color\":\"#4D5663\"},\"title\":{\"font\":{\"color\":\"#4D5663\"},\"text\":\"\"},\"zerolinecolor\":\"#E1E5ED\"}},                        {\"showLink\": true, \"linkText\": \"Export to plot.ly\", \"plotlyServerURL\": \"https://plot.ly\", \"responsive\": true}                    ).then(function(){\n",
       "                            \n",
       "var gd = document.getElementById('92d6df55-73cf-4e92-96c8-bd429077a880');\n",
       "var x = new MutationObserver(function (mutations, observer) {{\n",
       "        var display = window.getComputedStyle(gd).display;\n",
       "        if (!display || display === 'none') {{\n",
       "            console.log([gd, 'removed!']);\n",
       "            Plotly.purge(gd);\n",
       "            observer.disconnect();\n",
       "        }}\n",
       "}});\n",
       "\n",
       "// Listen for the removal of the full notebook cells\n",
       "var notebookContainer = gd.closest('#notebook-container');\n",
       "if (notebookContainer) {{\n",
       "    x.observe(notebookContainer, {childList: true});\n",
       "}}\n",
       "\n",
       "// Listen for the clearing of the current output cell\n",
       "var outputEl = gd.closest('.output');\n",
       "if (outputEl) {{\n",
       "    x.observe(outputEl, {childList: true});\n",
       "}}\n",
       "\n",
       "                        })                };                });            </script>        </div>"
      ]
     },
     "metadata": {},
     "output_type": "display_data"
    }
   ],
   "source": [
    "df[['A','B']].iplot(kind= 'spread')"
   ]
  },
  {
   "cell_type": "code",
   "execution_count": 91,
   "metadata": {},
   "outputs": [
    {
     "data": {
      "application/vnd.plotly.v1+json": {
       "config": {
        "linkText": "Export to plot.ly",
        "plotlyServerURL": "https://plot.ly",
        "showLink": true
       },
       "data": [
        {
         "marker": {
          "color": [
           "rgb(255, 153, 51)",
           "rgb(55, 128, 191)",
           "rgb(50, 171, 96)",
           "rgb(128, 0, 128)",
           "rgb(219, 64, 82)",
           "rgb(0, 128, 128)",
           "rgb(255, 255, 51)",
           "rgb(128, 128, 0)",
           "rgb(251, 128, 114)",
           "rgb(128, 177, 211)"
          ],
          "line": {
           "width": 1.3
          },
          "size": [
           40,
           17,
           81,
           77,
           65,
           50,
           50,
           45,
           12,
           88,
           85,
           71,
           91,
           38,
           109,
           43,
           88,
           64,
           23,
           86,
           53,
           43,
           80,
           89,
           84,
           79,
           42,
           48,
           68,
           39,
           60,
           49,
           51,
           36,
           92,
           82,
           53,
           51,
           72,
           93,
           58,
           47,
           54,
           54,
           40,
           63,
           58,
           77,
           68,
           70,
           88,
           49,
           94,
           93,
           39,
           71,
           97,
           50,
           59,
           35,
           91,
           34,
           56,
           112,
           59,
           34,
           78,
           49,
           84,
           39,
           49,
           70,
           58,
           98,
           51,
           30,
           55,
           75,
           101,
           73,
           25,
           50,
           45,
           56,
           69,
           20,
           87,
           58,
           45,
           19,
           59,
           74,
           72,
           45,
           102,
           38,
           73,
           39,
           52,
           94
          ],
          "symbol": "circle"
         },
         "mode": "markers",
         "text": "",
         "type": "scatter",
         "x": [
          -1.5470379470686257,
          -0.3866827505899728,
          0.05907767532625553,
          1.3528949385329836,
          -0.2446134380889313,
          -2.406380574789591,
          -0.2816288308863832,
          0.4275053609457478,
          -0.5819392334941368,
          0.7569495452421476,
          0.6453177603325179,
          0.57422805107268,
          1.3148995288538112,
          0.220666189826017,
          -0.2839870046920182,
          0.7140778562736044,
          1.2652541519683163,
          -0.5332706279507585,
          -1.99742682090396,
          0.4405887301243418,
          1.6892743646745116,
          -0.19165751288169328,
          0.5104035641178164,
          1.3803225460438007,
          0.16703348752209532,
          -0.285872723137153,
          -0.2049482645233315,
          -0.6179469943011561,
          0.6032652329988165,
          0.05057590325797419,
          -1.3294185799763285,
          0.578716171231639,
          -1.6111718252564509,
          -0.7525916016188796,
          0.8249183497350251,
          -0.015267594448878615,
          -2.0692673026355326,
          0.6428908175911534,
          1.7655572451119899,
          2.031329227063635,
          -1.466347474243045,
          1.6401369002649178,
          -0.34019045909674234,
          0.8635745180435763,
          -0.41744886551989835,
          -0.10163440297958373,
          0.7703425064697068,
          1.4689212890171626,
          -0.23433370060897665,
          -1.3258769200955578,
          -1.1718941254219373,
          0.801932550048809,
          1.448807734284354,
          0.9847030866880221,
          0.3376184172512405,
          -1.5242713825393606,
          0.7027628372435865,
          -0.2791683192032702,
          0.020488303009922777,
          0.820619688063049,
          -0.36218158301404263,
          0.14617037002964653,
          1.6718586124907957,
          0.6705673605246165,
          0.27828495652272867,
          0.20926566932783422,
          -1.9184096983655765,
          -0.6402371208591136,
          -0.08170770033706065,
          -0.06808155063387622,
          -1.38010522374821,
          0.39561517267437496,
          0.7531494990024865,
          -0.6283031170433298,
          -1.8242056728883924,
          0.9256295159513197,
          1.2767649316415697,
          0.18525786624729326,
          0.5745200766324614,
          0.8337022049758677,
          -0.3243762742733441,
          0.4824787010648017,
          -0.1608409373329267,
          1.8793431047865878,
          0.3314905561931448,
          -0.29036873392865464,
          0.7482402104538096,
          0.49709639164898334,
          0.21495382334267585,
          1.0208806180216834,
          -0.03170735862101034,
          -2.5312495750725925,
          2.1046549936147385,
          -0.1046128281488064,
          -0.3285804840215899,
          0.24177836912715794,
          0.05569559765452582,
          -0.762999801993306,
          -0.6164640215496762,
          -1.8421776428608174
         ],
         "y": [
          -0.17932026330190684,
          0.34198544751858234,
          -1.2713269129457325,
          0.0016652786409217964,
          1.4803864821833077,
          -0.2836750888514914,
          -1.4155538362514601,
          -0.5739661271236048,
          -0.35744198935824456,
          -0.8994230904876396,
          0.6991253544572609,
          -0.874793148785467,
          -0.39153074019047707,
          -0.880394830638912,
          0.4995926613587126,
          0.6293698296553195,
          1.3544469494098934,
          0.4810071047022162,
          -0.40595170495224314,
          0.09622342847254901,
          0.43681638785495297,
          -0.7536552634789734,
          0.46515551350074097,
          -0.4107904278107822,
          -0.667536213298158,
          -0.644002357567441,
          0.3279416680591974,
          -0.35640426241977324,
          0.7192398636967984,
          -0.3544851170731683,
          0.08830059864042557,
          0.030758743727376085,
          0.8935198532569544,
          0.3892696875617487,
          0.3237375347818951,
          0.6041497331006355,
          -0.40400232746982956,
          1.8468632501683382,
          -0.029077327946170142,
          0.25908762161059545,
          0.8679450620220365,
          0.967081274178919,
          1.80357447518855,
          0.7548651304368754,
          -0.5513298895031992,
          1.3705646354783096,
          0.8589382061452533,
          -1.0947470720924772,
          0.765715570102174,
          0.2385720284350847,
          -0.5320081762202075,
          -2.1047278011907666,
          -0.22838874539262682,
          -1.0758351304521767,
          0.6994286964722767,
          1.1983555883520542,
          1.8709137281616257,
          0.3346340175992276,
          1.179301597937332,
          -1.9309090060954557,
          -1.0881323911298968,
          0.0925198558216795,
          -0.6780781717104581,
          0.6074641297220856,
          1.0533655951830938,
          0.8330378584588016,
          -0.5385028983342077,
          -1.5582948613417311,
          0.5633831011807973,
          0.296668625167125,
          -0.9065113935632445,
          -0.21770298654540515,
          -0.18554362127577312,
          0.8460395539141479,
          -0.06587075962834432,
          -1.3271566677311997,
          0.25495202389316673,
          -0.6747528477615352,
          -1.435892609276357,
          -0.960122176589752,
          -0.3454127480759408,
          0.4072393867432423,
          -1.338046384045666,
          0.5103799524326336,
          1.4224780373575563,
          0.5088221930699162,
          0.03356517523728443,
          0.45970454247660264,
          1.2459543043789276,
          0.2505549812457923,
          0.259785611079415,
          0.5130794204738841,
          2.8931347231761175,
          -0.08760616578299192,
          -1.1963390674150716,
          0.8284380378357371,
          1.0897731639265282,
          3.2145514299528397,
          0.5444588734985717,
          -1.5142056829390005
         ]
        }
       ],
       "layout": {
        "legend": {
         "bgcolor": "#F5F6F9",
         "font": {
          "color": "#4D5663"
         }
        },
        "paper_bgcolor": "#F5F6F9",
        "plot_bgcolor": "#F5F6F9",
        "template": {
         "data": {
          "bar": [
           {
            "error_x": {
             "color": "#2a3f5f"
            },
            "error_y": {
             "color": "#2a3f5f"
            },
            "marker": {
             "line": {
              "color": "#E5ECF6",
              "width": 0.5
             },
             "pattern": {
              "fillmode": "overlay",
              "size": 10,
              "solidity": 0.2
             }
            },
            "type": "bar"
           }
          ],
          "barpolar": [
           {
            "marker": {
             "line": {
              "color": "#E5ECF6",
              "width": 0.5
             },
             "pattern": {
              "fillmode": "overlay",
              "size": 10,
              "solidity": 0.2
             }
            },
            "type": "barpolar"
           }
          ],
          "carpet": [
           {
            "aaxis": {
             "endlinecolor": "#2a3f5f",
             "gridcolor": "white",
             "linecolor": "white",
             "minorgridcolor": "white",
             "startlinecolor": "#2a3f5f"
            },
            "baxis": {
             "endlinecolor": "#2a3f5f",
             "gridcolor": "white",
             "linecolor": "white",
             "minorgridcolor": "white",
             "startlinecolor": "#2a3f5f"
            },
            "type": "carpet"
           }
          ],
          "choropleth": [
           {
            "colorbar": {
             "outlinewidth": 0,
             "ticks": ""
            },
            "type": "choropleth"
           }
          ],
          "contour": [
           {
            "colorbar": {
             "outlinewidth": 0,
             "ticks": ""
            },
            "colorscale": [
             [
              0,
              "#0d0887"
             ],
             [
              0.1111111111111111,
              "#46039f"
             ],
             [
              0.2222222222222222,
              "#7201a8"
             ],
             [
              0.3333333333333333,
              "#9c179e"
             ],
             [
              0.4444444444444444,
              "#bd3786"
             ],
             [
              0.5555555555555556,
              "#d8576b"
             ],
             [
              0.6666666666666666,
              "#ed7953"
             ],
             [
              0.7777777777777778,
              "#fb9f3a"
             ],
             [
              0.8888888888888888,
              "#fdca26"
             ],
             [
              1,
              "#f0f921"
             ]
            ],
            "type": "contour"
           }
          ],
          "contourcarpet": [
           {
            "colorbar": {
             "outlinewidth": 0,
             "ticks": ""
            },
            "type": "contourcarpet"
           }
          ],
          "heatmap": [
           {
            "colorbar": {
             "outlinewidth": 0,
             "ticks": ""
            },
            "colorscale": [
             [
              0,
              "#0d0887"
             ],
             [
              0.1111111111111111,
              "#46039f"
             ],
             [
              0.2222222222222222,
              "#7201a8"
             ],
             [
              0.3333333333333333,
              "#9c179e"
             ],
             [
              0.4444444444444444,
              "#bd3786"
             ],
             [
              0.5555555555555556,
              "#d8576b"
             ],
             [
              0.6666666666666666,
              "#ed7953"
             ],
             [
              0.7777777777777778,
              "#fb9f3a"
             ],
             [
              0.8888888888888888,
              "#fdca26"
             ],
             [
              1,
              "#f0f921"
             ]
            ],
            "type": "heatmap"
           }
          ],
          "heatmapgl": [
           {
            "colorbar": {
             "outlinewidth": 0,
             "ticks": ""
            },
            "colorscale": [
             [
              0,
              "#0d0887"
             ],
             [
              0.1111111111111111,
              "#46039f"
             ],
             [
              0.2222222222222222,
              "#7201a8"
             ],
             [
              0.3333333333333333,
              "#9c179e"
             ],
             [
              0.4444444444444444,
              "#bd3786"
             ],
             [
              0.5555555555555556,
              "#d8576b"
             ],
             [
              0.6666666666666666,
              "#ed7953"
             ],
             [
              0.7777777777777778,
              "#fb9f3a"
             ],
             [
              0.8888888888888888,
              "#fdca26"
             ],
             [
              1,
              "#f0f921"
             ]
            ],
            "type": "heatmapgl"
           }
          ],
          "histogram": [
           {
            "marker": {
             "pattern": {
              "fillmode": "overlay",
              "size": 10,
              "solidity": 0.2
             }
            },
            "type": "histogram"
           }
          ],
          "histogram2d": [
           {
            "colorbar": {
             "outlinewidth": 0,
             "ticks": ""
            },
            "colorscale": [
             [
              0,
              "#0d0887"
             ],
             [
              0.1111111111111111,
              "#46039f"
             ],
             [
              0.2222222222222222,
              "#7201a8"
             ],
             [
              0.3333333333333333,
              "#9c179e"
             ],
             [
              0.4444444444444444,
              "#bd3786"
             ],
             [
              0.5555555555555556,
              "#d8576b"
             ],
             [
              0.6666666666666666,
              "#ed7953"
             ],
             [
              0.7777777777777778,
              "#fb9f3a"
             ],
             [
              0.8888888888888888,
              "#fdca26"
             ],
             [
              1,
              "#f0f921"
             ]
            ],
            "type": "histogram2d"
           }
          ],
          "histogram2dcontour": [
           {
            "colorbar": {
             "outlinewidth": 0,
             "ticks": ""
            },
            "colorscale": [
             [
              0,
              "#0d0887"
             ],
             [
              0.1111111111111111,
              "#46039f"
             ],
             [
              0.2222222222222222,
              "#7201a8"
             ],
             [
              0.3333333333333333,
              "#9c179e"
             ],
             [
              0.4444444444444444,
              "#bd3786"
             ],
             [
              0.5555555555555556,
              "#d8576b"
             ],
             [
              0.6666666666666666,
              "#ed7953"
             ],
             [
              0.7777777777777778,
              "#fb9f3a"
             ],
             [
              0.8888888888888888,
              "#fdca26"
             ],
             [
              1,
              "#f0f921"
             ]
            ],
            "type": "histogram2dcontour"
           }
          ],
          "mesh3d": [
           {
            "colorbar": {
             "outlinewidth": 0,
             "ticks": ""
            },
            "type": "mesh3d"
           }
          ],
          "parcoords": [
           {
            "line": {
             "colorbar": {
              "outlinewidth": 0,
              "ticks": ""
             }
            },
            "type": "parcoords"
           }
          ],
          "pie": [
           {
            "automargin": true,
            "type": "pie"
           }
          ],
          "scatter": [
           {
            "marker": {
             "colorbar": {
              "outlinewidth": 0,
              "ticks": ""
             }
            },
            "type": "scatter"
           }
          ],
          "scatter3d": [
           {
            "line": {
             "colorbar": {
              "outlinewidth": 0,
              "ticks": ""
             }
            },
            "marker": {
             "colorbar": {
              "outlinewidth": 0,
              "ticks": ""
             }
            },
            "type": "scatter3d"
           }
          ],
          "scattercarpet": [
           {
            "marker": {
             "colorbar": {
              "outlinewidth": 0,
              "ticks": ""
             }
            },
            "type": "scattercarpet"
           }
          ],
          "scattergeo": [
           {
            "marker": {
             "colorbar": {
              "outlinewidth": 0,
              "ticks": ""
             }
            },
            "type": "scattergeo"
           }
          ],
          "scattergl": [
           {
            "marker": {
             "colorbar": {
              "outlinewidth": 0,
              "ticks": ""
             }
            },
            "type": "scattergl"
           }
          ],
          "scattermapbox": [
           {
            "marker": {
             "colorbar": {
              "outlinewidth": 0,
              "ticks": ""
             }
            },
            "type": "scattermapbox"
           }
          ],
          "scatterpolar": [
           {
            "marker": {
             "colorbar": {
              "outlinewidth": 0,
              "ticks": ""
             }
            },
            "type": "scatterpolar"
           }
          ],
          "scatterpolargl": [
           {
            "marker": {
             "colorbar": {
              "outlinewidth": 0,
              "ticks": ""
             }
            },
            "type": "scatterpolargl"
           }
          ],
          "scatterternary": [
           {
            "marker": {
             "colorbar": {
              "outlinewidth": 0,
              "ticks": ""
             }
            },
            "type": "scatterternary"
           }
          ],
          "surface": [
           {
            "colorbar": {
             "outlinewidth": 0,
             "ticks": ""
            },
            "colorscale": [
             [
              0,
              "#0d0887"
             ],
             [
              0.1111111111111111,
              "#46039f"
             ],
             [
              0.2222222222222222,
              "#7201a8"
             ],
             [
              0.3333333333333333,
              "#9c179e"
             ],
             [
              0.4444444444444444,
              "#bd3786"
             ],
             [
              0.5555555555555556,
              "#d8576b"
             ],
             [
              0.6666666666666666,
              "#ed7953"
             ],
             [
              0.7777777777777778,
              "#fb9f3a"
             ],
             [
              0.8888888888888888,
              "#fdca26"
             ],
             [
              1,
              "#f0f921"
             ]
            ],
            "type": "surface"
           }
          ],
          "table": [
           {
            "cells": {
             "fill": {
              "color": "#EBF0F8"
             },
             "line": {
              "color": "white"
             }
            },
            "header": {
             "fill": {
              "color": "#C8D4E3"
             },
             "line": {
              "color": "white"
             }
            },
            "type": "table"
           }
          ]
         },
         "layout": {
          "annotationdefaults": {
           "arrowcolor": "#2a3f5f",
           "arrowhead": 0,
           "arrowwidth": 1
          },
          "autotypenumbers": "strict",
          "coloraxis": {
           "colorbar": {
            "outlinewidth": 0,
            "ticks": ""
           }
          },
          "colorscale": {
           "diverging": [
            [
             0,
             "#8e0152"
            ],
            [
             0.1,
             "#c51b7d"
            ],
            [
             0.2,
             "#de77ae"
            ],
            [
             0.3,
             "#f1b6da"
            ],
            [
             0.4,
             "#fde0ef"
            ],
            [
             0.5,
             "#f7f7f7"
            ],
            [
             0.6,
             "#e6f5d0"
            ],
            [
             0.7,
             "#b8e186"
            ],
            [
             0.8,
             "#7fbc41"
            ],
            [
             0.9,
             "#4d9221"
            ],
            [
             1,
             "#276419"
            ]
           ],
           "sequential": [
            [
             0,
             "#0d0887"
            ],
            [
             0.1111111111111111,
             "#46039f"
            ],
            [
             0.2222222222222222,
             "#7201a8"
            ],
            [
             0.3333333333333333,
             "#9c179e"
            ],
            [
             0.4444444444444444,
             "#bd3786"
            ],
            [
             0.5555555555555556,
             "#d8576b"
            ],
            [
             0.6666666666666666,
             "#ed7953"
            ],
            [
             0.7777777777777778,
             "#fb9f3a"
            ],
            [
             0.8888888888888888,
             "#fdca26"
            ],
            [
             1,
             "#f0f921"
            ]
           ],
           "sequentialminus": [
            [
             0,
             "#0d0887"
            ],
            [
             0.1111111111111111,
             "#46039f"
            ],
            [
             0.2222222222222222,
             "#7201a8"
            ],
            [
             0.3333333333333333,
             "#9c179e"
            ],
            [
             0.4444444444444444,
             "#bd3786"
            ],
            [
             0.5555555555555556,
             "#d8576b"
            ],
            [
             0.6666666666666666,
             "#ed7953"
            ],
            [
             0.7777777777777778,
             "#fb9f3a"
            ],
            [
             0.8888888888888888,
             "#fdca26"
            ],
            [
             1,
             "#f0f921"
            ]
           ]
          },
          "colorway": [
           "#636efa",
           "#EF553B",
           "#00cc96",
           "#ab63fa",
           "#FFA15A",
           "#19d3f3",
           "#FF6692",
           "#B6E880",
           "#FF97FF",
           "#FECB52"
          ],
          "font": {
           "color": "#2a3f5f"
          },
          "geo": {
           "bgcolor": "white",
           "lakecolor": "white",
           "landcolor": "#E5ECF6",
           "showlakes": true,
           "showland": true,
           "subunitcolor": "white"
          },
          "hoverlabel": {
           "align": "left"
          },
          "hovermode": "closest",
          "mapbox": {
           "style": "light"
          },
          "paper_bgcolor": "white",
          "plot_bgcolor": "#E5ECF6",
          "polar": {
           "angularaxis": {
            "gridcolor": "white",
            "linecolor": "white",
            "ticks": ""
           },
           "bgcolor": "#E5ECF6",
           "radialaxis": {
            "gridcolor": "white",
            "linecolor": "white",
            "ticks": ""
           }
          },
          "scene": {
           "xaxis": {
            "backgroundcolor": "#E5ECF6",
            "gridcolor": "white",
            "gridwidth": 2,
            "linecolor": "white",
            "showbackground": true,
            "ticks": "",
            "zerolinecolor": "white"
           },
           "yaxis": {
            "backgroundcolor": "#E5ECF6",
            "gridcolor": "white",
            "gridwidth": 2,
            "linecolor": "white",
            "showbackground": true,
            "ticks": "",
            "zerolinecolor": "white"
           },
           "zaxis": {
            "backgroundcolor": "#E5ECF6",
            "gridcolor": "white",
            "gridwidth": 2,
            "linecolor": "white",
            "showbackground": true,
            "ticks": "",
            "zerolinecolor": "white"
           }
          },
          "shapedefaults": {
           "line": {
            "color": "#2a3f5f"
           }
          },
          "ternary": {
           "aaxis": {
            "gridcolor": "white",
            "linecolor": "white",
            "ticks": ""
           },
           "baxis": {
            "gridcolor": "white",
            "linecolor": "white",
            "ticks": ""
           },
           "bgcolor": "#E5ECF6",
           "caxis": {
            "gridcolor": "white",
            "linecolor": "white",
            "ticks": ""
           }
          },
          "title": {
           "x": 0.05
          },
          "xaxis": {
           "automargin": true,
           "gridcolor": "white",
           "linecolor": "white",
           "ticks": "",
           "title": {
            "standoff": 15
           },
           "zerolinecolor": "white",
           "zerolinewidth": 2
          },
          "yaxis": {
           "automargin": true,
           "gridcolor": "white",
           "linecolor": "white",
           "ticks": "",
           "title": {
            "standoff": 15
           },
           "zerolinecolor": "white",
           "zerolinewidth": 2
          }
         }
        },
        "title": {
         "font": {
          "color": "#4D5663"
         }
        },
        "xaxis": {
         "gridcolor": "#E1E5ED",
         "showgrid": true,
         "tickfont": {
          "color": "#4D5663"
         },
         "title": {
          "font": {
           "color": "#4D5663"
          },
          "text": ""
         },
         "zerolinecolor": "#E1E5ED"
        },
        "yaxis": {
         "gridcolor": "#E1E5ED",
         "showgrid": true,
         "tickfont": {
          "color": "#4D5663"
         },
         "title": {
          "font": {
           "color": "#4D5663"
          },
          "text": ""
         },
         "zerolinecolor": "#E1E5ED"
        }
       }
      },
      "text/html": [
       "<div>                            <div id=\"7102c1db-cd7e-4908-927c-01acf6510092\" class=\"plotly-graph-div\" style=\"height:525px; width:100%;\"></div>            <script type=\"text/javascript\">                require([\"plotly\"], function(Plotly) {                    window.PLOTLYENV=window.PLOTLYENV || {};\n",
       "                    window.PLOTLYENV.BASE_URL='https://plot.ly';                                    if (document.getElementById(\"7102c1db-cd7e-4908-927c-01acf6510092\")) {                    Plotly.newPlot(                        \"7102c1db-cd7e-4908-927c-01acf6510092\",                        [{\"marker\":{\"color\":[\"rgb(255, 153, 51)\",\"rgb(55, 128, 191)\",\"rgb(50, 171, 96)\",\"rgb(128, 0, 128)\",\"rgb(219, 64, 82)\",\"rgb(0, 128, 128)\",\"rgb(255, 255, 51)\",\"rgb(128, 128, 0)\",\"rgb(251, 128, 114)\",\"rgb(128, 177, 211)\"],\"line\":{\"width\":1.3},\"size\":[40,17,81,77,65,50,50,45,12,88,85,71,91,38,109,43,88,64,23,86,53,43,80,89,84,79,42,48,68,39,60,49,51,36,92,82,53,51,72,93,58,47,54,54,40,63,58,77,68,70,88,49,94,93,39,71,97,50,59,35,91,34,56,112,59,34,78,49,84,39,49,70,58,98,51,30,55,75,101,73,25,50,45,56,69,20,87,58,45,19,59,74,72,45,102,38,73,39,52,94],\"symbol\":\"circle\"},\"mode\":\"markers\",\"text\":\"\",\"x\":[-1.5470379470686257,-0.3866827505899728,0.05907767532625553,1.3528949385329836,-0.2446134380889313,-2.406380574789591,-0.2816288308863832,0.4275053609457478,-0.5819392334941368,0.7569495452421476,0.6453177603325179,0.57422805107268,1.3148995288538112,0.220666189826017,-0.2839870046920182,0.7140778562736044,1.2652541519683163,-0.5332706279507585,-1.99742682090396,0.4405887301243418,1.6892743646745116,-0.19165751288169328,0.5104035641178164,1.3803225460438007,0.16703348752209532,-0.285872723137153,-0.2049482645233315,-0.6179469943011561,0.6032652329988165,0.05057590325797419,-1.3294185799763285,0.578716171231639,-1.6111718252564509,-0.7525916016188796,0.8249183497350251,-0.015267594448878615,-2.0692673026355326,0.6428908175911534,1.7655572451119899,2.031329227063635,-1.466347474243045,1.6401369002649178,-0.34019045909674234,0.8635745180435763,-0.41744886551989835,-0.10163440297958373,0.7703425064697068,1.4689212890171626,-0.23433370060897665,-1.3258769200955578,-1.1718941254219373,0.801932550048809,1.448807734284354,0.9847030866880221,0.3376184172512405,-1.5242713825393606,0.7027628372435865,-0.2791683192032702,0.020488303009922777,0.820619688063049,-0.36218158301404263,0.14617037002964653,1.6718586124907957,0.6705673605246165,0.27828495652272867,0.20926566932783422,-1.9184096983655765,-0.6402371208591136,-0.08170770033706065,-0.06808155063387622,-1.38010522374821,0.39561517267437496,0.7531494990024865,-0.6283031170433298,-1.8242056728883924,0.9256295159513197,1.2767649316415697,0.18525786624729326,0.5745200766324614,0.8337022049758677,-0.3243762742733441,0.4824787010648017,-0.1608409373329267,1.8793431047865878,0.3314905561931448,-0.29036873392865464,0.7482402104538096,0.49709639164898334,0.21495382334267585,1.0208806180216834,-0.03170735862101034,-2.5312495750725925,2.1046549936147385,-0.1046128281488064,-0.3285804840215899,0.24177836912715794,0.05569559765452582,-0.762999801993306,-0.6164640215496762,-1.8421776428608174],\"y\":[-0.17932026330190684,0.34198544751858234,-1.2713269129457325,0.0016652786409217964,1.4803864821833077,-0.2836750888514914,-1.4155538362514601,-0.5739661271236048,-0.35744198935824456,-0.8994230904876396,0.6991253544572609,-0.874793148785467,-0.39153074019047707,-0.880394830638912,0.4995926613587126,0.6293698296553195,1.3544469494098934,0.4810071047022162,-0.40595170495224314,0.09622342847254901,0.43681638785495297,-0.7536552634789734,0.46515551350074097,-0.4107904278107822,-0.667536213298158,-0.644002357567441,0.3279416680591974,-0.35640426241977324,0.7192398636967984,-0.3544851170731683,0.08830059864042557,0.030758743727376085,0.8935198532569544,0.3892696875617487,0.3237375347818951,0.6041497331006355,-0.40400232746982956,1.8468632501683382,-0.029077327946170142,0.25908762161059545,0.8679450620220365,0.967081274178919,1.80357447518855,0.7548651304368754,-0.5513298895031992,1.3705646354783096,0.8589382061452533,-1.0947470720924772,0.765715570102174,0.2385720284350847,-0.5320081762202075,-2.1047278011907666,-0.22838874539262682,-1.0758351304521767,0.6994286964722767,1.1983555883520542,1.8709137281616257,0.3346340175992276,1.179301597937332,-1.9309090060954557,-1.0881323911298968,0.0925198558216795,-0.6780781717104581,0.6074641297220856,1.0533655951830938,0.8330378584588016,-0.5385028983342077,-1.5582948613417311,0.5633831011807973,0.296668625167125,-0.9065113935632445,-0.21770298654540515,-0.18554362127577312,0.8460395539141479,-0.06587075962834432,-1.3271566677311997,0.25495202389316673,-0.6747528477615352,-1.435892609276357,-0.960122176589752,-0.3454127480759408,0.4072393867432423,-1.338046384045666,0.5103799524326336,1.4224780373575563,0.5088221930699162,0.03356517523728443,0.45970454247660264,1.2459543043789276,0.2505549812457923,0.259785611079415,0.5130794204738841,2.8931347231761175,-0.08760616578299192,-1.1963390674150716,0.8284380378357371,1.0897731639265282,3.2145514299528397,0.5444588734985717,-1.5142056829390005],\"type\":\"scatter\"}],                        {\"legend\":{\"bgcolor\":\"#F5F6F9\",\"font\":{\"color\":\"#4D5663\"}},\"paper_bgcolor\":\"#F5F6F9\",\"plot_bgcolor\":\"#F5F6F9\",\"template\":{\"data\":{\"barpolar\":[{\"marker\":{\"line\":{\"color\":\"#E5ECF6\",\"width\":0.5},\"pattern\":{\"fillmode\":\"overlay\",\"size\":10,\"solidity\":0.2}},\"type\":\"barpolar\"}],\"bar\":[{\"error_x\":{\"color\":\"#2a3f5f\"},\"error_y\":{\"color\":\"#2a3f5f\"},\"marker\":{\"line\":{\"color\":\"#E5ECF6\",\"width\":0.5},\"pattern\":{\"fillmode\":\"overlay\",\"size\":10,\"solidity\":0.2}},\"type\":\"bar\"}],\"carpet\":[{\"aaxis\":{\"endlinecolor\":\"#2a3f5f\",\"gridcolor\":\"white\",\"linecolor\":\"white\",\"minorgridcolor\":\"white\",\"startlinecolor\":\"#2a3f5f\"},\"baxis\":{\"endlinecolor\":\"#2a3f5f\",\"gridcolor\":\"white\",\"linecolor\":\"white\",\"minorgridcolor\":\"white\",\"startlinecolor\":\"#2a3f5f\"},\"type\":\"carpet\"}],\"choropleth\":[{\"colorbar\":{\"outlinewidth\":0,\"ticks\":\"\"},\"type\":\"choropleth\"}],\"contourcarpet\":[{\"colorbar\":{\"outlinewidth\":0,\"ticks\":\"\"},\"type\":\"contourcarpet\"}],\"contour\":[{\"colorbar\":{\"outlinewidth\":0,\"ticks\":\"\"},\"colorscale\":[[0.0,\"#0d0887\"],[0.1111111111111111,\"#46039f\"],[0.2222222222222222,\"#7201a8\"],[0.3333333333333333,\"#9c179e\"],[0.4444444444444444,\"#bd3786\"],[0.5555555555555556,\"#d8576b\"],[0.6666666666666666,\"#ed7953\"],[0.7777777777777778,\"#fb9f3a\"],[0.8888888888888888,\"#fdca26\"],[1.0,\"#f0f921\"]],\"type\":\"contour\"}],\"heatmapgl\":[{\"colorbar\":{\"outlinewidth\":0,\"ticks\":\"\"},\"colorscale\":[[0.0,\"#0d0887\"],[0.1111111111111111,\"#46039f\"],[0.2222222222222222,\"#7201a8\"],[0.3333333333333333,\"#9c179e\"],[0.4444444444444444,\"#bd3786\"],[0.5555555555555556,\"#d8576b\"],[0.6666666666666666,\"#ed7953\"],[0.7777777777777778,\"#fb9f3a\"],[0.8888888888888888,\"#fdca26\"],[1.0,\"#f0f921\"]],\"type\":\"heatmapgl\"}],\"heatmap\":[{\"colorbar\":{\"outlinewidth\":0,\"ticks\":\"\"},\"colorscale\":[[0.0,\"#0d0887\"],[0.1111111111111111,\"#46039f\"],[0.2222222222222222,\"#7201a8\"],[0.3333333333333333,\"#9c179e\"],[0.4444444444444444,\"#bd3786\"],[0.5555555555555556,\"#d8576b\"],[0.6666666666666666,\"#ed7953\"],[0.7777777777777778,\"#fb9f3a\"],[0.8888888888888888,\"#fdca26\"],[1.0,\"#f0f921\"]],\"type\":\"heatmap\"}],\"histogram2dcontour\":[{\"colorbar\":{\"outlinewidth\":0,\"ticks\":\"\"},\"colorscale\":[[0.0,\"#0d0887\"],[0.1111111111111111,\"#46039f\"],[0.2222222222222222,\"#7201a8\"],[0.3333333333333333,\"#9c179e\"],[0.4444444444444444,\"#bd3786\"],[0.5555555555555556,\"#d8576b\"],[0.6666666666666666,\"#ed7953\"],[0.7777777777777778,\"#fb9f3a\"],[0.8888888888888888,\"#fdca26\"],[1.0,\"#f0f921\"]],\"type\":\"histogram2dcontour\"}],\"histogram2d\":[{\"colorbar\":{\"outlinewidth\":0,\"ticks\":\"\"},\"colorscale\":[[0.0,\"#0d0887\"],[0.1111111111111111,\"#46039f\"],[0.2222222222222222,\"#7201a8\"],[0.3333333333333333,\"#9c179e\"],[0.4444444444444444,\"#bd3786\"],[0.5555555555555556,\"#d8576b\"],[0.6666666666666666,\"#ed7953\"],[0.7777777777777778,\"#fb9f3a\"],[0.8888888888888888,\"#fdca26\"],[1.0,\"#f0f921\"]],\"type\":\"histogram2d\"}],\"histogram\":[{\"marker\":{\"pattern\":{\"fillmode\":\"overlay\",\"size\":10,\"solidity\":0.2}},\"type\":\"histogram\"}],\"mesh3d\":[{\"colorbar\":{\"outlinewidth\":0,\"ticks\":\"\"},\"type\":\"mesh3d\"}],\"parcoords\":[{\"line\":{\"colorbar\":{\"outlinewidth\":0,\"ticks\":\"\"}},\"type\":\"parcoords\"}],\"pie\":[{\"automargin\":true,\"type\":\"pie\"}],\"scatter3d\":[{\"line\":{\"colorbar\":{\"outlinewidth\":0,\"ticks\":\"\"}},\"marker\":{\"colorbar\":{\"outlinewidth\":0,\"ticks\":\"\"}},\"type\":\"scatter3d\"}],\"scattercarpet\":[{\"marker\":{\"colorbar\":{\"outlinewidth\":0,\"ticks\":\"\"}},\"type\":\"scattercarpet\"}],\"scattergeo\":[{\"marker\":{\"colorbar\":{\"outlinewidth\":0,\"ticks\":\"\"}},\"type\":\"scattergeo\"}],\"scattergl\":[{\"marker\":{\"colorbar\":{\"outlinewidth\":0,\"ticks\":\"\"}},\"type\":\"scattergl\"}],\"scattermapbox\":[{\"marker\":{\"colorbar\":{\"outlinewidth\":0,\"ticks\":\"\"}},\"type\":\"scattermapbox\"}],\"scatterpolargl\":[{\"marker\":{\"colorbar\":{\"outlinewidth\":0,\"ticks\":\"\"}},\"type\":\"scatterpolargl\"}],\"scatterpolar\":[{\"marker\":{\"colorbar\":{\"outlinewidth\":0,\"ticks\":\"\"}},\"type\":\"scatterpolar\"}],\"scatter\":[{\"marker\":{\"colorbar\":{\"outlinewidth\":0,\"ticks\":\"\"}},\"type\":\"scatter\"}],\"scatterternary\":[{\"marker\":{\"colorbar\":{\"outlinewidth\":0,\"ticks\":\"\"}},\"type\":\"scatterternary\"}],\"surface\":[{\"colorbar\":{\"outlinewidth\":0,\"ticks\":\"\"},\"colorscale\":[[0.0,\"#0d0887\"],[0.1111111111111111,\"#46039f\"],[0.2222222222222222,\"#7201a8\"],[0.3333333333333333,\"#9c179e\"],[0.4444444444444444,\"#bd3786\"],[0.5555555555555556,\"#d8576b\"],[0.6666666666666666,\"#ed7953\"],[0.7777777777777778,\"#fb9f3a\"],[0.8888888888888888,\"#fdca26\"],[1.0,\"#f0f921\"]],\"type\":\"surface\"}],\"table\":[{\"cells\":{\"fill\":{\"color\":\"#EBF0F8\"},\"line\":{\"color\":\"white\"}},\"header\":{\"fill\":{\"color\":\"#C8D4E3\"},\"line\":{\"color\":\"white\"}},\"type\":\"table\"}]},\"layout\":{\"annotationdefaults\":{\"arrowcolor\":\"#2a3f5f\",\"arrowhead\":0,\"arrowwidth\":1},\"autotypenumbers\":\"strict\",\"coloraxis\":{\"colorbar\":{\"outlinewidth\":0,\"ticks\":\"\"}},\"colorscale\":{\"diverging\":[[0,\"#8e0152\"],[0.1,\"#c51b7d\"],[0.2,\"#de77ae\"],[0.3,\"#f1b6da\"],[0.4,\"#fde0ef\"],[0.5,\"#f7f7f7\"],[0.6,\"#e6f5d0\"],[0.7,\"#b8e186\"],[0.8,\"#7fbc41\"],[0.9,\"#4d9221\"],[1,\"#276419\"]],\"sequential\":[[0.0,\"#0d0887\"],[0.1111111111111111,\"#46039f\"],[0.2222222222222222,\"#7201a8\"],[0.3333333333333333,\"#9c179e\"],[0.4444444444444444,\"#bd3786\"],[0.5555555555555556,\"#d8576b\"],[0.6666666666666666,\"#ed7953\"],[0.7777777777777778,\"#fb9f3a\"],[0.8888888888888888,\"#fdca26\"],[1.0,\"#f0f921\"]],\"sequentialminus\":[[0.0,\"#0d0887\"],[0.1111111111111111,\"#46039f\"],[0.2222222222222222,\"#7201a8\"],[0.3333333333333333,\"#9c179e\"],[0.4444444444444444,\"#bd3786\"],[0.5555555555555556,\"#d8576b\"],[0.6666666666666666,\"#ed7953\"],[0.7777777777777778,\"#fb9f3a\"],[0.8888888888888888,\"#fdca26\"],[1.0,\"#f0f921\"]]},\"colorway\":[\"#636efa\",\"#EF553B\",\"#00cc96\",\"#ab63fa\",\"#FFA15A\",\"#19d3f3\",\"#FF6692\",\"#B6E880\",\"#FF97FF\",\"#FECB52\"],\"font\":{\"color\":\"#2a3f5f\"},\"geo\":{\"bgcolor\":\"white\",\"lakecolor\":\"white\",\"landcolor\":\"#E5ECF6\",\"showlakes\":true,\"showland\":true,\"subunitcolor\":\"white\"},\"hoverlabel\":{\"align\":\"left\"},\"hovermode\":\"closest\",\"mapbox\":{\"style\":\"light\"},\"paper_bgcolor\":\"white\",\"plot_bgcolor\":\"#E5ECF6\",\"polar\":{\"angularaxis\":{\"gridcolor\":\"white\",\"linecolor\":\"white\",\"ticks\":\"\"},\"bgcolor\":\"#E5ECF6\",\"radialaxis\":{\"gridcolor\":\"white\",\"linecolor\":\"white\",\"ticks\":\"\"}},\"scene\":{\"xaxis\":{\"backgroundcolor\":\"#E5ECF6\",\"gridcolor\":\"white\",\"gridwidth\":2,\"linecolor\":\"white\",\"showbackground\":true,\"ticks\":\"\",\"zerolinecolor\":\"white\"},\"yaxis\":{\"backgroundcolor\":\"#E5ECF6\",\"gridcolor\":\"white\",\"gridwidth\":2,\"linecolor\":\"white\",\"showbackground\":true,\"ticks\":\"\",\"zerolinecolor\":\"white\"},\"zaxis\":{\"backgroundcolor\":\"#E5ECF6\",\"gridcolor\":\"white\",\"gridwidth\":2,\"linecolor\":\"white\",\"showbackground\":true,\"ticks\":\"\",\"zerolinecolor\":\"white\"}},\"shapedefaults\":{\"line\":{\"color\":\"#2a3f5f\"}},\"ternary\":{\"aaxis\":{\"gridcolor\":\"white\",\"linecolor\":\"white\",\"ticks\":\"\"},\"baxis\":{\"gridcolor\":\"white\",\"linecolor\":\"white\",\"ticks\":\"\"},\"bgcolor\":\"#E5ECF6\",\"caxis\":{\"gridcolor\":\"white\",\"linecolor\":\"white\",\"ticks\":\"\"}},\"title\":{\"x\":0.05},\"xaxis\":{\"automargin\":true,\"gridcolor\":\"white\",\"linecolor\":\"white\",\"ticks\":\"\",\"title\":{\"standoff\":15},\"zerolinecolor\":\"white\",\"zerolinewidth\":2},\"yaxis\":{\"automargin\":true,\"gridcolor\":\"white\",\"linecolor\":\"white\",\"ticks\":\"\",\"title\":{\"standoff\":15},\"zerolinecolor\":\"white\",\"zerolinewidth\":2}}},\"title\":{\"font\":{\"color\":\"#4D5663\"}},\"xaxis\":{\"gridcolor\":\"#E1E5ED\",\"showgrid\":true,\"tickfont\":{\"color\":\"#4D5663\"},\"title\":{\"font\":{\"color\":\"#4D5663\"},\"text\":\"\"},\"zerolinecolor\":\"#E1E5ED\"},\"yaxis\":{\"gridcolor\":\"#E1E5ED\",\"showgrid\":true,\"tickfont\":{\"color\":\"#4D5663\"},\"title\":{\"font\":{\"color\":\"#4D5663\"},\"text\":\"\"},\"zerolinecolor\":\"#E1E5ED\"}},                        {\"showLink\": true, \"linkText\": \"Export to plot.ly\", \"plotlyServerURL\": \"https://plot.ly\", \"responsive\": true}                    ).then(function(){\n",
       "                            \n",
       "var gd = document.getElementById('7102c1db-cd7e-4908-927c-01acf6510092');\n",
       "var x = new MutationObserver(function (mutations, observer) {{\n",
       "        var display = window.getComputedStyle(gd).display;\n",
       "        if (!display || display === 'none') {{\n",
       "            console.log([gd, 'removed!']);\n",
       "            Plotly.purge(gd);\n",
       "            observer.disconnect();\n",
       "        }}\n",
       "}});\n",
       "\n",
       "// Listen for the removal of the full notebook cells\n",
       "var notebookContainer = gd.closest('#notebook-container');\n",
       "if (notebookContainer) {{\n",
       "    x.observe(notebookContainer, {childList: true});\n",
       "}}\n",
       "\n",
       "// Listen for the clearing of the current output cell\n",
       "var outputEl = gd.closest('.output');\n",
       "if (outputEl) {{\n",
       "    x.observe(outputEl, {childList: true});\n",
       "}}\n",
       "\n",
       "                        })                };                });            </script>        </div>"
      ]
     },
     "metadata": {},
     "output_type": "display_data"
    }
   ],
   "source": [
    "df.iplot(kind='bubble',x='A',y='B',size='C')"
   ]
  },
  {
   "cell_type": "code",
   "execution_count": 92,
   "metadata": {},
   "outputs": [
    {
     "data": {
      "application/vnd.plotly.v1+json": {
       "config": {
        "linkText": "Export to plot.ly",
        "plotlyServerURL": "https://plot.ly",
        "showLink": true
       },
       "data": [
        {
         "histfunc": "count",
         "histnorm": "",
         "marker": {
          "color": "rgba(255, 153, 51, 1.0)",
          "line": {
           "color": "#4D5663",
           "width": 1.3
          }
         },
         "name": "A",
         "nbinsx": 10,
         "opacity": 0.8,
         "orientation": "v",
         "type": "histogram",
         "x": [
          -1.5470379470686257,
          -0.3866827505899728,
          0.05907767532625553,
          1.3528949385329836,
          -0.2446134380889313,
          -2.406380574789591,
          -0.2816288308863832,
          0.4275053609457478,
          -0.5819392334941368,
          0.7569495452421476,
          0.6453177603325179,
          0.57422805107268,
          1.3148995288538112,
          0.220666189826017,
          -0.2839870046920182,
          0.7140778562736044,
          1.2652541519683163,
          -0.5332706279507585,
          -1.99742682090396,
          0.4405887301243418,
          1.6892743646745116,
          -0.19165751288169328,
          0.5104035641178164,
          1.3803225460438007,
          0.16703348752209532,
          -0.285872723137153,
          -0.2049482645233315,
          -0.6179469943011561,
          0.6032652329988165,
          0.05057590325797419,
          -1.3294185799763285,
          0.578716171231639,
          -1.6111718252564509,
          -0.7525916016188796,
          0.8249183497350251,
          -0.015267594448878615,
          -2.0692673026355326,
          0.6428908175911534,
          1.7655572451119899,
          2.031329227063635,
          -1.466347474243045,
          1.6401369002649178,
          -0.34019045909674234,
          0.8635745180435763,
          -0.41744886551989835,
          -0.10163440297958373,
          0.7703425064697068,
          1.4689212890171626,
          -0.23433370060897665,
          -1.3258769200955578,
          -1.1718941254219373,
          0.801932550048809,
          1.448807734284354,
          0.9847030866880221,
          0.3376184172512405,
          -1.5242713825393606,
          0.7027628372435865,
          -0.2791683192032702,
          0.020488303009922777,
          0.820619688063049,
          -0.36218158301404263,
          0.14617037002964653,
          1.6718586124907957,
          0.6705673605246165,
          0.27828495652272867,
          0.20926566932783422,
          -1.9184096983655765,
          -0.6402371208591136,
          -0.08170770033706065,
          -0.06808155063387622,
          -1.38010522374821,
          0.39561517267437496,
          0.7531494990024865,
          -0.6283031170433298,
          -1.8242056728883924,
          0.9256295159513197,
          1.2767649316415697,
          0.18525786624729326,
          0.5745200766324614,
          0.8337022049758677,
          -0.3243762742733441,
          0.4824787010648017,
          -0.1608409373329267,
          1.8793431047865878,
          0.3314905561931448,
          -0.29036873392865464,
          0.7482402104538096,
          0.49709639164898334,
          0.21495382334267585,
          1.0208806180216834,
          -0.03170735862101034,
          -2.5312495750725925,
          2.1046549936147385,
          -0.1046128281488064,
          -0.3285804840215899,
          0.24177836912715794,
          0.05569559765452582,
          -0.762999801993306,
          -0.6164640215496762,
          -1.8421776428608174
         ],
         "xaxis": "x",
         "yaxis": "y"
        },
        {
         "line": {
          "color": "rgba(128, 128, 128, 1.0)",
          "dash": "solid",
          "shape": "linear",
          "width": 1.3
         },
         "marker": {
          "size": 2,
          "symbol": "circle"
         },
         "mode": "markers",
         "name": "A",
         "text": "",
         "type": "scatter",
         "x": [
          -0.17932026330190684,
          0.34198544751858234,
          -1.2713269129457325,
          0.0016652786409217964,
          1.4803864821833077,
          -0.2836750888514914,
          -1.4155538362514601,
          -0.5739661271236048,
          -0.35744198935824456,
          -0.8994230904876396,
          0.6991253544572609,
          -0.874793148785467,
          -0.39153074019047707,
          -0.880394830638912,
          0.4995926613587126,
          0.6293698296553195,
          1.3544469494098934,
          0.4810071047022162,
          -0.40595170495224314,
          0.09622342847254901,
          0.43681638785495297,
          -0.7536552634789734,
          0.46515551350074097,
          -0.4107904278107822,
          -0.667536213298158,
          -0.644002357567441,
          0.3279416680591974,
          -0.35640426241977324,
          0.7192398636967984,
          -0.3544851170731683,
          0.08830059864042557,
          0.030758743727376085,
          0.8935198532569544,
          0.3892696875617487,
          0.3237375347818951,
          0.6041497331006355,
          -0.40400232746982956,
          1.8468632501683382,
          -0.029077327946170142,
          0.25908762161059545,
          0.8679450620220365,
          0.967081274178919,
          1.80357447518855,
          0.7548651304368754,
          -0.5513298895031992,
          1.3705646354783096,
          0.8589382061452533,
          -1.0947470720924772,
          0.765715570102174,
          0.2385720284350847,
          -0.5320081762202075,
          -2.1047278011907666,
          -0.22838874539262682,
          -1.0758351304521767,
          0.6994286964722767,
          1.1983555883520542,
          1.8709137281616257,
          0.3346340175992276,
          1.179301597937332,
          -1.9309090060954557,
          -1.0881323911298968,
          0.0925198558216795,
          -0.6780781717104581,
          0.6074641297220856,
          1.0533655951830938,
          0.8330378584588016,
          -0.5385028983342077,
          -1.5582948613417311,
          0.5633831011807973,
          0.296668625167125,
          -0.9065113935632445,
          -0.21770298654540515,
          -0.18554362127577312,
          0.8460395539141479,
          -0.06587075962834432,
          -1.3271566677311997,
          0.25495202389316673,
          -0.6747528477615352,
          -1.435892609276357,
          -0.960122176589752,
          -0.3454127480759408,
          0.4072393867432423,
          -1.338046384045666,
          0.5103799524326336,
          1.4224780373575563,
          0.5088221930699162,
          0.03356517523728443,
          0.45970454247660264,
          1.2459543043789276,
          0.2505549812457923,
          0.259785611079415,
          0.5130794204738841,
          2.8931347231761175,
          -0.08760616578299192,
          -1.1963390674150716,
          0.8284380378357371,
          1.0897731639265282,
          3.2145514299528397,
          0.5444588734985717,
          -1.5142056829390005
         ],
         "xaxis": "x2",
         "y": [
          -1.5470379470686257,
          -0.3866827505899728,
          0.05907767532625553,
          1.3528949385329836,
          -0.2446134380889313,
          -2.406380574789591,
          -0.2816288308863832,
          0.4275053609457478,
          -0.5819392334941368,
          0.7569495452421476,
          0.6453177603325179,
          0.57422805107268,
          1.3148995288538112,
          0.220666189826017,
          -0.2839870046920182,
          0.7140778562736044,
          1.2652541519683163,
          -0.5332706279507585,
          -1.99742682090396,
          0.4405887301243418,
          1.6892743646745116,
          -0.19165751288169328,
          0.5104035641178164,
          1.3803225460438007,
          0.16703348752209532,
          -0.285872723137153,
          -0.2049482645233315,
          -0.6179469943011561,
          0.6032652329988165,
          0.05057590325797419,
          -1.3294185799763285,
          0.578716171231639,
          -1.6111718252564509,
          -0.7525916016188796,
          0.8249183497350251,
          -0.015267594448878615,
          -2.0692673026355326,
          0.6428908175911534,
          1.7655572451119899,
          2.031329227063635,
          -1.466347474243045,
          1.6401369002649178,
          -0.34019045909674234,
          0.8635745180435763,
          -0.41744886551989835,
          -0.10163440297958373,
          0.7703425064697068,
          1.4689212890171626,
          -0.23433370060897665,
          -1.3258769200955578,
          -1.1718941254219373,
          0.801932550048809,
          1.448807734284354,
          0.9847030866880221,
          0.3376184172512405,
          -1.5242713825393606,
          0.7027628372435865,
          -0.2791683192032702,
          0.020488303009922777,
          0.820619688063049,
          -0.36218158301404263,
          0.14617037002964653,
          1.6718586124907957,
          0.6705673605246165,
          0.27828495652272867,
          0.20926566932783422,
          -1.9184096983655765,
          -0.6402371208591136,
          -0.08170770033706065,
          -0.06808155063387622,
          -1.38010522374821,
          0.39561517267437496,
          0.7531494990024865,
          -0.6283031170433298,
          -1.8242056728883924,
          0.9256295159513197,
          1.2767649316415697,
          0.18525786624729326,
          0.5745200766324614,
          0.8337022049758677,
          -0.3243762742733441,
          0.4824787010648017,
          -0.1608409373329267,
          1.8793431047865878,
          0.3314905561931448,
          -0.29036873392865464,
          0.7482402104538096,
          0.49709639164898334,
          0.21495382334267585,
          1.0208806180216834,
          -0.03170735862101034,
          -2.5312495750725925,
          2.1046549936147385,
          -0.1046128281488064,
          -0.3285804840215899,
          0.24177836912715794,
          0.05569559765452582,
          -0.762999801993306,
          -0.6164640215496762,
          -1.8421776428608174
         ],
         "yaxis": "y2"
        },
        {
         "line": {
          "color": "rgba(128, 128, 128, 1.0)",
          "dash": "solid",
          "shape": "linear",
          "width": 1.3
         },
         "marker": {
          "size": 2,
          "symbol": "circle"
         },
         "mode": "markers",
         "name": "A",
         "text": "",
         "type": "scatter",
         "x": [
          -0.8827337164904582,
          -1.8364531539319333,
          0.8082687682781682,
          0.6289536187563297,
          0.13738826055039535,
          -0.48702056371183133,
          -0.4662976847342923,
          -0.7015128306413758,
          -2.075792831188183,
          1.1176300474724994,
          0.9671408679228939,
          0.3868725572827184,
          1.2346153433668805,
          -0.9703164223331473,
          1.9817729912124495,
          -0.7776807674549705,
          1.0904074274491107,
          0.10563209017692979,
          -1.5907909212167808,
          1.0082636128241178,
          -0.3353296165270854,
          -0.7591345840064578,
          0.7742601105711353,
          1.1467958848004252,
          0.9200633767725459,
          0.7346362265663221,
          -0.8139337677173419,
          -0.5546883808219134,
          0.2764431453193479,
          -0.95215237627935,
          -0.07095272199313353,
          -0.520697352733301,
          -0.4340839633081928,
          -1.0466663533478058,
          1.2543681127605029,
          0.8666311142299339,
          -0.3518608740488995,
          -0.43880066086130814,
          0.42178024324125096,
          1.299203464296593,
          -0.15407331280936215,
          -0.6075954511987632,
          -0.31243377106445835,
          -0.3299566935335466,
          -0.8873057264322378,
          0.04679665624628326,
          -0.12976410822364787,
          0.6617216984182405,
          0.2677726756401323,
          0.36854030491480244,
          1.0834360202988516,
          -0.5358001827681771,
          1.3566403293736051,
          1.3232084208589134,
          -0.9200288536262442,
          0.4035164337882321,
          1.457756930269989,
          -0.48177075689597204,
          -0.10253003630182166,
          -1.1087611194830596,
          1.2405184299530734,
          -1.1613026903681023,
          -0.21807727298806873,
          2.073990265406395,
          -0.12142871305310494,
          -1.130168455585731,
          0.6737067936121557,
          -0.5226892924994307,
          0.9439193803151366,
          -0.9443041315154184,
          -0.5173949214588162,
          0.35076467768349945,
          -0.1268157260701168,
          1.5232667086176082,
          -0.42512384149961735,
          -1.2916065855294245,
          -0.2895713037165531,
          0.5519442699233186,
          1.6307332488054225,
          0.49046965386208186,
          -1.5335496821072878,
          -0.4633643003770435,
          -0.7016934868574808,
          -0.2487663579333527,
          0.31110876877089483,
          -1.7132404041523144,
          1.057646417962785,
          -0.1528239791025941,
          -0.699145591330207,
          -1.7823629346489065,
          -0.11037143237132825,
          0.5125188565494171,
          0.4533917864601765,
          -0.6654675164735756,
          1.6813259994038556,
          -0.995626301686294,
          0.484448176581966,
          -0.9251656585866519,
          -0.41487414299947856,
          1.3509865271705759
         ],
         "xaxis": "x3",
         "y": [
          -1.5470379470686257,
          -0.3866827505899728,
          0.05907767532625553,
          1.3528949385329836,
          -0.2446134380889313,
          -2.406380574789591,
          -0.2816288308863832,
          0.4275053609457478,
          -0.5819392334941368,
          0.7569495452421476,
          0.6453177603325179,
          0.57422805107268,
          1.3148995288538112,
          0.220666189826017,
          -0.2839870046920182,
          0.7140778562736044,
          1.2652541519683163,
          -0.5332706279507585,
          -1.99742682090396,
          0.4405887301243418,
          1.6892743646745116,
          -0.19165751288169328,
          0.5104035641178164,
          1.3803225460438007,
          0.16703348752209532,
          -0.285872723137153,
          -0.2049482645233315,
          -0.6179469943011561,
          0.6032652329988165,
          0.05057590325797419,
          -1.3294185799763285,
          0.578716171231639,
          -1.6111718252564509,
          -0.7525916016188796,
          0.8249183497350251,
          -0.015267594448878615,
          -2.0692673026355326,
          0.6428908175911534,
          1.7655572451119899,
          2.031329227063635,
          -1.466347474243045,
          1.6401369002649178,
          -0.34019045909674234,
          0.8635745180435763,
          -0.41744886551989835,
          -0.10163440297958373,
          0.7703425064697068,
          1.4689212890171626,
          -0.23433370060897665,
          -1.3258769200955578,
          -1.1718941254219373,
          0.801932550048809,
          1.448807734284354,
          0.9847030866880221,
          0.3376184172512405,
          -1.5242713825393606,
          0.7027628372435865,
          -0.2791683192032702,
          0.020488303009922777,
          0.820619688063049,
          -0.36218158301404263,
          0.14617037002964653,
          1.6718586124907957,
          0.6705673605246165,
          0.27828495652272867,
          0.20926566932783422,
          -1.9184096983655765,
          -0.6402371208591136,
          -0.08170770033706065,
          -0.06808155063387622,
          -1.38010522374821,
          0.39561517267437496,
          0.7531494990024865,
          -0.6283031170433298,
          -1.8242056728883924,
          0.9256295159513197,
          1.2767649316415697,
          0.18525786624729326,
          0.5745200766324614,
          0.8337022049758677,
          -0.3243762742733441,
          0.4824787010648017,
          -0.1608409373329267,
          1.8793431047865878,
          0.3314905561931448,
          -0.29036873392865464,
          0.7482402104538096,
          0.49709639164898334,
          0.21495382334267585,
          1.0208806180216834,
          -0.03170735862101034,
          -2.5312495750725925,
          2.1046549936147385,
          -0.1046128281488064,
          -0.3285804840215899,
          0.24177836912715794,
          0.05569559765452582,
          -0.762999801993306,
          -0.6164640215496762,
          -1.8421776428608174
         ],
         "yaxis": "y3"
        },
        {
         "line": {
          "color": "rgba(128, 128, 128, 1.0)",
          "dash": "solid",
          "shape": "linear",
          "width": 1.3
         },
         "marker": {
          "size": 2,
          "symbol": "circle"
         },
         "mode": "markers",
         "name": "A",
         "text": "",
         "type": "scatter",
         "x": [
          -0.6920880206110122,
          -1.1528187877583664,
          0.5086136006525542,
          -0.3215793850236674,
          -1.394860954443431,
          0.8898543007611304,
          0.6766517919690216,
          1.2415891437981637,
          0.5749645946153426,
          0.8191522907746716,
          -1.3401567878568013,
          0.004138571752962983,
          1.9727662152133698,
          1.7100298800610687,
          0.7905135404134748,
          0.5035795302927593,
          -0.6426516642396118,
          0.6107854330514066,
          0.10928182793825748,
          1.1501642674489254,
          -2.4740487192674028,
          -0.43881799465043336,
          -0.8094019886420079,
          -0.31202726037660966,
          -0.2236736738974433,
          -1.3740994147648478,
          -0.24299560216202182,
          0.32179333878077643,
          0.48952220272470165,
          0.1242364926299338,
          0.6655346523272315,
          0.2335595973186929,
          -1.3979047777316438,
          -1.1861224414071925,
          -0.11470463861534105,
          0.888977369121416,
          0.19762432272577532,
          -0.911490070227444,
          0.42138513877796047,
          -1.2392259969612873,
          -0.42396337197608314,
          -0.8040254949941189,
          0.5246503673076683,
          0.6174376551293572,
          0.6667732964950027,
          -1.624315511280616,
          -0.7009900507939105,
          -0.7566895336475554,
          0.4228153655438361,
          -0.4921515625061394,
          -0.28024629047864485,
          -0.015140262941474195,
          1.2599427979153641,
          0.5190923874462334,
          0.05096023773849388,
          1.323901428598727,
          1.548038022029308,
          -0.8155899694131572,
          0.9399055199142157,
          0.07432006820395431,
          1.0041698831027674,
          -1.20750103555811,
          0.859700286664465,
          -0.28205347737206277,
          -0.30401620740514995,
          0.16367012099450978,
          -1.2584412572551649,
          -0.325827150091203,
          -1.7999396554564284,
          -0.20307309104609228,
          -1.1442481553192654,
          0.653286239947092,
          0.07516392687232953,
          0.7521899316131974,
          0.5260372458993744,
          -1.395226916488713,
          0.9921908967238827,
          1.2418292779657578,
          -0.1539017470993894,
          0.7373886256861507,
          0.38834918020664827,
          0.2362135412776182,
          0.0115188899390858,
          -1.6415807833383291,
          1.8233714094438518,
          -0.02860208451841463,
          0.9508625218057386,
          -1.4221906894981022,
          0.43956758103632954,
          0.3276390633566963,
          0.5591093211320485,
          2.0975676475011604,
          0.5114912158185853,
          1.0926954349320122,
          0.09089460843272662,
          -0.07754270763857592,
          -0.23416245302275307,
          1.013785139194283,
          1.3047201740780954,
          0.02289887280392105
         ],
         "xaxis": "x4",
         "y": [
          -1.5470379470686257,
          -0.3866827505899728,
          0.05907767532625553,
          1.3528949385329836,
          -0.2446134380889313,
          -2.406380574789591,
          -0.2816288308863832,
          0.4275053609457478,
          -0.5819392334941368,
          0.7569495452421476,
          0.6453177603325179,
          0.57422805107268,
          1.3148995288538112,
          0.220666189826017,
          -0.2839870046920182,
          0.7140778562736044,
          1.2652541519683163,
          -0.5332706279507585,
          -1.99742682090396,
          0.4405887301243418,
          1.6892743646745116,
          -0.19165751288169328,
          0.5104035641178164,
          1.3803225460438007,
          0.16703348752209532,
          -0.285872723137153,
          -0.2049482645233315,
          -0.6179469943011561,
          0.6032652329988165,
          0.05057590325797419,
          -1.3294185799763285,
          0.578716171231639,
          -1.6111718252564509,
          -0.7525916016188796,
          0.8249183497350251,
          -0.015267594448878615,
          -2.0692673026355326,
          0.6428908175911534,
          1.7655572451119899,
          2.031329227063635,
          -1.466347474243045,
          1.6401369002649178,
          -0.34019045909674234,
          0.8635745180435763,
          -0.41744886551989835,
          -0.10163440297958373,
          0.7703425064697068,
          1.4689212890171626,
          -0.23433370060897665,
          -1.3258769200955578,
          -1.1718941254219373,
          0.801932550048809,
          1.448807734284354,
          0.9847030866880221,
          0.3376184172512405,
          -1.5242713825393606,
          0.7027628372435865,
          -0.2791683192032702,
          0.020488303009922777,
          0.820619688063049,
          -0.36218158301404263,
          0.14617037002964653,
          1.6718586124907957,
          0.6705673605246165,
          0.27828495652272867,
          0.20926566932783422,
          -1.9184096983655765,
          -0.6402371208591136,
          -0.08170770033706065,
          -0.06808155063387622,
          -1.38010522374821,
          0.39561517267437496,
          0.7531494990024865,
          -0.6283031170433298,
          -1.8242056728883924,
          0.9256295159513197,
          1.2767649316415697,
          0.18525786624729326,
          0.5745200766324614,
          0.8337022049758677,
          -0.3243762742733441,
          0.4824787010648017,
          -0.1608409373329267,
          1.8793431047865878,
          0.3314905561931448,
          -0.29036873392865464,
          0.7482402104538096,
          0.49709639164898334,
          0.21495382334267585,
          1.0208806180216834,
          -0.03170735862101034,
          -2.5312495750725925,
          2.1046549936147385,
          -0.1046128281488064,
          -0.3285804840215899,
          0.24177836912715794,
          0.05569559765452582,
          -0.762999801993306,
          -0.6164640215496762,
          -1.8421776428608174
         ],
         "yaxis": "y4"
        },
        {
         "line": {
          "color": "rgba(128, 128, 128, 1.0)",
          "dash": "solid",
          "shape": "linear",
          "width": 1.3
         },
         "marker": {
          "size": 2,
          "symbol": "circle"
         },
         "mode": "markers",
         "name": "B",
         "text": "",
         "type": "scatter",
         "x": [
          -1.5470379470686257,
          -0.3866827505899728,
          0.05907767532625553,
          1.3528949385329836,
          -0.2446134380889313,
          -2.406380574789591,
          -0.2816288308863832,
          0.4275053609457478,
          -0.5819392334941368,
          0.7569495452421476,
          0.6453177603325179,
          0.57422805107268,
          1.3148995288538112,
          0.220666189826017,
          -0.2839870046920182,
          0.7140778562736044,
          1.2652541519683163,
          -0.5332706279507585,
          -1.99742682090396,
          0.4405887301243418,
          1.6892743646745116,
          -0.19165751288169328,
          0.5104035641178164,
          1.3803225460438007,
          0.16703348752209532,
          -0.285872723137153,
          -0.2049482645233315,
          -0.6179469943011561,
          0.6032652329988165,
          0.05057590325797419,
          -1.3294185799763285,
          0.578716171231639,
          -1.6111718252564509,
          -0.7525916016188796,
          0.8249183497350251,
          -0.015267594448878615,
          -2.0692673026355326,
          0.6428908175911534,
          1.7655572451119899,
          2.031329227063635,
          -1.466347474243045,
          1.6401369002649178,
          -0.34019045909674234,
          0.8635745180435763,
          -0.41744886551989835,
          -0.10163440297958373,
          0.7703425064697068,
          1.4689212890171626,
          -0.23433370060897665,
          -1.3258769200955578,
          -1.1718941254219373,
          0.801932550048809,
          1.448807734284354,
          0.9847030866880221,
          0.3376184172512405,
          -1.5242713825393606,
          0.7027628372435865,
          -0.2791683192032702,
          0.020488303009922777,
          0.820619688063049,
          -0.36218158301404263,
          0.14617037002964653,
          1.6718586124907957,
          0.6705673605246165,
          0.27828495652272867,
          0.20926566932783422,
          -1.9184096983655765,
          -0.6402371208591136,
          -0.08170770033706065,
          -0.06808155063387622,
          -1.38010522374821,
          0.39561517267437496,
          0.7531494990024865,
          -0.6283031170433298,
          -1.8242056728883924,
          0.9256295159513197,
          1.2767649316415697,
          0.18525786624729326,
          0.5745200766324614,
          0.8337022049758677,
          -0.3243762742733441,
          0.4824787010648017,
          -0.1608409373329267,
          1.8793431047865878,
          0.3314905561931448,
          -0.29036873392865464,
          0.7482402104538096,
          0.49709639164898334,
          0.21495382334267585,
          1.0208806180216834,
          -0.03170735862101034,
          -2.5312495750725925,
          2.1046549936147385,
          -0.1046128281488064,
          -0.3285804840215899,
          0.24177836912715794,
          0.05569559765452582,
          -0.762999801993306,
          -0.6164640215496762,
          -1.8421776428608174
         ],
         "xaxis": "x5",
         "y": [
          -0.17932026330190684,
          0.34198544751858234,
          -1.2713269129457325,
          0.0016652786409217964,
          1.4803864821833077,
          -0.2836750888514914,
          -1.4155538362514601,
          -0.5739661271236048,
          -0.35744198935824456,
          -0.8994230904876396,
          0.6991253544572609,
          -0.874793148785467,
          -0.39153074019047707,
          -0.880394830638912,
          0.4995926613587126,
          0.6293698296553195,
          1.3544469494098934,
          0.4810071047022162,
          -0.40595170495224314,
          0.09622342847254901,
          0.43681638785495297,
          -0.7536552634789734,
          0.46515551350074097,
          -0.4107904278107822,
          -0.667536213298158,
          -0.644002357567441,
          0.3279416680591974,
          -0.35640426241977324,
          0.7192398636967984,
          -0.3544851170731683,
          0.08830059864042557,
          0.030758743727376085,
          0.8935198532569544,
          0.3892696875617487,
          0.3237375347818951,
          0.6041497331006355,
          -0.40400232746982956,
          1.8468632501683382,
          -0.029077327946170142,
          0.25908762161059545,
          0.8679450620220365,
          0.967081274178919,
          1.80357447518855,
          0.7548651304368754,
          -0.5513298895031992,
          1.3705646354783096,
          0.8589382061452533,
          -1.0947470720924772,
          0.765715570102174,
          0.2385720284350847,
          -0.5320081762202075,
          -2.1047278011907666,
          -0.22838874539262682,
          -1.0758351304521767,
          0.6994286964722767,
          1.1983555883520542,
          1.8709137281616257,
          0.3346340175992276,
          1.179301597937332,
          -1.9309090060954557,
          -1.0881323911298968,
          0.0925198558216795,
          -0.6780781717104581,
          0.6074641297220856,
          1.0533655951830938,
          0.8330378584588016,
          -0.5385028983342077,
          -1.5582948613417311,
          0.5633831011807973,
          0.296668625167125,
          -0.9065113935632445,
          -0.21770298654540515,
          -0.18554362127577312,
          0.8460395539141479,
          -0.06587075962834432,
          -1.3271566677311997,
          0.25495202389316673,
          -0.6747528477615352,
          -1.435892609276357,
          -0.960122176589752,
          -0.3454127480759408,
          0.4072393867432423,
          -1.338046384045666,
          0.5103799524326336,
          1.4224780373575563,
          0.5088221930699162,
          0.03356517523728443,
          0.45970454247660264,
          1.2459543043789276,
          0.2505549812457923,
          0.259785611079415,
          0.5130794204738841,
          2.8931347231761175,
          -0.08760616578299192,
          -1.1963390674150716,
          0.8284380378357371,
          1.0897731639265282,
          3.2145514299528397,
          0.5444588734985717,
          -1.5142056829390005
         ],
         "yaxis": "y5"
        },
        {
         "histfunc": "count",
         "histnorm": "",
         "marker": {
          "color": "rgba(55, 128, 191, 1.0)",
          "line": {
           "color": "#4D5663",
           "width": 1.3
          }
         },
         "name": "B",
         "nbinsx": 10,
         "opacity": 0.8,
         "orientation": "v",
         "type": "histogram",
         "x": [
          -0.17932026330190684,
          0.34198544751858234,
          -1.2713269129457325,
          0.0016652786409217964,
          1.4803864821833077,
          -0.2836750888514914,
          -1.4155538362514601,
          -0.5739661271236048,
          -0.35744198935824456,
          -0.8994230904876396,
          0.6991253544572609,
          -0.874793148785467,
          -0.39153074019047707,
          -0.880394830638912,
          0.4995926613587126,
          0.6293698296553195,
          1.3544469494098934,
          0.4810071047022162,
          -0.40595170495224314,
          0.09622342847254901,
          0.43681638785495297,
          -0.7536552634789734,
          0.46515551350074097,
          -0.4107904278107822,
          -0.667536213298158,
          -0.644002357567441,
          0.3279416680591974,
          -0.35640426241977324,
          0.7192398636967984,
          -0.3544851170731683,
          0.08830059864042557,
          0.030758743727376085,
          0.8935198532569544,
          0.3892696875617487,
          0.3237375347818951,
          0.6041497331006355,
          -0.40400232746982956,
          1.8468632501683382,
          -0.029077327946170142,
          0.25908762161059545,
          0.8679450620220365,
          0.967081274178919,
          1.80357447518855,
          0.7548651304368754,
          -0.5513298895031992,
          1.3705646354783096,
          0.8589382061452533,
          -1.0947470720924772,
          0.765715570102174,
          0.2385720284350847,
          -0.5320081762202075,
          -2.1047278011907666,
          -0.22838874539262682,
          -1.0758351304521767,
          0.6994286964722767,
          1.1983555883520542,
          1.8709137281616257,
          0.3346340175992276,
          1.179301597937332,
          -1.9309090060954557,
          -1.0881323911298968,
          0.0925198558216795,
          -0.6780781717104581,
          0.6074641297220856,
          1.0533655951830938,
          0.8330378584588016,
          -0.5385028983342077,
          -1.5582948613417311,
          0.5633831011807973,
          0.296668625167125,
          -0.9065113935632445,
          -0.21770298654540515,
          -0.18554362127577312,
          0.8460395539141479,
          -0.06587075962834432,
          -1.3271566677311997,
          0.25495202389316673,
          -0.6747528477615352,
          -1.435892609276357,
          -0.960122176589752,
          -0.3454127480759408,
          0.4072393867432423,
          -1.338046384045666,
          0.5103799524326336,
          1.4224780373575563,
          0.5088221930699162,
          0.03356517523728443,
          0.45970454247660264,
          1.2459543043789276,
          0.2505549812457923,
          0.259785611079415,
          0.5130794204738841,
          2.8931347231761175,
          -0.08760616578299192,
          -1.1963390674150716,
          0.8284380378357371,
          1.0897731639265282,
          3.2145514299528397,
          0.5444588734985717,
          -1.5142056829390005
         ],
         "xaxis": "x6",
         "yaxis": "y6"
        },
        {
         "line": {
          "color": "rgba(128, 128, 128, 1.0)",
          "dash": "solid",
          "shape": "linear",
          "width": 1.3
         },
         "marker": {
          "size": 2,
          "symbol": "circle"
         },
         "mode": "markers",
         "name": "B",
         "text": "",
         "type": "scatter",
         "x": [
          -0.8827337164904582,
          -1.8364531539319333,
          0.8082687682781682,
          0.6289536187563297,
          0.13738826055039535,
          -0.48702056371183133,
          -0.4662976847342923,
          -0.7015128306413758,
          -2.075792831188183,
          1.1176300474724994,
          0.9671408679228939,
          0.3868725572827184,
          1.2346153433668805,
          -0.9703164223331473,
          1.9817729912124495,
          -0.7776807674549705,
          1.0904074274491107,
          0.10563209017692979,
          -1.5907909212167808,
          1.0082636128241178,
          -0.3353296165270854,
          -0.7591345840064578,
          0.7742601105711353,
          1.1467958848004252,
          0.9200633767725459,
          0.7346362265663221,
          -0.8139337677173419,
          -0.5546883808219134,
          0.2764431453193479,
          -0.95215237627935,
          -0.07095272199313353,
          -0.520697352733301,
          -0.4340839633081928,
          -1.0466663533478058,
          1.2543681127605029,
          0.8666311142299339,
          -0.3518608740488995,
          -0.43880066086130814,
          0.42178024324125096,
          1.299203464296593,
          -0.15407331280936215,
          -0.6075954511987632,
          -0.31243377106445835,
          -0.3299566935335466,
          -0.8873057264322378,
          0.04679665624628326,
          -0.12976410822364787,
          0.6617216984182405,
          0.2677726756401323,
          0.36854030491480244,
          1.0834360202988516,
          -0.5358001827681771,
          1.3566403293736051,
          1.3232084208589134,
          -0.9200288536262442,
          0.4035164337882321,
          1.457756930269989,
          -0.48177075689597204,
          -0.10253003630182166,
          -1.1087611194830596,
          1.2405184299530734,
          -1.1613026903681023,
          -0.21807727298806873,
          2.073990265406395,
          -0.12142871305310494,
          -1.130168455585731,
          0.6737067936121557,
          -0.5226892924994307,
          0.9439193803151366,
          -0.9443041315154184,
          -0.5173949214588162,
          0.35076467768349945,
          -0.1268157260701168,
          1.5232667086176082,
          -0.42512384149961735,
          -1.2916065855294245,
          -0.2895713037165531,
          0.5519442699233186,
          1.6307332488054225,
          0.49046965386208186,
          -1.5335496821072878,
          -0.4633643003770435,
          -0.7016934868574808,
          -0.2487663579333527,
          0.31110876877089483,
          -1.7132404041523144,
          1.057646417962785,
          -0.1528239791025941,
          -0.699145591330207,
          -1.7823629346489065,
          -0.11037143237132825,
          0.5125188565494171,
          0.4533917864601765,
          -0.6654675164735756,
          1.6813259994038556,
          -0.995626301686294,
          0.484448176581966,
          -0.9251656585866519,
          -0.41487414299947856,
          1.3509865271705759
         ],
         "xaxis": "x7",
         "y": [
          -0.17932026330190684,
          0.34198544751858234,
          -1.2713269129457325,
          0.0016652786409217964,
          1.4803864821833077,
          -0.2836750888514914,
          -1.4155538362514601,
          -0.5739661271236048,
          -0.35744198935824456,
          -0.8994230904876396,
          0.6991253544572609,
          -0.874793148785467,
          -0.39153074019047707,
          -0.880394830638912,
          0.4995926613587126,
          0.6293698296553195,
          1.3544469494098934,
          0.4810071047022162,
          -0.40595170495224314,
          0.09622342847254901,
          0.43681638785495297,
          -0.7536552634789734,
          0.46515551350074097,
          -0.4107904278107822,
          -0.667536213298158,
          -0.644002357567441,
          0.3279416680591974,
          -0.35640426241977324,
          0.7192398636967984,
          -0.3544851170731683,
          0.08830059864042557,
          0.030758743727376085,
          0.8935198532569544,
          0.3892696875617487,
          0.3237375347818951,
          0.6041497331006355,
          -0.40400232746982956,
          1.8468632501683382,
          -0.029077327946170142,
          0.25908762161059545,
          0.8679450620220365,
          0.967081274178919,
          1.80357447518855,
          0.7548651304368754,
          -0.5513298895031992,
          1.3705646354783096,
          0.8589382061452533,
          -1.0947470720924772,
          0.765715570102174,
          0.2385720284350847,
          -0.5320081762202075,
          -2.1047278011907666,
          -0.22838874539262682,
          -1.0758351304521767,
          0.6994286964722767,
          1.1983555883520542,
          1.8709137281616257,
          0.3346340175992276,
          1.179301597937332,
          -1.9309090060954557,
          -1.0881323911298968,
          0.0925198558216795,
          -0.6780781717104581,
          0.6074641297220856,
          1.0533655951830938,
          0.8330378584588016,
          -0.5385028983342077,
          -1.5582948613417311,
          0.5633831011807973,
          0.296668625167125,
          -0.9065113935632445,
          -0.21770298654540515,
          -0.18554362127577312,
          0.8460395539141479,
          -0.06587075962834432,
          -1.3271566677311997,
          0.25495202389316673,
          -0.6747528477615352,
          -1.435892609276357,
          -0.960122176589752,
          -0.3454127480759408,
          0.4072393867432423,
          -1.338046384045666,
          0.5103799524326336,
          1.4224780373575563,
          0.5088221930699162,
          0.03356517523728443,
          0.45970454247660264,
          1.2459543043789276,
          0.2505549812457923,
          0.259785611079415,
          0.5130794204738841,
          2.8931347231761175,
          -0.08760616578299192,
          -1.1963390674150716,
          0.8284380378357371,
          1.0897731639265282,
          3.2145514299528397,
          0.5444588734985717,
          -1.5142056829390005
         ],
         "yaxis": "y7"
        },
        {
         "line": {
          "color": "rgba(128, 128, 128, 1.0)",
          "dash": "solid",
          "shape": "linear",
          "width": 1.3
         },
         "marker": {
          "size": 2,
          "symbol": "circle"
         },
         "mode": "markers",
         "name": "B",
         "text": "",
         "type": "scatter",
         "x": [
          -0.6920880206110122,
          -1.1528187877583664,
          0.5086136006525542,
          -0.3215793850236674,
          -1.394860954443431,
          0.8898543007611304,
          0.6766517919690216,
          1.2415891437981637,
          0.5749645946153426,
          0.8191522907746716,
          -1.3401567878568013,
          0.004138571752962983,
          1.9727662152133698,
          1.7100298800610687,
          0.7905135404134748,
          0.5035795302927593,
          -0.6426516642396118,
          0.6107854330514066,
          0.10928182793825748,
          1.1501642674489254,
          -2.4740487192674028,
          -0.43881799465043336,
          -0.8094019886420079,
          -0.31202726037660966,
          -0.2236736738974433,
          -1.3740994147648478,
          -0.24299560216202182,
          0.32179333878077643,
          0.48952220272470165,
          0.1242364926299338,
          0.6655346523272315,
          0.2335595973186929,
          -1.3979047777316438,
          -1.1861224414071925,
          -0.11470463861534105,
          0.888977369121416,
          0.19762432272577532,
          -0.911490070227444,
          0.42138513877796047,
          -1.2392259969612873,
          -0.42396337197608314,
          -0.8040254949941189,
          0.5246503673076683,
          0.6174376551293572,
          0.6667732964950027,
          -1.624315511280616,
          -0.7009900507939105,
          -0.7566895336475554,
          0.4228153655438361,
          -0.4921515625061394,
          -0.28024629047864485,
          -0.015140262941474195,
          1.2599427979153641,
          0.5190923874462334,
          0.05096023773849388,
          1.323901428598727,
          1.548038022029308,
          -0.8155899694131572,
          0.9399055199142157,
          0.07432006820395431,
          1.0041698831027674,
          -1.20750103555811,
          0.859700286664465,
          -0.28205347737206277,
          -0.30401620740514995,
          0.16367012099450978,
          -1.2584412572551649,
          -0.325827150091203,
          -1.7999396554564284,
          -0.20307309104609228,
          -1.1442481553192654,
          0.653286239947092,
          0.07516392687232953,
          0.7521899316131974,
          0.5260372458993744,
          -1.395226916488713,
          0.9921908967238827,
          1.2418292779657578,
          -0.1539017470993894,
          0.7373886256861507,
          0.38834918020664827,
          0.2362135412776182,
          0.0115188899390858,
          -1.6415807833383291,
          1.8233714094438518,
          -0.02860208451841463,
          0.9508625218057386,
          -1.4221906894981022,
          0.43956758103632954,
          0.3276390633566963,
          0.5591093211320485,
          2.0975676475011604,
          0.5114912158185853,
          1.0926954349320122,
          0.09089460843272662,
          -0.07754270763857592,
          -0.23416245302275307,
          1.013785139194283,
          1.3047201740780954,
          0.02289887280392105
         ],
         "xaxis": "x8",
         "y": [
          -0.17932026330190684,
          0.34198544751858234,
          -1.2713269129457325,
          0.0016652786409217964,
          1.4803864821833077,
          -0.2836750888514914,
          -1.4155538362514601,
          -0.5739661271236048,
          -0.35744198935824456,
          -0.8994230904876396,
          0.6991253544572609,
          -0.874793148785467,
          -0.39153074019047707,
          -0.880394830638912,
          0.4995926613587126,
          0.6293698296553195,
          1.3544469494098934,
          0.4810071047022162,
          -0.40595170495224314,
          0.09622342847254901,
          0.43681638785495297,
          -0.7536552634789734,
          0.46515551350074097,
          -0.4107904278107822,
          -0.667536213298158,
          -0.644002357567441,
          0.3279416680591974,
          -0.35640426241977324,
          0.7192398636967984,
          -0.3544851170731683,
          0.08830059864042557,
          0.030758743727376085,
          0.8935198532569544,
          0.3892696875617487,
          0.3237375347818951,
          0.6041497331006355,
          -0.40400232746982956,
          1.8468632501683382,
          -0.029077327946170142,
          0.25908762161059545,
          0.8679450620220365,
          0.967081274178919,
          1.80357447518855,
          0.7548651304368754,
          -0.5513298895031992,
          1.3705646354783096,
          0.8589382061452533,
          -1.0947470720924772,
          0.765715570102174,
          0.2385720284350847,
          -0.5320081762202075,
          -2.1047278011907666,
          -0.22838874539262682,
          -1.0758351304521767,
          0.6994286964722767,
          1.1983555883520542,
          1.8709137281616257,
          0.3346340175992276,
          1.179301597937332,
          -1.9309090060954557,
          -1.0881323911298968,
          0.0925198558216795,
          -0.6780781717104581,
          0.6074641297220856,
          1.0533655951830938,
          0.8330378584588016,
          -0.5385028983342077,
          -1.5582948613417311,
          0.5633831011807973,
          0.296668625167125,
          -0.9065113935632445,
          -0.21770298654540515,
          -0.18554362127577312,
          0.8460395539141479,
          -0.06587075962834432,
          -1.3271566677311997,
          0.25495202389316673,
          -0.6747528477615352,
          -1.435892609276357,
          -0.960122176589752,
          -0.3454127480759408,
          0.4072393867432423,
          -1.338046384045666,
          0.5103799524326336,
          1.4224780373575563,
          0.5088221930699162,
          0.03356517523728443,
          0.45970454247660264,
          1.2459543043789276,
          0.2505549812457923,
          0.259785611079415,
          0.5130794204738841,
          2.8931347231761175,
          -0.08760616578299192,
          -1.1963390674150716,
          0.8284380378357371,
          1.0897731639265282,
          3.2145514299528397,
          0.5444588734985717,
          -1.5142056829390005
         ],
         "yaxis": "y8"
        },
        {
         "line": {
          "color": "rgba(128, 128, 128, 1.0)",
          "dash": "solid",
          "shape": "linear",
          "width": 1.3
         },
         "marker": {
          "size": 2,
          "symbol": "circle"
         },
         "mode": "markers",
         "name": "C",
         "text": "",
         "type": "scatter",
         "x": [
          -1.5470379470686257,
          -0.3866827505899728,
          0.05907767532625553,
          1.3528949385329836,
          -0.2446134380889313,
          -2.406380574789591,
          -0.2816288308863832,
          0.4275053609457478,
          -0.5819392334941368,
          0.7569495452421476,
          0.6453177603325179,
          0.57422805107268,
          1.3148995288538112,
          0.220666189826017,
          -0.2839870046920182,
          0.7140778562736044,
          1.2652541519683163,
          -0.5332706279507585,
          -1.99742682090396,
          0.4405887301243418,
          1.6892743646745116,
          -0.19165751288169328,
          0.5104035641178164,
          1.3803225460438007,
          0.16703348752209532,
          -0.285872723137153,
          -0.2049482645233315,
          -0.6179469943011561,
          0.6032652329988165,
          0.05057590325797419,
          -1.3294185799763285,
          0.578716171231639,
          -1.6111718252564509,
          -0.7525916016188796,
          0.8249183497350251,
          -0.015267594448878615,
          -2.0692673026355326,
          0.6428908175911534,
          1.7655572451119899,
          2.031329227063635,
          -1.466347474243045,
          1.6401369002649178,
          -0.34019045909674234,
          0.8635745180435763,
          -0.41744886551989835,
          -0.10163440297958373,
          0.7703425064697068,
          1.4689212890171626,
          -0.23433370060897665,
          -1.3258769200955578,
          -1.1718941254219373,
          0.801932550048809,
          1.448807734284354,
          0.9847030866880221,
          0.3376184172512405,
          -1.5242713825393606,
          0.7027628372435865,
          -0.2791683192032702,
          0.020488303009922777,
          0.820619688063049,
          -0.36218158301404263,
          0.14617037002964653,
          1.6718586124907957,
          0.6705673605246165,
          0.27828495652272867,
          0.20926566932783422,
          -1.9184096983655765,
          -0.6402371208591136,
          -0.08170770033706065,
          -0.06808155063387622,
          -1.38010522374821,
          0.39561517267437496,
          0.7531494990024865,
          -0.6283031170433298,
          -1.8242056728883924,
          0.9256295159513197,
          1.2767649316415697,
          0.18525786624729326,
          0.5745200766324614,
          0.8337022049758677,
          -0.3243762742733441,
          0.4824787010648017,
          -0.1608409373329267,
          1.8793431047865878,
          0.3314905561931448,
          -0.29036873392865464,
          0.7482402104538096,
          0.49709639164898334,
          0.21495382334267585,
          1.0208806180216834,
          -0.03170735862101034,
          -2.5312495750725925,
          2.1046549936147385,
          -0.1046128281488064,
          -0.3285804840215899,
          0.24177836912715794,
          0.05569559765452582,
          -0.762999801993306,
          -0.6164640215496762,
          -1.8421776428608174
         ],
         "xaxis": "x9",
         "y": [
          -0.8827337164904582,
          -1.8364531539319333,
          0.8082687682781682,
          0.6289536187563297,
          0.13738826055039535,
          -0.48702056371183133,
          -0.4662976847342923,
          -0.7015128306413758,
          -2.075792831188183,
          1.1176300474724994,
          0.9671408679228939,
          0.3868725572827184,
          1.2346153433668805,
          -0.9703164223331473,
          1.9817729912124495,
          -0.7776807674549705,
          1.0904074274491107,
          0.10563209017692979,
          -1.5907909212167808,
          1.0082636128241178,
          -0.3353296165270854,
          -0.7591345840064578,
          0.7742601105711353,
          1.1467958848004252,
          0.9200633767725459,
          0.7346362265663221,
          -0.8139337677173419,
          -0.5546883808219134,
          0.2764431453193479,
          -0.95215237627935,
          -0.07095272199313353,
          -0.520697352733301,
          -0.4340839633081928,
          -1.0466663533478058,
          1.2543681127605029,
          0.8666311142299339,
          -0.3518608740488995,
          -0.43880066086130814,
          0.42178024324125096,
          1.299203464296593,
          -0.15407331280936215,
          -0.6075954511987632,
          -0.31243377106445835,
          -0.3299566935335466,
          -0.8873057264322378,
          0.04679665624628326,
          -0.12976410822364787,
          0.6617216984182405,
          0.2677726756401323,
          0.36854030491480244,
          1.0834360202988516,
          -0.5358001827681771,
          1.3566403293736051,
          1.3232084208589134,
          -0.9200288536262442,
          0.4035164337882321,
          1.457756930269989,
          -0.48177075689597204,
          -0.10253003630182166,
          -1.1087611194830596,
          1.2405184299530734,
          -1.1613026903681023,
          -0.21807727298806873,
          2.073990265406395,
          -0.12142871305310494,
          -1.130168455585731,
          0.6737067936121557,
          -0.5226892924994307,
          0.9439193803151366,
          -0.9443041315154184,
          -0.5173949214588162,
          0.35076467768349945,
          -0.1268157260701168,
          1.5232667086176082,
          -0.42512384149961735,
          -1.2916065855294245,
          -0.2895713037165531,
          0.5519442699233186,
          1.6307332488054225,
          0.49046965386208186,
          -1.5335496821072878,
          -0.4633643003770435,
          -0.7016934868574808,
          -0.2487663579333527,
          0.31110876877089483,
          -1.7132404041523144,
          1.057646417962785,
          -0.1528239791025941,
          -0.699145591330207,
          -1.7823629346489065,
          -0.11037143237132825,
          0.5125188565494171,
          0.4533917864601765,
          -0.6654675164735756,
          1.6813259994038556,
          -0.995626301686294,
          0.484448176581966,
          -0.9251656585866519,
          -0.41487414299947856,
          1.3509865271705759
         ],
         "yaxis": "y9"
        },
        {
         "line": {
          "color": "rgba(128, 128, 128, 1.0)",
          "dash": "solid",
          "shape": "linear",
          "width": 1.3
         },
         "marker": {
          "size": 2,
          "symbol": "circle"
         },
         "mode": "markers",
         "name": "C",
         "text": "",
         "type": "scatter",
         "x": [
          -0.17932026330190684,
          0.34198544751858234,
          -1.2713269129457325,
          0.0016652786409217964,
          1.4803864821833077,
          -0.2836750888514914,
          -1.4155538362514601,
          -0.5739661271236048,
          -0.35744198935824456,
          -0.8994230904876396,
          0.6991253544572609,
          -0.874793148785467,
          -0.39153074019047707,
          -0.880394830638912,
          0.4995926613587126,
          0.6293698296553195,
          1.3544469494098934,
          0.4810071047022162,
          -0.40595170495224314,
          0.09622342847254901,
          0.43681638785495297,
          -0.7536552634789734,
          0.46515551350074097,
          -0.4107904278107822,
          -0.667536213298158,
          -0.644002357567441,
          0.3279416680591974,
          -0.35640426241977324,
          0.7192398636967984,
          -0.3544851170731683,
          0.08830059864042557,
          0.030758743727376085,
          0.8935198532569544,
          0.3892696875617487,
          0.3237375347818951,
          0.6041497331006355,
          -0.40400232746982956,
          1.8468632501683382,
          -0.029077327946170142,
          0.25908762161059545,
          0.8679450620220365,
          0.967081274178919,
          1.80357447518855,
          0.7548651304368754,
          -0.5513298895031992,
          1.3705646354783096,
          0.8589382061452533,
          -1.0947470720924772,
          0.765715570102174,
          0.2385720284350847,
          -0.5320081762202075,
          -2.1047278011907666,
          -0.22838874539262682,
          -1.0758351304521767,
          0.6994286964722767,
          1.1983555883520542,
          1.8709137281616257,
          0.3346340175992276,
          1.179301597937332,
          -1.9309090060954557,
          -1.0881323911298968,
          0.0925198558216795,
          -0.6780781717104581,
          0.6074641297220856,
          1.0533655951830938,
          0.8330378584588016,
          -0.5385028983342077,
          -1.5582948613417311,
          0.5633831011807973,
          0.296668625167125,
          -0.9065113935632445,
          -0.21770298654540515,
          -0.18554362127577312,
          0.8460395539141479,
          -0.06587075962834432,
          -1.3271566677311997,
          0.25495202389316673,
          -0.6747528477615352,
          -1.435892609276357,
          -0.960122176589752,
          -0.3454127480759408,
          0.4072393867432423,
          -1.338046384045666,
          0.5103799524326336,
          1.4224780373575563,
          0.5088221930699162,
          0.03356517523728443,
          0.45970454247660264,
          1.2459543043789276,
          0.2505549812457923,
          0.259785611079415,
          0.5130794204738841,
          2.8931347231761175,
          -0.08760616578299192,
          -1.1963390674150716,
          0.8284380378357371,
          1.0897731639265282,
          3.2145514299528397,
          0.5444588734985717,
          -1.5142056829390005
         ],
         "xaxis": "x10",
         "y": [
          -0.8827337164904582,
          -1.8364531539319333,
          0.8082687682781682,
          0.6289536187563297,
          0.13738826055039535,
          -0.48702056371183133,
          -0.4662976847342923,
          -0.7015128306413758,
          -2.075792831188183,
          1.1176300474724994,
          0.9671408679228939,
          0.3868725572827184,
          1.2346153433668805,
          -0.9703164223331473,
          1.9817729912124495,
          -0.7776807674549705,
          1.0904074274491107,
          0.10563209017692979,
          -1.5907909212167808,
          1.0082636128241178,
          -0.3353296165270854,
          -0.7591345840064578,
          0.7742601105711353,
          1.1467958848004252,
          0.9200633767725459,
          0.7346362265663221,
          -0.8139337677173419,
          -0.5546883808219134,
          0.2764431453193479,
          -0.95215237627935,
          -0.07095272199313353,
          -0.520697352733301,
          -0.4340839633081928,
          -1.0466663533478058,
          1.2543681127605029,
          0.8666311142299339,
          -0.3518608740488995,
          -0.43880066086130814,
          0.42178024324125096,
          1.299203464296593,
          -0.15407331280936215,
          -0.6075954511987632,
          -0.31243377106445835,
          -0.3299566935335466,
          -0.8873057264322378,
          0.04679665624628326,
          -0.12976410822364787,
          0.6617216984182405,
          0.2677726756401323,
          0.36854030491480244,
          1.0834360202988516,
          -0.5358001827681771,
          1.3566403293736051,
          1.3232084208589134,
          -0.9200288536262442,
          0.4035164337882321,
          1.457756930269989,
          -0.48177075689597204,
          -0.10253003630182166,
          -1.1087611194830596,
          1.2405184299530734,
          -1.1613026903681023,
          -0.21807727298806873,
          2.073990265406395,
          -0.12142871305310494,
          -1.130168455585731,
          0.6737067936121557,
          -0.5226892924994307,
          0.9439193803151366,
          -0.9443041315154184,
          -0.5173949214588162,
          0.35076467768349945,
          -0.1268157260701168,
          1.5232667086176082,
          -0.42512384149961735,
          -1.2916065855294245,
          -0.2895713037165531,
          0.5519442699233186,
          1.6307332488054225,
          0.49046965386208186,
          -1.5335496821072878,
          -0.4633643003770435,
          -0.7016934868574808,
          -0.2487663579333527,
          0.31110876877089483,
          -1.7132404041523144,
          1.057646417962785,
          -0.1528239791025941,
          -0.699145591330207,
          -1.7823629346489065,
          -0.11037143237132825,
          0.5125188565494171,
          0.4533917864601765,
          -0.6654675164735756,
          1.6813259994038556,
          -0.995626301686294,
          0.484448176581966,
          -0.9251656585866519,
          -0.41487414299947856,
          1.3509865271705759
         ],
         "yaxis": "y10"
        },
        {
         "histfunc": "count",
         "histnorm": "",
         "marker": {
          "color": "rgba(50, 171, 96, 1.0)",
          "line": {
           "color": "#4D5663",
           "width": 1.3
          }
         },
         "name": "C",
         "nbinsx": 10,
         "opacity": 0.8,
         "orientation": "v",
         "type": "histogram",
         "x": [
          -0.8827337164904582,
          -1.8364531539319333,
          0.8082687682781682,
          0.6289536187563297,
          0.13738826055039535,
          -0.48702056371183133,
          -0.4662976847342923,
          -0.7015128306413758,
          -2.075792831188183,
          1.1176300474724994,
          0.9671408679228939,
          0.3868725572827184,
          1.2346153433668805,
          -0.9703164223331473,
          1.9817729912124495,
          -0.7776807674549705,
          1.0904074274491107,
          0.10563209017692979,
          -1.5907909212167808,
          1.0082636128241178,
          -0.3353296165270854,
          -0.7591345840064578,
          0.7742601105711353,
          1.1467958848004252,
          0.9200633767725459,
          0.7346362265663221,
          -0.8139337677173419,
          -0.5546883808219134,
          0.2764431453193479,
          -0.95215237627935,
          -0.07095272199313353,
          -0.520697352733301,
          -0.4340839633081928,
          -1.0466663533478058,
          1.2543681127605029,
          0.8666311142299339,
          -0.3518608740488995,
          -0.43880066086130814,
          0.42178024324125096,
          1.299203464296593,
          -0.15407331280936215,
          -0.6075954511987632,
          -0.31243377106445835,
          -0.3299566935335466,
          -0.8873057264322378,
          0.04679665624628326,
          -0.12976410822364787,
          0.6617216984182405,
          0.2677726756401323,
          0.36854030491480244,
          1.0834360202988516,
          -0.5358001827681771,
          1.3566403293736051,
          1.3232084208589134,
          -0.9200288536262442,
          0.4035164337882321,
          1.457756930269989,
          -0.48177075689597204,
          -0.10253003630182166,
          -1.1087611194830596,
          1.2405184299530734,
          -1.1613026903681023,
          -0.21807727298806873,
          2.073990265406395,
          -0.12142871305310494,
          -1.130168455585731,
          0.6737067936121557,
          -0.5226892924994307,
          0.9439193803151366,
          -0.9443041315154184,
          -0.5173949214588162,
          0.35076467768349945,
          -0.1268157260701168,
          1.5232667086176082,
          -0.42512384149961735,
          -1.2916065855294245,
          -0.2895713037165531,
          0.5519442699233186,
          1.6307332488054225,
          0.49046965386208186,
          -1.5335496821072878,
          -0.4633643003770435,
          -0.7016934868574808,
          -0.2487663579333527,
          0.31110876877089483,
          -1.7132404041523144,
          1.057646417962785,
          -0.1528239791025941,
          -0.699145591330207,
          -1.7823629346489065,
          -0.11037143237132825,
          0.5125188565494171,
          0.4533917864601765,
          -0.6654675164735756,
          1.6813259994038556,
          -0.995626301686294,
          0.484448176581966,
          -0.9251656585866519,
          -0.41487414299947856,
          1.3509865271705759
         ],
         "xaxis": "x11",
         "yaxis": "y11"
        },
        {
         "line": {
          "color": "rgba(128, 128, 128, 1.0)",
          "dash": "solid",
          "shape": "linear",
          "width": 1.3
         },
         "marker": {
          "size": 2,
          "symbol": "circle"
         },
         "mode": "markers",
         "name": "C",
         "text": "",
         "type": "scatter",
         "x": [
          -0.6920880206110122,
          -1.1528187877583664,
          0.5086136006525542,
          -0.3215793850236674,
          -1.394860954443431,
          0.8898543007611304,
          0.6766517919690216,
          1.2415891437981637,
          0.5749645946153426,
          0.8191522907746716,
          -1.3401567878568013,
          0.004138571752962983,
          1.9727662152133698,
          1.7100298800610687,
          0.7905135404134748,
          0.5035795302927593,
          -0.6426516642396118,
          0.6107854330514066,
          0.10928182793825748,
          1.1501642674489254,
          -2.4740487192674028,
          -0.43881799465043336,
          -0.8094019886420079,
          -0.31202726037660966,
          -0.2236736738974433,
          -1.3740994147648478,
          -0.24299560216202182,
          0.32179333878077643,
          0.48952220272470165,
          0.1242364926299338,
          0.6655346523272315,
          0.2335595973186929,
          -1.3979047777316438,
          -1.1861224414071925,
          -0.11470463861534105,
          0.888977369121416,
          0.19762432272577532,
          -0.911490070227444,
          0.42138513877796047,
          -1.2392259969612873,
          -0.42396337197608314,
          -0.8040254949941189,
          0.5246503673076683,
          0.6174376551293572,
          0.6667732964950027,
          -1.624315511280616,
          -0.7009900507939105,
          -0.7566895336475554,
          0.4228153655438361,
          -0.4921515625061394,
          -0.28024629047864485,
          -0.015140262941474195,
          1.2599427979153641,
          0.5190923874462334,
          0.05096023773849388,
          1.323901428598727,
          1.548038022029308,
          -0.8155899694131572,
          0.9399055199142157,
          0.07432006820395431,
          1.0041698831027674,
          -1.20750103555811,
          0.859700286664465,
          -0.28205347737206277,
          -0.30401620740514995,
          0.16367012099450978,
          -1.2584412572551649,
          -0.325827150091203,
          -1.7999396554564284,
          -0.20307309104609228,
          -1.1442481553192654,
          0.653286239947092,
          0.07516392687232953,
          0.7521899316131974,
          0.5260372458993744,
          -1.395226916488713,
          0.9921908967238827,
          1.2418292779657578,
          -0.1539017470993894,
          0.7373886256861507,
          0.38834918020664827,
          0.2362135412776182,
          0.0115188899390858,
          -1.6415807833383291,
          1.8233714094438518,
          -0.02860208451841463,
          0.9508625218057386,
          -1.4221906894981022,
          0.43956758103632954,
          0.3276390633566963,
          0.5591093211320485,
          2.0975676475011604,
          0.5114912158185853,
          1.0926954349320122,
          0.09089460843272662,
          -0.07754270763857592,
          -0.23416245302275307,
          1.013785139194283,
          1.3047201740780954,
          0.02289887280392105
         ],
         "xaxis": "x12",
         "y": [
          -0.8827337164904582,
          -1.8364531539319333,
          0.8082687682781682,
          0.6289536187563297,
          0.13738826055039535,
          -0.48702056371183133,
          -0.4662976847342923,
          -0.7015128306413758,
          -2.075792831188183,
          1.1176300474724994,
          0.9671408679228939,
          0.3868725572827184,
          1.2346153433668805,
          -0.9703164223331473,
          1.9817729912124495,
          -0.7776807674549705,
          1.0904074274491107,
          0.10563209017692979,
          -1.5907909212167808,
          1.0082636128241178,
          -0.3353296165270854,
          -0.7591345840064578,
          0.7742601105711353,
          1.1467958848004252,
          0.9200633767725459,
          0.7346362265663221,
          -0.8139337677173419,
          -0.5546883808219134,
          0.2764431453193479,
          -0.95215237627935,
          -0.07095272199313353,
          -0.520697352733301,
          -0.4340839633081928,
          -1.0466663533478058,
          1.2543681127605029,
          0.8666311142299339,
          -0.3518608740488995,
          -0.43880066086130814,
          0.42178024324125096,
          1.299203464296593,
          -0.15407331280936215,
          -0.6075954511987632,
          -0.31243377106445835,
          -0.3299566935335466,
          -0.8873057264322378,
          0.04679665624628326,
          -0.12976410822364787,
          0.6617216984182405,
          0.2677726756401323,
          0.36854030491480244,
          1.0834360202988516,
          -0.5358001827681771,
          1.3566403293736051,
          1.3232084208589134,
          -0.9200288536262442,
          0.4035164337882321,
          1.457756930269989,
          -0.48177075689597204,
          -0.10253003630182166,
          -1.1087611194830596,
          1.2405184299530734,
          -1.1613026903681023,
          -0.21807727298806873,
          2.073990265406395,
          -0.12142871305310494,
          -1.130168455585731,
          0.6737067936121557,
          -0.5226892924994307,
          0.9439193803151366,
          -0.9443041315154184,
          -0.5173949214588162,
          0.35076467768349945,
          -0.1268157260701168,
          1.5232667086176082,
          -0.42512384149961735,
          -1.2916065855294245,
          -0.2895713037165531,
          0.5519442699233186,
          1.6307332488054225,
          0.49046965386208186,
          -1.5335496821072878,
          -0.4633643003770435,
          -0.7016934868574808,
          -0.2487663579333527,
          0.31110876877089483,
          -1.7132404041523144,
          1.057646417962785,
          -0.1528239791025941,
          -0.699145591330207,
          -1.7823629346489065,
          -0.11037143237132825,
          0.5125188565494171,
          0.4533917864601765,
          -0.6654675164735756,
          1.6813259994038556,
          -0.995626301686294,
          0.484448176581966,
          -0.9251656585866519,
          -0.41487414299947856,
          1.3509865271705759
         ],
         "yaxis": "y12"
        },
        {
         "line": {
          "color": "rgba(128, 128, 128, 1.0)",
          "dash": "solid",
          "shape": "linear",
          "width": 1.3
         },
         "marker": {
          "size": 2,
          "symbol": "circle"
         },
         "mode": "markers",
         "name": "D",
         "text": "",
         "type": "scatter",
         "x": [
          -1.5470379470686257,
          -0.3866827505899728,
          0.05907767532625553,
          1.3528949385329836,
          -0.2446134380889313,
          -2.406380574789591,
          -0.2816288308863832,
          0.4275053609457478,
          -0.5819392334941368,
          0.7569495452421476,
          0.6453177603325179,
          0.57422805107268,
          1.3148995288538112,
          0.220666189826017,
          -0.2839870046920182,
          0.7140778562736044,
          1.2652541519683163,
          -0.5332706279507585,
          -1.99742682090396,
          0.4405887301243418,
          1.6892743646745116,
          -0.19165751288169328,
          0.5104035641178164,
          1.3803225460438007,
          0.16703348752209532,
          -0.285872723137153,
          -0.2049482645233315,
          -0.6179469943011561,
          0.6032652329988165,
          0.05057590325797419,
          -1.3294185799763285,
          0.578716171231639,
          -1.6111718252564509,
          -0.7525916016188796,
          0.8249183497350251,
          -0.015267594448878615,
          -2.0692673026355326,
          0.6428908175911534,
          1.7655572451119899,
          2.031329227063635,
          -1.466347474243045,
          1.6401369002649178,
          -0.34019045909674234,
          0.8635745180435763,
          -0.41744886551989835,
          -0.10163440297958373,
          0.7703425064697068,
          1.4689212890171626,
          -0.23433370060897665,
          -1.3258769200955578,
          -1.1718941254219373,
          0.801932550048809,
          1.448807734284354,
          0.9847030866880221,
          0.3376184172512405,
          -1.5242713825393606,
          0.7027628372435865,
          -0.2791683192032702,
          0.020488303009922777,
          0.820619688063049,
          -0.36218158301404263,
          0.14617037002964653,
          1.6718586124907957,
          0.6705673605246165,
          0.27828495652272867,
          0.20926566932783422,
          -1.9184096983655765,
          -0.6402371208591136,
          -0.08170770033706065,
          -0.06808155063387622,
          -1.38010522374821,
          0.39561517267437496,
          0.7531494990024865,
          -0.6283031170433298,
          -1.8242056728883924,
          0.9256295159513197,
          1.2767649316415697,
          0.18525786624729326,
          0.5745200766324614,
          0.8337022049758677,
          -0.3243762742733441,
          0.4824787010648017,
          -0.1608409373329267,
          1.8793431047865878,
          0.3314905561931448,
          -0.29036873392865464,
          0.7482402104538096,
          0.49709639164898334,
          0.21495382334267585,
          1.0208806180216834,
          -0.03170735862101034,
          -2.5312495750725925,
          2.1046549936147385,
          -0.1046128281488064,
          -0.3285804840215899,
          0.24177836912715794,
          0.05569559765452582,
          -0.762999801993306,
          -0.6164640215496762,
          -1.8421776428608174
         ],
         "xaxis": "x13",
         "y": [
          -0.6920880206110122,
          -1.1528187877583664,
          0.5086136006525542,
          -0.3215793850236674,
          -1.394860954443431,
          0.8898543007611304,
          0.6766517919690216,
          1.2415891437981637,
          0.5749645946153426,
          0.8191522907746716,
          -1.3401567878568013,
          0.004138571752962983,
          1.9727662152133698,
          1.7100298800610687,
          0.7905135404134748,
          0.5035795302927593,
          -0.6426516642396118,
          0.6107854330514066,
          0.10928182793825748,
          1.1501642674489254,
          -2.4740487192674028,
          -0.43881799465043336,
          -0.8094019886420079,
          -0.31202726037660966,
          -0.2236736738974433,
          -1.3740994147648478,
          -0.24299560216202182,
          0.32179333878077643,
          0.48952220272470165,
          0.1242364926299338,
          0.6655346523272315,
          0.2335595973186929,
          -1.3979047777316438,
          -1.1861224414071925,
          -0.11470463861534105,
          0.888977369121416,
          0.19762432272577532,
          -0.911490070227444,
          0.42138513877796047,
          -1.2392259969612873,
          -0.42396337197608314,
          -0.8040254949941189,
          0.5246503673076683,
          0.6174376551293572,
          0.6667732964950027,
          -1.624315511280616,
          -0.7009900507939105,
          -0.7566895336475554,
          0.4228153655438361,
          -0.4921515625061394,
          -0.28024629047864485,
          -0.015140262941474195,
          1.2599427979153641,
          0.5190923874462334,
          0.05096023773849388,
          1.323901428598727,
          1.548038022029308,
          -0.8155899694131572,
          0.9399055199142157,
          0.07432006820395431,
          1.0041698831027674,
          -1.20750103555811,
          0.859700286664465,
          -0.28205347737206277,
          -0.30401620740514995,
          0.16367012099450978,
          -1.2584412572551649,
          -0.325827150091203,
          -1.7999396554564284,
          -0.20307309104609228,
          -1.1442481553192654,
          0.653286239947092,
          0.07516392687232953,
          0.7521899316131974,
          0.5260372458993744,
          -1.395226916488713,
          0.9921908967238827,
          1.2418292779657578,
          -0.1539017470993894,
          0.7373886256861507,
          0.38834918020664827,
          0.2362135412776182,
          0.0115188899390858,
          -1.6415807833383291,
          1.8233714094438518,
          -0.02860208451841463,
          0.9508625218057386,
          -1.4221906894981022,
          0.43956758103632954,
          0.3276390633566963,
          0.5591093211320485,
          2.0975676475011604,
          0.5114912158185853,
          1.0926954349320122,
          0.09089460843272662,
          -0.07754270763857592,
          -0.23416245302275307,
          1.013785139194283,
          1.3047201740780954,
          0.02289887280392105
         ],
         "yaxis": "y13"
        },
        {
         "line": {
          "color": "rgba(128, 128, 128, 1.0)",
          "dash": "solid",
          "shape": "linear",
          "width": 1.3
         },
         "marker": {
          "size": 2,
          "symbol": "circle"
         },
         "mode": "markers",
         "name": "D",
         "text": "",
         "type": "scatter",
         "x": [
          -0.17932026330190684,
          0.34198544751858234,
          -1.2713269129457325,
          0.0016652786409217964,
          1.4803864821833077,
          -0.2836750888514914,
          -1.4155538362514601,
          -0.5739661271236048,
          -0.35744198935824456,
          -0.8994230904876396,
          0.6991253544572609,
          -0.874793148785467,
          -0.39153074019047707,
          -0.880394830638912,
          0.4995926613587126,
          0.6293698296553195,
          1.3544469494098934,
          0.4810071047022162,
          -0.40595170495224314,
          0.09622342847254901,
          0.43681638785495297,
          -0.7536552634789734,
          0.46515551350074097,
          -0.4107904278107822,
          -0.667536213298158,
          -0.644002357567441,
          0.3279416680591974,
          -0.35640426241977324,
          0.7192398636967984,
          -0.3544851170731683,
          0.08830059864042557,
          0.030758743727376085,
          0.8935198532569544,
          0.3892696875617487,
          0.3237375347818951,
          0.6041497331006355,
          -0.40400232746982956,
          1.8468632501683382,
          -0.029077327946170142,
          0.25908762161059545,
          0.8679450620220365,
          0.967081274178919,
          1.80357447518855,
          0.7548651304368754,
          -0.5513298895031992,
          1.3705646354783096,
          0.8589382061452533,
          -1.0947470720924772,
          0.765715570102174,
          0.2385720284350847,
          -0.5320081762202075,
          -2.1047278011907666,
          -0.22838874539262682,
          -1.0758351304521767,
          0.6994286964722767,
          1.1983555883520542,
          1.8709137281616257,
          0.3346340175992276,
          1.179301597937332,
          -1.9309090060954557,
          -1.0881323911298968,
          0.0925198558216795,
          -0.6780781717104581,
          0.6074641297220856,
          1.0533655951830938,
          0.8330378584588016,
          -0.5385028983342077,
          -1.5582948613417311,
          0.5633831011807973,
          0.296668625167125,
          -0.9065113935632445,
          -0.21770298654540515,
          -0.18554362127577312,
          0.8460395539141479,
          -0.06587075962834432,
          -1.3271566677311997,
          0.25495202389316673,
          -0.6747528477615352,
          -1.435892609276357,
          -0.960122176589752,
          -0.3454127480759408,
          0.4072393867432423,
          -1.338046384045666,
          0.5103799524326336,
          1.4224780373575563,
          0.5088221930699162,
          0.03356517523728443,
          0.45970454247660264,
          1.2459543043789276,
          0.2505549812457923,
          0.259785611079415,
          0.5130794204738841,
          2.8931347231761175,
          -0.08760616578299192,
          -1.1963390674150716,
          0.8284380378357371,
          1.0897731639265282,
          3.2145514299528397,
          0.5444588734985717,
          -1.5142056829390005
         ],
         "xaxis": "x14",
         "y": [
          -0.6920880206110122,
          -1.1528187877583664,
          0.5086136006525542,
          -0.3215793850236674,
          -1.394860954443431,
          0.8898543007611304,
          0.6766517919690216,
          1.2415891437981637,
          0.5749645946153426,
          0.8191522907746716,
          -1.3401567878568013,
          0.004138571752962983,
          1.9727662152133698,
          1.7100298800610687,
          0.7905135404134748,
          0.5035795302927593,
          -0.6426516642396118,
          0.6107854330514066,
          0.10928182793825748,
          1.1501642674489254,
          -2.4740487192674028,
          -0.43881799465043336,
          -0.8094019886420079,
          -0.31202726037660966,
          -0.2236736738974433,
          -1.3740994147648478,
          -0.24299560216202182,
          0.32179333878077643,
          0.48952220272470165,
          0.1242364926299338,
          0.6655346523272315,
          0.2335595973186929,
          -1.3979047777316438,
          -1.1861224414071925,
          -0.11470463861534105,
          0.888977369121416,
          0.19762432272577532,
          -0.911490070227444,
          0.42138513877796047,
          -1.2392259969612873,
          -0.42396337197608314,
          -0.8040254949941189,
          0.5246503673076683,
          0.6174376551293572,
          0.6667732964950027,
          -1.624315511280616,
          -0.7009900507939105,
          -0.7566895336475554,
          0.4228153655438361,
          -0.4921515625061394,
          -0.28024629047864485,
          -0.015140262941474195,
          1.2599427979153641,
          0.5190923874462334,
          0.05096023773849388,
          1.323901428598727,
          1.548038022029308,
          -0.8155899694131572,
          0.9399055199142157,
          0.07432006820395431,
          1.0041698831027674,
          -1.20750103555811,
          0.859700286664465,
          -0.28205347737206277,
          -0.30401620740514995,
          0.16367012099450978,
          -1.2584412572551649,
          -0.325827150091203,
          -1.7999396554564284,
          -0.20307309104609228,
          -1.1442481553192654,
          0.653286239947092,
          0.07516392687232953,
          0.7521899316131974,
          0.5260372458993744,
          -1.395226916488713,
          0.9921908967238827,
          1.2418292779657578,
          -0.1539017470993894,
          0.7373886256861507,
          0.38834918020664827,
          0.2362135412776182,
          0.0115188899390858,
          -1.6415807833383291,
          1.8233714094438518,
          -0.02860208451841463,
          0.9508625218057386,
          -1.4221906894981022,
          0.43956758103632954,
          0.3276390633566963,
          0.5591093211320485,
          2.0975676475011604,
          0.5114912158185853,
          1.0926954349320122,
          0.09089460843272662,
          -0.07754270763857592,
          -0.23416245302275307,
          1.013785139194283,
          1.3047201740780954,
          0.02289887280392105
         ],
         "yaxis": "y14"
        },
        {
         "line": {
          "color": "rgba(128, 128, 128, 1.0)",
          "dash": "solid",
          "shape": "linear",
          "width": 1.3
         },
         "marker": {
          "size": 2,
          "symbol": "circle"
         },
         "mode": "markers",
         "name": "D",
         "text": "",
         "type": "scatter",
         "x": [
          -0.8827337164904582,
          -1.8364531539319333,
          0.8082687682781682,
          0.6289536187563297,
          0.13738826055039535,
          -0.48702056371183133,
          -0.4662976847342923,
          -0.7015128306413758,
          -2.075792831188183,
          1.1176300474724994,
          0.9671408679228939,
          0.3868725572827184,
          1.2346153433668805,
          -0.9703164223331473,
          1.9817729912124495,
          -0.7776807674549705,
          1.0904074274491107,
          0.10563209017692979,
          -1.5907909212167808,
          1.0082636128241178,
          -0.3353296165270854,
          -0.7591345840064578,
          0.7742601105711353,
          1.1467958848004252,
          0.9200633767725459,
          0.7346362265663221,
          -0.8139337677173419,
          -0.5546883808219134,
          0.2764431453193479,
          -0.95215237627935,
          -0.07095272199313353,
          -0.520697352733301,
          -0.4340839633081928,
          -1.0466663533478058,
          1.2543681127605029,
          0.8666311142299339,
          -0.3518608740488995,
          -0.43880066086130814,
          0.42178024324125096,
          1.299203464296593,
          -0.15407331280936215,
          -0.6075954511987632,
          -0.31243377106445835,
          -0.3299566935335466,
          -0.8873057264322378,
          0.04679665624628326,
          -0.12976410822364787,
          0.6617216984182405,
          0.2677726756401323,
          0.36854030491480244,
          1.0834360202988516,
          -0.5358001827681771,
          1.3566403293736051,
          1.3232084208589134,
          -0.9200288536262442,
          0.4035164337882321,
          1.457756930269989,
          -0.48177075689597204,
          -0.10253003630182166,
          -1.1087611194830596,
          1.2405184299530734,
          -1.1613026903681023,
          -0.21807727298806873,
          2.073990265406395,
          -0.12142871305310494,
          -1.130168455585731,
          0.6737067936121557,
          -0.5226892924994307,
          0.9439193803151366,
          -0.9443041315154184,
          -0.5173949214588162,
          0.35076467768349945,
          -0.1268157260701168,
          1.5232667086176082,
          -0.42512384149961735,
          -1.2916065855294245,
          -0.2895713037165531,
          0.5519442699233186,
          1.6307332488054225,
          0.49046965386208186,
          -1.5335496821072878,
          -0.4633643003770435,
          -0.7016934868574808,
          -0.2487663579333527,
          0.31110876877089483,
          -1.7132404041523144,
          1.057646417962785,
          -0.1528239791025941,
          -0.699145591330207,
          -1.7823629346489065,
          -0.11037143237132825,
          0.5125188565494171,
          0.4533917864601765,
          -0.6654675164735756,
          1.6813259994038556,
          -0.995626301686294,
          0.484448176581966,
          -0.9251656585866519,
          -0.41487414299947856,
          1.3509865271705759
         ],
         "xaxis": "x15",
         "y": [
          -0.6920880206110122,
          -1.1528187877583664,
          0.5086136006525542,
          -0.3215793850236674,
          -1.394860954443431,
          0.8898543007611304,
          0.6766517919690216,
          1.2415891437981637,
          0.5749645946153426,
          0.8191522907746716,
          -1.3401567878568013,
          0.004138571752962983,
          1.9727662152133698,
          1.7100298800610687,
          0.7905135404134748,
          0.5035795302927593,
          -0.6426516642396118,
          0.6107854330514066,
          0.10928182793825748,
          1.1501642674489254,
          -2.4740487192674028,
          -0.43881799465043336,
          -0.8094019886420079,
          -0.31202726037660966,
          -0.2236736738974433,
          -1.3740994147648478,
          -0.24299560216202182,
          0.32179333878077643,
          0.48952220272470165,
          0.1242364926299338,
          0.6655346523272315,
          0.2335595973186929,
          -1.3979047777316438,
          -1.1861224414071925,
          -0.11470463861534105,
          0.888977369121416,
          0.19762432272577532,
          -0.911490070227444,
          0.42138513877796047,
          -1.2392259969612873,
          -0.42396337197608314,
          -0.8040254949941189,
          0.5246503673076683,
          0.6174376551293572,
          0.6667732964950027,
          -1.624315511280616,
          -0.7009900507939105,
          -0.7566895336475554,
          0.4228153655438361,
          -0.4921515625061394,
          -0.28024629047864485,
          -0.015140262941474195,
          1.2599427979153641,
          0.5190923874462334,
          0.05096023773849388,
          1.323901428598727,
          1.548038022029308,
          -0.8155899694131572,
          0.9399055199142157,
          0.07432006820395431,
          1.0041698831027674,
          -1.20750103555811,
          0.859700286664465,
          -0.28205347737206277,
          -0.30401620740514995,
          0.16367012099450978,
          -1.2584412572551649,
          -0.325827150091203,
          -1.7999396554564284,
          -0.20307309104609228,
          -1.1442481553192654,
          0.653286239947092,
          0.07516392687232953,
          0.7521899316131974,
          0.5260372458993744,
          -1.395226916488713,
          0.9921908967238827,
          1.2418292779657578,
          -0.1539017470993894,
          0.7373886256861507,
          0.38834918020664827,
          0.2362135412776182,
          0.0115188899390858,
          -1.6415807833383291,
          1.8233714094438518,
          -0.02860208451841463,
          0.9508625218057386,
          -1.4221906894981022,
          0.43956758103632954,
          0.3276390633566963,
          0.5591093211320485,
          2.0975676475011604,
          0.5114912158185853,
          1.0926954349320122,
          0.09089460843272662,
          -0.07754270763857592,
          -0.23416245302275307,
          1.013785139194283,
          1.3047201740780954,
          0.02289887280392105
         ],
         "yaxis": "y15"
        },
        {
         "histfunc": "count",
         "histnorm": "",
         "marker": {
          "color": "rgba(128, 0, 128, 1.0)",
          "line": {
           "color": "#4D5663",
           "width": 1.3
          }
         },
         "name": "D",
         "nbinsx": 10,
         "opacity": 0.8,
         "orientation": "v",
         "type": "histogram",
         "x": [
          -0.6920880206110122,
          -1.1528187877583664,
          0.5086136006525542,
          -0.3215793850236674,
          -1.394860954443431,
          0.8898543007611304,
          0.6766517919690216,
          1.2415891437981637,
          0.5749645946153426,
          0.8191522907746716,
          -1.3401567878568013,
          0.004138571752962983,
          1.9727662152133698,
          1.7100298800610687,
          0.7905135404134748,
          0.5035795302927593,
          -0.6426516642396118,
          0.6107854330514066,
          0.10928182793825748,
          1.1501642674489254,
          -2.4740487192674028,
          -0.43881799465043336,
          -0.8094019886420079,
          -0.31202726037660966,
          -0.2236736738974433,
          -1.3740994147648478,
          -0.24299560216202182,
          0.32179333878077643,
          0.48952220272470165,
          0.1242364926299338,
          0.6655346523272315,
          0.2335595973186929,
          -1.3979047777316438,
          -1.1861224414071925,
          -0.11470463861534105,
          0.888977369121416,
          0.19762432272577532,
          -0.911490070227444,
          0.42138513877796047,
          -1.2392259969612873,
          -0.42396337197608314,
          -0.8040254949941189,
          0.5246503673076683,
          0.6174376551293572,
          0.6667732964950027,
          -1.624315511280616,
          -0.7009900507939105,
          -0.7566895336475554,
          0.4228153655438361,
          -0.4921515625061394,
          -0.28024629047864485,
          -0.015140262941474195,
          1.2599427979153641,
          0.5190923874462334,
          0.05096023773849388,
          1.323901428598727,
          1.548038022029308,
          -0.8155899694131572,
          0.9399055199142157,
          0.07432006820395431,
          1.0041698831027674,
          -1.20750103555811,
          0.859700286664465,
          -0.28205347737206277,
          -0.30401620740514995,
          0.16367012099450978,
          -1.2584412572551649,
          -0.325827150091203,
          -1.7999396554564284,
          -0.20307309104609228,
          -1.1442481553192654,
          0.653286239947092,
          0.07516392687232953,
          0.7521899316131974,
          0.5260372458993744,
          -1.395226916488713,
          0.9921908967238827,
          1.2418292779657578,
          -0.1539017470993894,
          0.7373886256861507,
          0.38834918020664827,
          0.2362135412776182,
          0.0115188899390858,
          -1.6415807833383291,
          1.8233714094438518,
          -0.02860208451841463,
          0.9508625218057386,
          -1.4221906894981022,
          0.43956758103632954,
          0.3276390633566963,
          0.5591093211320485,
          2.0975676475011604,
          0.5114912158185853,
          1.0926954349320122,
          0.09089460843272662,
          -0.07754270763857592,
          -0.23416245302275307,
          1.013785139194283,
          1.3047201740780954,
          0.02289887280392105
         ],
         "xaxis": "x16",
         "yaxis": "y16"
        }
       ],
       "layout": {
        "bargap": 0.02,
        "legend": {
         "bgcolor": "#F5F6F9",
         "font": {
          "color": "#4D5663"
         }
        },
        "paper_bgcolor": "#F5F6F9",
        "plot_bgcolor": "#F5F6F9",
        "showlegend": false,
        "template": {
         "data": {
          "bar": [
           {
            "error_x": {
             "color": "#2a3f5f"
            },
            "error_y": {
             "color": "#2a3f5f"
            },
            "marker": {
             "line": {
              "color": "#E5ECF6",
              "width": 0.5
             },
             "pattern": {
              "fillmode": "overlay",
              "size": 10,
              "solidity": 0.2
             }
            },
            "type": "bar"
           }
          ],
          "barpolar": [
           {
            "marker": {
             "line": {
              "color": "#E5ECF6",
              "width": 0.5
             },
             "pattern": {
              "fillmode": "overlay",
              "size": 10,
              "solidity": 0.2
             }
            },
            "type": "barpolar"
           }
          ],
          "carpet": [
           {
            "aaxis": {
             "endlinecolor": "#2a3f5f",
             "gridcolor": "white",
             "linecolor": "white",
             "minorgridcolor": "white",
             "startlinecolor": "#2a3f5f"
            },
            "baxis": {
             "endlinecolor": "#2a3f5f",
             "gridcolor": "white",
             "linecolor": "white",
             "minorgridcolor": "white",
             "startlinecolor": "#2a3f5f"
            },
            "type": "carpet"
           }
          ],
          "choropleth": [
           {
            "colorbar": {
             "outlinewidth": 0,
             "ticks": ""
            },
            "type": "choropleth"
           }
          ],
          "contour": [
           {
            "colorbar": {
             "outlinewidth": 0,
             "ticks": ""
            },
            "colorscale": [
             [
              0,
              "#0d0887"
             ],
             [
              0.1111111111111111,
              "#46039f"
             ],
             [
              0.2222222222222222,
              "#7201a8"
             ],
             [
              0.3333333333333333,
              "#9c179e"
             ],
             [
              0.4444444444444444,
              "#bd3786"
             ],
             [
              0.5555555555555556,
              "#d8576b"
             ],
             [
              0.6666666666666666,
              "#ed7953"
             ],
             [
              0.7777777777777778,
              "#fb9f3a"
             ],
             [
              0.8888888888888888,
              "#fdca26"
             ],
             [
              1,
              "#f0f921"
             ]
            ],
            "type": "contour"
           }
          ],
          "contourcarpet": [
           {
            "colorbar": {
             "outlinewidth": 0,
             "ticks": ""
            },
            "type": "contourcarpet"
           }
          ],
          "heatmap": [
           {
            "colorbar": {
             "outlinewidth": 0,
             "ticks": ""
            },
            "colorscale": [
             [
              0,
              "#0d0887"
             ],
             [
              0.1111111111111111,
              "#46039f"
             ],
             [
              0.2222222222222222,
              "#7201a8"
             ],
             [
              0.3333333333333333,
              "#9c179e"
             ],
             [
              0.4444444444444444,
              "#bd3786"
             ],
             [
              0.5555555555555556,
              "#d8576b"
             ],
             [
              0.6666666666666666,
              "#ed7953"
             ],
             [
              0.7777777777777778,
              "#fb9f3a"
             ],
             [
              0.8888888888888888,
              "#fdca26"
             ],
             [
              1,
              "#f0f921"
             ]
            ],
            "type": "heatmap"
           }
          ],
          "heatmapgl": [
           {
            "colorbar": {
             "outlinewidth": 0,
             "ticks": ""
            },
            "colorscale": [
             [
              0,
              "#0d0887"
             ],
             [
              0.1111111111111111,
              "#46039f"
             ],
             [
              0.2222222222222222,
              "#7201a8"
             ],
             [
              0.3333333333333333,
              "#9c179e"
             ],
             [
              0.4444444444444444,
              "#bd3786"
             ],
             [
              0.5555555555555556,
              "#d8576b"
             ],
             [
              0.6666666666666666,
              "#ed7953"
             ],
             [
              0.7777777777777778,
              "#fb9f3a"
             ],
             [
              0.8888888888888888,
              "#fdca26"
             ],
             [
              1,
              "#f0f921"
             ]
            ],
            "type": "heatmapgl"
           }
          ],
          "histogram": [
           {
            "marker": {
             "pattern": {
              "fillmode": "overlay",
              "size": 10,
              "solidity": 0.2
             }
            },
            "type": "histogram"
           }
          ],
          "histogram2d": [
           {
            "colorbar": {
             "outlinewidth": 0,
             "ticks": ""
            },
            "colorscale": [
             [
              0,
              "#0d0887"
             ],
             [
              0.1111111111111111,
              "#46039f"
             ],
             [
              0.2222222222222222,
              "#7201a8"
             ],
             [
              0.3333333333333333,
              "#9c179e"
             ],
             [
              0.4444444444444444,
              "#bd3786"
             ],
             [
              0.5555555555555556,
              "#d8576b"
             ],
             [
              0.6666666666666666,
              "#ed7953"
             ],
             [
              0.7777777777777778,
              "#fb9f3a"
             ],
             [
              0.8888888888888888,
              "#fdca26"
             ],
             [
              1,
              "#f0f921"
             ]
            ],
            "type": "histogram2d"
           }
          ],
          "histogram2dcontour": [
           {
            "colorbar": {
             "outlinewidth": 0,
             "ticks": ""
            },
            "colorscale": [
             [
              0,
              "#0d0887"
             ],
             [
              0.1111111111111111,
              "#46039f"
             ],
             [
              0.2222222222222222,
              "#7201a8"
             ],
             [
              0.3333333333333333,
              "#9c179e"
             ],
             [
              0.4444444444444444,
              "#bd3786"
             ],
             [
              0.5555555555555556,
              "#d8576b"
             ],
             [
              0.6666666666666666,
              "#ed7953"
             ],
             [
              0.7777777777777778,
              "#fb9f3a"
             ],
             [
              0.8888888888888888,
              "#fdca26"
             ],
             [
              1,
              "#f0f921"
             ]
            ],
            "type": "histogram2dcontour"
           }
          ],
          "mesh3d": [
           {
            "colorbar": {
             "outlinewidth": 0,
             "ticks": ""
            },
            "type": "mesh3d"
           }
          ],
          "parcoords": [
           {
            "line": {
             "colorbar": {
              "outlinewidth": 0,
              "ticks": ""
             }
            },
            "type": "parcoords"
           }
          ],
          "pie": [
           {
            "automargin": true,
            "type": "pie"
           }
          ],
          "scatter": [
           {
            "marker": {
             "colorbar": {
              "outlinewidth": 0,
              "ticks": ""
             }
            },
            "type": "scatter"
           }
          ],
          "scatter3d": [
           {
            "line": {
             "colorbar": {
              "outlinewidth": 0,
              "ticks": ""
             }
            },
            "marker": {
             "colorbar": {
              "outlinewidth": 0,
              "ticks": ""
             }
            },
            "type": "scatter3d"
           }
          ],
          "scattercarpet": [
           {
            "marker": {
             "colorbar": {
              "outlinewidth": 0,
              "ticks": ""
             }
            },
            "type": "scattercarpet"
           }
          ],
          "scattergeo": [
           {
            "marker": {
             "colorbar": {
              "outlinewidth": 0,
              "ticks": ""
             }
            },
            "type": "scattergeo"
           }
          ],
          "scattergl": [
           {
            "marker": {
             "colorbar": {
              "outlinewidth": 0,
              "ticks": ""
             }
            },
            "type": "scattergl"
           }
          ],
          "scattermapbox": [
           {
            "marker": {
             "colorbar": {
              "outlinewidth": 0,
              "ticks": ""
             }
            },
            "type": "scattermapbox"
           }
          ],
          "scatterpolar": [
           {
            "marker": {
             "colorbar": {
              "outlinewidth": 0,
              "ticks": ""
             }
            },
            "type": "scatterpolar"
           }
          ],
          "scatterpolargl": [
           {
            "marker": {
             "colorbar": {
              "outlinewidth": 0,
              "ticks": ""
             }
            },
            "type": "scatterpolargl"
           }
          ],
          "scatterternary": [
           {
            "marker": {
             "colorbar": {
              "outlinewidth": 0,
              "ticks": ""
             }
            },
            "type": "scatterternary"
           }
          ],
          "surface": [
           {
            "colorbar": {
             "outlinewidth": 0,
             "ticks": ""
            },
            "colorscale": [
             [
              0,
              "#0d0887"
             ],
             [
              0.1111111111111111,
              "#46039f"
             ],
             [
              0.2222222222222222,
              "#7201a8"
             ],
             [
              0.3333333333333333,
              "#9c179e"
             ],
             [
              0.4444444444444444,
              "#bd3786"
             ],
             [
              0.5555555555555556,
              "#d8576b"
             ],
             [
              0.6666666666666666,
              "#ed7953"
             ],
             [
              0.7777777777777778,
              "#fb9f3a"
             ],
             [
              0.8888888888888888,
              "#fdca26"
             ],
             [
              1,
              "#f0f921"
             ]
            ],
            "type": "surface"
           }
          ],
          "table": [
           {
            "cells": {
             "fill": {
              "color": "#EBF0F8"
             },
             "line": {
              "color": "white"
             }
            },
            "header": {
             "fill": {
              "color": "#C8D4E3"
             },
             "line": {
              "color": "white"
             }
            },
            "type": "table"
           }
          ]
         },
         "layout": {
          "annotationdefaults": {
           "arrowcolor": "#2a3f5f",
           "arrowhead": 0,
           "arrowwidth": 1
          },
          "autotypenumbers": "strict",
          "coloraxis": {
           "colorbar": {
            "outlinewidth": 0,
            "ticks": ""
           }
          },
          "colorscale": {
           "diverging": [
            [
             0,
             "#8e0152"
            ],
            [
             0.1,
             "#c51b7d"
            ],
            [
             0.2,
             "#de77ae"
            ],
            [
             0.3,
             "#f1b6da"
            ],
            [
             0.4,
             "#fde0ef"
            ],
            [
             0.5,
             "#f7f7f7"
            ],
            [
             0.6,
             "#e6f5d0"
            ],
            [
             0.7,
             "#b8e186"
            ],
            [
             0.8,
             "#7fbc41"
            ],
            [
             0.9,
             "#4d9221"
            ],
            [
             1,
             "#276419"
            ]
           ],
           "sequential": [
            [
             0,
             "#0d0887"
            ],
            [
             0.1111111111111111,
             "#46039f"
            ],
            [
             0.2222222222222222,
             "#7201a8"
            ],
            [
             0.3333333333333333,
             "#9c179e"
            ],
            [
             0.4444444444444444,
             "#bd3786"
            ],
            [
             0.5555555555555556,
             "#d8576b"
            ],
            [
             0.6666666666666666,
             "#ed7953"
            ],
            [
             0.7777777777777778,
             "#fb9f3a"
            ],
            [
             0.8888888888888888,
             "#fdca26"
            ],
            [
             1,
             "#f0f921"
            ]
           ],
           "sequentialminus": [
            [
             0,
             "#0d0887"
            ],
            [
             0.1111111111111111,
             "#46039f"
            ],
            [
             0.2222222222222222,
             "#7201a8"
            ],
            [
             0.3333333333333333,
             "#9c179e"
            ],
            [
             0.4444444444444444,
             "#bd3786"
            ],
            [
             0.5555555555555556,
             "#d8576b"
            ],
            [
             0.6666666666666666,
             "#ed7953"
            ],
            [
             0.7777777777777778,
             "#fb9f3a"
            ],
            [
             0.8888888888888888,
             "#fdca26"
            ],
            [
             1,
             "#f0f921"
            ]
           ]
          },
          "colorway": [
           "#636efa",
           "#EF553B",
           "#00cc96",
           "#ab63fa",
           "#FFA15A",
           "#19d3f3",
           "#FF6692",
           "#B6E880",
           "#FF97FF",
           "#FECB52"
          ],
          "font": {
           "color": "#2a3f5f"
          },
          "geo": {
           "bgcolor": "white",
           "lakecolor": "white",
           "landcolor": "#E5ECF6",
           "showlakes": true,
           "showland": true,
           "subunitcolor": "white"
          },
          "hoverlabel": {
           "align": "left"
          },
          "hovermode": "closest",
          "mapbox": {
           "style": "light"
          },
          "paper_bgcolor": "white",
          "plot_bgcolor": "#E5ECF6",
          "polar": {
           "angularaxis": {
            "gridcolor": "white",
            "linecolor": "white",
            "ticks": ""
           },
           "bgcolor": "#E5ECF6",
           "radialaxis": {
            "gridcolor": "white",
            "linecolor": "white",
            "ticks": ""
           }
          },
          "scene": {
           "xaxis": {
            "backgroundcolor": "#E5ECF6",
            "gridcolor": "white",
            "gridwidth": 2,
            "linecolor": "white",
            "showbackground": true,
            "ticks": "",
            "zerolinecolor": "white"
           },
           "yaxis": {
            "backgroundcolor": "#E5ECF6",
            "gridcolor": "white",
            "gridwidth": 2,
            "linecolor": "white",
            "showbackground": true,
            "ticks": "",
            "zerolinecolor": "white"
           },
           "zaxis": {
            "backgroundcolor": "#E5ECF6",
            "gridcolor": "white",
            "gridwidth": 2,
            "linecolor": "white",
            "showbackground": true,
            "ticks": "",
            "zerolinecolor": "white"
           }
          },
          "shapedefaults": {
           "line": {
            "color": "#2a3f5f"
           }
          },
          "ternary": {
           "aaxis": {
            "gridcolor": "white",
            "linecolor": "white",
            "ticks": ""
           },
           "baxis": {
            "gridcolor": "white",
            "linecolor": "white",
            "ticks": ""
           },
           "bgcolor": "#E5ECF6",
           "caxis": {
            "gridcolor": "white",
            "linecolor": "white",
            "ticks": ""
           }
          },
          "title": {
           "x": 0.05
          },
          "xaxis": {
           "automargin": true,
           "gridcolor": "white",
           "linecolor": "white",
           "ticks": "",
           "title": {
            "standoff": 15
           },
           "zerolinecolor": "white",
           "zerolinewidth": 2
          },
          "yaxis": {
           "automargin": true,
           "gridcolor": "white",
           "linecolor": "white",
           "ticks": "",
           "title": {
            "standoff": 15
           },
           "zerolinecolor": "white",
           "zerolinewidth": 2
          }
         }
        },
        "title": {
         "font": {
          "color": "#4D5663"
         }
        },
        "xaxis": {
         "anchor": "y",
         "domain": [
          0,
          0.2125
         ],
         "gridcolor": "#E1E5ED",
         "showgrid": false,
         "tickfont": {
          "color": "#4D5663"
         },
         "title": {
          "font": {
           "color": "#4D5663"
          },
          "text": ""
         },
         "zerolinecolor": "#E1E5ED"
        },
        "xaxis10": {
         "anchor": "y10",
         "domain": [
          0.2625,
          0.475
         ],
         "gridcolor": "#E1E5ED",
         "showgrid": false,
         "tickfont": {
          "color": "#4D5663"
         },
         "title": {
          "font": {
           "color": "#4D5663"
          },
          "text": ""
         },
         "zerolinecolor": "#E1E5ED"
        },
        "xaxis11": {
         "anchor": "y11",
         "domain": [
          0.525,
          0.7375
         ],
         "gridcolor": "#E1E5ED",
         "showgrid": false,
         "tickfont": {
          "color": "#4D5663"
         },
         "title": {
          "font": {
           "color": "#4D5663"
          },
          "text": ""
         },
         "zerolinecolor": "#E1E5ED"
        },
        "xaxis12": {
         "anchor": "y12",
         "domain": [
          0.7875,
          1
         ],
         "gridcolor": "#E1E5ED",
         "showgrid": false,
         "tickfont": {
          "color": "#4D5663"
         },
         "title": {
          "font": {
           "color": "#4D5663"
          },
          "text": ""
         },
         "zerolinecolor": "#E1E5ED"
        },
        "xaxis13": {
         "anchor": "y13",
         "domain": [
          0,
          0.2125
         ],
         "gridcolor": "#E1E5ED",
         "showgrid": false,
         "tickfont": {
          "color": "#4D5663"
         },
         "title": {
          "font": {
           "color": "#4D5663"
          },
          "text": ""
         },
         "zerolinecolor": "#E1E5ED"
        },
        "xaxis14": {
         "anchor": "y14",
         "domain": [
          0.2625,
          0.475
         ],
         "gridcolor": "#E1E5ED",
         "showgrid": false,
         "tickfont": {
          "color": "#4D5663"
         },
         "title": {
          "font": {
           "color": "#4D5663"
          },
          "text": ""
         },
         "zerolinecolor": "#E1E5ED"
        },
        "xaxis15": {
         "anchor": "y15",
         "domain": [
          0.525,
          0.7375
         ],
         "gridcolor": "#E1E5ED",
         "showgrid": false,
         "tickfont": {
          "color": "#4D5663"
         },
         "title": {
          "font": {
           "color": "#4D5663"
          },
          "text": ""
         },
         "zerolinecolor": "#E1E5ED"
        },
        "xaxis16": {
         "anchor": "y16",
         "domain": [
          0.7875,
          1
         ],
         "gridcolor": "#E1E5ED",
         "showgrid": false,
         "tickfont": {
          "color": "#4D5663"
         },
         "title": {
          "font": {
           "color": "#4D5663"
          },
          "text": ""
         },
         "zerolinecolor": "#E1E5ED"
        },
        "xaxis2": {
         "anchor": "y2",
         "domain": [
          0.2625,
          0.475
         ],
         "gridcolor": "#E1E5ED",
         "showgrid": false,
         "tickfont": {
          "color": "#4D5663"
         },
         "title": {
          "font": {
           "color": "#4D5663"
          },
          "text": ""
         },
         "zerolinecolor": "#E1E5ED"
        },
        "xaxis3": {
         "anchor": "y3",
         "domain": [
          0.525,
          0.7375
         ],
         "gridcolor": "#E1E5ED",
         "showgrid": false,
         "tickfont": {
          "color": "#4D5663"
         },
         "title": {
          "font": {
           "color": "#4D5663"
          },
          "text": ""
         },
         "zerolinecolor": "#E1E5ED"
        },
        "xaxis4": {
         "anchor": "y4",
         "domain": [
          0.7875,
          1
         ],
         "gridcolor": "#E1E5ED",
         "showgrid": false,
         "tickfont": {
          "color": "#4D5663"
         },
         "title": {
          "font": {
           "color": "#4D5663"
          },
          "text": ""
         },
         "zerolinecolor": "#E1E5ED"
        },
        "xaxis5": {
         "anchor": "y5",
         "domain": [
          0,
          0.2125
         ],
         "gridcolor": "#E1E5ED",
         "showgrid": false,
         "tickfont": {
          "color": "#4D5663"
         },
         "title": {
          "font": {
           "color": "#4D5663"
          },
          "text": ""
         },
         "zerolinecolor": "#E1E5ED"
        },
        "xaxis6": {
         "anchor": "y6",
         "domain": [
          0.2625,
          0.475
         ],
         "gridcolor": "#E1E5ED",
         "showgrid": false,
         "tickfont": {
          "color": "#4D5663"
         },
         "title": {
          "font": {
           "color": "#4D5663"
          },
          "text": ""
         },
         "zerolinecolor": "#E1E5ED"
        },
        "xaxis7": {
         "anchor": "y7",
         "domain": [
          0.525,
          0.7375
         ],
         "gridcolor": "#E1E5ED",
         "showgrid": false,
         "tickfont": {
          "color": "#4D5663"
         },
         "title": {
          "font": {
           "color": "#4D5663"
          },
          "text": ""
         },
         "zerolinecolor": "#E1E5ED"
        },
        "xaxis8": {
         "anchor": "y8",
         "domain": [
          0.7875,
          1
         ],
         "gridcolor": "#E1E5ED",
         "showgrid": false,
         "tickfont": {
          "color": "#4D5663"
         },
         "title": {
          "font": {
           "color": "#4D5663"
          },
          "text": ""
         },
         "zerolinecolor": "#E1E5ED"
        },
        "xaxis9": {
         "anchor": "y9",
         "domain": [
          0,
          0.2125
         ],
         "gridcolor": "#E1E5ED",
         "showgrid": false,
         "tickfont": {
          "color": "#4D5663"
         },
         "title": {
          "font": {
           "color": "#4D5663"
          },
          "text": ""
         },
         "zerolinecolor": "#E1E5ED"
        },
        "yaxis": {
         "anchor": "x",
         "domain": [
          0.8025,
          1
         ],
         "gridcolor": "#E1E5ED",
         "showgrid": false,
         "tickfont": {
          "color": "#4D5663"
         },
         "title": {
          "font": {
           "color": "#4D5663"
          },
          "text": ""
         },
         "zerolinecolor": "#E1E5ED"
        },
        "yaxis10": {
         "anchor": "x10",
         "domain": [
          0.2675,
          0.465
         ],
         "gridcolor": "#E1E5ED",
         "showgrid": false,
         "tickfont": {
          "color": "#4D5663"
         },
         "title": {
          "font": {
           "color": "#4D5663"
          },
          "text": ""
         },
         "zerolinecolor": "#E1E5ED"
        },
        "yaxis11": {
         "anchor": "x11",
         "domain": [
          0.2675,
          0.465
         ],
         "gridcolor": "#E1E5ED",
         "showgrid": false,
         "tickfont": {
          "color": "#4D5663"
         },
         "title": {
          "font": {
           "color": "#4D5663"
          },
          "text": ""
         },
         "zerolinecolor": "#E1E5ED"
        },
        "yaxis12": {
         "anchor": "x12",
         "domain": [
          0.2675,
          0.465
         ],
         "gridcolor": "#E1E5ED",
         "showgrid": false,
         "tickfont": {
          "color": "#4D5663"
         },
         "title": {
          "font": {
           "color": "#4D5663"
          },
          "text": ""
         },
         "zerolinecolor": "#E1E5ED"
        },
        "yaxis13": {
         "anchor": "x13",
         "domain": [
          0,
          0.1975
         ],
         "gridcolor": "#E1E5ED",
         "showgrid": false,
         "tickfont": {
          "color": "#4D5663"
         },
         "title": {
          "font": {
           "color": "#4D5663"
          },
          "text": ""
         },
         "zerolinecolor": "#E1E5ED"
        },
        "yaxis14": {
         "anchor": "x14",
         "domain": [
          0,
          0.1975
         ],
         "gridcolor": "#E1E5ED",
         "showgrid": false,
         "tickfont": {
          "color": "#4D5663"
         },
         "title": {
          "font": {
           "color": "#4D5663"
          },
          "text": ""
         },
         "zerolinecolor": "#E1E5ED"
        },
        "yaxis15": {
         "anchor": "x15",
         "domain": [
          0,
          0.1975
         ],
         "gridcolor": "#E1E5ED",
         "showgrid": false,
         "tickfont": {
          "color": "#4D5663"
         },
         "title": {
          "font": {
           "color": "#4D5663"
          },
          "text": ""
         },
         "zerolinecolor": "#E1E5ED"
        },
        "yaxis16": {
         "anchor": "x16",
         "domain": [
          0,
          0.1975
         ],
         "gridcolor": "#E1E5ED",
         "showgrid": false,
         "tickfont": {
          "color": "#4D5663"
         },
         "title": {
          "font": {
           "color": "#4D5663"
          },
          "text": ""
         },
         "zerolinecolor": "#E1E5ED"
        },
        "yaxis2": {
         "anchor": "x2",
         "domain": [
          0.8025,
          1
         ],
         "gridcolor": "#E1E5ED",
         "showgrid": false,
         "tickfont": {
          "color": "#4D5663"
         },
         "title": {
          "font": {
           "color": "#4D5663"
          },
          "text": ""
         },
         "zerolinecolor": "#E1E5ED"
        },
        "yaxis3": {
         "anchor": "x3",
         "domain": [
          0.8025,
          1
         ],
         "gridcolor": "#E1E5ED",
         "showgrid": false,
         "tickfont": {
          "color": "#4D5663"
         },
         "title": {
          "font": {
           "color": "#4D5663"
          },
          "text": ""
         },
         "zerolinecolor": "#E1E5ED"
        },
        "yaxis4": {
         "anchor": "x4",
         "domain": [
          0.8025,
          1
         ],
         "gridcolor": "#E1E5ED",
         "showgrid": false,
         "tickfont": {
          "color": "#4D5663"
         },
         "title": {
          "font": {
           "color": "#4D5663"
          },
          "text": ""
         },
         "zerolinecolor": "#E1E5ED"
        },
        "yaxis5": {
         "anchor": "x5",
         "domain": [
          0.535,
          0.7325
         ],
         "gridcolor": "#E1E5ED",
         "showgrid": false,
         "tickfont": {
          "color": "#4D5663"
         },
         "title": {
          "font": {
           "color": "#4D5663"
          },
          "text": ""
         },
         "zerolinecolor": "#E1E5ED"
        },
        "yaxis6": {
         "anchor": "x6",
         "domain": [
          0.535,
          0.7325
         ],
         "gridcolor": "#E1E5ED",
         "showgrid": false,
         "tickfont": {
          "color": "#4D5663"
         },
         "title": {
          "font": {
           "color": "#4D5663"
          },
          "text": ""
         },
         "zerolinecolor": "#E1E5ED"
        },
        "yaxis7": {
         "anchor": "x7",
         "domain": [
          0.535,
          0.7325
         ],
         "gridcolor": "#E1E5ED",
         "showgrid": false,
         "tickfont": {
          "color": "#4D5663"
         },
         "title": {
          "font": {
           "color": "#4D5663"
          },
          "text": ""
         },
         "zerolinecolor": "#E1E5ED"
        },
        "yaxis8": {
         "anchor": "x8",
         "domain": [
          0.535,
          0.7325
         ],
         "gridcolor": "#E1E5ED",
         "showgrid": false,
         "tickfont": {
          "color": "#4D5663"
         },
         "title": {
          "font": {
           "color": "#4D5663"
          },
          "text": ""
         },
         "zerolinecolor": "#E1E5ED"
        },
        "yaxis9": {
         "anchor": "x9",
         "domain": [
          0.2675,
          0.465
         ],
         "gridcolor": "#E1E5ED",
         "showgrid": false,
         "tickfont": {
          "color": "#4D5663"
         },
         "title": {
          "font": {
           "color": "#4D5663"
          },
          "text": ""
         },
         "zerolinecolor": "#E1E5ED"
        }
       }
      },
      "text/html": [
       "<div>                            <div id=\"1d6aa465-c14e-44f7-8102-ef6aa71d344c\" class=\"plotly-graph-div\" style=\"height:525px; width:100%;\"></div>            <script type=\"text/javascript\">                require([\"plotly\"], function(Plotly) {                    window.PLOTLYENV=window.PLOTLYENV || {};\n",
       "                    window.PLOTLYENV.BASE_URL='https://plot.ly';                                    if (document.getElementById(\"1d6aa465-c14e-44f7-8102-ef6aa71d344c\")) {                    Plotly.newPlot(                        \"1d6aa465-c14e-44f7-8102-ef6aa71d344c\",                        [{\"histfunc\":\"count\",\"histnorm\":\"\",\"marker\":{\"color\":\"rgba(255, 153, 51, 1.0)\",\"line\":{\"color\":\"#4D5663\",\"width\":1.3}},\"name\":\"A\",\"nbinsx\":10,\"opacity\":0.8,\"orientation\":\"v\",\"x\":[-1.5470379470686257,-0.3866827505899728,0.05907767532625553,1.3528949385329836,-0.2446134380889313,-2.406380574789591,-0.2816288308863832,0.4275053609457478,-0.5819392334941368,0.7569495452421476,0.6453177603325179,0.57422805107268,1.3148995288538112,0.220666189826017,-0.2839870046920182,0.7140778562736044,1.2652541519683163,-0.5332706279507585,-1.99742682090396,0.4405887301243418,1.6892743646745116,-0.19165751288169328,0.5104035641178164,1.3803225460438007,0.16703348752209532,-0.285872723137153,-0.2049482645233315,-0.6179469943011561,0.6032652329988165,0.05057590325797419,-1.3294185799763285,0.578716171231639,-1.6111718252564509,-0.7525916016188796,0.8249183497350251,-0.015267594448878615,-2.0692673026355326,0.6428908175911534,1.7655572451119899,2.031329227063635,-1.466347474243045,1.6401369002649178,-0.34019045909674234,0.8635745180435763,-0.41744886551989835,-0.10163440297958373,0.7703425064697068,1.4689212890171626,-0.23433370060897665,-1.3258769200955578,-1.1718941254219373,0.801932550048809,1.448807734284354,0.9847030866880221,0.3376184172512405,-1.5242713825393606,0.7027628372435865,-0.2791683192032702,0.020488303009922777,0.820619688063049,-0.36218158301404263,0.14617037002964653,1.6718586124907957,0.6705673605246165,0.27828495652272867,0.20926566932783422,-1.9184096983655765,-0.6402371208591136,-0.08170770033706065,-0.06808155063387622,-1.38010522374821,0.39561517267437496,0.7531494990024865,-0.6283031170433298,-1.8242056728883924,0.9256295159513197,1.2767649316415697,0.18525786624729326,0.5745200766324614,0.8337022049758677,-0.3243762742733441,0.4824787010648017,-0.1608409373329267,1.8793431047865878,0.3314905561931448,-0.29036873392865464,0.7482402104538096,0.49709639164898334,0.21495382334267585,1.0208806180216834,-0.03170735862101034,-2.5312495750725925,2.1046549936147385,-0.1046128281488064,-0.3285804840215899,0.24177836912715794,0.05569559765452582,-0.762999801993306,-0.6164640215496762,-1.8421776428608174],\"xaxis\":\"x\",\"yaxis\":\"y\",\"type\":\"histogram\"},{\"line\":{\"color\":\"rgba(128, 128, 128, 1.0)\",\"dash\":\"solid\",\"shape\":\"linear\",\"width\":1.3},\"marker\":{\"size\":2,\"symbol\":\"circle\"},\"mode\":\"markers\",\"name\":\"A\",\"text\":\"\",\"x\":[-0.17932026330190684,0.34198544751858234,-1.2713269129457325,0.0016652786409217964,1.4803864821833077,-0.2836750888514914,-1.4155538362514601,-0.5739661271236048,-0.35744198935824456,-0.8994230904876396,0.6991253544572609,-0.874793148785467,-0.39153074019047707,-0.880394830638912,0.4995926613587126,0.6293698296553195,1.3544469494098934,0.4810071047022162,-0.40595170495224314,0.09622342847254901,0.43681638785495297,-0.7536552634789734,0.46515551350074097,-0.4107904278107822,-0.667536213298158,-0.644002357567441,0.3279416680591974,-0.35640426241977324,0.7192398636967984,-0.3544851170731683,0.08830059864042557,0.030758743727376085,0.8935198532569544,0.3892696875617487,0.3237375347818951,0.6041497331006355,-0.40400232746982956,1.8468632501683382,-0.029077327946170142,0.25908762161059545,0.8679450620220365,0.967081274178919,1.80357447518855,0.7548651304368754,-0.5513298895031992,1.3705646354783096,0.8589382061452533,-1.0947470720924772,0.765715570102174,0.2385720284350847,-0.5320081762202075,-2.1047278011907666,-0.22838874539262682,-1.0758351304521767,0.6994286964722767,1.1983555883520542,1.8709137281616257,0.3346340175992276,1.179301597937332,-1.9309090060954557,-1.0881323911298968,0.0925198558216795,-0.6780781717104581,0.6074641297220856,1.0533655951830938,0.8330378584588016,-0.5385028983342077,-1.5582948613417311,0.5633831011807973,0.296668625167125,-0.9065113935632445,-0.21770298654540515,-0.18554362127577312,0.8460395539141479,-0.06587075962834432,-1.3271566677311997,0.25495202389316673,-0.6747528477615352,-1.435892609276357,-0.960122176589752,-0.3454127480759408,0.4072393867432423,-1.338046384045666,0.5103799524326336,1.4224780373575563,0.5088221930699162,0.03356517523728443,0.45970454247660264,1.2459543043789276,0.2505549812457923,0.259785611079415,0.5130794204738841,2.8931347231761175,-0.08760616578299192,-1.1963390674150716,0.8284380378357371,1.0897731639265282,3.2145514299528397,0.5444588734985717,-1.5142056829390005],\"xaxis\":\"x2\",\"y\":[-1.5470379470686257,-0.3866827505899728,0.05907767532625553,1.3528949385329836,-0.2446134380889313,-2.406380574789591,-0.2816288308863832,0.4275053609457478,-0.5819392334941368,0.7569495452421476,0.6453177603325179,0.57422805107268,1.3148995288538112,0.220666189826017,-0.2839870046920182,0.7140778562736044,1.2652541519683163,-0.5332706279507585,-1.99742682090396,0.4405887301243418,1.6892743646745116,-0.19165751288169328,0.5104035641178164,1.3803225460438007,0.16703348752209532,-0.285872723137153,-0.2049482645233315,-0.6179469943011561,0.6032652329988165,0.05057590325797419,-1.3294185799763285,0.578716171231639,-1.6111718252564509,-0.7525916016188796,0.8249183497350251,-0.015267594448878615,-2.0692673026355326,0.6428908175911534,1.7655572451119899,2.031329227063635,-1.466347474243045,1.6401369002649178,-0.34019045909674234,0.8635745180435763,-0.41744886551989835,-0.10163440297958373,0.7703425064697068,1.4689212890171626,-0.23433370060897665,-1.3258769200955578,-1.1718941254219373,0.801932550048809,1.448807734284354,0.9847030866880221,0.3376184172512405,-1.5242713825393606,0.7027628372435865,-0.2791683192032702,0.020488303009922777,0.820619688063049,-0.36218158301404263,0.14617037002964653,1.6718586124907957,0.6705673605246165,0.27828495652272867,0.20926566932783422,-1.9184096983655765,-0.6402371208591136,-0.08170770033706065,-0.06808155063387622,-1.38010522374821,0.39561517267437496,0.7531494990024865,-0.6283031170433298,-1.8242056728883924,0.9256295159513197,1.2767649316415697,0.18525786624729326,0.5745200766324614,0.8337022049758677,-0.3243762742733441,0.4824787010648017,-0.1608409373329267,1.8793431047865878,0.3314905561931448,-0.29036873392865464,0.7482402104538096,0.49709639164898334,0.21495382334267585,1.0208806180216834,-0.03170735862101034,-2.5312495750725925,2.1046549936147385,-0.1046128281488064,-0.3285804840215899,0.24177836912715794,0.05569559765452582,-0.762999801993306,-0.6164640215496762,-1.8421776428608174],\"yaxis\":\"y2\",\"type\":\"scatter\"},{\"line\":{\"color\":\"rgba(128, 128, 128, 1.0)\",\"dash\":\"solid\",\"shape\":\"linear\",\"width\":1.3},\"marker\":{\"size\":2,\"symbol\":\"circle\"},\"mode\":\"markers\",\"name\":\"A\",\"text\":\"\",\"x\":[-0.8827337164904582,-1.8364531539319333,0.8082687682781682,0.6289536187563297,0.13738826055039535,-0.48702056371183133,-0.4662976847342923,-0.7015128306413758,-2.075792831188183,1.1176300474724994,0.9671408679228939,0.3868725572827184,1.2346153433668805,-0.9703164223331473,1.9817729912124495,-0.7776807674549705,1.0904074274491107,0.10563209017692979,-1.5907909212167808,1.0082636128241178,-0.3353296165270854,-0.7591345840064578,0.7742601105711353,1.1467958848004252,0.9200633767725459,0.7346362265663221,-0.8139337677173419,-0.5546883808219134,0.2764431453193479,-0.95215237627935,-0.07095272199313353,-0.520697352733301,-0.4340839633081928,-1.0466663533478058,1.2543681127605029,0.8666311142299339,-0.3518608740488995,-0.43880066086130814,0.42178024324125096,1.299203464296593,-0.15407331280936215,-0.6075954511987632,-0.31243377106445835,-0.3299566935335466,-0.8873057264322378,0.04679665624628326,-0.12976410822364787,0.6617216984182405,0.2677726756401323,0.36854030491480244,1.0834360202988516,-0.5358001827681771,1.3566403293736051,1.3232084208589134,-0.9200288536262442,0.4035164337882321,1.457756930269989,-0.48177075689597204,-0.10253003630182166,-1.1087611194830596,1.2405184299530734,-1.1613026903681023,-0.21807727298806873,2.073990265406395,-0.12142871305310494,-1.130168455585731,0.6737067936121557,-0.5226892924994307,0.9439193803151366,-0.9443041315154184,-0.5173949214588162,0.35076467768349945,-0.1268157260701168,1.5232667086176082,-0.42512384149961735,-1.2916065855294245,-0.2895713037165531,0.5519442699233186,1.6307332488054225,0.49046965386208186,-1.5335496821072878,-0.4633643003770435,-0.7016934868574808,-0.2487663579333527,0.31110876877089483,-1.7132404041523144,1.057646417962785,-0.1528239791025941,-0.699145591330207,-1.7823629346489065,-0.11037143237132825,0.5125188565494171,0.4533917864601765,-0.6654675164735756,1.6813259994038556,-0.995626301686294,0.484448176581966,-0.9251656585866519,-0.41487414299947856,1.3509865271705759],\"xaxis\":\"x3\",\"y\":[-1.5470379470686257,-0.3866827505899728,0.05907767532625553,1.3528949385329836,-0.2446134380889313,-2.406380574789591,-0.2816288308863832,0.4275053609457478,-0.5819392334941368,0.7569495452421476,0.6453177603325179,0.57422805107268,1.3148995288538112,0.220666189826017,-0.2839870046920182,0.7140778562736044,1.2652541519683163,-0.5332706279507585,-1.99742682090396,0.4405887301243418,1.6892743646745116,-0.19165751288169328,0.5104035641178164,1.3803225460438007,0.16703348752209532,-0.285872723137153,-0.2049482645233315,-0.6179469943011561,0.6032652329988165,0.05057590325797419,-1.3294185799763285,0.578716171231639,-1.6111718252564509,-0.7525916016188796,0.8249183497350251,-0.015267594448878615,-2.0692673026355326,0.6428908175911534,1.7655572451119899,2.031329227063635,-1.466347474243045,1.6401369002649178,-0.34019045909674234,0.8635745180435763,-0.41744886551989835,-0.10163440297958373,0.7703425064697068,1.4689212890171626,-0.23433370060897665,-1.3258769200955578,-1.1718941254219373,0.801932550048809,1.448807734284354,0.9847030866880221,0.3376184172512405,-1.5242713825393606,0.7027628372435865,-0.2791683192032702,0.020488303009922777,0.820619688063049,-0.36218158301404263,0.14617037002964653,1.6718586124907957,0.6705673605246165,0.27828495652272867,0.20926566932783422,-1.9184096983655765,-0.6402371208591136,-0.08170770033706065,-0.06808155063387622,-1.38010522374821,0.39561517267437496,0.7531494990024865,-0.6283031170433298,-1.8242056728883924,0.9256295159513197,1.2767649316415697,0.18525786624729326,0.5745200766324614,0.8337022049758677,-0.3243762742733441,0.4824787010648017,-0.1608409373329267,1.8793431047865878,0.3314905561931448,-0.29036873392865464,0.7482402104538096,0.49709639164898334,0.21495382334267585,1.0208806180216834,-0.03170735862101034,-2.5312495750725925,2.1046549936147385,-0.1046128281488064,-0.3285804840215899,0.24177836912715794,0.05569559765452582,-0.762999801993306,-0.6164640215496762,-1.8421776428608174],\"yaxis\":\"y3\",\"type\":\"scatter\"},{\"line\":{\"color\":\"rgba(128, 128, 128, 1.0)\",\"dash\":\"solid\",\"shape\":\"linear\",\"width\":1.3},\"marker\":{\"size\":2,\"symbol\":\"circle\"},\"mode\":\"markers\",\"name\":\"A\",\"text\":\"\",\"x\":[-0.6920880206110122,-1.1528187877583664,0.5086136006525542,-0.3215793850236674,-1.394860954443431,0.8898543007611304,0.6766517919690216,1.2415891437981637,0.5749645946153426,0.8191522907746716,-1.3401567878568013,0.004138571752962983,1.9727662152133698,1.7100298800610687,0.7905135404134748,0.5035795302927593,-0.6426516642396118,0.6107854330514066,0.10928182793825748,1.1501642674489254,-2.4740487192674028,-0.43881799465043336,-0.8094019886420079,-0.31202726037660966,-0.2236736738974433,-1.3740994147648478,-0.24299560216202182,0.32179333878077643,0.48952220272470165,0.1242364926299338,0.6655346523272315,0.2335595973186929,-1.3979047777316438,-1.1861224414071925,-0.11470463861534105,0.888977369121416,0.19762432272577532,-0.911490070227444,0.42138513877796047,-1.2392259969612873,-0.42396337197608314,-0.8040254949941189,0.5246503673076683,0.6174376551293572,0.6667732964950027,-1.624315511280616,-0.7009900507939105,-0.7566895336475554,0.4228153655438361,-0.4921515625061394,-0.28024629047864485,-0.015140262941474195,1.2599427979153641,0.5190923874462334,0.05096023773849388,1.323901428598727,1.548038022029308,-0.8155899694131572,0.9399055199142157,0.07432006820395431,1.0041698831027674,-1.20750103555811,0.859700286664465,-0.28205347737206277,-0.30401620740514995,0.16367012099450978,-1.2584412572551649,-0.325827150091203,-1.7999396554564284,-0.20307309104609228,-1.1442481553192654,0.653286239947092,0.07516392687232953,0.7521899316131974,0.5260372458993744,-1.395226916488713,0.9921908967238827,1.2418292779657578,-0.1539017470993894,0.7373886256861507,0.38834918020664827,0.2362135412776182,0.0115188899390858,-1.6415807833383291,1.8233714094438518,-0.02860208451841463,0.9508625218057386,-1.4221906894981022,0.43956758103632954,0.3276390633566963,0.5591093211320485,2.0975676475011604,0.5114912158185853,1.0926954349320122,0.09089460843272662,-0.07754270763857592,-0.23416245302275307,1.013785139194283,1.3047201740780954,0.02289887280392105],\"xaxis\":\"x4\",\"y\":[-1.5470379470686257,-0.3866827505899728,0.05907767532625553,1.3528949385329836,-0.2446134380889313,-2.406380574789591,-0.2816288308863832,0.4275053609457478,-0.5819392334941368,0.7569495452421476,0.6453177603325179,0.57422805107268,1.3148995288538112,0.220666189826017,-0.2839870046920182,0.7140778562736044,1.2652541519683163,-0.5332706279507585,-1.99742682090396,0.4405887301243418,1.6892743646745116,-0.19165751288169328,0.5104035641178164,1.3803225460438007,0.16703348752209532,-0.285872723137153,-0.2049482645233315,-0.6179469943011561,0.6032652329988165,0.05057590325797419,-1.3294185799763285,0.578716171231639,-1.6111718252564509,-0.7525916016188796,0.8249183497350251,-0.015267594448878615,-2.0692673026355326,0.6428908175911534,1.7655572451119899,2.031329227063635,-1.466347474243045,1.6401369002649178,-0.34019045909674234,0.8635745180435763,-0.41744886551989835,-0.10163440297958373,0.7703425064697068,1.4689212890171626,-0.23433370060897665,-1.3258769200955578,-1.1718941254219373,0.801932550048809,1.448807734284354,0.9847030866880221,0.3376184172512405,-1.5242713825393606,0.7027628372435865,-0.2791683192032702,0.020488303009922777,0.820619688063049,-0.36218158301404263,0.14617037002964653,1.6718586124907957,0.6705673605246165,0.27828495652272867,0.20926566932783422,-1.9184096983655765,-0.6402371208591136,-0.08170770033706065,-0.06808155063387622,-1.38010522374821,0.39561517267437496,0.7531494990024865,-0.6283031170433298,-1.8242056728883924,0.9256295159513197,1.2767649316415697,0.18525786624729326,0.5745200766324614,0.8337022049758677,-0.3243762742733441,0.4824787010648017,-0.1608409373329267,1.8793431047865878,0.3314905561931448,-0.29036873392865464,0.7482402104538096,0.49709639164898334,0.21495382334267585,1.0208806180216834,-0.03170735862101034,-2.5312495750725925,2.1046549936147385,-0.1046128281488064,-0.3285804840215899,0.24177836912715794,0.05569559765452582,-0.762999801993306,-0.6164640215496762,-1.8421776428608174],\"yaxis\":\"y4\",\"type\":\"scatter\"},{\"line\":{\"color\":\"rgba(128, 128, 128, 1.0)\",\"dash\":\"solid\",\"shape\":\"linear\",\"width\":1.3},\"marker\":{\"size\":2,\"symbol\":\"circle\"},\"mode\":\"markers\",\"name\":\"B\",\"text\":\"\",\"x\":[-1.5470379470686257,-0.3866827505899728,0.05907767532625553,1.3528949385329836,-0.2446134380889313,-2.406380574789591,-0.2816288308863832,0.4275053609457478,-0.5819392334941368,0.7569495452421476,0.6453177603325179,0.57422805107268,1.3148995288538112,0.220666189826017,-0.2839870046920182,0.7140778562736044,1.2652541519683163,-0.5332706279507585,-1.99742682090396,0.4405887301243418,1.6892743646745116,-0.19165751288169328,0.5104035641178164,1.3803225460438007,0.16703348752209532,-0.285872723137153,-0.2049482645233315,-0.6179469943011561,0.6032652329988165,0.05057590325797419,-1.3294185799763285,0.578716171231639,-1.6111718252564509,-0.7525916016188796,0.8249183497350251,-0.015267594448878615,-2.0692673026355326,0.6428908175911534,1.7655572451119899,2.031329227063635,-1.466347474243045,1.6401369002649178,-0.34019045909674234,0.8635745180435763,-0.41744886551989835,-0.10163440297958373,0.7703425064697068,1.4689212890171626,-0.23433370060897665,-1.3258769200955578,-1.1718941254219373,0.801932550048809,1.448807734284354,0.9847030866880221,0.3376184172512405,-1.5242713825393606,0.7027628372435865,-0.2791683192032702,0.020488303009922777,0.820619688063049,-0.36218158301404263,0.14617037002964653,1.6718586124907957,0.6705673605246165,0.27828495652272867,0.20926566932783422,-1.9184096983655765,-0.6402371208591136,-0.08170770033706065,-0.06808155063387622,-1.38010522374821,0.39561517267437496,0.7531494990024865,-0.6283031170433298,-1.8242056728883924,0.9256295159513197,1.2767649316415697,0.18525786624729326,0.5745200766324614,0.8337022049758677,-0.3243762742733441,0.4824787010648017,-0.1608409373329267,1.8793431047865878,0.3314905561931448,-0.29036873392865464,0.7482402104538096,0.49709639164898334,0.21495382334267585,1.0208806180216834,-0.03170735862101034,-2.5312495750725925,2.1046549936147385,-0.1046128281488064,-0.3285804840215899,0.24177836912715794,0.05569559765452582,-0.762999801993306,-0.6164640215496762,-1.8421776428608174],\"xaxis\":\"x5\",\"y\":[-0.17932026330190684,0.34198544751858234,-1.2713269129457325,0.0016652786409217964,1.4803864821833077,-0.2836750888514914,-1.4155538362514601,-0.5739661271236048,-0.35744198935824456,-0.8994230904876396,0.6991253544572609,-0.874793148785467,-0.39153074019047707,-0.880394830638912,0.4995926613587126,0.6293698296553195,1.3544469494098934,0.4810071047022162,-0.40595170495224314,0.09622342847254901,0.43681638785495297,-0.7536552634789734,0.46515551350074097,-0.4107904278107822,-0.667536213298158,-0.644002357567441,0.3279416680591974,-0.35640426241977324,0.7192398636967984,-0.3544851170731683,0.08830059864042557,0.030758743727376085,0.8935198532569544,0.3892696875617487,0.3237375347818951,0.6041497331006355,-0.40400232746982956,1.8468632501683382,-0.029077327946170142,0.25908762161059545,0.8679450620220365,0.967081274178919,1.80357447518855,0.7548651304368754,-0.5513298895031992,1.3705646354783096,0.8589382061452533,-1.0947470720924772,0.765715570102174,0.2385720284350847,-0.5320081762202075,-2.1047278011907666,-0.22838874539262682,-1.0758351304521767,0.6994286964722767,1.1983555883520542,1.8709137281616257,0.3346340175992276,1.179301597937332,-1.9309090060954557,-1.0881323911298968,0.0925198558216795,-0.6780781717104581,0.6074641297220856,1.0533655951830938,0.8330378584588016,-0.5385028983342077,-1.5582948613417311,0.5633831011807973,0.296668625167125,-0.9065113935632445,-0.21770298654540515,-0.18554362127577312,0.8460395539141479,-0.06587075962834432,-1.3271566677311997,0.25495202389316673,-0.6747528477615352,-1.435892609276357,-0.960122176589752,-0.3454127480759408,0.4072393867432423,-1.338046384045666,0.5103799524326336,1.4224780373575563,0.5088221930699162,0.03356517523728443,0.45970454247660264,1.2459543043789276,0.2505549812457923,0.259785611079415,0.5130794204738841,2.8931347231761175,-0.08760616578299192,-1.1963390674150716,0.8284380378357371,1.0897731639265282,3.2145514299528397,0.5444588734985717,-1.5142056829390005],\"yaxis\":\"y5\",\"type\":\"scatter\"},{\"histfunc\":\"count\",\"histnorm\":\"\",\"marker\":{\"color\":\"rgba(55, 128, 191, 1.0)\",\"line\":{\"color\":\"#4D5663\",\"width\":1.3}},\"name\":\"B\",\"nbinsx\":10,\"opacity\":0.8,\"orientation\":\"v\",\"x\":[-0.17932026330190684,0.34198544751858234,-1.2713269129457325,0.0016652786409217964,1.4803864821833077,-0.2836750888514914,-1.4155538362514601,-0.5739661271236048,-0.35744198935824456,-0.8994230904876396,0.6991253544572609,-0.874793148785467,-0.39153074019047707,-0.880394830638912,0.4995926613587126,0.6293698296553195,1.3544469494098934,0.4810071047022162,-0.40595170495224314,0.09622342847254901,0.43681638785495297,-0.7536552634789734,0.46515551350074097,-0.4107904278107822,-0.667536213298158,-0.644002357567441,0.3279416680591974,-0.35640426241977324,0.7192398636967984,-0.3544851170731683,0.08830059864042557,0.030758743727376085,0.8935198532569544,0.3892696875617487,0.3237375347818951,0.6041497331006355,-0.40400232746982956,1.8468632501683382,-0.029077327946170142,0.25908762161059545,0.8679450620220365,0.967081274178919,1.80357447518855,0.7548651304368754,-0.5513298895031992,1.3705646354783096,0.8589382061452533,-1.0947470720924772,0.765715570102174,0.2385720284350847,-0.5320081762202075,-2.1047278011907666,-0.22838874539262682,-1.0758351304521767,0.6994286964722767,1.1983555883520542,1.8709137281616257,0.3346340175992276,1.179301597937332,-1.9309090060954557,-1.0881323911298968,0.0925198558216795,-0.6780781717104581,0.6074641297220856,1.0533655951830938,0.8330378584588016,-0.5385028983342077,-1.5582948613417311,0.5633831011807973,0.296668625167125,-0.9065113935632445,-0.21770298654540515,-0.18554362127577312,0.8460395539141479,-0.06587075962834432,-1.3271566677311997,0.25495202389316673,-0.6747528477615352,-1.435892609276357,-0.960122176589752,-0.3454127480759408,0.4072393867432423,-1.338046384045666,0.5103799524326336,1.4224780373575563,0.5088221930699162,0.03356517523728443,0.45970454247660264,1.2459543043789276,0.2505549812457923,0.259785611079415,0.5130794204738841,2.8931347231761175,-0.08760616578299192,-1.1963390674150716,0.8284380378357371,1.0897731639265282,3.2145514299528397,0.5444588734985717,-1.5142056829390005],\"xaxis\":\"x6\",\"yaxis\":\"y6\",\"type\":\"histogram\"},{\"line\":{\"color\":\"rgba(128, 128, 128, 1.0)\",\"dash\":\"solid\",\"shape\":\"linear\",\"width\":1.3},\"marker\":{\"size\":2,\"symbol\":\"circle\"},\"mode\":\"markers\",\"name\":\"B\",\"text\":\"\",\"x\":[-0.8827337164904582,-1.8364531539319333,0.8082687682781682,0.6289536187563297,0.13738826055039535,-0.48702056371183133,-0.4662976847342923,-0.7015128306413758,-2.075792831188183,1.1176300474724994,0.9671408679228939,0.3868725572827184,1.2346153433668805,-0.9703164223331473,1.9817729912124495,-0.7776807674549705,1.0904074274491107,0.10563209017692979,-1.5907909212167808,1.0082636128241178,-0.3353296165270854,-0.7591345840064578,0.7742601105711353,1.1467958848004252,0.9200633767725459,0.7346362265663221,-0.8139337677173419,-0.5546883808219134,0.2764431453193479,-0.95215237627935,-0.07095272199313353,-0.520697352733301,-0.4340839633081928,-1.0466663533478058,1.2543681127605029,0.8666311142299339,-0.3518608740488995,-0.43880066086130814,0.42178024324125096,1.299203464296593,-0.15407331280936215,-0.6075954511987632,-0.31243377106445835,-0.3299566935335466,-0.8873057264322378,0.04679665624628326,-0.12976410822364787,0.6617216984182405,0.2677726756401323,0.36854030491480244,1.0834360202988516,-0.5358001827681771,1.3566403293736051,1.3232084208589134,-0.9200288536262442,0.4035164337882321,1.457756930269989,-0.48177075689597204,-0.10253003630182166,-1.1087611194830596,1.2405184299530734,-1.1613026903681023,-0.21807727298806873,2.073990265406395,-0.12142871305310494,-1.130168455585731,0.6737067936121557,-0.5226892924994307,0.9439193803151366,-0.9443041315154184,-0.5173949214588162,0.35076467768349945,-0.1268157260701168,1.5232667086176082,-0.42512384149961735,-1.2916065855294245,-0.2895713037165531,0.5519442699233186,1.6307332488054225,0.49046965386208186,-1.5335496821072878,-0.4633643003770435,-0.7016934868574808,-0.2487663579333527,0.31110876877089483,-1.7132404041523144,1.057646417962785,-0.1528239791025941,-0.699145591330207,-1.7823629346489065,-0.11037143237132825,0.5125188565494171,0.4533917864601765,-0.6654675164735756,1.6813259994038556,-0.995626301686294,0.484448176581966,-0.9251656585866519,-0.41487414299947856,1.3509865271705759],\"xaxis\":\"x7\",\"y\":[-0.17932026330190684,0.34198544751858234,-1.2713269129457325,0.0016652786409217964,1.4803864821833077,-0.2836750888514914,-1.4155538362514601,-0.5739661271236048,-0.35744198935824456,-0.8994230904876396,0.6991253544572609,-0.874793148785467,-0.39153074019047707,-0.880394830638912,0.4995926613587126,0.6293698296553195,1.3544469494098934,0.4810071047022162,-0.40595170495224314,0.09622342847254901,0.43681638785495297,-0.7536552634789734,0.46515551350074097,-0.4107904278107822,-0.667536213298158,-0.644002357567441,0.3279416680591974,-0.35640426241977324,0.7192398636967984,-0.3544851170731683,0.08830059864042557,0.030758743727376085,0.8935198532569544,0.3892696875617487,0.3237375347818951,0.6041497331006355,-0.40400232746982956,1.8468632501683382,-0.029077327946170142,0.25908762161059545,0.8679450620220365,0.967081274178919,1.80357447518855,0.7548651304368754,-0.5513298895031992,1.3705646354783096,0.8589382061452533,-1.0947470720924772,0.765715570102174,0.2385720284350847,-0.5320081762202075,-2.1047278011907666,-0.22838874539262682,-1.0758351304521767,0.6994286964722767,1.1983555883520542,1.8709137281616257,0.3346340175992276,1.179301597937332,-1.9309090060954557,-1.0881323911298968,0.0925198558216795,-0.6780781717104581,0.6074641297220856,1.0533655951830938,0.8330378584588016,-0.5385028983342077,-1.5582948613417311,0.5633831011807973,0.296668625167125,-0.9065113935632445,-0.21770298654540515,-0.18554362127577312,0.8460395539141479,-0.06587075962834432,-1.3271566677311997,0.25495202389316673,-0.6747528477615352,-1.435892609276357,-0.960122176589752,-0.3454127480759408,0.4072393867432423,-1.338046384045666,0.5103799524326336,1.4224780373575563,0.5088221930699162,0.03356517523728443,0.45970454247660264,1.2459543043789276,0.2505549812457923,0.259785611079415,0.5130794204738841,2.8931347231761175,-0.08760616578299192,-1.1963390674150716,0.8284380378357371,1.0897731639265282,3.2145514299528397,0.5444588734985717,-1.5142056829390005],\"yaxis\":\"y7\",\"type\":\"scatter\"},{\"line\":{\"color\":\"rgba(128, 128, 128, 1.0)\",\"dash\":\"solid\",\"shape\":\"linear\",\"width\":1.3},\"marker\":{\"size\":2,\"symbol\":\"circle\"},\"mode\":\"markers\",\"name\":\"B\",\"text\":\"\",\"x\":[-0.6920880206110122,-1.1528187877583664,0.5086136006525542,-0.3215793850236674,-1.394860954443431,0.8898543007611304,0.6766517919690216,1.2415891437981637,0.5749645946153426,0.8191522907746716,-1.3401567878568013,0.004138571752962983,1.9727662152133698,1.7100298800610687,0.7905135404134748,0.5035795302927593,-0.6426516642396118,0.6107854330514066,0.10928182793825748,1.1501642674489254,-2.4740487192674028,-0.43881799465043336,-0.8094019886420079,-0.31202726037660966,-0.2236736738974433,-1.3740994147648478,-0.24299560216202182,0.32179333878077643,0.48952220272470165,0.1242364926299338,0.6655346523272315,0.2335595973186929,-1.3979047777316438,-1.1861224414071925,-0.11470463861534105,0.888977369121416,0.19762432272577532,-0.911490070227444,0.42138513877796047,-1.2392259969612873,-0.42396337197608314,-0.8040254949941189,0.5246503673076683,0.6174376551293572,0.6667732964950027,-1.624315511280616,-0.7009900507939105,-0.7566895336475554,0.4228153655438361,-0.4921515625061394,-0.28024629047864485,-0.015140262941474195,1.2599427979153641,0.5190923874462334,0.05096023773849388,1.323901428598727,1.548038022029308,-0.8155899694131572,0.9399055199142157,0.07432006820395431,1.0041698831027674,-1.20750103555811,0.859700286664465,-0.28205347737206277,-0.30401620740514995,0.16367012099450978,-1.2584412572551649,-0.325827150091203,-1.7999396554564284,-0.20307309104609228,-1.1442481553192654,0.653286239947092,0.07516392687232953,0.7521899316131974,0.5260372458993744,-1.395226916488713,0.9921908967238827,1.2418292779657578,-0.1539017470993894,0.7373886256861507,0.38834918020664827,0.2362135412776182,0.0115188899390858,-1.6415807833383291,1.8233714094438518,-0.02860208451841463,0.9508625218057386,-1.4221906894981022,0.43956758103632954,0.3276390633566963,0.5591093211320485,2.0975676475011604,0.5114912158185853,1.0926954349320122,0.09089460843272662,-0.07754270763857592,-0.23416245302275307,1.013785139194283,1.3047201740780954,0.02289887280392105],\"xaxis\":\"x8\",\"y\":[-0.17932026330190684,0.34198544751858234,-1.2713269129457325,0.0016652786409217964,1.4803864821833077,-0.2836750888514914,-1.4155538362514601,-0.5739661271236048,-0.35744198935824456,-0.8994230904876396,0.6991253544572609,-0.874793148785467,-0.39153074019047707,-0.880394830638912,0.4995926613587126,0.6293698296553195,1.3544469494098934,0.4810071047022162,-0.40595170495224314,0.09622342847254901,0.43681638785495297,-0.7536552634789734,0.46515551350074097,-0.4107904278107822,-0.667536213298158,-0.644002357567441,0.3279416680591974,-0.35640426241977324,0.7192398636967984,-0.3544851170731683,0.08830059864042557,0.030758743727376085,0.8935198532569544,0.3892696875617487,0.3237375347818951,0.6041497331006355,-0.40400232746982956,1.8468632501683382,-0.029077327946170142,0.25908762161059545,0.8679450620220365,0.967081274178919,1.80357447518855,0.7548651304368754,-0.5513298895031992,1.3705646354783096,0.8589382061452533,-1.0947470720924772,0.765715570102174,0.2385720284350847,-0.5320081762202075,-2.1047278011907666,-0.22838874539262682,-1.0758351304521767,0.6994286964722767,1.1983555883520542,1.8709137281616257,0.3346340175992276,1.179301597937332,-1.9309090060954557,-1.0881323911298968,0.0925198558216795,-0.6780781717104581,0.6074641297220856,1.0533655951830938,0.8330378584588016,-0.5385028983342077,-1.5582948613417311,0.5633831011807973,0.296668625167125,-0.9065113935632445,-0.21770298654540515,-0.18554362127577312,0.8460395539141479,-0.06587075962834432,-1.3271566677311997,0.25495202389316673,-0.6747528477615352,-1.435892609276357,-0.960122176589752,-0.3454127480759408,0.4072393867432423,-1.338046384045666,0.5103799524326336,1.4224780373575563,0.5088221930699162,0.03356517523728443,0.45970454247660264,1.2459543043789276,0.2505549812457923,0.259785611079415,0.5130794204738841,2.8931347231761175,-0.08760616578299192,-1.1963390674150716,0.8284380378357371,1.0897731639265282,3.2145514299528397,0.5444588734985717,-1.5142056829390005],\"yaxis\":\"y8\",\"type\":\"scatter\"},{\"line\":{\"color\":\"rgba(128, 128, 128, 1.0)\",\"dash\":\"solid\",\"shape\":\"linear\",\"width\":1.3},\"marker\":{\"size\":2,\"symbol\":\"circle\"},\"mode\":\"markers\",\"name\":\"C\",\"text\":\"\",\"x\":[-1.5470379470686257,-0.3866827505899728,0.05907767532625553,1.3528949385329836,-0.2446134380889313,-2.406380574789591,-0.2816288308863832,0.4275053609457478,-0.5819392334941368,0.7569495452421476,0.6453177603325179,0.57422805107268,1.3148995288538112,0.220666189826017,-0.2839870046920182,0.7140778562736044,1.2652541519683163,-0.5332706279507585,-1.99742682090396,0.4405887301243418,1.6892743646745116,-0.19165751288169328,0.5104035641178164,1.3803225460438007,0.16703348752209532,-0.285872723137153,-0.2049482645233315,-0.6179469943011561,0.6032652329988165,0.05057590325797419,-1.3294185799763285,0.578716171231639,-1.6111718252564509,-0.7525916016188796,0.8249183497350251,-0.015267594448878615,-2.0692673026355326,0.6428908175911534,1.7655572451119899,2.031329227063635,-1.466347474243045,1.6401369002649178,-0.34019045909674234,0.8635745180435763,-0.41744886551989835,-0.10163440297958373,0.7703425064697068,1.4689212890171626,-0.23433370060897665,-1.3258769200955578,-1.1718941254219373,0.801932550048809,1.448807734284354,0.9847030866880221,0.3376184172512405,-1.5242713825393606,0.7027628372435865,-0.2791683192032702,0.020488303009922777,0.820619688063049,-0.36218158301404263,0.14617037002964653,1.6718586124907957,0.6705673605246165,0.27828495652272867,0.20926566932783422,-1.9184096983655765,-0.6402371208591136,-0.08170770033706065,-0.06808155063387622,-1.38010522374821,0.39561517267437496,0.7531494990024865,-0.6283031170433298,-1.8242056728883924,0.9256295159513197,1.2767649316415697,0.18525786624729326,0.5745200766324614,0.8337022049758677,-0.3243762742733441,0.4824787010648017,-0.1608409373329267,1.8793431047865878,0.3314905561931448,-0.29036873392865464,0.7482402104538096,0.49709639164898334,0.21495382334267585,1.0208806180216834,-0.03170735862101034,-2.5312495750725925,2.1046549936147385,-0.1046128281488064,-0.3285804840215899,0.24177836912715794,0.05569559765452582,-0.762999801993306,-0.6164640215496762,-1.8421776428608174],\"xaxis\":\"x9\",\"y\":[-0.8827337164904582,-1.8364531539319333,0.8082687682781682,0.6289536187563297,0.13738826055039535,-0.48702056371183133,-0.4662976847342923,-0.7015128306413758,-2.075792831188183,1.1176300474724994,0.9671408679228939,0.3868725572827184,1.2346153433668805,-0.9703164223331473,1.9817729912124495,-0.7776807674549705,1.0904074274491107,0.10563209017692979,-1.5907909212167808,1.0082636128241178,-0.3353296165270854,-0.7591345840064578,0.7742601105711353,1.1467958848004252,0.9200633767725459,0.7346362265663221,-0.8139337677173419,-0.5546883808219134,0.2764431453193479,-0.95215237627935,-0.07095272199313353,-0.520697352733301,-0.4340839633081928,-1.0466663533478058,1.2543681127605029,0.8666311142299339,-0.3518608740488995,-0.43880066086130814,0.42178024324125096,1.299203464296593,-0.15407331280936215,-0.6075954511987632,-0.31243377106445835,-0.3299566935335466,-0.8873057264322378,0.04679665624628326,-0.12976410822364787,0.6617216984182405,0.2677726756401323,0.36854030491480244,1.0834360202988516,-0.5358001827681771,1.3566403293736051,1.3232084208589134,-0.9200288536262442,0.4035164337882321,1.457756930269989,-0.48177075689597204,-0.10253003630182166,-1.1087611194830596,1.2405184299530734,-1.1613026903681023,-0.21807727298806873,2.073990265406395,-0.12142871305310494,-1.130168455585731,0.6737067936121557,-0.5226892924994307,0.9439193803151366,-0.9443041315154184,-0.5173949214588162,0.35076467768349945,-0.1268157260701168,1.5232667086176082,-0.42512384149961735,-1.2916065855294245,-0.2895713037165531,0.5519442699233186,1.6307332488054225,0.49046965386208186,-1.5335496821072878,-0.4633643003770435,-0.7016934868574808,-0.2487663579333527,0.31110876877089483,-1.7132404041523144,1.057646417962785,-0.1528239791025941,-0.699145591330207,-1.7823629346489065,-0.11037143237132825,0.5125188565494171,0.4533917864601765,-0.6654675164735756,1.6813259994038556,-0.995626301686294,0.484448176581966,-0.9251656585866519,-0.41487414299947856,1.3509865271705759],\"yaxis\":\"y9\",\"type\":\"scatter\"},{\"line\":{\"color\":\"rgba(128, 128, 128, 1.0)\",\"dash\":\"solid\",\"shape\":\"linear\",\"width\":1.3},\"marker\":{\"size\":2,\"symbol\":\"circle\"},\"mode\":\"markers\",\"name\":\"C\",\"text\":\"\",\"x\":[-0.17932026330190684,0.34198544751858234,-1.2713269129457325,0.0016652786409217964,1.4803864821833077,-0.2836750888514914,-1.4155538362514601,-0.5739661271236048,-0.35744198935824456,-0.8994230904876396,0.6991253544572609,-0.874793148785467,-0.39153074019047707,-0.880394830638912,0.4995926613587126,0.6293698296553195,1.3544469494098934,0.4810071047022162,-0.40595170495224314,0.09622342847254901,0.43681638785495297,-0.7536552634789734,0.46515551350074097,-0.4107904278107822,-0.667536213298158,-0.644002357567441,0.3279416680591974,-0.35640426241977324,0.7192398636967984,-0.3544851170731683,0.08830059864042557,0.030758743727376085,0.8935198532569544,0.3892696875617487,0.3237375347818951,0.6041497331006355,-0.40400232746982956,1.8468632501683382,-0.029077327946170142,0.25908762161059545,0.8679450620220365,0.967081274178919,1.80357447518855,0.7548651304368754,-0.5513298895031992,1.3705646354783096,0.8589382061452533,-1.0947470720924772,0.765715570102174,0.2385720284350847,-0.5320081762202075,-2.1047278011907666,-0.22838874539262682,-1.0758351304521767,0.6994286964722767,1.1983555883520542,1.8709137281616257,0.3346340175992276,1.179301597937332,-1.9309090060954557,-1.0881323911298968,0.0925198558216795,-0.6780781717104581,0.6074641297220856,1.0533655951830938,0.8330378584588016,-0.5385028983342077,-1.5582948613417311,0.5633831011807973,0.296668625167125,-0.9065113935632445,-0.21770298654540515,-0.18554362127577312,0.8460395539141479,-0.06587075962834432,-1.3271566677311997,0.25495202389316673,-0.6747528477615352,-1.435892609276357,-0.960122176589752,-0.3454127480759408,0.4072393867432423,-1.338046384045666,0.5103799524326336,1.4224780373575563,0.5088221930699162,0.03356517523728443,0.45970454247660264,1.2459543043789276,0.2505549812457923,0.259785611079415,0.5130794204738841,2.8931347231761175,-0.08760616578299192,-1.1963390674150716,0.8284380378357371,1.0897731639265282,3.2145514299528397,0.5444588734985717,-1.5142056829390005],\"xaxis\":\"x10\",\"y\":[-0.8827337164904582,-1.8364531539319333,0.8082687682781682,0.6289536187563297,0.13738826055039535,-0.48702056371183133,-0.4662976847342923,-0.7015128306413758,-2.075792831188183,1.1176300474724994,0.9671408679228939,0.3868725572827184,1.2346153433668805,-0.9703164223331473,1.9817729912124495,-0.7776807674549705,1.0904074274491107,0.10563209017692979,-1.5907909212167808,1.0082636128241178,-0.3353296165270854,-0.7591345840064578,0.7742601105711353,1.1467958848004252,0.9200633767725459,0.7346362265663221,-0.8139337677173419,-0.5546883808219134,0.2764431453193479,-0.95215237627935,-0.07095272199313353,-0.520697352733301,-0.4340839633081928,-1.0466663533478058,1.2543681127605029,0.8666311142299339,-0.3518608740488995,-0.43880066086130814,0.42178024324125096,1.299203464296593,-0.15407331280936215,-0.6075954511987632,-0.31243377106445835,-0.3299566935335466,-0.8873057264322378,0.04679665624628326,-0.12976410822364787,0.6617216984182405,0.2677726756401323,0.36854030491480244,1.0834360202988516,-0.5358001827681771,1.3566403293736051,1.3232084208589134,-0.9200288536262442,0.4035164337882321,1.457756930269989,-0.48177075689597204,-0.10253003630182166,-1.1087611194830596,1.2405184299530734,-1.1613026903681023,-0.21807727298806873,2.073990265406395,-0.12142871305310494,-1.130168455585731,0.6737067936121557,-0.5226892924994307,0.9439193803151366,-0.9443041315154184,-0.5173949214588162,0.35076467768349945,-0.1268157260701168,1.5232667086176082,-0.42512384149961735,-1.2916065855294245,-0.2895713037165531,0.5519442699233186,1.6307332488054225,0.49046965386208186,-1.5335496821072878,-0.4633643003770435,-0.7016934868574808,-0.2487663579333527,0.31110876877089483,-1.7132404041523144,1.057646417962785,-0.1528239791025941,-0.699145591330207,-1.7823629346489065,-0.11037143237132825,0.5125188565494171,0.4533917864601765,-0.6654675164735756,1.6813259994038556,-0.995626301686294,0.484448176581966,-0.9251656585866519,-0.41487414299947856,1.3509865271705759],\"yaxis\":\"y10\",\"type\":\"scatter\"},{\"histfunc\":\"count\",\"histnorm\":\"\",\"marker\":{\"color\":\"rgba(50, 171, 96, 1.0)\",\"line\":{\"color\":\"#4D5663\",\"width\":1.3}},\"name\":\"C\",\"nbinsx\":10,\"opacity\":0.8,\"orientation\":\"v\",\"x\":[-0.8827337164904582,-1.8364531539319333,0.8082687682781682,0.6289536187563297,0.13738826055039535,-0.48702056371183133,-0.4662976847342923,-0.7015128306413758,-2.075792831188183,1.1176300474724994,0.9671408679228939,0.3868725572827184,1.2346153433668805,-0.9703164223331473,1.9817729912124495,-0.7776807674549705,1.0904074274491107,0.10563209017692979,-1.5907909212167808,1.0082636128241178,-0.3353296165270854,-0.7591345840064578,0.7742601105711353,1.1467958848004252,0.9200633767725459,0.7346362265663221,-0.8139337677173419,-0.5546883808219134,0.2764431453193479,-0.95215237627935,-0.07095272199313353,-0.520697352733301,-0.4340839633081928,-1.0466663533478058,1.2543681127605029,0.8666311142299339,-0.3518608740488995,-0.43880066086130814,0.42178024324125096,1.299203464296593,-0.15407331280936215,-0.6075954511987632,-0.31243377106445835,-0.3299566935335466,-0.8873057264322378,0.04679665624628326,-0.12976410822364787,0.6617216984182405,0.2677726756401323,0.36854030491480244,1.0834360202988516,-0.5358001827681771,1.3566403293736051,1.3232084208589134,-0.9200288536262442,0.4035164337882321,1.457756930269989,-0.48177075689597204,-0.10253003630182166,-1.1087611194830596,1.2405184299530734,-1.1613026903681023,-0.21807727298806873,2.073990265406395,-0.12142871305310494,-1.130168455585731,0.6737067936121557,-0.5226892924994307,0.9439193803151366,-0.9443041315154184,-0.5173949214588162,0.35076467768349945,-0.1268157260701168,1.5232667086176082,-0.42512384149961735,-1.2916065855294245,-0.2895713037165531,0.5519442699233186,1.6307332488054225,0.49046965386208186,-1.5335496821072878,-0.4633643003770435,-0.7016934868574808,-0.2487663579333527,0.31110876877089483,-1.7132404041523144,1.057646417962785,-0.1528239791025941,-0.699145591330207,-1.7823629346489065,-0.11037143237132825,0.5125188565494171,0.4533917864601765,-0.6654675164735756,1.6813259994038556,-0.995626301686294,0.484448176581966,-0.9251656585866519,-0.41487414299947856,1.3509865271705759],\"xaxis\":\"x11\",\"yaxis\":\"y11\",\"type\":\"histogram\"},{\"line\":{\"color\":\"rgba(128, 128, 128, 1.0)\",\"dash\":\"solid\",\"shape\":\"linear\",\"width\":1.3},\"marker\":{\"size\":2,\"symbol\":\"circle\"},\"mode\":\"markers\",\"name\":\"C\",\"text\":\"\",\"x\":[-0.6920880206110122,-1.1528187877583664,0.5086136006525542,-0.3215793850236674,-1.394860954443431,0.8898543007611304,0.6766517919690216,1.2415891437981637,0.5749645946153426,0.8191522907746716,-1.3401567878568013,0.004138571752962983,1.9727662152133698,1.7100298800610687,0.7905135404134748,0.5035795302927593,-0.6426516642396118,0.6107854330514066,0.10928182793825748,1.1501642674489254,-2.4740487192674028,-0.43881799465043336,-0.8094019886420079,-0.31202726037660966,-0.2236736738974433,-1.3740994147648478,-0.24299560216202182,0.32179333878077643,0.48952220272470165,0.1242364926299338,0.6655346523272315,0.2335595973186929,-1.3979047777316438,-1.1861224414071925,-0.11470463861534105,0.888977369121416,0.19762432272577532,-0.911490070227444,0.42138513877796047,-1.2392259969612873,-0.42396337197608314,-0.8040254949941189,0.5246503673076683,0.6174376551293572,0.6667732964950027,-1.624315511280616,-0.7009900507939105,-0.7566895336475554,0.4228153655438361,-0.4921515625061394,-0.28024629047864485,-0.015140262941474195,1.2599427979153641,0.5190923874462334,0.05096023773849388,1.323901428598727,1.548038022029308,-0.8155899694131572,0.9399055199142157,0.07432006820395431,1.0041698831027674,-1.20750103555811,0.859700286664465,-0.28205347737206277,-0.30401620740514995,0.16367012099450978,-1.2584412572551649,-0.325827150091203,-1.7999396554564284,-0.20307309104609228,-1.1442481553192654,0.653286239947092,0.07516392687232953,0.7521899316131974,0.5260372458993744,-1.395226916488713,0.9921908967238827,1.2418292779657578,-0.1539017470993894,0.7373886256861507,0.38834918020664827,0.2362135412776182,0.0115188899390858,-1.6415807833383291,1.8233714094438518,-0.02860208451841463,0.9508625218057386,-1.4221906894981022,0.43956758103632954,0.3276390633566963,0.5591093211320485,2.0975676475011604,0.5114912158185853,1.0926954349320122,0.09089460843272662,-0.07754270763857592,-0.23416245302275307,1.013785139194283,1.3047201740780954,0.02289887280392105],\"xaxis\":\"x12\",\"y\":[-0.8827337164904582,-1.8364531539319333,0.8082687682781682,0.6289536187563297,0.13738826055039535,-0.48702056371183133,-0.4662976847342923,-0.7015128306413758,-2.075792831188183,1.1176300474724994,0.9671408679228939,0.3868725572827184,1.2346153433668805,-0.9703164223331473,1.9817729912124495,-0.7776807674549705,1.0904074274491107,0.10563209017692979,-1.5907909212167808,1.0082636128241178,-0.3353296165270854,-0.7591345840064578,0.7742601105711353,1.1467958848004252,0.9200633767725459,0.7346362265663221,-0.8139337677173419,-0.5546883808219134,0.2764431453193479,-0.95215237627935,-0.07095272199313353,-0.520697352733301,-0.4340839633081928,-1.0466663533478058,1.2543681127605029,0.8666311142299339,-0.3518608740488995,-0.43880066086130814,0.42178024324125096,1.299203464296593,-0.15407331280936215,-0.6075954511987632,-0.31243377106445835,-0.3299566935335466,-0.8873057264322378,0.04679665624628326,-0.12976410822364787,0.6617216984182405,0.2677726756401323,0.36854030491480244,1.0834360202988516,-0.5358001827681771,1.3566403293736051,1.3232084208589134,-0.9200288536262442,0.4035164337882321,1.457756930269989,-0.48177075689597204,-0.10253003630182166,-1.1087611194830596,1.2405184299530734,-1.1613026903681023,-0.21807727298806873,2.073990265406395,-0.12142871305310494,-1.130168455585731,0.6737067936121557,-0.5226892924994307,0.9439193803151366,-0.9443041315154184,-0.5173949214588162,0.35076467768349945,-0.1268157260701168,1.5232667086176082,-0.42512384149961735,-1.2916065855294245,-0.2895713037165531,0.5519442699233186,1.6307332488054225,0.49046965386208186,-1.5335496821072878,-0.4633643003770435,-0.7016934868574808,-0.2487663579333527,0.31110876877089483,-1.7132404041523144,1.057646417962785,-0.1528239791025941,-0.699145591330207,-1.7823629346489065,-0.11037143237132825,0.5125188565494171,0.4533917864601765,-0.6654675164735756,1.6813259994038556,-0.995626301686294,0.484448176581966,-0.9251656585866519,-0.41487414299947856,1.3509865271705759],\"yaxis\":\"y12\",\"type\":\"scatter\"},{\"line\":{\"color\":\"rgba(128, 128, 128, 1.0)\",\"dash\":\"solid\",\"shape\":\"linear\",\"width\":1.3},\"marker\":{\"size\":2,\"symbol\":\"circle\"},\"mode\":\"markers\",\"name\":\"D\",\"text\":\"\",\"x\":[-1.5470379470686257,-0.3866827505899728,0.05907767532625553,1.3528949385329836,-0.2446134380889313,-2.406380574789591,-0.2816288308863832,0.4275053609457478,-0.5819392334941368,0.7569495452421476,0.6453177603325179,0.57422805107268,1.3148995288538112,0.220666189826017,-0.2839870046920182,0.7140778562736044,1.2652541519683163,-0.5332706279507585,-1.99742682090396,0.4405887301243418,1.6892743646745116,-0.19165751288169328,0.5104035641178164,1.3803225460438007,0.16703348752209532,-0.285872723137153,-0.2049482645233315,-0.6179469943011561,0.6032652329988165,0.05057590325797419,-1.3294185799763285,0.578716171231639,-1.6111718252564509,-0.7525916016188796,0.8249183497350251,-0.015267594448878615,-2.0692673026355326,0.6428908175911534,1.7655572451119899,2.031329227063635,-1.466347474243045,1.6401369002649178,-0.34019045909674234,0.8635745180435763,-0.41744886551989835,-0.10163440297958373,0.7703425064697068,1.4689212890171626,-0.23433370060897665,-1.3258769200955578,-1.1718941254219373,0.801932550048809,1.448807734284354,0.9847030866880221,0.3376184172512405,-1.5242713825393606,0.7027628372435865,-0.2791683192032702,0.020488303009922777,0.820619688063049,-0.36218158301404263,0.14617037002964653,1.6718586124907957,0.6705673605246165,0.27828495652272867,0.20926566932783422,-1.9184096983655765,-0.6402371208591136,-0.08170770033706065,-0.06808155063387622,-1.38010522374821,0.39561517267437496,0.7531494990024865,-0.6283031170433298,-1.8242056728883924,0.9256295159513197,1.2767649316415697,0.18525786624729326,0.5745200766324614,0.8337022049758677,-0.3243762742733441,0.4824787010648017,-0.1608409373329267,1.8793431047865878,0.3314905561931448,-0.29036873392865464,0.7482402104538096,0.49709639164898334,0.21495382334267585,1.0208806180216834,-0.03170735862101034,-2.5312495750725925,2.1046549936147385,-0.1046128281488064,-0.3285804840215899,0.24177836912715794,0.05569559765452582,-0.762999801993306,-0.6164640215496762,-1.8421776428608174],\"xaxis\":\"x13\",\"y\":[-0.6920880206110122,-1.1528187877583664,0.5086136006525542,-0.3215793850236674,-1.394860954443431,0.8898543007611304,0.6766517919690216,1.2415891437981637,0.5749645946153426,0.8191522907746716,-1.3401567878568013,0.004138571752962983,1.9727662152133698,1.7100298800610687,0.7905135404134748,0.5035795302927593,-0.6426516642396118,0.6107854330514066,0.10928182793825748,1.1501642674489254,-2.4740487192674028,-0.43881799465043336,-0.8094019886420079,-0.31202726037660966,-0.2236736738974433,-1.3740994147648478,-0.24299560216202182,0.32179333878077643,0.48952220272470165,0.1242364926299338,0.6655346523272315,0.2335595973186929,-1.3979047777316438,-1.1861224414071925,-0.11470463861534105,0.888977369121416,0.19762432272577532,-0.911490070227444,0.42138513877796047,-1.2392259969612873,-0.42396337197608314,-0.8040254949941189,0.5246503673076683,0.6174376551293572,0.6667732964950027,-1.624315511280616,-0.7009900507939105,-0.7566895336475554,0.4228153655438361,-0.4921515625061394,-0.28024629047864485,-0.015140262941474195,1.2599427979153641,0.5190923874462334,0.05096023773849388,1.323901428598727,1.548038022029308,-0.8155899694131572,0.9399055199142157,0.07432006820395431,1.0041698831027674,-1.20750103555811,0.859700286664465,-0.28205347737206277,-0.30401620740514995,0.16367012099450978,-1.2584412572551649,-0.325827150091203,-1.7999396554564284,-0.20307309104609228,-1.1442481553192654,0.653286239947092,0.07516392687232953,0.7521899316131974,0.5260372458993744,-1.395226916488713,0.9921908967238827,1.2418292779657578,-0.1539017470993894,0.7373886256861507,0.38834918020664827,0.2362135412776182,0.0115188899390858,-1.6415807833383291,1.8233714094438518,-0.02860208451841463,0.9508625218057386,-1.4221906894981022,0.43956758103632954,0.3276390633566963,0.5591093211320485,2.0975676475011604,0.5114912158185853,1.0926954349320122,0.09089460843272662,-0.07754270763857592,-0.23416245302275307,1.013785139194283,1.3047201740780954,0.02289887280392105],\"yaxis\":\"y13\",\"type\":\"scatter\"},{\"line\":{\"color\":\"rgba(128, 128, 128, 1.0)\",\"dash\":\"solid\",\"shape\":\"linear\",\"width\":1.3},\"marker\":{\"size\":2,\"symbol\":\"circle\"},\"mode\":\"markers\",\"name\":\"D\",\"text\":\"\",\"x\":[-0.17932026330190684,0.34198544751858234,-1.2713269129457325,0.0016652786409217964,1.4803864821833077,-0.2836750888514914,-1.4155538362514601,-0.5739661271236048,-0.35744198935824456,-0.8994230904876396,0.6991253544572609,-0.874793148785467,-0.39153074019047707,-0.880394830638912,0.4995926613587126,0.6293698296553195,1.3544469494098934,0.4810071047022162,-0.40595170495224314,0.09622342847254901,0.43681638785495297,-0.7536552634789734,0.46515551350074097,-0.4107904278107822,-0.667536213298158,-0.644002357567441,0.3279416680591974,-0.35640426241977324,0.7192398636967984,-0.3544851170731683,0.08830059864042557,0.030758743727376085,0.8935198532569544,0.3892696875617487,0.3237375347818951,0.6041497331006355,-0.40400232746982956,1.8468632501683382,-0.029077327946170142,0.25908762161059545,0.8679450620220365,0.967081274178919,1.80357447518855,0.7548651304368754,-0.5513298895031992,1.3705646354783096,0.8589382061452533,-1.0947470720924772,0.765715570102174,0.2385720284350847,-0.5320081762202075,-2.1047278011907666,-0.22838874539262682,-1.0758351304521767,0.6994286964722767,1.1983555883520542,1.8709137281616257,0.3346340175992276,1.179301597937332,-1.9309090060954557,-1.0881323911298968,0.0925198558216795,-0.6780781717104581,0.6074641297220856,1.0533655951830938,0.8330378584588016,-0.5385028983342077,-1.5582948613417311,0.5633831011807973,0.296668625167125,-0.9065113935632445,-0.21770298654540515,-0.18554362127577312,0.8460395539141479,-0.06587075962834432,-1.3271566677311997,0.25495202389316673,-0.6747528477615352,-1.435892609276357,-0.960122176589752,-0.3454127480759408,0.4072393867432423,-1.338046384045666,0.5103799524326336,1.4224780373575563,0.5088221930699162,0.03356517523728443,0.45970454247660264,1.2459543043789276,0.2505549812457923,0.259785611079415,0.5130794204738841,2.8931347231761175,-0.08760616578299192,-1.1963390674150716,0.8284380378357371,1.0897731639265282,3.2145514299528397,0.5444588734985717,-1.5142056829390005],\"xaxis\":\"x14\",\"y\":[-0.6920880206110122,-1.1528187877583664,0.5086136006525542,-0.3215793850236674,-1.394860954443431,0.8898543007611304,0.6766517919690216,1.2415891437981637,0.5749645946153426,0.8191522907746716,-1.3401567878568013,0.004138571752962983,1.9727662152133698,1.7100298800610687,0.7905135404134748,0.5035795302927593,-0.6426516642396118,0.6107854330514066,0.10928182793825748,1.1501642674489254,-2.4740487192674028,-0.43881799465043336,-0.8094019886420079,-0.31202726037660966,-0.2236736738974433,-1.3740994147648478,-0.24299560216202182,0.32179333878077643,0.48952220272470165,0.1242364926299338,0.6655346523272315,0.2335595973186929,-1.3979047777316438,-1.1861224414071925,-0.11470463861534105,0.888977369121416,0.19762432272577532,-0.911490070227444,0.42138513877796047,-1.2392259969612873,-0.42396337197608314,-0.8040254949941189,0.5246503673076683,0.6174376551293572,0.6667732964950027,-1.624315511280616,-0.7009900507939105,-0.7566895336475554,0.4228153655438361,-0.4921515625061394,-0.28024629047864485,-0.015140262941474195,1.2599427979153641,0.5190923874462334,0.05096023773849388,1.323901428598727,1.548038022029308,-0.8155899694131572,0.9399055199142157,0.07432006820395431,1.0041698831027674,-1.20750103555811,0.859700286664465,-0.28205347737206277,-0.30401620740514995,0.16367012099450978,-1.2584412572551649,-0.325827150091203,-1.7999396554564284,-0.20307309104609228,-1.1442481553192654,0.653286239947092,0.07516392687232953,0.7521899316131974,0.5260372458993744,-1.395226916488713,0.9921908967238827,1.2418292779657578,-0.1539017470993894,0.7373886256861507,0.38834918020664827,0.2362135412776182,0.0115188899390858,-1.6415807833383291,1.8233714094438518,-0.02860208451841463,0.9508625218057386,-1.4221906894981022,0.43956758103632954,0.3276390633566963,0.5591093211320485,2.0975676475011604,0.5114912158185853,1.0926954349320122,0.09089460843272662,-0.07754270763857592,-0.23416245302275307,1.013785139194283,1.3047201740780954,0.02289887280392105],\"yaxis\":\"y14\",\"type\":\"scatter\"},{\"line\":{\"color\":\"rgba(128, 128, 128, 1.0)\",\"dash\":\"solid\",\"shape\":\"linear\",\"width\":1.3},\"marker\":{\"size\":2,\"symbol\":\"circle\"},\"mode\":\"markers\",\"name\":\"D\",\"text\":\"\",\"x\":[-0.8827337164904582,-1.8364531539319333,0.8082687682781682,0.6289536187563297,0.13738826055039535,-0.48702056371183133,-0.4662976847342923,-0.7015128306413758,-2.075792831188183,1.1176300474724994,0.9671408679228939,0.3868725572827184,1.2346153433668805,-0.9703164223331473,1.9817729912124495,-0.7776807674549705,1.0904074274491107,0.10563209017692979,-1.5907909212167808,1.0082636128241178,-0.3353296165270854,-0.7591345840064578,0.7742601105711353,1.1467958848004252,0.9200633767725459,0.7346362265663221,-0.8139337677173419,-0.5546883808219134,0.2764431453193479,-0.95215237627935,-0.07095272199313353,-0.520697352733301,-0.4340839633081928,-1.0466663533478058,1.2543681127605029,0.8666311142299339,-0.3518608740488995,-0.43880066086130814,0.42178024324125096,1.299203464296593,-0.15407331280936215,-0.6075954511987632,-0.31243377106445835,-0.3299566935335466,-0.8873057264322378,0.04679665624628326,-0.12976410822364787,0.6617216984182405,0.2677726756401323,0.36854030491480244,1.0834360202988516,-0.5358001827681771,1.3566403293736051,1.3232084208589134,-0.9200288536262442,0.4035164337882321,1.457756930269989,-0.48177075689597204,-0.10253003630182166,-1.1087611194830596,1.2405184299530734,-1.1613026903681023,-0.21807727298806873,2.073990265406395,-0.12142871305310494,-1.130168455585731,0.6737067936121557,-0.5226892924994307,0.9439193803151366,-0.9443041315154184,-0.5173949214588162,0.35076467768349945,-0.1268157260701168,1.5232667086176082,-0.42512384149961735,-1.2916065855294245,-0.2895713037165531,0.5519442699233186,1.6307332488054225,0.49046965386208186,-1.5335496821072878,-0.4633643003770435,-0.7016934868574808,-0.2487663579333527,0.31110876877089483,-1.7132404041523144,1.057646417962785,-0.1528239791025941,-0.699145591330207,-1.7823629346489065,-0.11037143237132825,0.5125188565494171,0.4533917864601765,-0.6654675164735756,1.6813259994038556,-0.995626301686294,0.484448176581966,-0.9251656585866519,-0.41487414299947856,1.3509865271705759],\"xaxis\":\"x15\",\"y\":[-0.6920880206110122,-1.1528187877583664,0.5086136006525542,-0.3215793850236674,-1.394860954443431,0.8898543007611304,0.6766517919690216,1.2415891437981637,0.5749645946153426,0.8191522907746716,-1.3401567878568013,0.004138571752962983,1.9727662152133698,1.7100298800610687,0.7905135404134748,0.5035795302927593,-0.6426516642396118,0.6107854330514066,0.10928182793825748,1.1501642674489254,-2.4740487192674028,-0.43881799465043336,-0.8094019886420079,-0.31202726037660966,-0.2236736738974433,-1.3740994147648478,-0.24299560216202182,0.32179333878077643,0.48952220272470165,0.1242364926299338,0.6655346523272315,0.2335595973186929,-1.3979047777316438,-1.1861224414071925,-0.11470463861534105,0.888977369121416,0.19762432272577532,-0.911490070227444,0.42138513877796047,-1.2392259969612873,-0.42396337197608314,-0.8040254949941189,0.5246503673076683,0.6174376551293572,0.6667732964950027,-1.624315511280616,-0.7009900507939105,-0.7566895336475554,0.4228153655438361,-0.4921515625061394,-0.28024629047864485,-0.015140262941474195,1.2599427979153641,0.5190923874462334,0.05096023773849388,1.323901428598727,1.548038022029308,-0.8155899694131572,0.9399055199142157,0.07432006820395431,1.0041698831027674,-1.20750103555811,0.859700286664465,-0.28205347737206277,-0.30401620740514995,0.16367012099450978,-1.2584412572551649,-0.325827150091203,-1.7999396554564284,-0.20307309104609228,-1.1442481553192654,0.653286239947092,0.07516392687232953,0.7521899316131974,0.5260372458993744,-1.395226916488713,0.9921908967238827,1.2418292779657578,-0.1539017470993894,0.7373886256861507,0.38834918020664827,0.2362135412776182,0.0115188899390858,-1.6415807833383291,1.8233714094438518,-0.02860208451841463,0.9508625218057386,-1.4221906894981022,0.43956758103632954,0.3276390633566963,0.5591093211320485,2.0975676475011604,0.5114912158185853,1.0926954349320122,0.09089460843272662,-0.07754270763857592,-0.23416245302275307,1.013785139194283,1.3047201740780954,0.02289887280392105],\"yaxis\":\"y15\",\"type\":\"scatter\"},{\"histfunc\":\"count\",\"histnorm\":\"\",\"marker\":{\"color\":\"rgba(128, 0, 128, 1.0)\",\"line\":{\"color\":\"#4D5663\",\"width\":1.3}},\"name\":\"D\",\"nbinsx\":10,\"opacity\":0.8,\"orientation\":\"v\",\"x\":[-0.6920880206110122,-1.1528187877583664,0.5086136006525542,-0.3215793850236674,-1.394860954443431,0.8898543007611304,0.6766517919690216,1.2415891437981637,0.5749645946153426,0.8191522907746716,-1.3401567878568013,0.004138571752962983,1.9727662152133698,1.7100298800610687,0.7905135404134748,0.5035795302927593,-0.6426516642396118,0.6107854330514066,0.10928182793825748,1.1501642674489254,-2.4740487192674028,-0.43881799465043336,-0.8094019886420079,-0.31202726037660966,-0.2236736738974433,-1.3740994147648478,-0.24299560216202182,0.32179333878077643,0.48952220272470165,0.1242364926299338,0.6655346523272315,0.2335595973186929,-1.3979047777316438,-1.1861224414071925,-0.11470463861534105,0.888977369121416,0.19762432272577532,-0.911490070227444,0.42138513877796047,-1.2392259969612873,-0.42396337197608314,-0.8040254949941189,0.5246503673076683,0.6174376551293572,0.6667732964950027,-1.624315511280616,-0.7009900507939105,-0.7566895336475554,0.4228153655438361,-0.4921515625061394,-0.28024629047864485,-0.015140262941474195,1.2599427979153641,0.5190923874462334,0.05096023773849388,1.323901428598727,1.548038022029308,-0.8155899694131572,0.9399055199142157,0.07432006820395431,1.0041698831027674,-1.20750103555811,0.859700286664465,-0.28205347737206277,-0.30401620740514995,0.16367012099450978,-1.2584412572551649,-0.325827150091203,-1.7999396554564284,-0.20307309104609228,-1.1442481553192654,0.653286239947092,0.07516392687232953,0.7521899316131974,0.5260372458993744,-1.395226916488713,0.9921908967238827,1.2418292779657578,-0.1539017470993894,0.7373886256861507,0.38834918020664827,0.2362135412776182,0.0115188899390858,-1.6415807833383291,1.8233714094438518,-0.02860208451841463,0.9508625218057386,-1.4221906894981022,0.43956758103632954,0.3276390633566963,0.5591093211320485,2.0975676475011604,0.5114912158185853,1.0926954349320122,0.09089460843272662,-0.07754270763857592,-0.23416245302275307,1.013785139194283,1.3047201740780954,0.02289887280392105],\"xaxis\":\"x16\",\"yaxis\":\"y16\",\"type\":\"histogram\"}],                        {\"bargap\":0.02,\"legend\":{\"bgcolor\":\"#F5F6F9\",\"font\":{\"color\":\"#4D5663\"}},\"paper_bgcolor\":\"#F5F6F9\",\"plot_bgcolor\":\"#F5F6F9\",\"showlegend\":false,\"template\":{\"data\":{\"barpolar\":[{\"marker\":{\"line\":{\"color\":\"#E5ECF6\",\"width\":0.5},\"pattern\":{\"fillmode\":\"overlay\",\"size\":10,\"solidity\":0.2}},\"type\":\"barpolar\"}],\"bar\":[{\"error_x\":{\"color\":\"#2a3f5f\"},\"error_y\":{\"color\":\"#2a3f5f\"},\"marker\":{\"line\":{\"color\":\"#E5ECF6\",\"width\":0.5},\"pattern\":{\"fillmode\":\"overlay\",\"size\":10,\"solidity\":0.2}},\"type\":\"bar\"}],\"carpet\":[{\"aaxis\":{\"endlinecolor\":\"#2a3f5f\",\"gridcolor\":\"white\",\"linecolor\":\"white\",\"minorgridcolor\":\"white\",\"startlinecolor\":\"#2a3f5f\"},\"baxis\":{\"endlinecolor\":\"#2a3f5f\",\"gridcolor\":\"white\",\"linecolor\":\"white\",\"minorgridcolor\":\"white\",\"startlinecolor\":\"#2a3f5f\"},\"type\":\"carpet\"}],\"choropleth\":[{\"colorbar\":{\"outlinewidth\":0,\"ticks\":\"\"},\"type\":\"choropleth\"}],\"contourcarpet\":[{\"colorbar\":{\"outlinewidth\":0,\"ticks\":\"\"},\"type\":\"contourcarpet\"}],\"contour\":[{\"colorbar\":{\"outlinewidth\":0,\"ticks\":\"\"},\"colorscale\":[[0.0,\"#0d0887\"],[0.1111111111111111,\"#46039f\"],[0.2222222222222222,\"#7201a8\"],[0.3333333333333333,\"#9c179e\"],[0.4444444444444444,\"#bd3786\"],[0.5555555555555556,\"#d8576b\"],[0.6666666666666666,\"#ed7953\"],[0.7777777777777778,\"#fb9f3a\"],[0.8888888888888888,\"#fdca26\"],[1.0,\"#f0f921\"]],\"type\":\"contour\"}],\"heatmapgl\":[{\"colorbar\":{\"outlinewidth\":0,\"ticks\":\"\"},\"colorscale\":[[0.0,\"#0d0887\"],[0.1111111111111111,\"#46039f\"],[0.2222222222222222,\"#7201a8\"],[0.3333333333333333,\"#9c179e\"],[0.4444444444444444,\"#bd3786\"],[0.5555555555555556,\"#d8576b\"],[0.6666666666666666,\"#ed7953\"],[0.7777777777777778,\"#fb9f3a\"],[0.8888888888888888,\"#fdca26\"],[1.0,\"#f0f921\"]],\"type\":\"heatmapgl\"}],\"heatmap\":[{\"colorbar\":{\"outlinewidth\":0,\"ticks\":\"\"},\"colorscale\":[[0.0,\"#0d0887\"],[0.1111111111111111,\"#46039f\"],[0.2222222222222222,\"#7201a8\"],[0.3333333333333333,\"#9c179e\"],[0.4444444444444444,\"#bd3786\"],[0.5555555555555556,\"#d8576b\"],[0.6666666666666666,\"#ed7953\"],[0.7777777777777778,\"#fb9f3a\"],[0.8888888888888888,\"#fdca26\"],[1.0,\"#f0f921\"]],\"type\":\"heatmap\"}],\"histogram2dcontour\":[{\"colorbar\":{\"outlinewidth\":0,\"ticks\":\"\"},\"colorscale\":[[0.0,\"#0d0887\"],[0.1111111111111111,\"#46039f\"],[0.2222222222222222,\"#7201a8\"],[0.3333333333333333,\"#9c179e\"],[0.4444444444444444,\"#bd3786\"],[0.5555555555555556,\"#d8576b\"],[0.6666666666666666,\"#ed7953\"],[0.7777777777777778,\"#fb9f3a\"],[0.8888888888888888,\"#fdca26\"],[1.0,\"#f0f921\"]],\"type\":\"histogram2dcontour\"}],\"histogram2d\":[{\"colorbar\":{\"outlinewidth\":0,\"ticks\":\"\"},\"colorscale\":[[0.0,\"#0d0887\"],[0.1111111111111111,\"#46039f\"],[0.2222222222222222,\"#7201a8\"],[0.3333333333333333,\"#9c179e\"],[0.4444444444444444,\"#bd3786\"],[0.5555555555555556,\"#d8576b\"],[0.6666666666666666,\"#ed7953\"],[0.7777777777777778,\"#fb9f3a\"],[0.8888888888888888,\"#fdca26\"],[1.0,\"#f0f921\"]],\"type\":\"histogram2d\"}],\"histogram\":[{\"marker\":{\"pattern\":{\"fillmode\":\"overlay\",\"size\":10,\"solidity\":0.2}},\"type\":\"histogram\"}],\"mesh3d\":[{\"colorbar\":{\"outlinewidth\":0,\"ticks\":\"\"},\"type\":\"mesh3d\"}],\"parcoords\":[{\"line\":{\"colorbar\":{\"outlinewidth\":0,\"ticks\":\"\"}},\"type\":\"parcoords\"}],\"pie\":[{\"automargin\":true,\"type\":\"pie\"}],\"scatter3d\":[{\"line\":{\"colorbar\":{\"outlinewidth\":0,\"ticks\":\"\"}},\"marker\":{\"colorbar\":{\"outlinewidth\":0,\"ticks\":\"\"}},\"type\":\"scatter3d\"}],\"scattercarpet\":[{\"marker\":{\"colorbar\":{\"outlinewidth\":0,\"ticks\":\"\"}},\"type\":\"scattercarpet\"}],\"scattergeo\":[{\"marker\":{\"colorbar\":{\"outlinewidth\":0,\"ticks\":\"\"}},\"type\":\"scattergeo\"}],\"scattergl\":[{\"marker\":{\"colorbar\":{\"outlinewidth\":0,\"ticks\":\"\"}},\"type\":\"scattergl\"}],\"scattermapbox\":[{\"marker\":{\"colorbar\":{\"outlinewidth\":0,\"ticks\":\"\"}},\"type\":\"scattermapbox\"}],\"scatterpolargl\":[{\"marker\":{\"colorbar\":{\"outlinewidth\":0,\"ticks\":\"\"}},\"type\":\"scatterpolargl\"}],\"scatterpolar\":[{\"marker\":{\"colorbar\":{\"outlinewidth\":0,\"ticks\":\"\"}},\"type\":\"scatterpolar\"}],\"scatter\":[{\"marker\":{\"colorbar\":{\"outlinewidth\":0,\"ticks\":\"\"}},\"type\":\"scatter\"}],\"scatterternary\":[{\"marker\":{\"colorbar\":{\"outlinewidth\":0,\"ticks\":\"\"}},\"type\":\"scatterternary\"}],\"surface\":[{\"colorbar\":{\"outlinewidth\":0,\"ticks\":\"\"},\"colorscale\":[[0.0,\"#0d0887\"],[0.1111111111111111,\"#46039f\"],[0.2222222222222222,\"#7201a8\"],[0.3333333333333333,\"#9c179e\"],[0.4444444444444444,\"#bd3786\"],[0.5555555555555556,\"#d8576b\"],[0.6666666666666666,\"#ed7953\"],[0.7777777777777778,\"#fb9f3a\"],[0.8888888888888888,\"#fdca26\"],[1.0,\"#f0f921\"]],\"type\":\"surface\"}],\"table\":[{\"cells\":{\"fill\":{\"color\":\"#EBF0F8\"},\"line\":{\"color\":\"white\"}},\"header\":{\"fill\":{\"color\":\"#C8D4E3\"},\"line\":{\"color\":\"white\"}},\"type\":\"table\"}]},\"layout\":{\"annotationdefaults\":{\"arrowcolor\":\"#2a3f5f\",\"arrowhead\":0,\"arrowwidth\":1},\"autotypenumbers\":\"strict\",\"coloraxis\":{\"colorbar\":{\"outlinewidth\":0,\"ticks\":\"\"}},\"colorscale\":{\"diverging\":[[0,\"#8e0152\"],[0.1,\"#c51b7d\"],[0.2,\"#de77ae\"],[0.3,\"#f1b6da\"],[0.4,\"#fde0ef\"],[0.5,\"#f7f7f7\"],[0.6,\"#e6f5d0\"],[0.7,\"#b8e186\"],[0.8,\"#7fbc41\"],[0.9,\"#4d9221\"],[1,\"#276419\"]],\"sequential\":[[0.0,\"#0d0887\"],[0.1111111111111111,\"#46039f\"],[0.2222222222222222,\"#7201a8\"],[0.3333333333333333,\"#9c179e\"],[0.4444444444444444,\"#bd3786\"],[0.5555555555555556,\"#d8576b\"],[0.6666666666666666,\"#ed7953\"],[0.7777777777777778,\"#fb9f3a\"],[0.8888888888888888,\"#fdca26\"],[1.0,\"#f0f921\"]],\"sequentialminus\":[[0.0,\"#0d0887\"],[0.1111111111111111,\"#46039f\"],[0.2222222222222222,\"#7201a8\"],[0.3333333333333333,\"#9c179e\"],[0.4444444444444444,\"#bd3786\"],[0.5555555555555556,\"#d8576b\"],[0.6666666666666666,\"#ed7953\"],[0.7777777777777778,\"#fb9f3a\"],[0.8888888888888888,\"#fdca26\"],[1.0,\"#f0f921\"]]},\"colorway\":[\"#636efa\",\"#EF553B\",\"#00cc96\",\"#ab63fa\",\"#FFA15A\",\"#19d3f3\",\"#FF6692\",\"#B6E880\",\"#FF97FF\",\"#FECB52\"],\"font\":{\"color\":\"#2a3f5f\"},\"geo\":{\"bgcolor\":\"white\",\"lakecolor\":\"white\",\"landcolor\":\"#E5ECF6\",\"showlakes\":true,\"showland\":true,\"subunitcolor\":\"white\"},\"hoverlabel\":{\"align\":\"left\"},\"hovermode\":\"closest\",\"mapbox\":{\"style\":\"light\"},\"paper_bgcolor\":\"white\",\"plot_bgcolor\":\"#E5ECF6\",\"polar\":{\"angularaxis\":{\"gridcolor\":\"white\",\"linecolor\":\"white\",\"ticks\":\"\"},\"bgcolor\":\"#E5ECF6\",\"radialaxis\":{\"gridcolor\":\"white\",\"linecolor\":\"white\",\"ticks\":\"\"}},\"scene\":{\"xaxis\":{\"backgroundcolor\":\"#E5ECF6\",\"gridcolor\":\"white\",\"gridwidth\":2,\"linecolor\":\"white\",\"showbackground\":true,\"ticks\":\"\",\"zerolinecolor\":\"white\"},\"yaxis\":{\"backgroundcolor\":\"#E5ECF6\",\"gridcolor\":\"white\",\"gridwidth\":2,\"linecolor\":\"white\",\"showbackground\":true,\"ticks\":\"\",\"zerolinecolor\":\"white\"},\"zaxis\":{\"backgroundcolor\":\"#E5ECF6\",\"gridcolor\":\"white\",\"gridwidth\":2,\"linecolor\":\"white\",\"showbackground\":true,\"ticks\":\"\",\"zerolinecolor\":\"white\"}},\"shapedefaults\":{\"line\":{\"color\":\"#2a3f5f\"}},\"ternary\":{\"aaxis\":{\"gridcolor\":\"white\",\"linecolor\":\"white\",\"ticks\":\"\"},\"baxis\":{\"gridcolor\":\"white\",\"linecolor\":\"white\",\"ticks\":\"\"},\"bgcolor\":\"#E5ECF6\",\"caxis\":{\"gridcolor\":\"white\",\"linecolor\":\"white\",\"ticks\":\"\"}},\"title\":{\"x\":0.05},\"xaxis\":{\"automargin\":true,\"gridcolor\":\"white\",\"linecolor\":\"white\",\"ticks\":\"\",\"title\":{\"standoff\":15},\"zerolinecolor\":\"white\",\"zerolinewidth\":2},\"yaxis\":{\"automargin\":true,\"gridcolor\":\"white\",\"linecolor\":\"white\",\"ticks\":\"\",\"title\":{\"standoff\":15},\"zerolinecolor\":\"white\",\"zerolinewidth\":2}}},\"title\":{\"font\":{\"color\":\"#4D5663\"}},\"xaxis\":{\"anchor\":\"y\",\"domain\":[0.0,0.2125],\"gridcolor\":\"#E1E5ED\",\"showgrid\":false,\"tickfont\":{\"color\":\"#4D5663\"},\"title\":{\"font\":{\"color\":\"#4D5663\"},\"text\":\"\"},\"zerolinecolor\":\"#E1E5ED\"},\"yaxis\":{\"anchor\":\"x\",\"domain\":[0.8025,1.0],\"gridcolor\":\"#E1E5ED\",\"showgrid\":false,\"tickfont\":{\"color\":\"#4D5663\"},\"title\":{\"font\":{\"color\":\"#4D5663\"},\"text\":\"\"},\"zerolinecolor\":\"#E1E5ED\"},\"xaxis2\":{\"anchor\":\"y2\",\"domain\":[0.2625,0.475],\"gridcolor\":\"#E1E5ED\",\"showgrid\":false,\"tickfont\":{\"color\":\"#4D5663\"},\"title\":{\"font\":{\"color\":\"#4D5663\"},\"text\":\"\"},\"zerolinecolor\":\"#E1E5ED\"},\"yaxis2\":{\"anchor\":\"x2\",\"domain\":[0.8025,1.0],\"gridcolor\":\"#E1E5ED\",\"showgrid\":false,\"tickfont\":{\"color\":\"#4D5663\"},\"title\":{\"font\":{\"color\":\"#4D5663\"},\"text\":\"\"},\"zerolinecolor\":\"#E1E5ED\"},\"xaxis3\":{\"anchor\":\"y3\",\"domain\":[0.525,0.7375],\"gridcolor\":\"#E1E5ED\",\"showgrid\":false,\"tickfont\":{\"color\":\"#4D5663\"},\"title\":{\"font\":{\"color\":\"#4D5663\"},\"text\":\"\"},\"zerolinecolor\":\"#E1E5ED\"},\"yaxis3\":{\"anchor\":\"x3\",\"domain\":[0.8025,1.0],\"gridcolor\":\"#E1E5ED\",\"showgrid\":false,\"tickfont\":{\"color\":\"#4D5663\"},\"title\":{\"font\":{\"color\":\"#4D5663\"},\"text\":\"\"},\"zerolinecolor\":\"#E1E5ED\"},\"xaxis4\":{\"anchor\":\"y4\",\"domain\":[0.7875,1.0],\"gridcolor\":\"#E1E5ED\",\"showgrid\":false,\"tickfont\":{\"color\":\"#4D5663\"},\"title\":{\"font\":{\"color\":\"#4D5663\"},\"text\":\"\"},\"zerolinecolor\":\"#E1E5ED\"},\"yaxis4\":{\"anchor\":\"x4\",\"domain\":[0.8025,1.0],\"gridcolor\":\"#E1E5ED\",\"showgrid\":false,\"tickfont\":{\"color\":\"#4D5663\"},\"title\":{\"font\":{\"color\":\"#4D5663\"},\"text\":\"\"},\"zerolinecolor\":\"#E1E5ED\"},\"xaxis5\":{\"anchor\":\"y5\",\"domain\":[0.0,0.2125],\"gridcolor\":\"#E1E5ED\",\"showgrid\":false,\"tickfont\":{\"color\":\"#4D5663\"},\"title\":{\"font\":{\"color\":\"#4D5663\"},\"text\":\"\"},\"zerolinecolor\":\"#E1E5ED\"},\"yaxis5\":{\"anchor\":\"x5\",\"domain\":[0.535,0.7325],\"gridcolor\":\"#E1E5ED\",\"showgrid\":false,\"tickfont\":{\"color\":\"#4D5663\"},\"title\":{\"font\":{\"color\":\"#4D5663\"},\"text\":\"\"},\"zerolinecolor\":\"#E1E5ED\"},\"xaxis6\":{\"anchor\":\"y6\",\"domain\":[0.2625,0.475],\"gridcolor\":\"#E1E5ED\",\"showgrid\":false,\"tickfont\":{\"color\":\"#4D5663\"},\"title\":{\"font\":{\"color\":\"#4D5663\"},\"text\":\"\"},\"zerolinecolor\":\"#E1E5ED\"},\"yaxis6\":{\"anchor\":\"x6\",\"domain\":[0.535,0.7325],\"gridcolor\":\"#E1E5ED\",\"showgrid\":false,\"tickfont\":{\"color\":\"#4D5663\"},\"title\":{\"font\":{\"color\":\"#4D5663\"},\"text\":\"\"},\"zerolinecolor\":\"#E1E5ED\"},\"xaxis7\":{\"anchor\":\"y7\",\"domain\":[0.525,0.7375],\"gridcolor\":\"#E1E5ED\",\"showgrid\":false,\"tickfont\":{\"color\":\"#4D5663\"},\"title\":{\"font\":{\"color\":\"#4D5663\"},\"text\":\"\"},\"zerolinecolor\":\"#E1E5ED\"},\"yaxis7\":{\"anchor\":\"x7\",\"domain\":[0.535,0.7325],\"gridcolor\":\"#E1E5ED\",\"showgrid\":false,\"tickfont\":{\"color\":\"#4D5663\"},\"title\":{\"font\":{\"color\":\"#4D5663\"},\"text\":\"\"},\"zerolinecolor\":\"#E1E5ED\"},\"xaxis8\":{\"anchor\":\"y8\",\"domain\":[0.7875,1.0],\"gridcolor\":\"#E1E5ED\",\"showgrid\":false,\"tickfont\":{\"color\":\"#4D5663\"},\"title\":{\"font\":{\"color\":\"#4D5663\"},\"text\":\"\"},\"zerolinecolor\":\"#E1E5ED\"},\"yaxis8\":{\"anchor\":\"x8\",\"domain\":[0.535,0.7325],\"gridcolor\":\"#E1E5ED\",\"showgrid\":false,\"tickfont\":{\"color\":\"#4D5663\"},\"title\":{\"font\":{\"color\":\"#4D5663\"},\"text\":\"\"},\"zerolinecolor\":\"#E1E5ED\"},\"xaxis9\":{\"anchor\":\"y9\",\"domain\":[0.0,0.2125],\"gridcolor\":\"#E1E5ED\",\"showgrid\":false,\"tickfont\":{\"color\":\"#4D5663\"},\"title\":{\"font\":{\"color\":\"#4D5663\"},\"text\":\"\"},\"zerolinecolor\":\"#E1E5ED\"},\"yaxis9\":{\"anchor\":\"x9\",\"domain\":[0.2675,0.465],\"gridcolor\":\"#E1E5ED\",\"showgrid\":false,\"tickfont\":{\"color\":\"#4D5663\"},\"title\":{\"font\":{\"color\":\"#4D5663\"},\"text\":\"\"},\"zerolinecolor\":\"#E1E5ED\"},\"xaxis10\":{\"anchor\":\"y10\",\"domain\":[0.2625,0.475],\"gridcolor\":\"#E1E5ED\",\"showgrid\":false,\"tickfont\":{\"color\":\"#4D5663\"},\"title\":{\"font\":{\"color\":\"#4D5663\"},\"text\":\"\"},\"zerolinecolor\":\"#E1E5ED\"},\"yaxis10\":{\"anchor\":\"x10\",\"domain\":[0.2675,0.465],\"gridcolor\":\"#E1E5ED\",\"showgrid\":false,\"tickfont\":{\"color\":\"#4D5663\"},\"title\":{\"font\":{\"color\":\"#4D5663\"},\"text\":\"\"},\"zerolinecolor\":\"#E1E5ED\"},\"xaxis11\":{\"anchor\":\"y11\",\"domain\":[0.525,0.7375],\"gridcolor\":\"#E1E5ED\",\"showgrid\":false,\"tickfont\":{\"color\":\"#4D5663\"},\"title\":{\"font\":{\"color\":\"#4D5663\"},\"text\":\"\"},\"zerolinecolor\":\"#E1E5ED\"},\"yaxis11\":{\"anchor\":\"x11\",\"domain\":[0.2675,0.465],\"gridcolor\":\"#E1E5ED\",\"showgrid\":false,\"tickfont\":{\"color\":\"#4D5663\"},\"title\":{\"font\":{\"color\":\"#4D5663\"},\"text\":\"\"},\"zerolinecolor\":\"#E1E5ED\"},\"xaxis12\":{\"anchor\":\"y12\",\"domain\":[0.7875,1.0],\"gridcolor\":\"#E1E5ED\",\"showgrid\":false,\"tickfont\":{\"color\":\"#4D5663\"},\"title\":{\"font\":{\"color\":\"#4D5663\"},\"text\":\"\"},\"zerolinecolor\":\"#E1E5ED\"},\"yaxis12\":{\"anchor\":\"x12\",\"domain\":[0.2675,0.465],\"gridcolor\":\"#E1E5ED\",\"showgrid\":false,\"tickfont\":{\"color\":\"#4D5663\"},\"title\":{\"font\":{\"color\":\"#4D5663\"},\"text\":\"\"},\"zerolinecolor\":\"#E1E5ED\"},\"xaxis13\":{\"anchor\":\"y13\",\"domain\":[0.0,0.2125],\"gridcolor\":\"#E1E5ED\",\"showgrid\":false,\"tickfont\":{\"color\":\"#4D5663\"},\"title\":{\"font\":{\"color\":\"#4D5663\"},\"text\":\"\"},\"zerolinecolor\":\"#E1E5ED\"},\"yaxis13\":{\"anchor\":\"x13\",\"domain\":[0.0,0.1975],\"gridcolor\":\"#E1E5ED\",\"showgrid\":false,\"tickfont\":{\"color\":\"#4D5663\"},\"title\":{\"font\":{\"color\":\"#4D5663\"},\"text\":\"\"},\"zerolinecolor\":\"#E1E5ED\"},\"xaxis14\":{\"anchor\":\"y14\",\"domain\":[0.2625,0.475],\"gridcolor\":\"#E1E5ED\",\"showgrid\":false,\"tickfont\":{\"color\":\"#4D5663\"},\"title\":{\"font\":{\"color\":\"#4D5663\"},\"text\":\"\"},\"zerolinecolor\":\"#E1E5ED\"},\"yaxis14\":{\"anchor\":\"x14\",\"domain\":[0.0,0.1975],\"gridcolor\":\"#E1E5ED\",\"showgrid\":false,\"tickfont\":{\"color\":\"#4D5663\"},\"title\":{\"font\":{\"color\":\"#4D5663\"},\"text\":\"\"},\"zerolinecolor\":\"#E1E5ED\"},\"xaxis15\":{\"anchor\":\"y15\",\"domain\":[0.525,0.7375],\"gridcolor\":\"#E1E5ED\",\"showgrid\":false,\"tickfont\":{\"color\":\"#4D5663\"},\"title\":{\"font\":{\"color\":\"#4D5663\"},\"text\":\"\"},\"zerolinecolor\":\"#E1E5ED\"},\"yaxis15\":{\"anchor\":\"x15\",\"domain\":[0.0,0.1975],\"gridcolor\":\"#E1E5ED\",\"showgrid\":false,\"tickfont\":{\"color\":\"#4D5663\"},\"title\":{\"font\":{\"color\":\"#4D5663\"},\"text\":\"\"},\"zerolinecolor\":\"#E1E5ED\"},\"xaxis16\":{\"anchor\":\"y16\",\"domain\":[0.7875,1.0],\"gridcolor\":\"#E1E5ED\",\"showgrid\":false,\"tickfont\":{\"color\":\"#4D5663\"},\"title\":{\"font\":{\"color\":\"#4D5663\"},\"text\":\"\"},\"zerolinecolor\":\"#E1E5ED\"},\"yaxis16\":{\"anchor\":\"x16\",\"domain\":[0.0,0.1975],\"gridcolor\":\"#E1E5ED\",\"showgrid\":false,\"tickfont\":{\"color\":\"#4D5663\"},\"title\":{\"font\":{\"color\":\"#4D5663\"},\"text\":\"\"},\"zerolinecolor\":\"#E1E5ED\"}},                        {\"showLink\": true, \"linkText\": \"Export to plot.ly\", \"plotlyServerURL\": \"https://plot.ly\", \"responsive\": true}                    ).then(function(){\n",
       "                            \n",
       "var gd = document.getElementById('1d6aa465-c14e-44f7-8102-ef6aa71d344c');\n",
       "var x = new MutationObserver(function (mutations, observer) {{\n",
       "        var display = window.getComputedStyle(gd).display;\n",
       "        if (!display || display === 'none') {{\n",
       "            console.log([gd, 'removed!']);\n",
       "            Plotly.purge(gd);\n",
       "            observer.disconnect();\n",
       "        }}\n",
       "}});\n",
       "\n",
       "// Listen for the removal of the full notebook cells\n",
       "var notebookContainer = gd.closest('#notebook-container');\n",
       "if (notebookContainer) {{\n",
       "    x.observe(notebookContainer, {childList: true});\n",
       "}}\n",
       "\n",
       "// Listen for the clearing of the current output cell\n",
       "var outputEl = gd.closest('.output');\n",
       "if (outputEl) {{\n",
       "    x.observe(outputEl, {childList: true});\n",
       "}}\n",
       "\n",
       "                        })                };                });            </script>        </div>"
      ]
     },
     "metadata": {},
     "output_type": "display_data"
    }
   ],
   "source": [
    "df.scatter_matrix()"
   ]
  },
  {
   "cell_type": "code",
   "execution_count": null,
   "metadata": {},
   "outputs": [],
   "source": []
  }
 ],
 "metadata": {
  "interpreter": {
   "hash": "8264f218db95a5af723753e59b0553e29cb30754ee95f35f8155c7f367e895c9"
  },
  "kernelspec": {
   "display_name": "Python 3.10.1 64-bit",
   "language": "python",
   "name": "python3"
  },
  "language_info": {
   "codemirror_mode": {
    "name": "ipython",
    "version": 3
   },
   "file_extension": ".py",
   "mimetype": "text/x-python",
   "name": "python",
   "nbconvert_exporter": "python",
   "pygments_lexer": "ipython3",
   "version": "3.10.1"
  },
  "orig_nbformat": 4
 },
 "nbformat": 4,
 "nbformat_minor": 2
}
