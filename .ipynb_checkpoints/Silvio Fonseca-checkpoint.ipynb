{
 "cells": [
  {
   "cell_type": "code",
   "execution_count": 1,
   "id": "93126b96",
   "metadata": {},
   "outputs": [
    {
     "name": "stdout",
     "output_type": "stream",
     "text": [
      "Amo meus filhos\n"
     ]
    }
   ],
   "source": [
    "print('Amo meus filhos')"
   ]
  },
  {
   "cell_type": "markdown",
   "id": "8c8ff602",
   "metadata": {},
   "source": [
    "# Eduardo tem 4 anos e Rafael esta com 2 anos"
   ]
  },
  {
   "cell_type": "code",
   "execution_count": null,
   "id": "13eab30f",
   "metadata": {},
   "outputs": [],
   "source": []
  }
 ],
 "metadata": {
  "kernelspec": {
   "display_name": "Python 3 (ipykernel)",
   "language": "python",
   "name": "python3"
  },
  "language_info": {
   "codemirror_mode": {
    "name": "ipython",
    "version": 3
   },
   "file_extension": ".py",
   "mimetype": "text/x-python",
   "name": "python",
   "nbconvert_exporter": "python",
   "pygments_lexer": "ipython3",
   "version": "3.9.7"
  }
 },
 "nbformat": 4,
 "nbformat_minor": 5
}
